{
 "cells": [
  {
   "cell_type": "code",
   "execution_count": 1,
   "metadata": {},
   "outputs": [],
   "source": [
    "import pickle as p\n",
    "import pandas as pd\n",
    "import numpy as np\n",
    "import matplotlib.pyplot as plt\n",
    "import scipy.stats as stats\n",
    "from tqdm import tqdm\n",
    "import scipy.signal as sig\n",
    "from sklearn.linear_model import LogisticRegression\n",
    "from scipy.interpolate import interp1d\n",
    "from scipy.integrate import romb\n",
    "plt.rcParams.update({'font.size': 22})\n",
    "import glob\n",
    "from scipy.signal import medfilt,butter\n",
    "import scipy\n",
    "import math"
   ]
  },
  {
   "cell_type": "code",
   "execution_count": 15,
   "metadata": {},
   "outputs": [],
   "source": [
    "n_splits = 10\n",
    "all_subjects = np.concatenate((np.arange(11,25),np.arange(26,45)))\n",
    "\n",
    "def num_to_epoch(epoch_number):\n",
    "    if epoch_number == 0:\n",
    "        return 'UP1'\n",
    "    elif epoch_number == 1:\n",
    "        return 'UP2'\n",
    "    elif epoch_number == 2:\n",
    "        return 'P1'\n",
    "    elif epoch_number == 3:\n",
    "        return 'P2'\n",
    "    elif epoch_number == 4:\n",
    "        return 'REC'\n",
    "    else:\n",
    "        raise Exception('Invalid Epoch Number')\n",
    "\n",
    "def num_to_subject(subject_number):\n",
    "    return 'Subject'+str(subject_number)\n",
    "\n",
    "def get_signal(measure, epoch, subjno):\n",
    "    if isinstance(epoch,str):\n",
    "        return np.ravel(df.loc[measure, epoch][num_to_subject(subjno)])\n",
    "    elif isinstance(epoch, int):\n",
    "        return np.ravel(df.loc[measure, num_to_epoch(epoch)][num_to_subject(subjno)])\n",
    "\n",
    "def get_split_signal(measure, epoch, subjno, splitno):\n",
    "    if isinstance(epoch,str):\n",
    "        return np.array_split(np.ravel(df.loc[measure, epoch][num_to_subject(subjno)]), n_splits)[splitno]\n",
    "    elif isinstance(epoch, int):\n",
    "        return np.array_split(np.ravel(df.loc[measure, num_to_epoch(epoch)][num_to_subject(subjno)]),n_splits)[splitno]\n",
    "    \n",
    "def full_signal(measure, subjno):\n",
    "    return np.concatenate((\n",
    "        np.ravel(df.loc[measure, num_to_epoch(0)][num_to_subject(subjno)]),\n",
    "        np.ravel(df.loc[measure, num_to_epoch(1)][num_to_subject(subjno)]),\n",
    "        np.ravel(df.loc[measure, num_to_epoch(2)][num_to_subject(subjno)]),\n",
    "        np.ravel(df.loc[measure, num_to_epoch(3)][num_to_subject(subjno)]),\n",
    "        np.ravel(df.loc[measure, num_to_epoch(4)][num_to_subject(subjno)]),\n",
    "    ))\n",
    "\n",
    "def is_perturbed(epoch):\n",
    "    if epoch == 0 or epoch == 1 or epoch == 4:\n",
    "        return 0\n",
    "    elif epoch == 2 or epoch == 3:\n",
    "        return 1\n",
    "    \n",
    "def scaled_correlation_time(signal1, signal2):\n",
    "    signal1 = (signal1 - np.mean(signal1))/np.std(signal1)\n",
    "    signal2 = (signal2 - np.mean(signal2))/np.std(signal2)\n",
    "    acorr = np.correlate(signal1, signal2, mode='full')\n",
    "    acorr = acorr[(acorr.size // 2 ):] / np.max(acorr)\n",
    "#     plt.plot(acorr)\n",
    "    tau = np.argmax([acorr < 1/np.exp(1)])\n",
    "    return tau / len(acorr)\n",
    "\n",
    "def correlation_integral(signal1, signal2):\n",
    "    signal1 = (signal1 - np.mean(signal1))/np.std(signal1)\n",
    "    signal2 = (signal2 - np.mean(signal2))/np.std(signal2)\n",
    "    acorr = np.correlate(signal1, signal2, mode='full')\n",
    "    acorr = acorr[(acorr.size // 2 ):] / np.max(acorr)\n",
    "#     plt.plot(acorr)\n",
    "    integral = np.trapz(acorr)\n",
    "    return integral\n",
    "\n",
    "def plot_full_experiment(measure, subjno):\n",
    "    s1 = np.ravel(df.loc[measure, num_to_epoch(0)][num_to_subject(subjno)])\n",
    "    s2 = np.ravel(df.loc[measure, num_to_epoch(1)][num_to_subject(subjno)])\n",
    "    s3 = np.ravel(df.loc[measure, num_to_epoch(2)][num_to_subject(subjno)])\n",
    "    s4 = np.ravel(df.loc[measure, num_to_epoch(3)][num_to_subject(subjno)])\n",
    "    s5 = np.ravel(df.loc[measure, num_to_epoch(4)][num_to_subject(subjno)])\n",
    "    fullsignal = np.concatenate((s1,s2,s3,s4,s5))\n",
    "    plt.plot(fullsignal,'k',label = measure)\n",
    "    plt.axvline(x = len(s1), color = 'k', linestyle = '--')\n",
    "    plt.axvline(x = len(s1)+len(s2), color = 'k', linestyle = '--')\n",
    "    plt.axvline(x = len(s1)+len(s2)+len(s3), color = 'k', linestyle = '--')\n",
    "    plt.axvline(x = len(s1)+len(s2)+len(s3)+len(s4), color = 'k', linestyle = '--')\n",
    "    plt.legend()"
   ]
  },
  {
   "cell_type": "code",
   "execution_count": 16,
   "metadata": {},
   "outputs": [],
   "source": [
    "shimfiles = glob.glob('shimmerData/*/*')"
   ]
  },
  {
   "cell_type": "code",
   "execution_count": 17,
   "metadata": {},
   "outputs": [],
   "source": [
    "def get_shimmer(subjno, part, epochno):\n",
    "    epoch = num_to_epoch(epochno)\n",
    "    if epoch == 'REC':\n",
    "        epoch = 'Rec'\n",
    "    elif epoch == 'P1':\n",
    "        epoch = '_P1'\n",
    "    elif epoch == 'P2':\n",
    "        epoch = '_P2'\n",
    "    \n",
    "    for file in shimfiles:\n",
    "        if str(subjno) in file and part in file and epoch in file:\n",
    "            data = pd.read_csv(file, header = None)\n",
    "    try:\n",
    "        vectors = np.asarray(data[[1,2,3]])\n",
    "    except:\n",
    "        print('mising shimmer data. skipping...')\n",
    "        return np.repeat(np.nan, 1000)\n",
    "    mean = np.mean(vectors, axis = 0)\n",
    "    std = np.std(vectors, axis = 0)\n",
    "    \n",
    "    vectors = (vectors - mean[np.newaxis,:])\n",
    "\n",
    "    #plt.plot(vectors)\n",
    "    \n",
    "    z_vector = np.linalg.norm(vectors, axis = 1)\n",
    "\n",
    "    return z_vector\n"
   ]
  },
  {
   "cell_type": "code",
   "execution_count": 18,
   "metadata": {},
   "outputs": [],
   "source": [
    "def get_split_shimmer(subjno, part, epochno, splitno):\n",
    "\n",
    "    z_vector = get_shimmer(subjno,part,epochno)\n",
    "\n",
    "    return np.array_split(z_vector,n_splits)[splitno]\n"
   ]
  },
  {
   "cell_type": "code",
   "execution_count": 19,
   "metadata": {},
   "outputs": [],
   "source": [
    "def signal_statistics(signal):\n",
    "    mean = np.mean(signal)\n",
    "    std = np.std(signal)\n",
    "    skewness = stats.skew(signal)\n",
    "    kurtosis = stats.kurtosis(signal)\n",
    "    maximum = np.max(signal)\n",
    "    minimum = np.min(signal)\n",
    "    iqr = stats.iqr(signal)\n",
    "    variation = stats.variation(signal)\n",
    "    entropy = stats.entropy(np.abs(signal))\n",
    "    corrtime = scaled_correlation_time(signal,signal)        \n",
    "    return np.asarray([mean, std, skewness, kurtosis, maximum, minimum, iqr, variation, entropy, corrtime])\n",
    "\n",
    "def spectrum_statistics(signal):\n",
    "    \n",
    "    fs,pxx = sig.periodogram(signal, fs = 50, nfft = 1000, scaling = 'density', detrend = 'constant')\n",
    "    \n",
    "#     plt.plot(fs,pxx)\n",
    "    #plt.xlim(0,0.1)\n",
    "\n",
    "    peak = fs[np.argmax(pxx)]\n",
    "    peakmag = np.max(pxx)\n",
    "    integral = np.trapz(pxx,fs)\n",
    "    energy = np.dot(pxx,pxx)\n",
    "    shannon = np.sum(pxx*np.log(1/pxx))\n",
    "\n",
    "    # Add wavelet analysis\n",
    "\n",
    "    return [peak, peakmag, integral, energy, shannon]"
   ]
  },
  {
   "cell_type": "code",
   "execution_count": 28,
   "metadata": {},
   "outputs": [],
   "source": [
    "test_signal = get_shimmer(42, 'body', 3)"
   ]
  },
  {
   "cell_type": "code",
   "execution_count": 59,
   "metadata": {},
   "outputs": [
    {
     "data": {
      "text/plain": [
       "0.2766343281788908"
      ]
     },
     "execution_count": 59,
     "metadata": {},
     "output_type": "execute_result"
    }
   ],
   "source": [
    "def max_dists(signal, m):\n",
    "    count = 0\n",
    "    N = len(signal)\n",
    "    max_dists = []\n",
    "    while count < N-m-1:\n",
    "        x_i = signal[count:count+m-1]\n",
    "        x_j = signal[count+1:count+m]\n",
    "        max_dists.append(scipy.spatial.distance.chebyshev(x_i, x_j))\n",
    "        count += 1\n",
    "    return max_dists\n",
    "\n",
    "\n",
    "def approx_entropy(signal):\n",
    "    N = len(signal)\n",
    "    m = 2 #or 3 -- dimensionality? \n",
    "    r = 0.3\n",
    "        \n",
    "    \n",
    "    def phi(m):\n",
    "        d_func = max_dists(signal,m)\n",
    "        C = []\n",
    "        for i in d_func:\n",
    "            if i <= r and i > 0:\n",
    "                C.append(i/(N-m+1)) \n",
    "        return (N - m + 1.0)**(-1) * sum(np.log10(C))\n",
    "    return (abs(phi(m)-phi(m+1)))\n",
    "\n",
    "\n",
    "approx_entropy(test_signal)"
   ]
  },
  {
   "cell_type": "code",
   "execution_count": 64,
   "metadata": {},
   "outputs": [
    {
     "name": "stdout",
     "output_type": "stream",
     "text": [
      "0.009862868702608938\n"
     ]
    }
   ],
   "source": [
    "\n",
    "def sample_entropy(signal):\n",
    "    N = len(signal)\n",
    "    m = 2\n",
    "    r = 0.2\n",
    "    \n",
    "    A_list = max_dists(signal,m+1)\n",
    "    B_list = max_dists(signal,m)\n",
    "    \n",
    "    count_A = 0\n",
    "    count_B = 0\n",
    "    for i in A_list:\n",
    "        if i < r:\n",
    "            count_A += 1\n",
    "    for i in B_list: \n",
    "        if i < r:\n",
    "            count_B += 1\n",
    "    if count_B == 0:\n",
    "        return np.nan\n",
    "    return math.log10(count_A/count_B)*-1\n",
    "\n",
    "print(sample_entropy(test_signal))"
   ]
  },
  {
   "cell_type": "code",
   "execution_count": 61,
   "metadata": {},
   "outputs": [
    {
     "name": "stdout",
     "output_type": "stream",
     "text": [
      "0.024643562693091963\n"
     ]
    }
   ],
   "source": [
    "def multiscale_entropy(signal):\n",
    "    mses = []\n",
    "    for T in range(2,20,2):\n",
    "        coarse_grain = []\n",
    "        i = 0\n",
    "        while i < len(signal):\n",
    "            new_val = sum(signal[i:i+T])/T\n",
    "            coarse_grain.append(new_val)\n",
    "            i += T\n",
    "        mses.append(sample_entropy(coarse_grain))\n",
    "    return np.mean(mses)\n",
    "        \n",
    "print(multiscale_entropy(test_signal))\n",
    "\n"
   ]
  },
  {
   "cell_type": "code",
   "execution_count": 65,
   "metadata": {},
   "outputs": [
    {
     "name": "stderr",
     "output_type": "stream",
     "text": [
      "\n",
      "\n",
      "\n",
      "\n",
      "\n",
      "\n",
      "\n",
      "\n",
      "  0%|          | 0/33 [00:00<?, ?it/s]\u001b[A\u001b[A\u001b[A\u001b[A\u001b[A\u001b[A\u001b[A\u001b[A\n",
      "\n",
      "\n",
      "\n",
      "\n",
      "\n",
      "\n",
      "\n",
      "  3%|▎         | 1/33 [00:51<27:41, 51.91s/it]\u001b[A\u001b[A\u001b[A\u001b[A\u001b[A\u001b[A\u001b[A\u001b[A\n",
      "\n",
      "\n",
      "\n",
      "\n",
      "\n",
      "\n",
      "\n",
      "  6%|▌         | 2/33 [01:43<26:46, 51.83s/it]\u001b[A\u001b[A\u001b[A\u001b[A\u001b[A\u001b[A\u001b[A\u001b[A"
     ]
    },
    {
     "name": "stdout",
     "output_type": "stream",
     "text": [
      "mising shimmer data. skipping...\n",
      "mising shimmer data. skipping...\n",
      "mising shimmer data. skipping...\n",
      "mising shimmer data. skipping...\n"
     ]
    },
    {
     "name": "stderr",
     "output_type": "stream",
     "text": [
      "\n",
      "\n",
      "\n",
      "\n",
      "\n",
      "\n",
      "\n",
      "\n",
      "  9%|▉         | 3/33 [02:09<22:04, 44.14s/it]\u001b[A\u001b[A\u001b[A\u001b[A\u001b[A\u001b[A\u001b[A\u001b[A"
     ]
    },
    {
     "name": "stdout",
     "output_type": "stream",
     "text": [
      "mising shimmer data. skipping...\n",
      "mising shimmer data. skipping...\n",
      "mising shimmer data. skipping...\n",
      "mising shimmer data. skipping...\n"
     ]
    },
    {
     "name": "stderr",
     "output_type": "stream",
     "text": [
      "\n",
      "\n",
      "\n",
      "\n",
      "\n",
      "\n",
      "\n",
      "\n",
      " 12%|█▏        | 4/33 [02:35<18:41, 38.66s/it]\u001b[A\u001b[A\u001b[A\u001b[A\u001b[A\u001b[A\u001b[A\u001b[A\n",
      "\n",
      "\n",
      "\n",
      "\n",
      "\n",
      "\n",
      "\n",
      " 15%|█▌        | 5/33 [03:27<19:56, 42.73s/it]\u001b[A\u001b[A\u001b[A\u001b[A\u001b[A\u001b[A\u001b[A\u001b[A\n",
      "\n",
      "\n",
      "\n",
      "\n",
      "\n",
      "\n",
      "\n",
      " 18%|█▊        | 6/33 [04:19<20:28, 45.50s/it]\u001b[A\u001b[A\u001b[A\u001b[A\u001b[A\u001b[A\u001b[A\u001b[A"
     ]
    },
    {
     "name": "stdout",
     "output_type": "stream",
     "text": [
      "mising shimmer data. skipping...\n",
      "mising shimmer data. skipping...\n",
      "mising shimmer data. skipping...\n",
      "mising shimmer data. skipping...\n",
      "mising shimmer data. skipping...\n"
     ]
    },
    {
     "name": "stderr",
     "output_type": "stream",
     "text": [
      "\n",
      "\n",
      "\n",
      "\n",
      "\n",
      "\n",
      "\n",
      "\n",
      " 21%|██        | 7/33 [04:20<13:51, 32.00s/it]\u001b[A\u001b[A\u001b[A\u001b[A\u001b[A\u001b[A\u001b[A\u001b[A"
     ]
    },
    {
     "name": "stdout",
     "output_type": "stream",
     "text": [
      "mising shimmer data. skipping...\n",
      "mising shimmer data. skipping...\n",
      "mising shimmer data. skipping...\n"
     ]
    },
    {
     "name": "stderr",
     "output_type": "stream",
     "text": [
      "\n",
      "\n",
      "\n",
      "\n",
      "\n",
      "\n",
      "\n",
      "\n",
      " 24%|██▍       | 8/33 [04:59<14:10, 34.02s/it]\u001b[A\u001b[A\u001b[A\u001b[A\u001b[A\u001b[A\u001b[A\u001b[A\n",
      "\n",
      "\n",
      "\n",
      "\n",
      "\n",
      "\n",
      "\n",
      " 27%|██▋       | 9/33 [05:53<16:01, 40.07s/it]\u001b[A\u001b[A\u001b[A\u001b[A\u001b[A\u001b[A\u001b[A\u001b[A"
     ]
    },
    {
     "name": "stdout",
     "output_type": "stream",
     "text": [
      "mising shimmer data. skipping...\n",
      "mising shimmer data. skipping...\n",
      "mising shimmer data. skipping...\n"
     ]
    },
    {
     "name": "stderr",
     "output_type": "stream",
     "text": [
      "\n",
      "\n",
      "\n",
      "\n",
      "\n",
      "\n",
      "\n",
      "\n",
      " 30%|███       | 10/33 [06:19<13:46, 35.93s/it]\u001b[A\u001b[A\u001b[A\u001b[A\u001b[A\u001b[A\u001b[A\u001b[A"
     ]
    },
    {
     "name": "stdout",
     "output_type": "stream",
     "text": [
      "mising shimmer data. skipping...\n",
      "mising shimmer data. skipping...\n",
      "mising shimmer data. skipping...\n",
      "mising shimmer data. skipping...\n"
     ]
    },
    {
     "name": "stderr",
     "output_type": "stream",
     "text": [
      "\n",
      "\n",
      "\n",
      "\n",
      "\n",
      "\n",
      "\n",
      "\n",
      " 33%|███▎      | 11/33 [06:46<12:12, 33.28s/it]\u001b[A\u001b[A\u001b[A\u001b[A\u001b[A\u001b[A\u001b[A\u001b[A"
     ]
    },
    {
     "name": "stdout",
     "output_type": "stream",
     "text": [
      "mising shimmer data. skipping...\n"
     ]
    },
    {
     "name": "stderr",
     "output_type": "stream",
     "text": [
      "\n",
      "\n",
      "\n",
      "\n",
      "\n",
      "\n",
      "\n",
      "\n",
      " 36%|███▋      | 12/33 [07:37<13:31, 38.63s/it]\u001b[A\u001b[A\u001b[A\u001b[A\u001b[A\u001b[A\u001b[A\u001b[A\n",
      "\n",
      "\n",
      "\n",
      "\n",
      "\n",
      "\n",
      "\n",
      " 39%|███▉      | 13/33 [08:29<14:09, 42.50s/it]\u001b[A\u001b[A\u001b[A\u001b[A\u001b[A\u001b[A\u001b[A\u001b[A\n",
      "\n",
      "\n",
      "\n",
      "\n",
      "\n",
      "\n",
      "\n",
      " 42%|████▏     | 14/33 [09:21<14:21, 45.33s/it]\u001b[A\u001b[A\u001b[A\u001b[A\u001b[A\u001b[A\u001b[A\u001b[A\n",
      "\n",
      "\n",
      "\n",
      "\n",
      "\n",
      "\n",
      "\n",
      " 45%|████▌     | 15/33 [10:15<14:24, 48.00s/it]\u001b[A\u001b[A\u001b[A\u001b[A\u001b[A\u001b[A\u001b[A\u001b[A\n",
      "\n",
      "\n",
      "\n",
      "\n",
      "\n",
      "\n",
      "\n",
      " 48%|████▊     | 16/33 [11:11<14:19, 50.57s/it]\u001b[A\u001b[A\u001b[A\u001b[A\u001b[A\u001b[A\u001b[A\u001b[A\n",
      "\n",
      "\n",
      "\n",
      "\n",
      "\n",
      "\n",
      "\n",
      " 52%|█████▏    | 17/33 [12:09<14:00, 52.53s/it]\u001b[A\u001b[A\u001b[A\u001b[A\u001b[A\u001b[A\u001b[A\u001b[A\n",
      "\n",
      "\n",
      "\n",
      "\n",
      "\n",
      "\n",
      "\n",
      " 55%|█████▍    | 18/33 [13:04<13:19, 53.31s/it]\u001b[A\u001b[A\u001b[A\u001b[A\u001b[A\u001b[A\u001b[A\u001b[A\n",
      "\n",
      "\n",
      "\n",
      "\n",
      "\n",
      "\n",
      "\n",
      " 58%|█████▊    | 19/33 [13:59<12:33, 53.79s/it]\u001b[A\u001b[A\u001b[A\u001b[A\u001b[A\u001b[A\u001b[A\u001b[A\n",
      "\n",
      "\n",
      "\n",
      "\n",
      "\n",
      "\n",
      "\n",
      " 61%|██████    | 20/33 [14:52<11:35, 53.53s/it]\u001b[A\u001b[A\u001b[A\u001b[A\u001b[A\u001b[A\u001b[A\u001b[A\n",
      "\n",
      "\n",
      "\n",
      "\n",
      "\n",
      "\n",
      "\n",
      " 64%|██████▎   | 21/33 [15:45<10:43, 53.61s/it]\u001b[A\u001b[A\u001b[A\u001b[A\u001b[A\u001b[A\u001b[A\u001b[A\n",
      "\n",
      "\n",
      "\n",
      "\n",
      "\n",
      "\n",
      "\n",
      " 67%|██████▋   | 22/33 [16:36<09:40, 52.81s/it]\u001b[A\u001b[A\u001b[A\u001b[A\u001b[A\u001b[A\u001b[A\u001b[A\n",
      "\n",
      "\n",
      "\n",
      "\n",
      "\n",
      "\n",
      "\n",
      " 70%|██████▉   | 23/33 [17:30<08:51, 53.15s/it]\u001b[A\u001b[A\u001b[A\u001b[A\u001b[A\u001b[A\u001b[A\u001b[A\n",
      "\n",
      "\n",
      "\n",
      "\n",
      "\n",
      "\n",
      "\n",
      " 73%|███████▎  | 24/33 [18:29<08:13, 54.86s/it]\u001b[A\u001b[A\u001b[A\u001b[A\u001b[A\u001b[A\u001b[A\u001b[A\n",
      "\n",
      "\n",
      "\n",
      "\n",
      "\n",
      "\n",
      "\n",
      " 76%|███████▌  | 25/33 [19:26<07:25, 55.64s/it]\u001b[A\u001b[A\u001b[A\u001b[A\u001b[A\u001b[A\u001b[A\u001b[A\n",
      "\n",
      "\n",
      "\n",
      "\n",
      "\n",
      "\n",
      "\n",
      " 79%|███████▉  | 26/33 [20:23<06:30, 55.79s/it]\u001b[A\u001b[A\u001b[A\u001b[A\u001b[A\u001b[A\u001b[A\u001b[A\n",
      "\n",
      "\n",
      "\n",
      "\n",
      "\n",
      "\n",
      "\n",
      " 82%|████████▏ | 27/33 [21:25<05:46, 57.78s/it]\u001b[A\u001b[A\u001b[A\u001b[A\u001b[A\u001b[A\u001b[A\u001b[A"
     ]
    },
    {
     "name": "stdout",
     "output_type": "stream",
     "text": [
      "mising shimmer data. skipping...\n",
      "mising shimmer data. skipping...\n",
      "mising shimmer data. skipping...\n"
     ]
    },
    {
     "name": "stderr",
     "output_type": "stream",
     "text": [
      "\n",
      "\n",
      "\n",
      "\n",
      "\n",
      "\n",
      "\n",
      "\n",
      " 85%|████████▍ | 28/33 [21:53<04:03, 48.69s/it]\u001b[A\u001b[A\u001b[A\u001b[A\u001b[A\u001b[A\u001b[A\u001b[A"
     ]
    },
    {
     "name": "stdout",
     "output_type": "stream",
     "text": [
      "mising shimmer data. skipping...\n"
     ]
    },
    {
     "name": "stderr",
     "output_type": "stream",
     "text": [
      "\n",
      "\n",
      "\n",
      "\n",
      "\n",
      "\n",
      "\n",
      "\n",
      " 88%|████████▊ | 29/33 [22:51<03:26, 51.53s/it]\u001b[A\u001b[A\u001b[A\u001b[A\u001b[A\u001b[A\u001b[A\u001b[A\n",
      "\n",
      "\n",
      "\n",
      "\n",
      "\n",
      "\n",
      "\n",
      " 91%|█████████ | 30/33 [23:50<02:41, 53.77s/it]\u001b[A\u001b[A\u001b[A\u001b[A\u001b[A\u001b[A\u001b[A\u001b[A\n",
      "\n",
      "\n",
      "\n",
      "\n",
      "\n",
      "\n",
      "\n",
      " 94%|█████████▍| 31/33 [24:44<01:47, 53.91s/it]\u001b[A\u001b[A\u001b[A\u001b[A\u001b[A\u001b[A\u001b[A\u001b[A\n",
      "\n",
      "\n",
      "\n",
      "\n",
      "\n",
      "\n",
      "\n",
      " 97%|█████████▋| 32/33 [25:38<00:54, 54.06s/it]\u001b[A\u001b[A\u001b[A\u001b[A\u001b[A\u001b[A\u001b[A\u001b[A\n",
      "\n",
      "\n",
      "\n",
      "\n",
      "\n",
      "\n",
      "\n",
      "100%|██████████| 33/33 [26:34<00:00, 48.32s/it]\u001b[A\u001b[A\u001b[A\u001b[A\u001b[A\u001b[A\u001b[A\u001b[A\n"
     ]
    }
   ],
   "source": [
    "bfeatures = [];\n",
    "n_splits = 1\n",
    "targets = [];\n",
    "allfeatures = []\n",
    "hfeatures = [];\n",
    "\n",
    "for subjno in tqdm(all_subjects):\n",
    "    for epoch in range(4):\n",
    "        for splitno in range(n_splits):\n",
    "            \n",
    "            bshim_signal = get_split_shimmer(subjno,'body',epoch,splitno)\n",
    "            if bshim_signal[0] is np.nan:\n",
    "                continue;\n",
    "            bfeature = np.stack((approx_entropy(bshim_signal), sample_entropy(bshim_signal), \\\n",
    "                                      multiscale_entropy(bshim_signal)))\n",
    "            bfeatures.append(bfeature)\n",
    "\n",
    "            hshim_signal = get_split_shimmer(subjno,'head',epoch,splitno)\n",
    "            if bshim_signal[0] is np.nan:\n",
    "                continue;\n",
    "            hfeature = np.stack((approx_entropy(hshim_signal), sample_entropy(hshim_signal), \\\n",
    "                                      multiscale_entropy(hshim_signal)))\n",
    "            hfeatures.append(hfeature)\n",
    "\n",
    "            targets.append(is_perturbed(epoch))\n",
    "            allfeature = np.concatenate((bfeature,hfeature))\n",
    "            allfeatures.append(allfeature)\n",
    "\n",
    "allfeature_names = ['b_approx_entropy', 'b_sample_entropy', 'b_multiscale_entropy', \\\n",
    "                   'h_approx_entropy', 'h_sample_entropy', 'h_multiscale_entropy']\n",
    "fdf = pd.DataFrame(allfeatures, columns = allfeature_names)\n"
   ]
  },
  {
   "cell_type": "code",
   "execution_count": 86,
   "metadata": {},
   "outputs": [],
   "source": [
    "targets = np.asarray(targets)\n",
    "fdf = pd.DataFrame(allfeatures, columns = allfeature_names)"
   ]
  },
  {
   "cell_type": "code",
   "execution_count": 109,
   "metadata": {},
   "outputs": [],
   "source": [
    "where = ~(np.asarray(np.sum(np.isnan(fdf),1)) > 0)"
   ]
  },
  {
   "cell_type": "code",
   "execution_count": 111,
   "metadata": {},
   "outputs": [],
   "source": [
    "fdf_clean = fdf.iloc[where]\n",
    "targets_clean = targets[where]"
   ]
  },
  {
   "cell_type": "code",
   "execution_count": 112,
   "metadata": {},
   "outputs": [],
   "source": [
    "unpert = targets[where] == 0\n",
    "pert = targets[where] == 1"
   ]
  },
  {
   "cell_type": "code",
   "execution_count": 113,
   "metadata": {},
   "outputs": [],
   "source": [
    "pvals = [];\n",
    "\n",
    "for measure in fdf_clean.columns:\n",
    "    unpert_measure = np.asarray(fdf_clean.iloc[unpert][measure])\n",
    "    pert_measure = np.asarray(fdf_clean.iloc[pert][measure])\n",
    "    pvals.append(stats.wilcoxon(unpert_measure, pert_measure).pvalue)"
   ]
  },
  {
   "cell_type": "code",
   "execution_count": 115,
   "metadata": {},
   "outputs": [
    {
     "data": {
      "image/png": "[encoded data removed]",
      "text/plain": [
       "<Figure size 432x288 with 1 Axes>"
      ]
     },
     "metadata": {
      "needs_background": "light"
     },
     "output_type": "display_data"
    }
   ],
   "source": [
    "plt.bar(fdf.columns,height=pvals)\n",
    "plt.xticks(rotation=45, ha='right',fontsize=15);"
   ]
  },
  {
   "cell_type": "code",
   "execution_count": 123,
   "metadata": {},
   "outputs": [],
   "source": [
    "import statsmodels.stats.multitest as multitest"
   ]
  },
  {
   "cell_type": "code",
   "execution_count": 205,
   "metadata": {},
   "outputs": [],
   "source": [
    "bonf05 = multitest.multipletests(pvals, alpha = 0.05, method = 'bonferroni')[0]\n",
    "bonf01 = multitest.multipletests(pvals, alpha = 0.01, method = 'bonferroni')[0]\n",
    "bonf1 = multitest.multipletests(pvals, alpha = 0.1, method = 'bonferroni')[0]"
   ]
  },
  {
   "cell_type": "code",
   "execution_count": 206,
   "metadata": {},
   "outputs": [],
   "source": [
    "aster_n = bonf05.astype(int) + bonf01.astype(int) + bonf1.astype(int)"
   ]
  },
  {
   "cell_type": "code",
   "execution_count": 210,
   "metadata": {},
   "outputs": [],
   "source": [
    "def n_to_str(n):\n",
    "    if n == 0:\n",
    "        return ''\n",
    "    if n == 1:\n",
    "        return '*'\n",
    "    if n == 2:\n",
    "        return '**'\n",
    "    if n == 3:\n",
    "        return '***'"
   ]
  },
  {
   "cell_type": "code",
   "execution_count": 211,
   "metadata": {},
   "outputs": [],
   "source": [
    "u_means = np.mean(fdf_clean[unpert], 0)\n",
    "u_stds = stats.sem(fdf_clean[unpert], 0)\n",
    "p_means = np.mean(fdf_clean[pert], 0)\n",
    "p_stds = stats.sem(fdf_clean[pert], 0)"
   ]
  },
  {
   "cell_type": "code",
   "execution_count": 224,
   "metadata": {},
   "outputs": [
    {
     "data": {
      "image/png": "[encoded data removed]",
      "text/plain": [
       "<Figure size 720x432 with 1 Axes>"
      ]
     },
     "metadata": {
      "needs_background": "light"
     },
     "output_type": "display_data"
    }
   ],
   "source": [
    "plt.figure(figsize = (10,6))\n",
    "idx = np.arange(len(fdf.columns))\n",
    "width = 0.3\n",
    "plt.bar(idx, height = u_means, yerr = u_stds, log = True, width = width, capsize = 3, color = 'c',\\\n",
    "       label = 'Unperturbed');\n",
    "plt.bar(idx + width + 0.05, height = p_means, yerr = p_stds, log = True, width = width, capsize = 3, \\\n",
    "        color = 'orange', label = 'Perturbed');\n",
    "\n",
    "labels = ['Body Approx. Entropy', 'Body Sample Entropy', 'Body Multiscale Entropy',\\\n",
    "             'Head Approx. Entropy', 'Head Sample Entropy', 'Head Multiscale Entropy']\n",
    "plt.xticks(idx+0.5*(width + 0.05), labels, rotation=45, ha='right',fontsize=18);\n",
    "\n",
    "for ii in range(len(fdf.columns)):\n",
    "    plt.text(idx[ii] + width + .05, p_means[ii], n_to_str(aster_n[ii]), ha = 'center');\n",
    "\n",
    "plt.legend(fontsize = 18)\n",
    "plt.ylabel('Entropy Measure')\n",
    "\n",
    "plt.savefig('entropy_measures.pdf', bbox_inches = 'tight')"
   ]
  },
  {
   "cell_type": "code",
   "execution_count": null,
   "metadata": {},
   "outputs": [],
   "source": []
  }
 ],
 "metadata": {
  "kernelspec": {
   "display_name": "Python 3",
   "language": "python",
   "name": "python3"
  },
  "language_info": {
   "codemirror_mode": {
    "name": "ipython",
    "version": 3
   },
   "file_extension": ".py",
   "mimetype": "text/x-python",
   "name": "python",
   "nbconvert_exporter": "python",
   "pygments_lexer": "ipython3",
   "version": "3.7.6"
  }
 },
 "nbformat": 4,
 "nbformat_minor": 2
}
