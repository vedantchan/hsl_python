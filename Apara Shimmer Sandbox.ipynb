{
 "cells": [
  {
   "cell_type": "code",
   "execution_count": 1,
   "metadata": {},
   "outputs": [],
   "source": [
    "import pickle as p\n",
    "import pandas as pd\n",
    "import numpy as np\n",
    "import matplotlib.pyplot as plt\n",
    "import scipy.stats as stats\n",
    "from tqdm import tqdm\n",
    "import scipy.signal as sig\n",
    "from sklearn.linear_model import LogisticRegression\n",
    "from scipy.interpolate import interp1d\n",
    "from scipy.integrate import romb\n",
    "plt.rcParams.update({'font.size': 22})\n",
    "import glob\n",
    "from scipy.signal import medfilt,butter\n",
    "import scipy\n",
    "import math"
   ]
  },
  {
   "cell_type": "code",
   "execution_count": 2,
   "metadata": {},
   "outputs": [],
   "source": [
    "n_splits = 10\n",
    "all_subjects = np.concatenate((np.arange(11,25),np.arange(26,45)))\n",
    "\n",
    "def num_to_epoch(epoch_number):\n",
    "    if epoch_number == 0:\n",
    "        return 'UP1'\n",
    "    elif epoch_number == 1:\n",
    "        return 'UP2'\n",
    "    elif epoch_number == 2:\n",
    "        return 'P1'\n",
    "    elif epoch_number == 3:\n",
    "        return 'P2'\n",
    "    elif epoch_number == 4:\n",
    "        return 'REC'\n",
    "    else:\n",
    "        raise Exception('Invalid Epoch Number')\n",
    "\n",
    "def num_to_subject(subject_number):\n",
    "    return 'Subject'+str(subject_number)\n",
    "\n",
    "def get_signal(measure, epoch, subjno):\n",
    "    if isinstance(epoch,str):\n",
    "        return np.ravel(df.loc[measure, epoch][num_to_subject(subjno)])\n",
    "    elif isinstance(epoch, int):\n",
    "        return np.ravel(df.loc[measure, num_to_epoch(epoch)][num_to_subject(subjno)])\n",
    "\n",
    "def get_split_signal(measure, epoch, subjno, splitno):\n",
    "    if isinstance(epoch,str):\n",
    "        return np.array_split(np.ravel(df.loc[measure, epoch][num_to_subject(subjno)]), n_splits)[splitno]\n",
    "    elif isinstance(epoch, int):\n",
    "        return np.array_split(np.ravel(df.loc[measure, num_to_epoch(epoch)][num_to_subject(subjno)]),n_splits)[splitno]\n",
    "    \n",
    "def full_signal(measure, subjno):\n",
    "    return np.concatenate((\n",
    "        np.ravel(df.loc[measure, num_to_epoch(0)][num_to_subject(subjno)]),\n",
    "        np.ravel(df.loc[measure, num_to_epoch(1)][num_to_subject(subjno)]),\n",
    "        np.ravel(df.loc[measure, num_to_epoch(2)][num_to_subject(subjno)]),\n",
    "        np.ravel(df.loc[measure, num_to_epoch(3)][num_to_subject(subjno)]),\n",
    "        np.ravel(df.loc[measure, num_to_epoch(4)][num_to_subject(subjno)]),\n",
    "    ))\n",
    "\n",
    "def is_perturbed(epoch):\n",
    "    if epoch == 0 or epoch == 1 or epoch == 4:\n",
    "        return 0\n",
    "    elif epoch == 2 or epoch == 3:\n",
    "        return 1\n",
    "    \n",
    "def scaled_correlation_time(signal1, signal2):\n",
    "    signal1 = (signal1 - np.mean(signal1))/np.std(signal1)\n",
    "    signal2 = (signal2 - np.mean(signal2))/np.std(signal2)\n",
    "    acorr = np.correlate(signal1, signal2, mode='full')\n",
    "    acorr = acorr[(acorr.size // 2 ):] / np.max(acorr)\n",
    "#     plt.plot(acorr)\n",
    "    tau = np.argmax([acorr < 1/np.exp(1)])\n",
    "    return tau / len(acorr)\n",
    "\n",
    "def correlation_integral(signal1, signal2):\n",
    "    signal1 = (signal1 - np.mean(signal1))/np.std(signal1)\n",
    "    signal2 = (signal2 - np.mean(signal2))/np.std(signal2)\n",
    "    acorr = np.correlate(signal1, signal2, mode='full')\n",
    "    acorr = acorr[(acorr.size // 2 ):] / np.max(acorr)\n",
    "#     plt.plot(acorr)\n",
    "    integral = np.trapz(acorr)\n",
    "    return integral\n",
    "\n",
    "def plot_full_experiment(measure, subjno):\n",
    "    s1 = np.ravel(df.loc[measure, num_to_epoch(0)][num_to_subject(subjno)])\n",
    "    s2 = np.ravel(df.loc[measure, num_to_epoch(1)][num_to_subject(subjno)])\n",
    "    s3 = np.ravel(df.loc[measure, num_to_epoch(2)][num_to_subject(subjno)])\n",
    "    s4 = np.ravel(df.loc[measure, num_to_epoch(3)][num_to_subject(subjno)])\n",
    "    s5 = np.ravel(df.loc[measure, num_to_epoch(4)][num_to_subject(subjno)])\n",
    "    fullsignal = np.concatenate((s1,s2,s3,s4,s5))\n",
    "    plt.plot(fullsignal,'k',label = measure)\n",
    "    plt.axvline(x = len(s1), color = 'k', linestyle = '--')\n",
    "    plt.axvline(x = len(s1)+len(s2), color = 'k', linestyle = '--')\n",
    "    plt.axvline(x = len(s1)+len(s2)+len(s3), color = 'k', linestyle = '--')\n",
    "    plt.axvline(x = len(s1)+len(s2)+len(s3)+len(s4), color = 'k', linestyle = '--')\n",
    "    plt.legend()"
   ]
  },
  {
   "cell_type": "code",
   "execution_count": 3,
   "metadata": {},
   "outputs": [],
   "source": [
    "shimfiles = glob.glob('shimmerData/*/*')"
   ]
  },
  {
   "cell_type": "code",
   "execution_count": 4,
   "metadata": {},
   "outputs": [],
   "source": [
    "def get_shimmer(subjno, part, epochno):\n",
    "    epoch = num_to_epoch(epochno)\n",
    "    if epoch == 'REC':\n",
    "        epoch = 'Rec'\n",
    "    elif epoch == 'P1':\n",
    "        epoch = '_P1'\n",
    "    elif epoch == 'P2':\n",
    "        epoch = '_P2'\n",
    "    \n",
    "    for file in shimfiles:\n",
    "        if str(subjno) in file and part in file and epoch in file:\n",
    "            data = pd.read_csv(file, header = None)\n",
    "    try:\n",
    "        vectors = np.asarray(data[[1,2,3]])\n",
    "    except:\n",
    "        print('mising shimmer data. skipping...')\n",
    "        return np.repeat(np.nan, 1000)\n",
    "    mean = np.mean(vectors, axis = 0)\n",
    "    std = np.std(vectors, axis = 0)\n",
    "    \n",
    "    vectors = (vectors - mean[np.newaxis,:])\n",
    "\n",
    "    #plt.plot(vectors)\n",
    "    \n",
    "    z_vector = np.linalg.norm(vectors, axis = 1)\n",
    "\n",
    "    return z_vector\n"
   ]
  },
  {
   "cell_type": "code",
   "execution_count": 5,
   "metadata": {},
   "outputs": [],
   "source": [
    "def get_split_shimmer(subjno, part, epochno, splitno):\n",
    "\n",
    "    z_vector = get_shimmer(subjno,part,epochno)\n",
    "\n",
    "    return np.array_split(z_vector,n_splits)[splitno]\n"
   ]
  },
  {
   "cell_type": "code",
   "execution_count": 6,
   "metadata": {},
   "outputs": [],
   "source": [
    "def signal_statistics(signal):\n",
    "    mean = np.mean(signal)\n",
    "    std = np.std(signal)\n",
    "    skewness = stats.skew(signal)\n",
    "    kurtosis = stats.kurtosis(signal)\n",
    "    maximum = np.max(signal)\n",
    "    minimum = np.min(signal)\n",
    "    iqr = stats.iqr(signal)\n",
    "    variation = stats.variation(signal)\n",
    "    entropy = stats.entropy(np.abs(signal))\n",
    "    corrtime = scaled_correlation_time(signal,signal)        \n",
    "    return np.asarray([mean, std, skewness, kurtosis, maximum, minimum, iqr, variation, entropy, corrtime])\n",
    "\n",
    "def spectrum_statistics(signal):\n",
    "    \n",
    "    fs,pxx = sig.periodogram(signal, fs = 50, nfft = 1000, scaling = 'density', detrend = 'constant')\n",
    "    \n",
    "#     plt.plot(fs,pxx)\n",
    "    #plt.xlim(0,0.1)\n",
    "\n",
    "    peak = fs[np.argmax(pxx)]\n",
    "    peakmag = np.max(pxx)\n",
    "    integral = np.trapz(pxx,fs)\n",
    "    energy = np.dot(pxx,pxx)\n",
    "    shannon = np.sum(pxx*np.log(1/pxx))\n",
    "    normalized_spectrum = pxx / sum(pxx)  \n",
    "    normalized_frequencies = np.linspace(0, 1, len(pxx))\n",
    "    spectral_centroid = sum(normalized_frequencies * normalized_spectrum)/sum(normalized_spectrum)\n",
    "\n",
    "\n",
    "    # Add wavelet analysis\n",
    "\n",
    "    return [peak, peakmag, integral, energy, shannon, spectral_centroid]\n",
    "\n"
   ]
  },
  {
   "cell_type": "code",
   "execution_count": 7,
   "metadata": {},
   "outputs": [],
   "source": [
    "test_signal = get_shimmer(42, 'body', 3)"
   ]
  },
  {
   "cell_type": "code",
   "execution_count": 8,
   "metadata": {},
   "outputs": [
    {
     "data": {
      "text/plain": [
       "0.2766343281788908"
      ]
     },
     "execution_count": 8,
     "metadata": {},
     "output_type": "execute_result"
    }
   ],
   "source": [
    "def max_dists(signal, m):\n",
    "    count = 0\n",
    "    N = len(signal)\n",
    "    max_dists = []\n",
    "    while count < N-m-1:\n",
    "        x_i = signal[count:count+m-1]\n",
    "        x_j = signal[count+1:count+m]\n",
    "        max_dists.append(scipy.spatial.distance.chebyshev(x_i, x_j))\n",
    "        count += 1\n",
    "    return max_dists\n",
    "\n",
    "\n",
    "def approx_entropy(signal):\n",
    "    N = len(signal)\n",
    "    m = 2 #or 3 -- dimensionality? \n",
    "    r = 0.3\n",
    "        \n",
    "    \n",
    "    def phi(m):\n",
    "        d_func = max_dists(signal,m)\n",
    "        C = []\n",
    "        for i in d_func:\n",
    "            if i <= r and i > 0:\n",
    "                C.append(i/(N-m+1)) \n",
    "        return (N - m + 1.0)**(-1) * sum(np.log10(C))\n",
    "    return (abs(phi(m)-phi(m+1)))\n",
    "\n",
    "\n",
    "approx_entropy(test_signal)"
   ]
  },
  {
   "cell_type": "code",
   "execution_count": 9,
   "metadata": {},
   "outputs": [
    {
     "name": "stdout",
     "output_type": "stream",
     "text": [
      "0.009862868702608938\n"
     ]
    }
   ],
   "source": [
    "\n",
    "def sample_entropy(signal):\n",
    "    N = len(signal)\n",
    "    m = 2\n",
    "    r = 0.2\n",
    "    \n",
    "    A_list = max_dists(signal,m+1)\n",
    "    B_list = max_dists(signal,m)\n",
    "    \n",
    "    count_A = 0\n",
    "    count_B = 0\n",
    "    for i in A_list:\n",
    "        if i < r:\n",
    "            count_A += 1\n",
    "    for i in B_list: \n",
    "        if i < r:\n",
    "            count_B += 1\n",
    "    if count_B == 0:\n",
    "        return np.nan\n",
    "    return math.log10(count_A/count_B)*-1\n",
    "\n",
    "print(sample_entropy(test_signal))"
   ]
  },
  {
   "cell_type": "code",
   "execution_count": 10,
   "metadata": {},
   "outputs": [
    {
     "name": "stdout",
     "output_type": "stream",
     "text": [
      "0.024643562693091963\n"
     ]
    }
   ],
   "source": [
    "def multiscale_entropy(signal):\n",
    "    mses = []\n",
    "    for T in range(2,20,2):\n",
    "        coarse_grain = []\n",
    "        i = 0\n",
    "        while i < len(signal):\n",
    "            new_val = sum(signal[i:i+T])/T\n",
    "            coarse_grain.append(new_val)\n",
    "            i += T\n",
    "        mses.append(sample_entropy(coarse_grain))\n",
    "    return np.mean(mses)\n",
    "        \n",
    "print(multiscale_entropy(test_signal))\n",
    "\n"
   ]
  },
  {
   "cell_type": "code",
   "execution_count": 11,
   "metadata": {},
   "outputs": [],
   "source": [
    "import nolds"
   ]
  },
  {
   "cell_type": "code",
   "execution_count": 12,
   "metadata": {},
   "outputs": [],
   "source": [
    "from scipy.integrate import odeint"
   ]
  },
  {
   "cell_type": "code",
   "execution_count": 13,
   "metadata": {},
   "outputs": [],
   "source": [
    "rho = 28.0\n",
    "sigma = 10.0\n",
    "beta = 8.0 / 3.0\n",
    "\n",
    "def f(state, t):\n",
    "    x, y, z = state  # Unpack the state vector\n",
    "    return sigma * (y - x), x * (rho - z) - y, x * y - beta * z  # Derivatives\n",
    "\n",
    "state0 = [1.0, 1.0, 1.0]\n",
    "t = np.arange(0.0, 40.0, 0.1)\n",
    "\n",
    "states = odeint(f, state0, t)"
   ]
  },
  {
   "cell_type": "code",
   "execution_count": 14,
   "metadata": {},
   "outputs": [],
   "source": [
    "signal  = states[:,0]"
   ]
  },
  {
   "cell_type": "code",
   "execution_count": 328,
   "metadata": {},
   "outputs": [
    {
     "data": {
      "text/plain": [
       "[<matplotlib.lines.Line2D at 0x1a230356d0>]"
      ]
     },
     "execution_count": 328,
     "metadata": {},
     "output_type": "execute_result"
    },
    {
     "data": {
      "image/png": "[encoded data removed]",
      "text/plain": [
       "<Figure size 432x288 with 1 Axes>"
      ]
     },
     "metadata": {
      "needs_background": "light"
     },
     "output_type": "display_data"
    }
   ],
   "source": [
    "plt.plot(signal)"
   ]
  },
  {
   "cell_type": "code",
   "execution_count": 329,
   "metadata": {},
   "outputs": [
    {
     "data": {
      "text/plain": [
       "[<matplotlib.lines.Line2D at 0x1a23045610>]"
      ]
     },
     "execution_count": 329,
     "metadata": {},
     "output_type": "execute_result"
    },
    {
     "data": {
      "image/png": "[encoded data removed]",
      "text/plain": [
       "<Figure size 432x288 with 1 Axes>"
      ]
     },
     "metadata": {
      "needs_background": "light"
     },
     "output_type": "display_data"
    }
   ],
   "source": [
    "plt.plot(signal[1:], np.diff(signal))"
   ]
  },
  {
   "cell_type": "code",
   "execution_count": 345,
   "metadata": {},
   "outputs": [
    {
     "data": {
      "text/plain": [
       "400"
      ]
     },
     "execution_count": 345,
     "metadata": {},
     "output_type": "execute_result"
    }
   ],
   "source": [
    "len(signal)"
   ]
  },
  {
   "cell_type": "raw",
   "metadata": {},
   "source": [
    "nolds.corr_dim(signal, 2, debug_plot = True)"
   ]
  },
  {
   "cell_type": "code",
   "execution_count": 370,
   "metadata": {},
   "outputs": [],
   "source": [
    "tau = np.argmax(delay.acorr(test_signal) < 1 / np.e)"
   ]
  },
  {
   "cell_type": "code",
   "execution_count": 346,
   "metadata": {},
   "outputs": [],
   "source": [
    "#def corr_dim(signal1)"
   ]
  },
  {
   "cell_type": "code",
   "execution_count": 347,
   "metadata": {},
   "outputs": [],
   "source": [
    "from nolitsa import delay"
   ]
  },
  {
   "cell_type": "code",
   "execution_count": 363,
   "metadata": {},
   "outputs": [],
   "source": [
    "def fnn(signal, tau = None, max_m = 10):\n",
    "    fnns = [];\n",
    "    if tau is None:\n",
    "        tau = np.argmax(delay.acorr(signal) < 1 / np.e)\n",
    "\n",
    "    for m in tqdm(range(1,max_m + 1)):\n",
    "\n",
    "        N2 = len(signal) - tau*(m-1);\n",
    "        xe = [];\n",
    "        for mi in np.arange(m):\n",
    "            xe.append(signal[(np.arange(N2) + tau * (mi-1))]);\n",
    "        Rtol = 15;\n",
    "        falsecount = 0;\n",
    "        xe = np.asarray(xe).T\n",
    "        for i in np.arange(len(xe[:,0])-1): #check minus 1\n",
    "            Rdmin = 1000;\n",
    "            for j in np.arange(len(xe[:,0])-1):\n",
    "\n",
    "                Rd = scipy.linalg.norm(xe[i,:]-xe[j,:]);\n",
    "\n",
    "                if j == i:\n",
    "                    continue;\n",
    "                elif Rd < Rdmin:\n",
    "                    idx = j;\n",
    "                    Rdmin = Rd;\n",
    "            j = idx;\n",
    "            Rdnext =  scipy.linalg.norm(xe[i+1,:]-xe[j+1,:]);\n",
    "            Rd = scipy.linalg.norm(xe[i,:]-xe[j,:]);\n",
    "            if Rd == 0:\n",
    "                continue\n",
    "            R = Rdnext/Rd;\n",
    "            if R > Rtol:\n",
    "                falsecount = falsecount + 1;    \n",
    "        fnnprop = falsecount/len(xe[:,0]);\n",
    "        fnns.append(fnnprop)\n",
    "\n",
    "        if fnnprop < 0.005:\n",
    "            break\n",
    "    \n",
    "    return fnns\n",
    "#emdim = find(fnns < 0.01,1);"
   ]
  },
  {
   "cell_type": "code",
   "execution_count": null,
   "metadata": {},
   "outputs": [],
   "source": [
    "\n",
    "#Frequency domain analysis: spectral flux\n",
    "signal = get_shimmer(28, 'body', 1)\n",
    "\n",
    "def spectral_flux(signal, nsplits):\n",
    "    window = len(signal)//nsplits\n",
    "    sig_list = []\n",
    "    i = 0\n",
    "    while i < len(signal):\n",
    "        fs, fourier_sig = sig.periodogram(signal[i:i+window], scaling = 'density')\n",
    "        sig_list.append(fourier_sig)\n",
    "        i = i+window\n",
    "    flux = []\n",
    "    for j in range(0,len(sig_list)-2):\n",
    "        norm_window = sig_list[j]/sum(sig_list[j])\n",
    "        prev_window = sig_list[j+1]/sum(sig_list[j+1])\n",
    "        flux.append(sum((norm_window-prev_window)**2))\n",
    "    return [np.mean(flux), np.std(flux)]\n",
    "\n",
    "def flux_stats(signal):\n",
    "    fluxmeans = []\n",
    "    fluxstds = []\n",
    "    n = range(2,500,10)\n",
    "    for i in range(2,500,10):\n",
    "        nsplits = i\n",
    "        mean, std = spectral_flux(signal, nsplits)\n",
    "        fluxmeans.append(mean)\n",
    "        fluxstds.append(std)\n",
    "\n",
    "    full_mean_slope, full_mean_int, full_mean_r, full_mean_p, full_mean_std_err = stats.linregress(n, fluxmeans)\n",
    "    full_std_slope, full_std_int, full_std_r, full_std_p, full_std_err = stats.linregress(n, fluxstds)\n",
    "    half_mean_slope, half_mean_int, half_mean_r, half_mean_p, half_mean_std_err = stats.linregress(n[25:], fluxmeans[25:])\n",
    "    half_std_slope, half_std_int, half_std_r, half_std_p, half_std_err = stats.linregress(n[25:], fluxstds[25:])\n",
    "    maximum = max(fluxmeans)\n",
    "    minimum = min(fluxmeans)\n",
    "    integral = np.trapz(fluxmeans,n)\n",
    "    return [maximum, minimum, integral, full_mean_slope, full_mean_int, full_std_slope, full_std_int, half_mean_slope, half_mean_int, half_std_slope, half_std_int, full_mean_r, full_std_r]\n",
    "flux_stats(signal)\n"
   ]
  },
  {
   "cell_type": "code",
   "execution_count": 406,
   "metadata": {
    "scrolled": false
   },
   "outputs": [
    {
     "name": "stderr",
     "output_type": "stream",
     "text": [
      "\n",
      "\n",
      "\n",
      "\n",
      "\n",
      "  0%|          | 0/33 [00:00<?, ?it/s]\u001b[A\u001b[A\u001b[A\u001b[A\u001b[A\n",
      "\n",
      "\n",
      "\n",
      "\n",
      "  3%|▎         | 1/33 [00:56<30:23, 56.98s/it]\u001b[A\u001b[A\u001b[A\u001b[A\u001b[A\n",
      "\n",
      "\n",
      "\n",
      "\n",
      "  6%|▌         | 2/33 [01:56<29:51, 57.81s/it]\u001b[A\u001b[A\u001b[A\u001b[A\u001b[A"
     ]
    },
    {
     "name": "stdout",
     "output_type": "stream",
     "text": [
      "mising shimmer data. skipping...\n",
      "mising shimmer data. skipping...\n",
      "mising shimmer data. skipping...\n",
      "mising shimmer data. skipping...\n",
      "mising shimmer data. skipping...\n",
      "mising shimmer data. skipping...\n",
      "mising shimmer data. skipping...\n",
      "mising shimmer data. skipping...\n"
     ]
    },
    {
     "name": "stderr",
     "output_type": "stream",
     "text": [
      "\n",
      "\n",
      "\n",
      "\n",
      "\n",
      " 15%|█▌        | 5/33 [02:55<21:37, 46.32s/it]\u001b[A\u001b[A\u001b[A\u001b[A\u001b[A\n",
      "\n",
      "\n",
      "\n",
      "\n",
      " 18%|█▊        | 6/33 [03:54<22:34, 50.16s/it]\u001b[A\u001b[A\u001b[A\u001b[A\u001b[A"
     ]
    },
    {
     "name": "stdout",
     "output_type": "stream",
     "text": [
      "mising shimmer data. skipping...\n",
      "mising shimmer data. skipping...\n",
      "mising shimmer data. skipping...\n",
      "mising shimmer data. skipping...\n"
     ]
    },
    {
     "name": "stderr",
     "output_type": "stream",
     "text": [
      "\n",
      "\n",
      "\n",
      "\n",
      "\n",
      " 24%|██▍       | 8/33 [04:35<17:11, 41.26s/it]\u001b[A\u001b[A\u001b[A\u001b[A\u001b[A\n",
      "\n",
      "\n",
      "\n",
      "\n",
      " 27%|██▋       | 9/33 [05:34<18:35, 46.46s/it]\u001b[A\u001b[A\u001b[A\u001b[A\u001b[A"
     ]
    },
    {
     "name": "stdout",
     "output_type": "stream",
     "text": [
      "mising shimmer data. skipping...\n",
      "mising shimmer data. skipping...\n",
      "mising shimmer data. skipping...\n"
     ]
    },
    {
     "name": "stderr",
     "output_type": "stream",
     "text": [
      "\n",
      "\n",
      "\n",
      "\n",
      "\n",
      " 30%|███       | 10/33 [06:02<15:47, 41.18s/it]\u001b[A\u001b[A\u001b[A\u001b[A\u001b[A"
     ]
    },
    {
     "name": "stdout",
     "output_type": "stream",
     "text": [
      "mising shimmer data. skipping...\n",
      "mising shimmer data. skipping...\n",
      "mising shimmer data. skipping...\n",
      "mising shimmer data. skipping...\n"
     ]
    },
    {
     "name": "stderr",
     "output_type": "stream",
     "text": [
      "\n",
      "\n",
      "\n",
      "\n",
      "\n",
      " 33%|███▎      | 11/33 [06:31<13:41, 37.35s/it]\u001b[A\u001b[A\u001b[A\u001b[A\u001b[A"
     ]
    },
    {
     "name": "stdout",
     "output_type": "stream",
     "text": [
      "mising shimmer data. skipping...\n"
     ]
    },
    {
     "name": "stderr",
     "output_type": "stream",
     "text": [
      "\n",
      "\n",
      "\n",
      "\n",
      "\n",
      " 36%|███▋      | 12/33 [07:24<14:45, 42.17s/it]\u001b[A\u001b[A\u001b[A\u001b[A\u001b[A\n",
      "\n",
      "\n",
      "\n",
      "\n",
      " 39%|███▉      | 13/33 [08:20<15:23, 46.19s/it]\u001b[A\u001b[A\u001b[A\u001b[A\u001b[A\n",
      "\n",
      "\n",
      "\n",
      "\n",
      " 42%|████▏     | 14/33 [09:16<15:37, 49.32s/it]\u001b[A\u001b[A\u001b[A\u001b[A\u001b[A\n",
      "\n",
      "\n",
      "\n",
      "\n",
      " 45%|████▌     | 15/33 [10:15<15:36, 52.01s/it]\u001b[A\u001b[A\u001b[A\u001b[A\u001b[A\n",
      "\n",
      "\n",
      "\n",
      "\n",
      " 48%|████▊     | 16/33 [11:09<14:57, 52.80s/it]\u001b[A\u001b[A\u001b[A\u001b[A\u001b[A\n",
      "\n",
      "\n",
      "\n",
      "\n",
      " 52%|█████▏    | 17/33 [12:06<14:24, 54.00s/it]\u001b[A\u001b[A\u001b[A\u001b[A\u001b[A\n",
      "\n",
      "\n",
      "\n",
      "\n",
      " 55%|█████▍    | 18/33 [13:05<13:49, 55.32s/it]\u001b[A\u001b[A\u001b[A\u001b[A\u001b[A\n",
      "\n",
      "\n",
      "\n",
      "\n",
      " 58%|█████▊    | 19/33 [14:05<13:17, 56.93s/it]\u001b[A\u001b[A\u001b[A\u001b[A\u001b[A\n",
      "\n",
      "\n",
      "\n",
      "\n",
      " 61%|██████    | 20/33 [15:03<12:24, 57.31s/it]\u001b[A\u001b[A\u001b[A\u001b[A\u001b[A\n",
      "\n",
      "\n",
      "\n",
      "\n",
      " 64%|██████▎   | 21/33 [16:04<11:39, 58.25s/it]\u001b[A\u001b[A\u001b[A\u001b[A\u001b[A\n",
      "\n",
      "\n",
      "\n",
      "\n",
      " 67%|██████▋   | 22/33 [17:05<10:50, 59.12s/it]\u001b[A\u001b[A\u001b[A\u001b[A\u001b[A\n",
      "\n",
      "\n",
      "\n",
      "\n",
      " 70%|██████▉   | 23/33 [18:06<09:56, 59.69s/it]\u001b[A\u001b[A\u001b[A\u001b[A\u001b[A\n",
      "\n",
      "\n",
      "\n",
      "\n",
      " 73%|███████▎  | 24/33 [19:25<09:48, 65.40s/it]\u001b[A\u001b[A\u001b[A\u001b[A\u001b[A\n",
      "\n",
      "\n",
      "\n",
      "\n",
      " 76%|███████▌  | 25/33 [20:34<08:51, 66.42s/it]\u001b[A\u001b[A\u001b[A\u001b[A\u001b[A\n",
      "\n",
      "\n",
      "\n",
      "\n",
      " 79%|███████▉  | 26/33 [21:35<07:34, 64.98s/it]\u001b[A\u001b[A\u001b[A\u001b[A\u001b[A\n",
      "\n",
      "\n",
      "\n",
      "\n",
      " 82%|████████▏ | 27/33 [22:48<06:43, 67.21s/it]\u001b[A\u001b[A\u001b[A\u001b[A\u001b[A"
     ]
    },
    {
     "name": "stdout",
     "output_type": "stream",
     "text": [
      "mising shimmer data. skipping...\n",
      "mising shimmer data. skipping...\n",
      "mising shimmer data. skipping...\n"
     ]
    },
    {
     "name": "stderr",
     "output_type": "stream",
     "text": [
      "\n",
      "\n",
      "\n",
      "\n",
      "\n",
      " 85%|████████▍ | 28/33 [23:18<04:40, 56.06s/it]\u001b[A\u001b[A\u001b[A\u001b[A\u001b[A"
     ]
    },
    {
     "name": "stdout",
     "output_type": "stream",
     "text": [
      "mising shimmer data. skipping...\n"
     ]
    },
    {
     "name": "stderr",
     "output_type": "stream",
     "text": [
      "\n",
      "\n",
      "\n",
      "\n",
      "\n",
      " 88%|████████▊ | 29/33 [24:17<03:48, 57.05s/it]\u001b[A\u001b[A\u001b[A\u001b[A\u001b[A\n",
      "\n",
      "\n",
      "\n",
      "\n",
      " 91%|█████████ | 30/33 [25:17<02:54, 58.02s/it]\u001b[A\u001b[A\u001b[A\u001b[A\u001b[A\n",
      "\n",
      "\n",
      "\n",
      "\n",
      " 94%|█████████▍| 31/33 [26:16<01:56, 58.30s/it]\u001b[A\u001b[A\u001b[A\u001b[A\u001b[A\n",
      "\n",
      "\n",
      "\n",
      "\n",
      " 97%|█████████▋| 32/33 [27:16<00:58, 58.68s/it]\u001b[A\u001b[A\u001b[A\u001b[A\u001b[A\n",
      "\n",
      "\n",
      "\n",
      "\n",
      "100%|██████████| 33/33 [28:19<00:00, 51.51s/it]\u001b[A\u001b[A\u001b[A\u001b[A\u001b[A\n"
     ]
    }
   ],
   "source": [
    "bfeatures = [];\n",
    "n_splits = 1\n",
    "targets = [];\n",
    "allfeatures = []\n",
    "hfeatures = [];\n",
    "\n",
    "for subjno in tqdm(all_subjects):\n",
    "    for epoch in range(4):\n",
    "        for splitno in range(n_splits):\n",
    "            \n",
    "            bshim_signal = get_split_shimmer(subjno,'body',epoch,splitno)\n",
    "            if np.isnan(bshim_signal[0]):\n",
    "                continue;\n",
    "                \n",
    "            start = int(len(bshim_signal)/2)\n",
    "            bfeature = np.stack((approx_entropy(bshim_signal), sample_entropy(bshim_signal), \\\n",
    "                    multiscale_entropy(bshim_signal), nolds.corr_dim(bshim_signal[start:(start+1000)], 4)))\n",
    "            bfeatures.append(bfeature)\n",
    "\n",
    "            hshim_signal = get_split_shimmer(subjno,'head',epoch,splitno)\n",
    "            if np.isnan(hshim_signal[0]):\n",
    "                continue;\n",
    "            hfeature = np.stack((approx_entropy(hshim_signal), sample_entropy(hshim_signal), \\\n",
    "                multiscale_entropy(hshim_signal), nolds.corr_dim(hshim_signal[start:(start+1000)], 4)))\n",
    "            hfeatures.append(hfeature)\n",
    "\n",
    "            targets.append(is_perturbed(epoch))\n",
    "            allfeature = np.concatenate((bfeature,hfeature))\n",
    "            allfeatures.append(allfeature)\n",
    "\n",
    "allfeature_names = ['b_approx_entropy', 'b_sample_entropy', 'b_multiscale_entropy', 'b_corrdim', \\\n",
    "                   'h_approx_entropy', 'h_sample_entropy', 'h_multiscale_entropy', 'h_corrdim']\n",
    "fdf = pd.DataFrame(allfeatures, columns = allfeature_names)\n"
   ]
  },
  {
   "cell_type": "code",
   "execution_count": 408,
   "metadata": {},
   "outputs": [],
   "source": [
    "targets = np.asarray(targets)\n",
    "fdf = pd.DataFrame(allfeatures, columns = allfeature_names)"
   ]
  },
  {
   "cell_type": "code",
   "execution_count": 409,
   "metadata": {},
   "outputs": [],
   "source": [
    "where = ~(np.asarray(np.sum(np.isnan(fdf),1)) > 0)"
   ]
  },
  {
   "cell_type": "code",
   "execution_count": 422,
   "metadata": {},
   "outputs": [],
   "source": [
    "fdf_clean = fdf.iloc[where]\n",
    "targets_clean = targets[where]"
   ]
  },
  {
   "cell_type": "code",
   "execution_count": 15,
   "metadata": {},
   "outputs": [],
   "source": [
    "import pickle"
   ]
  },
  {
   "cell_type": "raw",
   "metadata": {},
   "source": [
    "pickle.dump([fdf_clean, targets_clean], open('fdfclean.p', 'wb'))"
   ]
  },
  {
   "cell_type": "code",
   "execution_count": 16,
   "metadata": {},
   "outputs": [],
   "source": [
    "arr = pickle.load(open('fdfclean.p', 'rb'))"
   ]
  },
  {
   "cell_type": "code",
   "execution_count": 18,
   "metadata": {},
   "outputs": [],
   "source": [
    "fdf_clean = arr[0]\n",
    "targets_clean = arr[1]"
   ]
  },
  {
   "cell_type": "code",
   "execution_count": 41,
   "metadata": {},
   "outputs": [],
   "source": [
    "unpert = targets_clean == 0\n",
    "pert = targets_clean == 1"
   ]
  },
  {
   "cell_type": "code",
   "execution_count": 43,
   "metadata": {},
   "outputs": [],
   "source": [
    "fdf_corr = fdf_clean[['h_corrdim', 'b_corrdim']]"
   ]
  },
  {
   "cell_type": "code",
   "execution_count": 48,
   "metadata": {},
   "outputs": [],
   "source": [
    "fdf_clean = fdf_clean.drop(['h_corrdim', 'b_corrdim'], axis = 1)"
   ]
  },
  {
   "cell_type": "code",
   "execution_count": 58,
   "metadata": {
    "scrolled": false
   },
   "outputs": [
    {
     "data": {
      "text/plain": [
       "Text(0, 0.5, 'Entropy Measure')"
      ]
     },
     "execution_count": 58,
     "metadata": {},
     "output_type": "execute_result"
    },
    {
     "data": {
      "image/png": "[encoded data removed]",
      "text/plain": [
       "<Figure size 720x432 with 1 Axes>"
      ]
     },
     "metadata": {
      "needs_background": "light"
     },
     "output_type": "display_data"
    }
   ],
   "source": [
    "pvals = [];\n",
    "\n",
    "for measure in fdf_clean.columns:\n",
    "    unpert_measure = np.asarray(fdf_clean.iloc[unpert][measure])\n",
    "    pert_measure = np.asarray(fdf_clean.iloc[pert][measure])\n",
    "    pvals.append(stats.wilcoxon(unpert_measure, pert_measure).pvalue)\n",
    "\n",
    "import statsmodels.stats.multitest as multitest\n",
    "\n",
    "bonf05 = multitest.multipletests(pvals, alpha = 0.05, method = 'bonferroni')[0]\n",
    "bonf01 = multitest.multipletests(pvals, alpha = 0.01, method = 'bonferroni')[0]\n",
    "bonf1 = multitest.multipletests(pvals, alpha = 0.1, method = 'bonferroni')[0]\n",
    "\n",
    "aster_n = bonf05.astype(int) + bonf01.astype(int) + bonf1.astype(int)\n",
    "\n",
    "def n_to_str(n):\n",
    "    if n == 0:\n",
    "        return ''\n",
    "    if n == 1:\n",
    "        return '*'\n",
    "    if n == 2:\n",
    "        return '**'\n",
    "    if n == 3:\n",
    "        return '***'\n",
    "\n",
    "u_means = np.mean(fdf_clean[unpert], 0)\n",
    "u_stds = stats.sem(fdf_clean[unpert], 0)\n",
    "p_means = np.mean(fdf_clean[pert], 0)\n",
    "p_stds = stats.sem(fdf_clean[pert], 0)\n",
    "\n",
    "plt.figure(figsize = (10,6))\n",
    "idx = np.arange(len(fdf_clean.columns))\n",
    "width = 0.3\n",
    "plt.bar(idx, height = u_means, yerr = u_stds, log = True, width = width, capsize = 3, color = 'c',\\\n",
    "       label = 'Unperturbed');\n",
    "plt.bar(idx + width + 0.05, height = p_means, yerr = p_stds, log = True, width = width, capsize = 3, \\\n",
    "        color = 'orange', label = 'Perturbed');\n",
    "\n",
    "labels = ['Body Approx. Entropy', 'Body Sample Entropy', 'Body Multiscale Entropy', 'Body CorrDim',\\\n",
    "             'Head Approx. Entropy', 'Head Sample Entropy', 'Head Multiscale Entropy', 'Head Corrdim']\n",
    "plt.xticks(idx+0.5*(width + 0.05), labels, rotation=45, ha='right',fontsize=18);\n",
    "\n",
    "for ii in range(len(fdf_clean.columns)):\n",
    "    plt.text(idx[ii] + width + .05, p_means[ii], n_to_str(aster_n[ii]), ha = 'center', color = 'r');\n",
    "\n",
    "plt.legend(fontsize = 18)\n",
    "plt.ylabel('Entropy Measure')\n",
    "\n",
    "#plt.savefig('entropy_measures.pdf', bbox_inches = 'tight')"
   ]
  },
  {
   "cell_type": "code",
   "execution_count": 71,
   "metadata": {},
   "outputs": [
    {
     "data": {
      "image/png": "[encoded data removed]",
      "text/plain": [
       "<Figure size 576x360 with 1 Axes>"
      ]
     },
     "metadata": {
      "needs_background": "light"
     },
     "output_type": "display_data"
    }
   ],
   "source": [
    "pvals = [];\n",
    "\n",
    "for measure in fdf_corr.columns:\n",
    "    unpert_measure = np.asarray(fdf_corr.iloc[unpert][measure])\n",
    "    pert_measure = np.asarray(fdf_corr.iloc[pert][measure])\n",
    "    pvals.append(stats.wilcoxon(unpert_measure, pert_measure).pvalue)\n",
    "\n",
    "import statsmodels.stats.multitest as multitest\n",
    "\n",
    "bonf05 = multitest.multipletests(pvals, alpha = 0.05, method = 'bonferroni')[0]\n",
    "bonf01 = multitest.multipletests(pvals, alpha = 0.01, method = 'bonferroni')[0]\n",
    "bonf1 = multitest.multipletests(pvals, alpha = 0.1, method = 'bonferroni')[0]\n",
    "\n",
    "aster_n = bonf05.astype(int) + bonf01.astype(int) + bonf1.astype(int)\n",
    "\n",
    "def n_to_str(n):\n",
    "    if n == 0:\n",
    "        return ''\n",
    "    if n == 1:\n",
    "        return '*'\n",
    "    if n == 2:\n",
    "        return '**'\n",
    "    if n == 3:\n",
    "        return '***'\n",
    "\n",
    "u_means = np.mean(fdf_corr[unpert], 0)\n",
    "u_stds = stats.sem(fdf_corr[unpert], 0)\n",
    "p_means = np.mean(fdf_corr[pert], 0)\n",
    "p_stds = stats.sem(fdf_corr[pert], 0)\n",
    "\n",
    "plt.figure(figsize = (8,5))\n",
    "idx = np.arange(len(fdf_corr.columns))\n",
    "width = 0.3\n",
    "plt.bar(idx, height = u_means, yerr = u_stds, log = False, width = width, capsize = 3, color = 'c',\\\n",
    "       label = 'Unperturbed');\n",
    "plt.bar(idx + width + 0.05, height = p_means, yerr = p_stds, log = False, width = width, capsize = 3, \\\n",
    "        color = 'orange', label = 'Perturbed');\n",
    "\n",
    "labels = ['Head','Body']\n",
    "plt.xticks(idx+0.5*(width + 0.05), labels, rotation=45, ha='right',fontsize=18);\n",
    "\n",
    "for ii in range(len(fdf_corr.columns)):\n",
    "    plt.text(idx[ii] + width + .05, p_means[ii] + 0.1, n_to_str(aster_n[ii]), ha = 'center', color = 'r');\n",
    "\n",
    "plt.legend(fontsize = 18)\n",
    "plt.ylabel('Correlation Dimension')\n",
    "\n",
    "plt.savefig('corr_measures.pdf', bbox_inches = 'tight')"
   ]
  },
  {
   "cell_type": "code",
   "execution_count": null,
   "metadata": {},
   "outputs": [],
   "source": []
  }
 ],
 "metadata": {
  "kernelspec": {
   "display_name": "Python 3",
   "language": "python",
   "name": "python3"
  },
  "language_info": {
   "codemirror_mode": {
    "name": "ipython",
    "version": 3
   },
   "file_extension": ".py",
   "mimetype": "text/x-python",
   "name": "python",
   "nbconvert_exporter": "python",
   "pygments_lexer": "ipython3",
   "version": "3.7.0"
  }
 },
 "nbformat": 4,
 "nbformat_minor": 2
}
