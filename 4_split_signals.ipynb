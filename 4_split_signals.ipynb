{
 "cells": [
  {
   "cell_type": "code",
   "execution_count": 255,
   "metadata": {},
   "outputs": [],
   "source": [
    "import pickle as p\n",
    "import pandas as pd\n",
    "import numpy as np\n",
    "import matplotlib.pyplot as plt\n",
    "import scipy.stats as stats\n",
    "from tqdm import tqdm\n",
    "from dfa import dfa"
   ]
  },
  {
   "cell_type": "code",
   "execution_count": 256,
   "metadata": {},
   "outputs": [],
   "source": [
    "df = p.load(open('total.p','rb'))\n",
    "likert = pd.read_csv('likert.csv', header = None).T\n",
    "likert = likert.set_index(np.arange(11,45)).drop(25)"
   ]
  },
  {
   "cell_type": "code",
   "execution_count": 257,
   "metadata": {},
   "outputs": [],
   "source": [
    "all_subjects = np.concatenate((np.arange(11,25),np.arange(26,45)))"
   ]
  },
  {
   "cell_type": "code",
   "execution_count": 258,
   "metadata": {},
   "outputs": [],
   "source": [
    "# Book-keeping Functions\n",
    "n_splits = 25\n",
    "\n",
    "def num_to_epoch(epoch_number):\n",
    "    if epoch_number == 0:\n",
    "        return 'UP1'\n",
    "    elif epoch_number == 1:\n",
    "        return 'UP2'\n",
    "    elif epoch_number == 2:\n",
    "        return 'P1'\n",
    "    elif epoch_number == 3:\n",
    "        return 'P2'\n",
    "    elif epoch_number == 4:\n",
    "        return 'REC'\n",
    "    else:\n",
    "        raise Exception('Invalid Epoch Number')\n",
    "\n",
    "def num_to_subject(subject_number):\n",
    "    return 'Subject'+str(subject_number)\n",
    "\n",
    "def get_signal(measure, epoch, subjno):\n",
    "    if isinstance(epoch,str):\n",
    "        return df.loc[measure, epoch][num_to_subject(subjno)][:,0]\n",
    "    elif isinstance(epoch, int):\n",
    "        return df.loc[measure, num_to_epoch(epoch)][num_to_subject(subjno)][:,0]\n",
    "\n",
    "def get_split_signal(measure, epoch, subjno, splitno):\n",
    "    if isinstance(epoch,str):\n",
    "        return np.array_split(df.loc[measure, epoch][num_to_subject(subjno)][:,0], n_splits)[splitno]\n",
    "    elif isinstance(epoch, int):\n",
    "        return np.array_split(df.loc[measure, num_to_epoch(epoch)][num_to_subject(subjno)][:,0],n_splits)[splitno]\n",
    "    \n",
    "def full_signal(measure, subjno):\n",
    "    return np.concatenate((\n",
    "        df.loc[measure, num_to_epoch(0)][num_to_subject(subjno)][:,0],\n",
    "        df.loc[measure, num_to_epoch(1)][num_to_subject(subjno)][:,0],\n",
    "        df.loc[measure, num_to_epoch(2)][num_to_subject(subjno)][:,0],\n",
    "        df.loc[measure, num_to_epoch(3)][num_to_subject(subjno)][:,0],\n",
    "        df.loc[measure, num_to_epoch(4)][num_to_subject(subjno)][:,0],\n",
    "    ))\n",
    "\n",
    "def is_perturbed(epoch):\n",
    "    if epoch == 0 or epoch == 1 or epoch == 4:\n",
    "        return 0\n",
    "    elif epoch == 2 or epoch == 3:\n",
    "        return 1\n",
    "    \n",
    "def scaled_correlation_time(signal1, signal2):\n",
    "    signal1 = (signal1 - np.mean(signal1))/np.std(signal1)\n",
    "    signal2 = (signal2 - np.mean(signal2))/np.std(signal2)\n",
    "    acorr = np.correlate(signal1, signal2, mode='full')\n",
    "    acorr = acorr[(acorr.size // 2 ):] / np.max(acorr)\n",
    "#     plt.plot(acorr)\n",
    "    tau = np.argmax([acorr < 1/np.exp(1)])\n",
    "    return tau / len(acorr)\n",
    "\n",
    "def correlation_integral(signal1, signal2):\n",
    "    signal1 = (signal1 - np.mean(signal1))/np.std(signal1)\n",
    "    signal2 = (signal2 - np.mean(signal2))/np.std(signal2)\n",
    "    acorr = np.correlate(signal1, signal2, mode='full')\n",
    "    acorr = acorr[(acorr.size // 2 ):] / np.max(acorr)\n",
    "#     plt.plot(acorr)\n",
    "    integral = np.trapz(acorr)\n",
    "    return integral\n",
    "\n",
    "def plot_full_experiment(measure, subjno):\n",
    "    s1 = df.loc[measure, num_to_epoch(0)][num_to_subject(subjno)][:,0]\n",
    "    s2 = df.loc[measure, num_to_epoch(1)][num_to_subject(subjno)][:,0]\n",
    "    s3 = df.loc[measure, num_to_epoch(2)][num_to_subject(subjno)][:,0]\n",
    "    s4 = df.loc[measure, num_to_epoch(3)][num_to_subject(subjno)][:,0]\n",
    "    s5 = df.loc[measure, num_to_epoch(4)][num_to_subject(subjno)][:,0]\n",
    "    fullsignal = np.concatenate((s1,s2,s3,s4,s5))\n",
    "    plt.plot(fullsignal,'k',label = measure)\n",
    "    plt.axvline(x = len(s1), color = 'k', linestyle = '--')\n",
    "    plt.axvline(x = len(s1)+len(s2), color = 'k', linestyle = '--')\n",
    "    plt.axvline(x = len(s1)+len(s2)+len(s3), color = 'k', linestyle = '--')\n",
    "    plt.axvline(x = len(s1)+len(s2)+len(s3)+len(s4), color = 'k', linestyle = '--')\n",
    "    plt.legend()"
   ]
  },
  {
   "cell_type": "code",
   "execution_count": 259,
   "metadata": {},
   "outputs": [],
   "source": [
    "# Signal Statistics\n",
    "\n",
    "def signal_statistics(signal):\n",
    "    mean = np.mean(signal)\n",
    "    std = np.std(signal)\n",
    "    skewness = stats.skew(signal)\n",
    "    kurtosis = stats.kurtosis(signal)\n",
    "    maximum = np.max(signal)\n",
    "    minimum = np.min(signal)\n",
    "    iqr = stats.iqr(signal)\n",
    "    variation = stats.variation(signal)\n",
    "    entropy = stats.entropy(np.abs(signal))\n",
    "    corrtime = scaled_correlation_time(signal,signal)\n",
    "    corrint = correlation_integral(signal,signal)\n",
    "    \n",
    "    \n",
    "    slope = stats.linregress(np.arange(0,len(signal)), signal).slope\n",
    "    \n",
    "    return np.asarray([mean, std, skewness, kurtosis, maximum, minimum, iqr, variation, entropy, corrtime, slope, corrint])"
   ]
  },
  {
   "cell_type": "code",
   "execution_count": 260,
   "metadata": {},
   "outputs": [
    {
     "name": "stderr",
     "output_type": "stream",
     "text": [
      "100%|██████████| 33/33 [00:15<00:00,  2.07it/s]\n"
     ]
    }
   ],
   "source": [
    "hrfeatures = [];\n",
    "tempfeatures = [];\n",
    "edafeatures = [];\n",
    "bin_likerts = [];\n",
    "allfeatures = [];\n",
    "\n",
    "targets = [];\n",
    "\n",
    "for subjno in tqdm(all_subjects):\n",
    "    for epoch in range(4):\n",
    "        for splitno in range(n_splits):\n",
    "            hr_signal = get_split_signal('HR',epoch,subjno,splitno)\n",
    "            hrfeature = signal_statistics(hr_signal)\n",
    "            hrfeatures.append(hrfeature)\n",
    "\n",
    "            temp_signal = get_split_signal('TEMP',epoch,subjno,splitno)\n",
    "            tempfeature = signal_statistics(temp_signal)\n",
    "            tempfeatures.append(tempfeature)\n",
    "\n",
    "            eda_signal = get_split_signal('EDA',epoch,subjno,splitno)\n",
    "            edafeature = signal_statistics(eda_signal)\n",
    "            edafeatures.append(edafeature)\n",
    "\n",
    "            ## add cross-features\n",
    "\n",
    "            xcorr_hr_temp = scaled_correlation_time(hr_signal,temp_signal)\n",
    "            xcorr_hr_eda = scaled_correlation_time(hr_signal,eda_signal)\n",
    "            xcorr_temp_eda = scaled_correlation_time(temp_signal,eda_signal)\n",
    "            xcorr_feature = np.asarray([xcorr_hr_temp,xcorr_hr_eda,xcorr_temp_eda])\n",
    "            \n",
    "            lik = likert.loc[subjno][epoch]\n",
    "            binarized = (lik > np.median(likert)).astype(int)\n",
    "            bin_likerts.append(binarized)\n",
    "            targets.append(is_perturbed(epoch))\n",
    "\n",
    "            allfeature = np.concatenate((hrfeature, tempfeature, edafeature, xcorr_feature))\n",
    "            allfeatures.append(allfeature)\n",
    "        \n",
    "\n",
    "allfeature_names = ['hr_mean', 'hr_std', 'hr_skewness', 'hr_kurtosis', 'hr_maximum', 'hr_minimum', \\\n",
    "                            'hr_iqr', 'hr_variation', 'hr_entropy', 'hr_corrtime','hr_slope','hr_corrint',\\\n",
    "                            'temp_mean', 'temp_std', 'temp_skewness', 'temp_kurtosis', \\\n",
    "                            'temp_maximum', 'temp_minimum', 'temp_iqr', 'temp_variation', 'temp_entropy','temp_corrtime','temp_slope','temp_corrint',\\\n",
    "                            'eda_mean', 'eda_std', 'eda_skewness', 'eda_kurtosis', \\\n",
    "                            'eda_maximum', 'eda_minimum', 'eda_iqr', 'eda_variation', 'eda_entropy', 'eda_corrtime','eda_slope','eda_corrint',\\\n",
    "                           'xcorr_hr_temp','xcorr_hr_eda','xcorr_temp_eda']\n",
    "fdf = pd.DataFrame(allfeatures, columns = allfeature_names)"
   ]
  },
  {
   "cell_type": "markdown",
   "metadata": {},
   "source": [
    "# PCA"
   ]
  },
  {
   "cell_type": "code",
   "execution_count": 261,
   "metadata": {},
   "outputs": [],
   "source": [
    "nanidx = np.sum(np.isnan(allfeatures),1) > 0"
   ]
  },
  {
   "cell_type": "code",
   "execution_count": 262,
   "metadata": {},
   "outputs": [],
   "source": [
    "fdf = fdf[~nanidx]"
   ]
  },
  {
   "cell_type": "code",
   "execution_count": 263,
   "metadata": {},
   "outputs": [],
   "source": [
    "targets = np.asarray(targets)[~nanidx]"
   ]
  },
  {
   "cell_type": "code",
   "execution_count": 264,
   "metadata": {},
   "outputs": [
    {
     "data": {
      "text/plain": [
       "(array([1650.,    0.,    0.,    0.,    0.,    0.,    0.,    0.,    0.,\n",
       "        1650.]),\n",
       " array([0. , 0.1, 0.2, 0.3, 0.4, 0.5, 0.6, 0.7, 0.8, 0.9, 1. ]),\n",
       " <a list of 10 Patch objects>)"
      ]
     },
     "execution_count": 264,
     "metadata": {},
     "output_type": "execute_result"
    },
    {
     "data": {
      "image/png": "[encoded data removed]",
      "text/plain": [
       "<Figure size 432x288 with 1 Axes>"
      ]
     },
     "metadata": {
      "needs_background": "light"
     },
     "output_type": "display_data"
    }
   ],
   "source": [
    "plt.hist(targets)"
   ]
  },
  {
   "cell_type": "code",
   "execution_count": 265,
   "metadata": {},
   "outputs": [],
   "source": [
    "from sklearn.feature_selection import f_classif,mutual_info_classif"
   ]
  },
  {
   "cell_type": "code",
   "execution_count": 266,
   "metadata": {},
   "outputs": [],
   "source": [
    "scores = mutual_info_classif(fdf,targets)"
   ]
  },
  {
   "cell_type": "code",
   "execution_count": 267,
   "metadata": {
    "scrolled": false
   },
   "outputs": [
    {
     "data": {
      "text/plain": [
       "Text(0.5, 1.0, 'Mutual Information Feature Selection')"
      ]
     },
     "execution_count": 267,
     "metadata": {},
     "output_type": "execute_result"
    },
    {
     "data": {
      "image/png": "[encoded data removed]",
      "text/plain": [
       "<Figure size 1080x360 with 1 Axes>"
      ]
     },
     "metadata": {
      "needs_background": "light"
     },
     "output_type": "display_data"
    }
   ],
   "source": [
    "plt.figure(figsize=(15,5))\n",
    "sortidx = np.argsort(-scores)\n",
    "plt.bar(fdf.columns[sortidx],height=scores[sortidx],)\n",
    "plt.xticks(rotation=45, ha='right',fontsize=15);\n",
    "plt.title('Mutual Information Feature Selection')"
   ]
  },
  {
   "cell_type": "code",
   "execution_count": 268,
   "metadata": {},
   "outputs": [],
   "source": [
    "pca_fdf = fdf[fdf.columns[sortidx][0:10]]\n",
    "\n",
    "\n",
    "#targets = np.asarray(bin_likerts)[~nanidx]"
   ]
  },
  {
   "cell_type": "markdown",
   "metadata": {},
   "source": [
    "## 2-Class SVM"
   ]
  },
  {
   "cell_type": "code",
   "execution_count": 269,
   "metadata": {},
   "outputs": [],
   "source": [
    "from sklearn import preprocessing\n",
    "from sklearn.linear_model import LogisticRegression, SGDClassifier\n",
    "from sklearn.svm import SVC,SVR\n",
    "from sklearn.ensemble import RandomForestClassifier,RandomForestRegressor\n",
    "from sklearn.model_selection import train_test_split, LeaveOneOut\n",
    "from sklearn.metrics import roc_curve, roc_auc_score\n",
    "from itertools import product\n",
    "from mlxtend.plotting import plot_decision_regions\n"
   ]
  },
  {
   "cell_type": "code",
   "execution_count": 270,
   "metadata": {},
   "outputs": [
    {
     "data": {
      "text/plain": [
       "<matplotlib.collections.PathCollection at 0x1c3a5c4470>"
      ]
     },
     "execution_count": 270,
     "metadata": {},
     "output_type": "execute_result"
    },
    {
     "data": {
      "image/png": "[encoded data removed]",
      "text/plain": [
       "<Figure size 504x360 with 1 Axes>"
      ]
     },
     "metadata": {
      "needs_background": "light"
     },
     "output_type": "display_data"
    }
   ],
   "source": [
    "X = np.asarray(pca_fdf[['eda_minimum','temp_minimum']])\n",
    "t = np.asarray(targets)\n",
    "\n",
    "sc = preprocessing.StandardScaler()\n",
    "X_scaled = sc.fit_transform(X)\n",
    "\n",
    "X_train, X_test, y_train, y_test = train_test_split(X_scaled,t, test_size = 0.1, shuffle = True)\n",
    "\n",
    "\n",
    "plt.figure(figsize = (7,5))\n",
    "plt.scatter(pca_fdf['eda_minimum'], pca_fdf['temp_minimum'], s = 15, c = targets, cmap = 'viridis')"
   ]
  },
  {
   "cell_type": "code",
   "execution_count": 316,
   "metadata": {},
   "outputs": [],
   "source": [
    "clf = SVC(kernel = 'rbf',  probability = True, C = 100, gamma = 10)"
   ]
  },
  {
   "cell_type": "code",
   "execution_count": 317,
   "metadata": {},
   "outputs": [
    {
     "data": {
      "text/plain": [
       "SVC(C=100, cache_size=200, class_weight=None, coef0=0.0,\n",
       "    decision_function_shape='ovr', degree=3, gamma=10, kernel='rbf',\n",
       "    max_iter=-1, probability=True, random_state=None, shrinking=True, tol=0.001,\n",
       "    verbose=False)"
      ]
     },
     "execution_count": 317,
     "metadata": {},
     "output_type": "execute_result"
    }
   ],
   "source": [
    "clf.fit(X_train,y_train)"
   ]
  },
  {
   "cell_type": "code",
   "execution_count": 318,
   "metadata": {},
   "outputs": [
    {
     "data": {
      "text/plain": [
       "0.7478787878787879"
      ]
     },
     "execution_count": 318,
     "metadata": {},
     "output_type": "execute_result"
    }
   ],
   "source": [
    "clf.score(X_test,y_test)"
   ]
  },
  {
   "cell_type": "code",
   "execution_count": 319,
   "metadata": {},
   "outputs": [
    {
     "data": {
      "image/png": "[encoded data removed]",
      "text/plain": [
       "<Figure size 432x288 with 1 Axes>"
      ]
     },
     "metadata": {
      "needs_background": "light"
     },
     "output_type": "display_data"
    }
   ],
   "source": [
    "plot_decision_regions(X_test, y_test, clf = clf);"
   ]
  },
  {
   "cell_type": "code",
   "execution_count": 323,
   "metadata": {},
   "outputs": [
    {
     "data": {
      "text/plain": [
       "Text(0.5, 0.1, 'AUC = 0.80')"
      ]
     },
     "execution_count": 323,
     "metadata": {},
     "output_type": "execute_result"
    },
    {
     "data": {
      "image/png": "[encoded data removed]",
      "text/plain": [
       "<Figure size 432x288 with 1 Axes>"
      ]
     },
     "metadata": {
      "needs_background": "light"
     },
     "output_type": "display_data"
    }
   ],
   "source": [
    "probs = clf.predict_proba(X_test)[:,1]\n",
    "\n",
    "fpr,tpr,_ = roc_curve(y_test,probs)\n",
    "plt.plot(fpr,tpr)\n",
    "x = np.linspace(0,1,100)\n",
    "plt.plot(x,x,'k--')\n",
    "plt.xlabel('False Positive Rate')\n",
    "plt.ylabel('True Positive Rate')\n",
    "plt.text(0.5,0.1,'AUC = %.2f'%roc_auc_score(y_test,probs), fontsize = 22)"
   ]
  },
  {
   "cell_type": "markdown",
   "metadata": {},
   "source": [
    "##### warning: reckless experimentation below"
   ]
  },
  {
   "cell_type": "markdown",
   "metadata": {},
   "source": [
    "## All Features (PCA)"
   ]
  },
  {
   "cell_type": "markdown",
   "metadata": {},
   "source": [
    "## Logistic Regression"
   ]
  },
  {
   "cell_type": "code",
   "execution_count": 35,
   "metadata": {},
   "outputs": [],
   "source": [
    "X = np.asarray(fdf)\n",
    "t = np.asarray(targets)\n",
    "encoder = preprocessing.OneHotEncoder(categories = 'auto')\n",
    "t_onehot = encoder.fit_transform(t.reshape(-1,1)).toarray()\n",
    "\n",
    "sc = preprocessing.MinMaxScaler()\n",
    "X_scaled = sc.fit_transform(X)"
   ]
  },
  {
   "cell_type": "code",
   "execution_count": 36,
   "metadata": {},
   "outputs": [],
   "source": [
    "clf = LogisticRegression(solver = 'lbfgs', max_iter = 1000000, tol = 0.000001)"
   ]
  },
  {
   "cell_type": "code",
   "execution_count": 37,
   "metadata": {},
   "outputs": [
    {
     "data": {
      "text/plain": [
       "LogisticRegression(C=1.0, class_weight=None, dual=False, fit_intercept=True,\n",
       "                   intercept_scaling=1, l1_ratio=None, max_iter=1000000,\n",
       "                   multi_class='warn', n_jobs=None, penalty='l2',\n",
       "                   random_state=None, solver='lbfgs', tol=1e-06, verbose=0,\n",
       "                   warm_start=False)"
      ]
     },
     "execution_count": 37,
     "metadata": {},
     "output_type": "execute_result"
    }
   ],
   "source": [
    "clf.fit(X,t)"
   ]
  },
  {
   "cell_type": "code",
   "execution_count": 38,
   "metadata": {},
   "outputs": [
    {
     "data": {
      "text/plain": [
       "0.6166616130988478"
      ]
     },
     "execution_count": 38,
     "metadata": {},
     "output_type": "execute_result"
    }
   ],
   "source": [
    "clf.score(X,t)"
   ]
  },
  {
   "cell_type": "code",
   "execution_count": 39,
   "metadata": {},
   "outputs": [
    {
     "data": {
      "text/plain": [
       "0.660996225912033"
      ]
     },
     "execution_count": 39,
     "metadata": {},
     "output_type": "execute_result"
    }
   ],
   "source": [
    "roc_auc_score(t,clf.predict_proba(X)[:,1])"
   ]
  },
  {
   "cell_type": "code",
   "execution_count": 40,
   "metadata": {},
   "outputs": [],
   "source": [
    "lr_fpr,lr_tpr,_ = roc_curve(t,clf.predict_proba(X)[:,1])"
   ]
  },
  {
   "cell_type": "code",
   "execution_count": 41,
   "metadata": {},
   "outputs": [
    {
     "data": {
      "text/plain": [
       "Text(0, 0.5, 'True Positive Rate')"
      ]
     },
     "execution_count": 41,
     "metadata": {},
     "output_type": "execute_result"
    },
    {
     "data": {
      "image/png": "[encoded data removed]",
      "text/plain": [
       "<Figure size 432x288 with 1 Axes>"
      ]
     },
     "metadata": {
      "needs_background": "light"
     },
     "output_type": "display_data"
    }
   ],
   "source": [
    "plt.plot(lr_fpr,lr_tpr)\n",
    "x = np.linspace(0,1,100)\n",
    "plt.plot(x,x,'k--')\n",
    "plt.xlabel('False Positive Rate')\n",
    "plt.ylabel('True Positive Rate')"
   ]
  },
  {
   "cell_type": "markdown",
   "metadata": {},
   "source": [
    "## SGD Classifier"
   ]
  },
  {
   "cell_type": "code",
   "execution_count": 173,
   "metadata": {},
   "outputs": [],
   "source": [
    "X = np.asarray(pca_fdf)\n",
    "t = np.asarray(targets)\n",
    "encoder = preprocessing.OneHotEncoder(categories = 'auto')\n",
    "t_onehot = encoder.fit_transform(t.reshape(-1,1)).toarray()\n",
    "\n",
    "sc = preprocessing.MinMaxScaler()\n",
    "X_scaled = sc.fit_transform(X)\n",
    "\n",
    "X_train, X_test, y_train, y_test = train_test_split(X_scaled,t, test_size = 0.1, shuffle = True)"
   ]
  },
  {
   "cell_type": "code",
   "execution_count": 174,
   "metadata": {},
   "outputs": [],
   "source": [
    "sgd = SGDClassifier(loss = 'log', max_iter = 1000, verbose = True, tol = 1e-10, n_iter_no_change = 100,\\\n",
    "                   penalty = 'elasticnet')"
   ]
  },
  {
   "cell_type": "code",
   "execution_count": 175,
   "metadata": {},
   "outputs": [
    {
     "name": "stdout",
     "output_type": "stream",
     "text": [
      "-- Epoch 1\n",
      "Norm: 11.46, NNZs: 9, Bias: 3.094113, T: 11872, Avg. loss: 1.657116\n",
      "Total training time: 0.00 seconds.\n",
      "-- Epoch 2\n",
      "Norm: 9.02, NNZs: 8, Bias: 2.731827, T: 23744, Avg. loss: 0.784824\n",
      "Total training time: 0.00 seconds.\n",
      "-- Epoch 3\n",
      "Norm: 7.36, NNZs: 9, Bias: 2.473218, T: 35616, Avg. loss: 0.726833\n",
      "Total training time: 0.01 seconds.\n",
      "-- Epoch 4\n",
      "Norm: 6.32, NNZs: 7, Bias: 2.424267, T: 47488, Avg. loss: 0.700790\n",
      "Total training time: 0.01 seconds.\n",
      "-- Epoch 5\n",
      "Norm: 5.73, NNZs: 7, Bias: 2.182923, T: 59360, Avg. loss: 0.691774\n",
      "Total training time: 0.01 seconds.\n",
      "-- Epoch 6\n",
      "Norm: 5.84, NNZs: 8, Bias: 1.750636, T: 71232, Avg. loss: 0.684735\n",
      "Total training time: 0.01 seconds.\n",
      "-- Epoch 7\n",
      "Norm: 5.67, NNZs: 8, Bias: 1.856679, T: 83104, Avg. loss: 0.680041\n",
      "Total training time: 0.02 seconds.\n",
      "-- Epoch 8\n",
      "Norm: 5.18, NNZs: 8, Bias: 1.592443, T: 94976, Avg. loss: 0.676581\n",
      "Total training time: 0.02 seconds.\n",
      "-- Epoch 9\n",
      "Norm: 4.96, NNZs: 8, Bias: 1.847138, T: 106848, Avg. loss: 0.671175\n",
      "Total training time: 0.02 seconds.\n",
      "-- Epoch 10\n",
      "Norm: 4.95, NNZs: 8, Bias: 1.854015, T: 118720, Avg. loss: 0.671153\n",
      "Total training time: 0.02 seconds.\n",
      "-- Epoch 11\n",
      "Norm: 4.86, NNZs: 8, Bias: 1.712568, T: 130592, Avg. loss: 0.669438\n",
      "Total training time: 0.02 seconds.\n",
      "-- Epoch 12\n",
      "Norm: 4.70, NNZs: 8, Bias: 1.751235, T: 142464, Avg. loss: 0.668698\n",
      "Total training time: 0.02 seconds.\n",
      "-- Epoch 13\n",
      "Norm: 4.57, NNZs: 8, Bias: 1.900421, T: 154336, Avg. loss: 0.667486\n",
      "Total training time: 0.03 seconds.\n",
      "-- Epoch 14\n",
      "Norm: 4.51, NNZs: 8, Bias: 1.765712, T: 166208, Avg. loss: 0.667831\n",
      "Total training time: 0.03 seconds.\n",
      "-- Epoch 15\n",
      "Norm: 4.56, NNZs: 8, Bias: 1.735000, T: 178080, Avg. loss: 0.665620\n",
      "Total training time: 0.03 seconds.\n",
      "-- Epoch 16\n",
      "Norm: 4.31, NNZs: 8, Bias: 1.554217, T: 189952, Avg. loss: 0.665626\n",
      "Total training time: 0.03 seconds.\n",
      "-- Epoch 17\n",
      "Norm: 4.36, NNZs: 8, Bias: 1.692234, T: 201824, Avg. loss: 0.664093\n",
      "Total training time: 0.03 seconds.\n",
      "-- Epoch 18\n",
      "Norm: 4.23, NNZs: 8, Bias: 1.868096, T: 213696, Avg. loss: 0.663630\n",
      "Total training time: 0.04 seconds.\n",
      "-- Epoch 19\n",
      "Norm: 4.32, NNZs: 8, Bias: 1.797287, T: 225568, Avg. loss: 0.663231\n",
      "Total training time: 0.04 seconds.\n",
      "-- Epoch 20\n",
      "Norm: 4.12, NNZs: 8, Bias: 1.877268, T: 237440, Avg. loss: 0.662025\n",
      "Total training time: 0.04 seconds.\n",
      "-- Epoch 21\n",
      "Norm: 4.13, NNZs: 8, Bias: 1.727972, T: 249312, Avg. loss: 0.662069\n",
      "Total training time: 0.04 seconds.\n",
      "-- Epoch 22\n",
      "Norm: 4.18, NNZs: 8, Bias: 1.745629, T: 261184, Avg. loss: 0.662042\n",
      "Total training time: 0.04 seconds.\n",
      "-- Epoch 23\n",
      "Norm: 4.26, NNZs: 8, Bias: 1.711867, T: 273056, Avg. loss: 0.661538\n",
      "Total training time: 0.04 seconds.\n",
      "-- Epoch 24\n",
      "Norm: 4.16, NNZs: 8, Bias: 1.590455, T: 284928, Avg. loss: 0.660345\n",
      "Total training time: 0.05 seconds.\n",
      "-- Epoch 25\n",
      "Norm: 4.16, NNZs: 8, Bias: 1.763631, T: 296800, Avg. loss: 0.661125\n",
      "Total training time: 0.05 seconds.\n",
      "-- Epoch 26\n",
      "Norm: 4.09, NNZs: 8, Bias: 1.669921, T: 308672, Avg. loss: 0.660533\n",
      "Total training time: 0.05 seconds.\n",
      "-- Epoch 27\n",
      "Norm: 4.11, NNZs: 8, Bias: 1.712320, T: 320544, Avg. loss: 0.660621\n",
      "Total training time: 0.05 seconds.\n",
      "-- Epoch 28\n",
      "Norm: 4.13, NNZs: 8, Bias: 1.675172, T: 332416, Avg. loss: 0.660474\n",
      "Total training time: 0.05 seconds.\n",
      "-- Epoch 29\n",
      "Norm: 3.99, NNZs: 8, Bias: 1.642931, T: 344288, Avg. loss: 0.659264\n",
      "Total training time: 0.06 seconds.\n",
      "-- Epoch 30\n",
      "Norm: 4.05, NNZs: 8, Bias: 1.716320, T: 356160, Avg. loss: 0.660761\n",
      "Total training time: 0.06 seconds.\n",
      "-- Epoch 31\n",
      "Norm: 3.96, NNZs: 8, Bias: 1.725727, T: 368032, Avg. loss: 0.659876\n",
      "Total training time: 0.06 seconds.\n",
      "-- Epoch 32\n",
      "Norm: 3.94, NNZs: 7, Bias: 1.846768, T: 379904, Avg. loss: 0.659509\n",
      "Total training time: 0.06 seconds.\n",
      "-- Epoch 33\n",
      "Norm: 3.87, NNZs: 8, Bias: 1.714374, T: 391776, Avg. loss: 0.659263\n",
      "Total training time: 0.06 seconds.\n",
      "-- Epoch 34\n",
      "Norm: 3.89, NNZs: 8, Bias: 1.626720, T: 403648, Avg. loss: 0.659119\n",
      "Total training time: 0.06 seconds.\n",
      "-- Epoch 35\n",
      "Norm: 3.90, NNZs: 8, Bias: 1.576751, T: 415520, Avg. loss: 0.659419\n",
      "Total training time: 0.07 seconds.\n",
      "-- Epoch 36\n",
      "Norm: 3.95, NNZs: 8, Bias: 1.626634, T: 427392, Avg. loss: 0.658549\n",
      "Total training time: 0.07 seconds.\n",
      "-- Epoch 37\n",
      "Norm: 3.87, NNZs: 8, Bias: 1.530503, T: 439264, Avg. loss: 0.659088\n",
      "Total training time: 0.07 seconds.\n",
      "-- Epoch 38\n",
      "Norm: 3.88, NNZs: 8, Bias: 1.647280, T: 451136, Avg. loss: 0.657644\n",
      "Total training time: 0.07 seconds.\n",
      "-- Epoch 39\n",
      "Norm: 3.94, NNZs: 8, Bias: 1.615058, T: 463008, Avg. loss: 0.658544\n",
      "Total training time: 0.07 seconds.\n",
      "-- Epoch 40\n",
      "Norm: 3.91, NNZs: 8, Bias: 1.646657, T: 474880, Avg. loss: 0.658584\n",
      "Total training time: 0.07 seconds.\n",
      "-- Epoch 41\n",
      "Norm: 3.84, NNZs: 8, Bias: 1.746938, T: 486752, Avg. loss: 0.658425\n",
      "Total training time: 0.08 seconds.\n",
      "-- Epoch 42\n",
      "Norm: 3.86, NNZs: 8, Bias: 1.567420, T: 498624, Avg. loss: 0.658233\n",
      "Total training time: 0.08 seconds.\n",
      "-- Epoch 43\n",
      "Norm: 3.90, NNZs: 8, Bias: 1.576510, T: 510496, Avg. loss: 0.658323\n",
      "Total training time: 0.08 seconds.\n",
      "-- Epoch 44\n",
      "Norm: 3.78, NNZs: 8, Bias: 1.758838, T: 522368, Avg. loss: 0.658419\n",
      "Total training time: 0.08 seconds.\n",
      "-- Epoch 45\n",
      "Norm: 3.80, NNZs: 8, Bias: 1.642494, T: 534240, Avg. loss: 0.657205\n",
      "Total training time: 0.08 seconds.\n",
      "-- Epoch 46\n",
      "Norm: 3.84, NNZs: 8, Bias: 1.631411, T: 546112, Avg. loss: 0.658676\n",
      "Total training time: 0.08 seconds.\n",
      "-- Epoch 47\n",
      "Norm: 3.84, NNZs: 8, Bias: 1.629651, T: 557984, Avg. loss: 0.658006\n",
      "Total training time: 0.08 seconds.\n",
      "-- Epoch 48\n",
      "Norm: 3.78, NNZs: 8, Bias: 1.580183, T: 569856, Avg. loss: 0.658473\n",
      "Total training time: 0.09 seconds.\n",
      "-- Epoch 49\n",
      "Norm: 3.76, NNZs: 8, Bias: 1.624342, T: 581728, Avg. loss: 0.657897\n",
      "Total training time: 0.09 seconds.\n",
      "-- Epoch 50\n",
      "Norm: 3.75, NNZs: 8, Bias: 1.618060, T: 593600, Avg. loss: 0.658041\n",
      "Total training time: 0.09 seconds.\n",
      "-- Epoch 51\n",
      "Norm: 3.78, NNZs: 8, Bias: 1.670327, T: 605472, Avg. loss: 0.657510\n",
      "Total training time: 0.09 seconds.\n",
      "-- Epoch 52\n",
      "Norm: 3.75, NNZs: 8, Bias: 1.726270, T: 617344, Avg. loss: 0.657795\n",
      "Total training time: 0.09 seconds.\n",
      "-- Epoch 53\n",
      "Norm: 3.77, NNZs: 8, Bias: 1.642723, T: 629216, Avg. loss: 0.657375\n",
      "Total training time: 0.09 seconds.\n",
      "-- Epoch 54\n",
      "Norm: 3.75, NNZs: 8, Bias: 1.595503, T: 641088, Avg. loss: 0.657556\n",
      "Total training time: 0.09 seconds.\n",
      "-- Epoch 55\n",
      "Norm: 3.66, NNZs: 8, Bias: 1.748228, T: 652960, Avg. loss: 0.657021\n",
      "Total training time: 0.10 seconds.\n",
      "-- Epoch 56\n",
      "Norm: 3.69, NNZs: 8, Bias: 1.690748, T: 664832, Avg. loss: 0.657811\n",
      "Total training time: 0.10 seconds.\n",
      "-- Epoch 57\n",
      "Norm: 3.75, NNZs: 8, Bias: 1.518173, T: 676704, Avg. loss: 0.657161\n",
      "Total training time: 0.10 seconds.\n",
      "-- Epoch 58\n",
      "Norm: 3.72, NNZs: 8, Bias: 1.590279, T: 688576, Avg. loss: 0.657886\n",
      "Total training time: 0.10 seconds.\n",
      "-- Epoch 59\n",
      "Norm: 3.71, NNZs: 8, Bias: 1.668368, T: 700448, Avg. loss: 0.656764\n",
      "Total training time: 0.10 seconds.\n",
      "-- Epoch 60\n",
      "Norm: 3.74, NNZs: 8, Bias: 1.609909, T: 712320, Avg. loss: 0.657195\n",
      "Total training time: 0.10 seconds.\n",
      "-- Epoch 61\n",
      "Norm: 3.72, NNZs: 8, Bias: 1.596186, T: 724192, Avg. loss: 0.657536\n",
      "Total training time: 0.10 seconds.\n",
      "-- Epoch 62\n",
      "Norm: 3.73, NNZs: 8, Bias: 1.638657, T: 736064, Avg. loss: 0.657681\n",
      "Total training time: 0.11 seconds.\n",
      "-- Epoch 63\n",
      "Norm: 3.68, NNZs: 8, Bias: 1.628355, T: 747936, Avg. loss: 0.657705\n",
      "Total training time: 0.11 seconds.\n",
      "-- Epoch 64\n",
      "Norm: 3.67, NNZs: 8, Bias: 1.652821, T: 759808, Avg. loss: 0.657090\n",
      "Total training time: 0.11 seconds.\n",
      "-- Epoch 65\n",
      "Norm: 3.68, NNZs: 8, Bias: 1.676501, T: 771680, Avg. loss: 0.657280\n",
      "Total training time: 0.11 seconds.\n",
      "-- Epoch 66\n",
      "Norm: 3.68, NNZs: 8, Bias: 1.669277, T: 783552, Avg. loss: 0.657102\n",
      "Total training time: 0.11 seconds.\n",
      "-- Epoch 67\n",
      "Norm: 3.70, NNZs: 8, Bias: 1.617800, T: 795424, Avg. loss: 0.657144\n",
      "Total training time: 0.11 seconds.\n",
      "-- Epoch 68\n",
      "Norm: 3.62, NNZs: 8, Bias: 1.691030, T: 807296, Avg. loss: 0.657252\n",
      "Total training time: 0.11 seconds.\n",
      "-- Epoch 69\n",
      "Norm: 3.67, NNZs: 8, Bias: 1.614832, T: 819168, Avg. loss: 0.656524\n",
      "Total training time: 0.12 seconds.\n",
      "-- Epoch 70\n",
      "Norm: 3.62, NNZs: 8, Bias: 1.733034, T: 831040, Avg. loss: 0.656843\n",
      "Total training time: 0.12 seconds.\n",
      "-- Epoch 71\n",
      "Norm: 3.65, NNZs: 8, Bias: 1.629420, T: 842912, Avg. loss: 0.656436\n",
      "Total training time: 0.12 seconds.\n",
      "-- Epoch 72\n",
      "Norm: 3.68, NNZs: 8, Bias: 1.602252, T: 854784, Avg. loss: 0.656984\n",
      "Total training time: 0.12 seconds.\n",
      "-- Epoch 73\n",
      "Norm: 3.64, NNZs: 8, Bias: 1.654224, T: 866656, Avg. loss: 0.656547\n",
      "Total training time: 0.12 seconds.\n",
      "-- Epoch 74\n",
      "Norm: 3.61, NNZs: 8, Bias: 1.727440, T: 878528, Avg. loss: 0.656863\n",
      "Total training time: 0.12 seconds.\n",
      "-- Epoch 75\n",
      "Norm: 3.65, NNZs: 8, Bias: 1.609759, T: 890400, Avg. loss: 0.656776\n",
      "Total training time: 0.12 seconds.\n",
      "-- Epoch 76\n",
      "Norm: 3.61, NNZs: 8, Bias: 1.687915, T: 902272, Avg. loss: 0.656796\n",
      "Total training time: 0.13 seconds.\n",
      "-- Epoch 77\n",
      "Norm: 3.62, NNZs: 8, Bias: 1.644136, T: 914144, Avg. loss: 0.656462\n",
      "Total training time: 0.13 seconds.\n",
      "-- Epoch 78\n",
      "Norm: 3.62, NNZs: 8, Bias: 1.599682, T: 926016, Avg. loss: 0.656948\n",
      "Total training time: 0.13 seconds.\n",
      "-- Epoch 79\n",
      "Norm: 3.65, NNZs: 8, Bias: 1.618777, T: 937888, Avg. loss: 0.656447\n",
      "Total training time: 0.13 seconds.\n",
      "-- Epoch 80\n",
      "Norm: 3.63, NNZs: 8, Bias: 1.673822, T: 949760, Avg. loss: 0.656935\n",
      "Total training time: 0.13 seconds.\n",
      "-- Epoch 81\n",
      "Norm: 3.67, NNZs: 8, Bias: 1.594612, T: 961632, Avg. loss: 0.655910\n",
      "Total training time: 0.13 seconds.\n",
      "-- Epoch 82\n",
      "Norm: 3.70, NNZs: 8, Bias: 1.579981, T: 973504, Avg. loss: 0.656685\n",
      "Total training time: 0.13 seconds.\n",
      "-- Epoch 83\n",
      "Norm: 3.64, NNZs: 8, Bias: 1.661453, T: 985376, Avg. loss: 0.656591\n",
      "Total training time: 0.14 seconds.\n",
      "-- Epoch 84\n",
      "Norm: 3.63, NNZs: 8, Bias: 1.624495, T: 997248, Avg. loss: 0.656733\n",
      "Total training time: 0.14 seconds.\n",
      "-- Epoch 85\n",
      "Norm: 3.64, NNZs: 8, Bias: 1.571599, T: 1009120, Avg. loss: 0.656382\n",
      "Total training time: 0.14 seconds.\n",
      "-- Epoch 86\n",
      "Norm: 3.62, NNZs: 8, Bias: 1.679341, T: 1020992, Avg. loss: 0.656686\n",
      "Total training time: 0.14 seconds.\n",
      "-- Epoch 87\n",
      "Norm: 3.64, NNZs: 8, Bias: 1.589131, T: 1032864, Avg. loss: 0.655968\n",
      "Total training time: 0.14 seconds.\n",
      "-- Epoch 88\n",
      "Norm: 3.61, NNZs: 8, Bias: 1.634087, T: 1044736, Avg. loss: 0.656404\n",
      "Total training time: 0.14 seconds.\n",
      "-- Epoch 89\n",
      "Norm: 3.63, NNZs: 8, Bias: 1.625171, T: 1056608, Avg. loss: 0.656459\n",
      "Total training time: 0.15 seconds.\n",
      "-- Epoch 90\n",
      "Norm: 3.66, NNZs: 8, Bias: 1.585299, T: 1068480, Avg. loss: 0.656661\n",
      "Total training time: 0.15 seconds.\n",
      "-- Epoch 91\n",
      "Norm: 3.62, NNZs: 8, Bias: 1.635092, T: 1080352, Avg. loss: 0.656600\n",
      "Total training time: 0.15 seconds.\n",
      "-- Epoch 92\n",
      "Norm: 3.61, NNZs: 8, Bias: 1.611665, T: 1092224, Avg. loss: 0.656529\n",
      "Total training time: 0.15 seconds.\n",
      "-- Epoch 93\n",
      "Norm: 3.61, NNZs: 8, Bias: 1.569620, T: 1104096, Avg. loss: 0.656250\n",
      "Total training time: 0.15 seconds.\n",
      "-- Epoch 94\n",
      "Norm: 3.61, NNZs: 8, Bias: 1.644209, T: 1115968, Avg. loss: 0.656789\n",
      "Total training time: 0.15 seconds.\n",
      "-- Epoch 95\n",
      "Norm: 3.64, NNZs: 8, Bias: 1.585516, T: 1127840, Avg. loss: 0.655921\n",
      "Total training time: 0.15 seconds.\n",
      "-- Epoch 96\n",
      "Norm: 3.60, NNZs: 8, Bias: 1.662228, T: 1139712, Avg. loss: 0.656614\n",
      "Total training time: 0.16 seconds.\n",
      "-- Epoch 97\n",
      "Norm: 3.57, NNZs: 8, Bias: 1.683324, T: 1151584, Avg. loss: 0.656031\n",
      "Total training time: 0.16 seconds.\n",
      "-- Epoch 98\n",
      "Norm: 3.56, NNZs: 8, Bias: 1.672723, T: 1163456, Avg. loss: 0.656124\n",
      "Total training time: 0.16 seconds.\n",
      "-- Epoch 99\n",
      "Norm: 3.60, NNZs: 8, Bias: 1.633140, T: 1175328, Avg. loss: 0.656318\n",
      "Total training time: 0.16 seconds.\n",
      "-- Epoch 100\n",
      "Norm: 3.62, NNZs: 8, Bias: 1.585994, T: 1187200, Avg. loss: 0.656371\n",
      "Total training time: 0.16 seconds.\n",
      "-- Epoch 101\n",
      "Norm: 3.63, NNZs: 8, Bias: 1.605374, T: 1199072, Avg. loss: 0.656106\n",
      "Total training time: 0.16 seconds.\n",
      "-- Epoch 102\n",
      "Norm: 3.62, NNZs: 8, Bias: 1.574098, T: 1210944, Avg. loss: 0.656161\n",
      "Total training time: 0.17 seconds.\n",
      "-- Epoch 103\n",
      "Norm: 3.60, NNZs: 8, Bias: 1.586413, T: 1222816, Avg. loss: 0.656437\n",
      "Total training time: 0.17 seconds.\n",
      "-- Epoch 104\n",
      "Norm: 3.59, NNZs: 8, Bias: 1.601962, T: 1234688, Avg. loss: 0.655757\n",
      "Total training time: 0.17 seconds.\n",
      "-- Epoch 105\n",
      "Norm: 3.62, NNZs: 8, Bias: 1.555742, T: 1246560, Avg. loss: 0.656368\n",
      "Total training time: 0.17 seconds.\n",
      "-- Epoch 106\n",
      "Norm: 3.57, NNZs: 8, Bias: 1.669542, T: 1258432, Avg. loss: 0.656248\n",
      "Total training time: 0.17 seconds.\n",
      "-- Epoch 107\n",
      "Norm: 3.60, NNZs: 8, Bias: 1.606711, T: 1270304, Avg. loss: 0.655495\n",
      "Total training time: 0.17 seconds.\n",
      "-- Epoch 108\n",
      "Norm: 3.63, NNZs: 8, Bias: 1.599584, T: 1282176, Avg. loss: 0.656312\n",
      "Total training time: 0.18 seconds.\n",
      "-- Epoch 109\n",
      "Norm: 3.61, NNZs: 8, Bias: 1.652037, T: 1294048, Avg. loss: 0.655767\n",
      "Total training time: 0.18 seconds.\n",
      "-- Epoch 110\n",
      "Norm: 3.60, NNZs: 8, Bias: 1.652177, T: 1305920, Avg. loss: 0.655900\n",
      "Total training time: 0.18 seconds.\n",
      "-- Epoch 111\n",
      "Norm: 3.62, NNZs: 8, Bias: 1.591463, T: 1317792, Avg. loss: 0.655900\n",
      "Total training time: 0.18 seconds.\n",
      "-- Epoch 112\n",
      "Norm: 3.60, NNZs: 8, Bias: 1.622650, T: 1329664, Avg. loss: 0.656171\n",
      "Total training time: 0.18 seconds.\n",
      "-- Epoch 113\n",
      "Norm: 3.60, NNZs: 8, Bias: 1.616133, T: 1341536, Avg. loss: 0.656160\n",
      "Total training time: 0.18 seconds.\n",
      "-- Epoch 114\n",
      "Norm: 3.57, NNZs: 8, Bias: 1.671618, T: 1353408, Avg. loss: 0.655896\n",
      "Total training time: 0.18 seconds.\n",
      "-- Epoch 115\n",
      "Norm: 3.60, NNZs: 8, Bias: 1.602047, T: 1365280, Avg. loss: 0.656271\n",
      "Total training time: 0.19 seconds.\n",
      "-- Epoch 116\n",
      "Norm: 3.62, NNZs: 8, Bias: 1.561215, T: 1377152, Avg. loss: 0.656072\n",
      "Total training time: 0.19 seconds.\n",
      "-- Epoch 117\n",
      "Norm: 3.55, NNZs: 8, Bias: 1.663758, T: 1389024, Avg. loss: 0.655999\n",
      "Total training time: 0.19 seconds.\n",
      "-- Epoch 118\n",
      "Norm: 3.61, NNZs: 8, Bias: 1.575321, T: 1400896, Avg. loss: 0.656046\n",
      "Total training time: 0.19 seconds.\n",
      "-- Epoch 119\n",
      "Norm: 3.57, NNZs: 8, Bias: 1.650020, T: 1412768, Avg. loss: 0.656179\n",
      "Total training time: 0.19 seconds.\n",
      "-- Epoch 120\n",
      "Norm: 3.57, NNZs: 8, Bias: 1.634081, T: 1424640, Avg. loss: 0.655996\n",
      "Total training time: 0.19 seconds.\n",
      "-- Epoch 121\n",
      "Norm: 3.59, NNZs: 8, Bias: 1.598665, T: 1436512, Avg. loss: 0.655852\n",
      "Total training time: 0.20 seconds.\n",
      "-- Epoch 122\n",
      "Norm: 3.57, NNZs: 8, Bias: 1.628599, T: 1448384, Avg. loss: 0.656053\n",
      "Total training time: 0.20 seconds.\n",
      "-- Epoch 123\n",
      "Norm: 3.59, NNZs: 8, Bias: 1.615379, T: 1460256, Avg. loss: 0.655676\n",
      "Total training time: 0.20 seconds.\n",
      "-- Epoch 124\n"
     ]
    },
    {
     "name": "stdout",
     "output_type": "stream",
     "text": [
      "Norm: 3.60, NNZs: 8, Bias: 1.631254, T: 1472128, Avg. loss: 0.655832\n",
      "Total training time: 0.20 seconds.\n",
      "-- Epoch 125\n",
      "Norm: 3.61, NNZs: 8, Bias: 1.600279, T: 1484000, Avg. loss: 0.656163\n",
      "Total training time: 0.20 seconds.\n",
      "-- Epoch 126\n",
      "Norm: 3.57, NNZs: 8, Bias: 1.636894, T: 1495872, Avg. loss: 0.655799\n",
      "Total training time: 0.20 seconds.\n",
      "-- Epoch 127\n",
      "Norm: 3.59, NNZs: 8, Bias: 1.612716, T: 1507744, Avg. loss: 0.655591\n",
      "Total training time: 0.21 seconds.\n",
      "-- Epoch 128\n",
      "Norm: 3.55, NNZs: 8, Bias: 1.681902, T: 1519616, Avg. loss: 0.655884\n",
      "Total training time: 0.21 seconds.\n",
      "-- Epoch 129\n",
      "Norm: 3.57, NNZs: 8, Bias: 1.645018, T: 1531488, Avg. loss: 0.655714\n",
      "Total training time: 0.21 seconds.\n",
      "-- Epoch 130\n",
      "Norm: 3.57, NNZs: 8, Bias: 1.661388, T: 1543360, Avg. loss: 0.655716\n",
      "Total training time: 0.21 seconds.\n",
      "-- Epoch 131\n",
      "Norm: 3.54, NNZs: 8, Bias: 1.683737, T: 1555232, Avg. loss: 0.655612\n",
      "Total training time: 0.21 seconds.\n",
      "-- Epoch 132\n",
      "Norm: 3.57, NNZs: 8, Bias: 1.616102, T: 1567104, Avg. loss: 0.655555\n",
      "Total training time: 0.21 seconds.\n",
      "-- Epoch 133\n",
      "Norm: 3.58, NNZs: 8, Bias: 1.606410, T: 1578976, Avg. loss: 0.655436\n",
      "Total training time: 0.22 seconds.\n",
      "-- Epoch 134\n",
      "Norm: 3.59, NNZs: 8, Bias: 1.606497, T: 1590848, Avg. loss: 0.655949\n",
      "Total training time: 0.22 seconds.\n",
      "-- Epoch 135\n",
      "Norm: 3.59, NNZs: 8, Bias: 1.602038, T: 1602720, Avg. loss: 0.655660\n",
      "Total training time: 0.22 seconds.\n",
      "-- Epoch 136\n",
      "Norm: 3.58, NNZs: 8, Bias: 1.599735, T: 1614592, Avg. loss: 0.656097\n",
      "Total training time: 0.22 seconds.\n",
      "-- Epoch 137\n",
      "Norm: 3.58, NNZs: 8, Bias: 1.602628, T: 1626464, Avg. loss: 0.656040\n",
      "Total training time: 0.22 seconds.\n",
      "-- Epoch 138\n",
      "Norm: 3.58, NNZs: 8, Bias: 1.592782, T: 1638336, Avg. loss: 0.655766\n",
      "Total training time: 0.22 seconds.\n",
      "-- Epoch 139\n",
      "Norm: 3.57, NNZs: 8, Bias: 1.625681, T: 1650208, Avg. loss: 0.655779\n",
      "Total training time: 0.23 seconds.\n",
      "-- Epoch 140\n",
      "Norm: 3.56, NNZs: 8, Bias: 1.650646, T: 1662080, Avg. loss: 0.655739\n",
      "Total training time: 0.23 seconds.\n",
      "-- Epoch 141\n",
      "Norm: 3.57, NNZs: 8, Bias: 1.616148, T: 1673952, Avg. loss: 0.655750\n",
      "Total training time: 0.23 seconds.\n",
      "-- Epoch 142\n",
      "Norm: 3.57, NNZs: 8, Bias: 1.594041, T: 1685824, Avg. loss: 0.655336\n",
      "Total training time: 0.23 seconds.\n",
      "-- Epoch 143\n",
      "Norm: 3.58, NNZs: 8, Bias: 1.564767, T: 1697696, Avg. loss: 0.655901\n",
      "Total training time: 0.23 seconds.\n",
      "-- Epoch 144\n",
      "Norm: 3.59, NNZs: 8, Bias: 1.575805, T: 1709568, Avg. loss: 0.655811\n",
      "Total training time: 0.23 seconds.\n",
      "-- Epoch 145\n",
      "Norm: 3.59, NNZs: 8, Bias: 1.580147, T: 1721440, Avg. loss: 0.655703\n",
      "Total training time: 0.23 seconds.\n",
      "-- Epoch 146\n",
      "Norm: 3.56, NNZs: 8, Bias: 1.631067, T: 1733312, Avg. loss: 0.655366\n",
      "Total training time: 0.24 seconds.\n",
      "-- Epoch 147\n",
      "Norm: 3.56, NNZs: 8, Bias: 1.630352, T: 1745184, Avg. loss: 0.655320\n",
      "Total training time: 0.24 seconds.\n",
      "-- Epoch 148\n",
      "Norm: 3.54, NNZs: 8, Bias: 1.663196, T: 1757056, Avg. loss: 0.655778\n",
      "Total training time: 0.24 seconds.\n",
      "-- Epoch 149\n",
      "Norm: 3.58, NNZs: 8, Bias: 1.578249, T: 1768928, Avg. loss: 0.655487\n",
      "Total training time: 0.24 seconds.\n",
      "-- Epoch 150\n",
      "Norm: 3.53, NNZs: 8, Bias: 1.667182, T: 1780800, Avg. loss: 0.655624\n",
      "Total training time: 0.24 seconds.\n",
      "-- Epoch 151\n",
      "Norm: 3.56, NNZs: 8, Bias: 1.614323, T: 1792672, Avg. loss: 0.655602\n",
      "Total training time: 0.24 seconds.\n",
      "-- Epoch 152\n",
      "Norm: 3.55, NNZs: 8, Bias: 1.610666, T: 1804544, Avg. loss: 0.655790\n",
      "Total training time: 0.25 seconds.\n",
      "-- Epoch 153\n",
      "Norm: 3.56, NNZs: 8, Bias: 1.614005, T: 1816416, Avg. loss: 0.655680\n",
      "Total training time: 0.25 seconds.\n",
      "-- Epoch 154\n",
      "Norm: 3.54, NNZs: 8, Bias: 1.662914, T: 1828288, Avg. loss: 0.655936\n",
      "Total training time: 0.25 seconds.\n",
      "-- Epoch 155\n",
      "Norm: 3.57, NNZs: 8, Bias: 1.589740, T: 1840160, Avg. loss: 0.655814\n",
      "Total training time: 0.25 seconds.\n",
      "-- Epoch 156\n",
      "Norm: 3.55, NNZs: 8, Bias: 1.642138, T: 1852032, Avg. loss: 0.655655\n",
      "Total training time: 0.25 seconds.\n",
      "-- Epoch 157\n",
      "Norm: 3.53, NNZs: 8, Bias: 1.656469, T: 1863904, Avg. loss: 0.655818\n",
      "Total training time: 0.25 seconds.\n",
      "-- Epoch 158\n",
      "Norm: 3.53, NNZs: 8, Bias: 1.653829, T: 1875776, Avg. loss: 0.655660\n",
      "Total training time: 0.25 seconds.\n",
      "-- Epoch 159\n",
      "Norm: 3.53, NNZs: 8, Bias: 1.658257, T: 1887648, Avg. loss: 0.655792\n",
      "Total training time: 0.26 seconds.\n",
      "-- Epoch 160\n",
      "Norm: 3.57, NNZs: 8, Bias: 1.577920, T: 1899520, Avg. loss: 0.655607\n",
      "Total training time: 0.26 seconds.\n",
      "-- Epoch 161\n",
      "Norm: 3.54, NNZs: 8, Bias: 1.638169, T: 1911392, Avg. loss: 0.655844\n",
      "Total training time: 0.26 seconds.\n",
      "-- Epoch 162\n",
      "Norm: 3.55, NNZs: 8, Bias: 1.602241, T: 1923264, Avg. loss: 0.655728\n",
      "Total training time: 0.26 seconds.\n",
      "-- Epoch 163\n",
      "Norm: 3.56, NNZs: 8, Bias: 1.577051, T: 1935136, Avg. loss: 0.655518\n",
      "Total training time: 0.26 seconds.\n",
      "-- Epoch 164\n",
      "Norm: 3.53, NNZs: 8, Bias: 1.646290, T: 1947008, Avg. loss: 0.655662\n",
      "Total training time: 0.26 seconds.\n",
      "-- Epoch 165\n",
      "Norm: 3.54, NNZs: 8, Bias: 1.615506, T: 1958880, Avg. loss: 0.655845\n",
      "Total training time: 0.27 seconds.\n",
      "-- Epoch 166\n",
      "Norm: 3.55, NNZs: 8, Bias: 1.603472, T: 1970752, Avg. loss: 0.655681\n",
      "Total training time: 0.27 seconds.\n",
      "-- Epoch 167\n",
      "Norm: 3.57, NNZs: 8, Bias: 1.579385, T: 1982624, Avg. loss: 0.655614\n",
      "Total training time: 0.27 seconds.\n",
      "-- Epoch 168\n",
      "Norm: 3.54, NNZs: 8, Bias: 1.637246, T: 1994496, Avg. loss: 0.655608\n",
      "Total training time: 0.27 seconds.\n",
      "-- Epoch 169\n",
      "Norm: 3.54, NNZs: 8, Bias: 1.630761, T: 2006368, Avg. loss: 0.655847\n",
      "Total training time: 0.27 seconds.\n",
      "-- Epoch 170\n",
      "Norm: 3.53, NNZs: 8, Bias: 1.644529, T: 2018240, Avg. loss: 0.655907\n",
      "Total training time: 0.27 seconds.\n",
      "-- Epoch 171\n",
      "Norm: 3.55, NNZs: 8, Bias: 1.609371, T: 2030112, Avg. loss: 0.655729\n",
      "Total training time: 0.27 seconds.\n",
      "-- Epoch 172\n",
      "Norm: 3.54, NNZs: 8, Bias: 1.628252, T: 2041984, Avg. loss: 0.655761\n",
      "Total training time: 0.28 seconds.\n",
      "-- Epoch 173\n",
      "Norm: 3.55, NNZs: 8, Bias: 1.604333, T: 2053856, Avg. loss: 0.655813\n",
      "Total training time: 0.28 seconds.\n",
      "-- Epoch 174\n",
      "Norm: 3.56, NNZs: 8, Bias: 1.576145, T: 2065728, Avg. loss: 0.655434\n",
      "Total training time: 0.28 seconds.\n",
      "-- Epoch 175\n",
      "Norm: 3.54, NNZs: 8, Bias: 1.648368, T: 2077600, Avg. loss: 0.655875\n",
      "Total training time: 0.28 seconds.\n",
      "-- Epoch 176\n",
      "Norm: 3.55, NNZs: 8, Bias: 1.618279, T: 2089472, Avg. loss: 0.655492\n",
      "Total training time: 0.28 seconds.\n",
      "-- Epoch 177\n",
      "Norm: 3.54, NNZs: 8, Bias: 1.623782, T: 2101344, Avg. loss: 0.655555\n",
      "Total training time: 0.28 seconds.\n",
      "-- Epoch 178\n",
      "Norm: 3.56, NNZs: 8, Bias: 1.596405, T: 2113216, Avg. loss: 0.655583\n",
      "Total training time: 0.28 seconds.\n",
      "-- Epoch 179\n",
      "Norm: 3.54, NNZs: 8, Bias: 1.638712, T: 2125088, Avg. loss: 0.655777\n",
      "Total training time: 0.29 seconds.\n",
      "-- Epoch 180\n",
      "Norm: 3.55, NNZs: 8, Bias: 1.605632, T: 2136960, Avg. loss: 0.655571\n",
      "Total training time: 0.29 seconds.\n",
      "-- Epoch 181\n",
      "Norm: 3.54, NNZs: 8, Bias: 1.635345, T: 2148832, Avg. loss: 0.655754\n",
      "Total training time: 0.29 seconds.\n",
      "-- Epoch 182\n",
      "Norm: 3.53, NNZs: 8, Bias: 1.646462, T: 2160704, Avg. loss: 0.655559\n",
      "Total training time: 0.29 seconds.\n",
      "-- Epoch 183\n",
      "Norm: 3.54, NNZs: 8, Bias: 1.633817, T: 2172576, Avg. loss: 0.655521\n",
      "Total training time: 0.29 seconds.\n",
      "-- Epoch 184\n",
      "Norm: 3.54, NNZs: 8, Bias: 1.621837, T: 2184448, Avg. loss: 0.655691\n",
      "Total training time: 0.29 seconds.\n",
      "-- Epoch 185\n",
      "Norm: 3.55, NNZs: 8, Bias: 1.612183, T: 2196320, Avg. loss: 0.655522\n",
      "Total training time: 0.29 seconds.\n",
      "-- Epoch 186\n",
      "Norm: 3.54, NNZs: 8, Bias: 1.625757, T: 2208192, Avg. loss: 0.655582\n",
      "Total training time: 0.30 seconds.\n",
      "-- Epoch 187\n",
      "Norm: 3.55, NNZs: 8, Bias: 1.602564, T: 2220064, Avg. loss: 0.655415\n",
      "Total training time: 0.30 seconds.\n",
      "-- Epoch 188\n",
      "Norm: 3.53, NNZs: 8, Bias: 1.639845, T: 2231936, Avg. loss: 0.655418\n",
      "Total training time: 0.30 seconds.\n",
      "-- Epoch 189\n",
      "Norm: 3.55, NNZs: 8, Bias: 1.591358, T: 2243808, Avg. loss: 0.655339\n",
      "Total training time: 0.30 seconds.\n",
      "-- Epoch 190\n",
      "Norm: 3.54, NNZs: 8, Bias: 1.627480, T: 2255680, Avg. loss: 0.655415\n",
      "Total training time: 0.30 seconds.\n",
      "-- Epoch 191\n",
      "Norm: 3.54, NNZs: 8, Bias: 1.603386, T: 2267552, Avg. loss: 0.655445\n",
      "Total training time: 0.30 seconds.\n",
      "-- Epoch 192\n",
      "Norm: 3.53, NNZs: 8, Bias: 1.641602, T: 2279424, Avg. loss: 0.655410\n",
      "Total training time: 0.30 seconds.\n",
      "-- Epoch 193\n",
      "Norm: 3.54, NNZs: 8, Bias: 1.616792, T: 2291296, Avg. loss: 0.655370\n",
      "Total training time: 0.31 seconds.\n",
      "-- Epoch 194\n",
      "Norm: 3.54, NNZs: 8, Bias: 1.618020, T: 2303168, Avg. loss: 0.655289\n",
      "Total training time: 0.31 seconds.\n",
      "-- Epoch 195\n",
      "Norm: 3.57, NNZs: 8, Bias: 1.558989, T: 2315040, Avg. loss: 0.655387\n",
      "Total training time: 0.31 seconds.\n",
      "-- Epoch 196\n",
      "Norm: 3.55, NNZs: 8, Bias: 1.597790, T: 2326912, Avg. loss: 0.655405\n",
      "Total training time: 0.31 seconds.\n",
      "-- Epoch 197\n",
      "Norm: 3.53, NNZs: 8, Bias: 1.643807, T: 2338784, Avg. loss: 0.655439\n",
      "Total training time: 0.31 seconds.\n",
      "-- Epoch 198\n",
      "Norm: 3.54, NNZs: 8, Bias: 1.612840, T: 2350656, Avg. loss: 0.655271\n",
      "Total training time: 0.31 seconds.\n",
      "-- Epoch 199\n",
      "Norm: 3.52, NNZs: 8, Bias: 1.664011, T: 2362528, Avg. loss: 0.655475\n",
      "Total training time: 0.31 seconds.\n",
      "-- Epoch 200\n",
      "Norm: 3.54, NNZs: 8, Bias: 1.634348, T: 2374400, Avg. loss: 0.655637\n",
      "Total training time: 0.31 seconds.\n",
      "-- Epoch 201\n",
      "Norm: 3.53, NNZs: 8, Bias: 1.640612, T: 2386272, Avg. loss: 0.655256\n",
      "Total training time: 0.32 seconds.\n",
      "-- Epoch 202\n",
      "Norm: 3.53, NNZs: 8, Bias: 1.657218, T: 2398144, Avg. loss: 0.655371\n",
      "Total training time: 0.32 seconds.\n",
      "-- Epoch 203\n",
      "Norm: 3.54, NNZs: 8, Bias: 1.640382, T: 2410016, Avg. loss: 0.655619\n",
      "Total training time: 0.32 seconds.\n",
      "-- Epoch 204\n",
      "Norm: 3.54, NNZs: 8, Bias: 1.608384, T: 2421888, Avg. loss: 0.655456\n",
      "Total training time: 0.32 seconds.\n",
      "-- Epoch 205\n",
      "Norm: 3.55, NNZs: 8, Bias: 1.605672, T: 2433760, Avg. loss: 0.655463\n",
      "Total training time: 0.32 seconds.\n",
      "-- Epoch 206\n",
      "Norm: 3.53, NNZs: 8, Bias: 1.658089, T: 2445632, Avg. loss: 0.655503\n",
      "Total training time: 0.32 seconds.\n",
      "-- Epoch 207\n",
      "Norm: 3.53, NNZs: 8, Bias: 1.644629, T: 2457504, Avg. loss: 0.655314\n",
      "Total training time: 0.32 seconds.\n",
      "-- Epoch 208\n",
      "Norm: 3.54, NNZs: 8, Bias: 1.620399, T: 2469376, Avg. loss: 0.655634\n",
      "Total training time: 0.33 seconds.\n",
      "-- Epoch 209\n",
      "Norm: 3.54, NNZs: 8, Bias: 1.622132, T: 2481248, Avg. loss: 0.655607\n",
      "Total training time: 0.33 seconds.\n",
      "-- Epoch 210\n",
      "Norm: 3.56, NNZs: 8, Bias: 1.572945, T: 2493120, Avg. loss: 0.655375\n",
      "Total training time: 0.33 seconds.\n",
      "-- Epoch 211\n",
      "Norm: 3.53, NNZs: 8, Bias: 1.634421, T: 2504992, Avg. loss: 0.655475\n",
      "Total training time: 0.33 seconds.\n",
      "-- Epoch 212\n",
      "Norm: 3.53, NNZs: 8, Bias: 1.637909, T: 2516864, Avg. loss: 0.655580\n",
      "Total training time: 0.33 seconds.\n",
      "-- Epoch 213\n",
      "Norm: 3.53, NNZs: 8, Bias: 1.608991, T: 2528736, Avg. loss: 0.655533\n",
      "Total training time: 0.33 seconds.\n",
      "-- Epoch 214\n",
      "Norm: 3.52, NNZs: 8, Bias: 1.638538, T: 2540608, Avg. loss: 0.655309\n",
      "Total training time: 0.33 seconds.\n",
      "-- Epoch 215\n",
      "Norm: 3.53, NNZs: 8, Bias: 1.612633, T: 2552480, Avg. loss: 0.655485\n",
      "Total training time: 0.34 seconds.\n",
      "-- Epoch 216\n",
      "Norm: 3.51, NNZs: 8, Bias: 1.655498, T: 2564352, Avg. loss: 0.655344\n",
      "Total training time: 0.34 seconds.\n",
      "-- Epoch 217\n",
      "Norm: 3.53, NNZs: 8, Bias: 1.610979, T: 2576224, Avg. loss: 0.655408\n",
      "Total training time: 0.34 seconds.\n",
      "-- Epoch 218\n",
      "Norm: 3.53, NNZs: 8, Bias: 1.619830, T: 2588096, Avg. loss: 0.655372\n",
      "Total training time: 0.34 seconds.\n",
      "-- Epoch 219\n",
      "Norm: 3.51, NNZs: 8, Bias: 1.667882, T: 2599968, Avg. loss: 0.655222\n",
      "Total training time: 0.34 seconds.\n",
      "-- Epoch 220\n",
      "Norm: 3.52, NNZs: 8, Bias: 1.631668, T: 2611840, Avg. loss: 0.655573\n",
      "Total training time: 0.34 seconds.\n",
      "-- Epoch 221\n",
      "Norm: 3.54, NNZs: 8, Bias: 1.591010, T: 2623712, Avg. loss: 0.655537\n",
      "Total training time: 0.34 seconds.\n",
      "-- Epoch 222\n",
      "Norm: 3.53, NNZs: 8, Bias: 1.611239, T: 2635584, Avg. loss: 0.655230\n",
      "Total training time: 0.35 seconds.\n",
      "-- Epoch 223\n",
      "Norm: 3.52, NNZs: 8, Bias: 1.637193, T: 2647456, Avg. loss: 0.655118\n",
      "Total training time: 0.35 seconds.\n",
      "-- Epoch 224\n",
      "Norm: 3.54, NNZs: 8, Bias: 1.600751, T: 2659328, Avg. loss: 0.655436\n",
      "Total training time: 0.35 seconds.\n",
      "-- Epoch 225\n",
      "Norm: 3.53, NNZs: 8, Bias: 1.619599, T: 2671200, Avg. loss: 0.655485\n",
      "Total training time: 0.35 seconds.\n",
      "-- Epoch 226\n",
      "Norm: 3.55, NNZs: 8, Bias: 1.574558, T: 2683072, Avg. loss: 0.654833\n",
      "Total training time: 0.35 seconds.\n",
      "-- Epoch 227\n",
      "Norm: 3.52, NNZs: 8, Bias: 1.641419, T: 2694944, Avg. loss: 0.655400\n",
      "Total training time: 0.35 seconds.\n",
      "-- Epoch 228\n",
      "Norm: 3.53, NNZs: 8, Bias: 1.608717, T: 2706816, Avg. loss: 0.655443\n",
      "Total training time: 0.35 seconds.\n",
      "-- Epoch 229\n",
      "Norm: 3.53, NNZs: 8, Bias: 1.618510, T: 2718688, Avg. loss: 0.655203\n",
      "Total training time: 0.36 seconds.\n",
      "-- Epoch 230\n",
      "Norm: 3.53, NNZs: 8, Bias: 1.613842, T: 2730560, Avg. loss: 0.655527\n",
      "Total training time: 0.36 seconds.\n",
      "-- Epoch 231\n",
      "Norm: 3.52, NNZs: 8, Bias: 1.625533, T: 2742432, Avg. loss: 0.655447\n",
      "Total training time: 0.36 seconds.\n",
      "-- Epoch 232\n",
      "Norm: 3.54, NNZs: 8, Bias: 1.596627, T: 2754304, Avg. loss: 0.655422\n",
      "Total training time: 0.36 seconds.\n",
      "-- Epoch 233\n",
      "Norm: 3.53, NNZs: 8, Bias: 1.609012, T: 2766176, Avg. loss: 0.655539\n",
      "Total training time: 0.36 seconds.\n",
      "-- Epoch 234\n",
      "Norm: 3.52, NNZs: 8, Bias: 1.624392, T: 2778048, Avg. loss: 0.655247\n",
      "Total training time: 0.36 seconds.\n",
      "-- Epoch 235\n",
      "Norm: 3.51, NNZs: 8, Bias: 1.650442, T: 2789920, Avg. loss: 0.655298\n",
      "Total training time: 0.36 seconds.\n",
      "-- Epoch 236\n",
      "Norm: 3.53, NNZs: 8, Bias: 1.609802, T: 2801792, Avg. loss: 0.655041\n",
      "Total training time: 0.37 seconds.\n",
      "-- Epoch 237\n",
      "Norm: 3.52, NNZs: 8, Bias: 1.633993, T: 2813664, Avg. loss: 0.655010\n",
      "Total training time: 0.37 seconds.\n",
      "-- Epoch 238\n",
      "Norm: 3.55, NNZs: 8, Bias: 1.565833, T: 2825536, Avg. loss: 0.655194\n",
      "Total training time: 0.37 seconds.\n",
      "-- Epoch 239\n",
      "Norm: 3.53, NNZs: 8, Bias: 1.625163, T: 2837408, Avg. loss: 0.655155\n",
      "Total training time: 0.37 seconds.\n",
      "-- Epoch 240\n",
      "Norm: 3.51, NNZs: 8, Bias: 1.640347, T: 2849280, Avg. loss: 0.655391\n",
      "Total training time: 0.37 seconds.\n",
      "-- Epoch 241\n",
      "Norm: 3.50, NNZs: 8, Bias: 1.676207, T: 2861152, Avg. loss: 0.655303\n",
      "Total training time: 0.37 seconds.\n",
      "-- Epoch 242\n",
      "Norm: 3.52, NNZs: 8, Bias: 1.628919, T: 2873024, Avg. loss: 0.655407\n",
      "Total training time: 0.37 seconds.\n",
      "-- Epoch 243\n",
      "Norm: 3.51, NNZs: 8, Bias: 1.637847, T: 2884896, Avg. loss: 0.655374\n",
      "Total training time: 0.37 seconds.\n",
      "-- Epoch 244\n",
      "Norm: 3.52, NNZs: 8, Bias: 1.612235, T: 2896768, Avg. loss: 0.655102\n",
      "Total training time: 0.38 seconds.\n",
      "-- Epoch 245\n",
      "Norm: 3.54, NNZs: 8, Bias: 1.582090, T: 2908640, Avg. loss: 0.655363\n",
      "Total training time: 0.38 seconds.\n",
      "-- Epoch 246\n",
      "Norm: 3.52, NNZs: 8, Bias: 1.611352, T: 2920512, Avg. loss: 0.655212\n",
      "Total training time: 0.38 seconds.\n",
      "-- Epoch 247\n",
      "Norm: 3.53, NNZs: 8, Bias: 1.607255, T: 2932384, Avg. loss: 0.655513\n",
      "Total training time: 0.38 seconds.\n",
      "-- Epoch 248\n",
      "Norm: 3.50, NNZs: 8, Bias: 1.676925, T: 2944256, Avg. loss: 0.655029\n",
      "Total training time: 0.38 seconds.\n",
      "-- Epoch 249\n",
      "Norm: 3.53, NNZs: 8, Bias: 1.593009, T: 2956128, Avg. loss: 0.655416\n",
      "Total training time: 0.38 seconds.\n",
      "-- Epoch 250\n",
      "Norm: 3.52, NNZs: 8, Bias: 1.621331, T: 2968000, Avg. loss: 0.655356\n",
      "Total training time: 0.38 seconds.\n",
      "-- Epoch 251\n",
      "Norm: 3.52, NNZs: 8, Bias: 1.632469, T: 2979872, Avg. loss: 0.655307\n",
      "Total training time: 0.39 seconds.\n",
      "-- Epoch 252\n",
      "Norm: 3.51, NNZs: 8, Bias: 1.653219, T: 2991744, Avg. loss: 0.654817\n",
      "Total training time: 0.39 seconds.\n",
      "-- Epoch 253\n",
      "Norm: 3.53, NNZs: 8, Bias: 1.599180, T: 3003616, Avg. loss: 0.655335\n",
      "Total training time: 0.39 seconds.\n",
      "-- Epoch 254\n",
      "Norm: 3.53, NNZs: 8, Bias: 1.597645, T: 3015488, Avg. loss: 0.655106\n",
      "Total training time: 0.39 seconds.\n",
      "-- Epoch 255\n",
      "Norm: 3.51, NNZs: 8, Bias: 1.644461, T: 3027360, Avg. loss: 0.655174\n",
      "Total training time: 0.39 seconds.\n",
      "-- Epoch 256\n",
      "Norm: 3.52, NNZs: 8, Bias: 1.623838, T: 3039232, Avg. loss: 0.655403\n",
      "Total training time: 0.39 seconds.\n",
      "-- Epoch 257\n",
      "Norm: 3.52, NNZs: 8, Bias: 1.634081, T: 3051104, Avg. loss: 0.655400\n",
      "Total training time: 0.39 seconds.\n",
      "-- Epoch 258\n",
      "Norm: 3.53, NNZs: 8, Bias: 1.610356, T: 3062976, Avg. loss: 0.655455\n",
      "Total training time: 0.40 seconds.\n",
      "-- Epoch 259\n",
      "Norm: 3.53, NNZs: 8, Bias: 1.617002, T: 3074848, Avg. loss: 0.655285\n",
      "Total training time: 0.40 seconds.\n",
      "-- Epoch 260\n",
      "Norm: 3.53, NNZs: 8, Bias: 1.610260, T: 3086720, Avg. loss: 0.655440\n",
      "Total training time: 0.40 seconds.\n",
      "-- Epoch 261\n",
      "Norm: 3.52, NNZs: 8, Bias: 1.624679, T: 3098592, Avg. loss: 0.655268\n",
      "Total training time: 0.40 seconds.\n",
      "-- Epoch 262\n"
     ]
    },
    {
     "name": "stdout",
     "output_type": "stream",
     "text": [
      "Norm: 3.53, NNZs: 8, Bias: 1.600064, T: 3110464, Avg. loss: 0.654877\n",
      "Total training time: 0.40 seconds.\n",
      "-- Epoch 263\n",
      "Norm: 3.53, NNZs: 8, Bias: 1.612714, T: 3122336, Avg. loss: 0.655079\n",
      "Total training time: 0.40 seconds.\n",
      "-- Epoch 264\n",
      "Norm: 3.53, NNZs: 8, Bias: 1.611515, T: 3134208, Avg. loss: 0.655316\n",
      "Total training time: 0.41 seconds.\n",
      "-- Epoch 265\n",
      "Norm: 3.54, NNZs: 8, Bias: 1.591785, T: 3146080, Avg. loss: 0.655372\n",
      "Total training time: 0.41 seconds.\n",
      "-- Epoch 266\n",
      "Norm: 3.53, NNZs: 8, Bias: 1.609849, T: 3157952, Avg. loss: 0.655097\n",
      "Total training time: 0.41 seconds.\n",
      "-- Epoch 267\n",
      "Norm: 3.51, NNZs: 8, Bias: 1.643577, T: 3169824, Avg. loss: 0.655215\n",
      "Total training time: 0.41 seconds.\n",
      "-- Epoch 268\n",
      "Norm: 3.52, NNZs: 8, Bias: 1.624707, T: 3181696, Avg. loss: 0.655372\n",
      "Total training time: 0.41 seconds.\n",
      "-- Epoch 269\n",
      "Norm: 3.51, NNZs: 8, Bias: 1.642358, T: 3193568, Avg. loss: 0.655358\n",
      "Total training time: 0.41 seconds.\n",
      "-- Epoch 270\n",
      "Norm: 3.53, NNZs: 8, Bias: 1.612664, T: 3205440, Avg. loss: 0.655241\n",
      "Total training time: 0.41 seconds.\n",
      "-- Epoch 271\n",
      "Norm: 3.52, NNZs: 8, Bias: 1.611928, T: 3217312, Avg. loss: 0.655301\n",
      "Total training time: 0.42 seconds.\n",
      "-- Epoch 272\n",
      "Norm: 3.54, NNZs: 8, Bias: 1.582104, T: 3229184, Avg. loss: 0.654990\n",
      "Total training time: 0.42 seconds.\n",
      "-- Epoch 273\n",
      "Norm: 3.51, NNZs: 8, Bias: 1.633307, T: 3241056, Avg. loss: 0.655181\n",
      "Total training time: 0.42 seconds.\n",
      "-- Epoch 274\n",
      "Norm: 3.51, NNZs: 8, Bias: 1.638007, T: 3252928, Avg. loss: 0.655345\n",
      "Total training time: 0.42 seconds.\n",
      "-- Epoch 275\n",
      "Norm: 3.52, NNZs: 8, Bias: 1.623084, T: 3264800, Avg. loss: 0.655141\n",
      "Total training time: 0.42 seconds.\n",
      "-- Epoch 276\n",
      "Norm: 3.50, NNZs: 8, Bias: 1.662855, T: 3276672, Avg. loss: 0.654855\n",
      "Total training time: 0.42 seconds.\n",
      "-- Epoch 277\n",
      "Norm: 3.51, NNZs: 8, Bias: 1.651034, T: 3288544, Avg. loss: 0.655311\n",
      "Total training time: 0.43 seconds.\n",
      "-- Epoch 278\n",
      "Norm: 3.51, NNZs: 8, Bias: 1.637664, T: 3300416, Avg. loss: 0.655266\n",
      "Total training time: 0.43 seconds.\n",
      "-- Epoch 279\n",
      "Norm: 3.52, NNZs: 8, Bias: 1.623564, T: 3312288, Avg. loss: 0.655344\n",
      "Total training time: 0.43 seconds.\n",
      "-- Epoch 280\n",
      "Norm: 3.52, NNZs: 8, Bias: 1.613300, T: 3324160, Avg. loss: 0.655254\n",
      "Total training time: 0.43 seconds.\n",
      "-- Epoch 281\n",
      "Norm: 3.52, NNZs: 8, Bias: 1.624119, T: 3336032, Avg. loss: 0.655396\n",
      "Total training time: 0.43 seconds.\n",
      "-- Epoch 282\n",
      "Norm: 3.52, NNZs: 8, Bias: 1.616423, T: 3347904, Avg. loss: 0.654857\n",
      "Total training time: 0.43 seconds.\n",
      "-- Epoch 283\n",
      "Norm: 3.52, NNZs: 8, Bias: 1.629249, T: 3359776, Avg. loss: 0.655335\n",
      "Total training time: 0.44 seconds.\n",
      "-- Epoch 284\n",
      "Norm: 3.52, NNZs: 8, Bias: 1.618766, T: 3371648, Avg. loss: 0.655309\n",
      "Total training time: 0.44 seconds.\n",
      "-- Epoch 285\n",
      "Norm: 3.52, NNZs: 8, Bias: 1.616704, T: 3383520, Avg. loss: 0.655204\n",
      "Total training time: 0.44 seconds.\n",
      "-- Epoch 286\n",
      "Norm: 3.51, NNZs: 8, Bias: 1.639536, T: 3395392, Avg. loss: 0.655293\n",
      "Total training time: 0.44 seconds.\n",
      "-- Epoch 287\n",
      "Norm: 3.53, NNZs: 8, Bias: 1.594541, T: 3407264, Avg. loss: 0.655134\n",
      "Total training time: 0.44 seconds.\n",
      "-- Epoch 288\n",
      "Norm: 3.51, NNZs: 8, Bias: 1.634820, T: 3419136, Avg. loss: 0.655339\n",
      "Total training time: 0.44 seconds.\n",
      "-- Epoch 289\n",
      "Norm: 3.53, NNZs: 8, Bias: 1.589962, T: 3431008, Avg. loss: 0.655178\n",
      "Total training time: 0.44 seconds.\n",
      "-- Epoch 290\n",
      "Norm: 3.53, NNZs: 8, Bias: 1.601936, T: 3442880, Avg. loss: 0.655411\n",
      "Total training time: 0.45 seconds.\n",
      "-- Epoch 291\n",
      "Norm: 3.51, NNZs: 8, Bias: 1.626602, T: 3454752, Avg. loss: 0.655348\n",
      "Total training time: 0.45 seconds.\n",
      "-- Epoch 292\n",
      "Norm: 3.53, NNZs: 8, Bias: 1.598875, T: 3466624, Avg. loss: 0.654890\n",
      "Total training time: 0.45 seconds.\n",
      "-- Epoch 293\n",
      "Norm: 3.51, NNZs: 8, Bias: 1.630090, T: 3478496, Avg. loss: 0.655323\n",
      "Total training time: 0.45 seconds.\n",
      "-- Epoch 294\n",
      "Norm: 3.52, NNZs: 8, Bias: 1.621141, T: 3490368, Avg. loss: 0.655285\n",
      "Total training time: 0.45 seconds.\n",
      "-- Epoch 295\n",
      "Norm: 3.50, NNZs: 8, Bias: 1.671108, T: 3502240, Avg. loss: 0.655002\n",
      "Total training time: 0.45 seconds.\n",
      "-- Epoch 296\n",
      "Norm: 3.50, NNZs: 8, Bias: 1.658195, T: 3514112, Avg. loss: 0.655063\n",
      "Total training time: 0.45 seconds.\n",
      "-- Epoch 297\n",
      "Norm: 3.51, NNZs: 8, Bias: 1.642950, T: 3525984, Avg. loss: 0.655121\n",
      "Total training time: 0.46 seconds.\n",
      "-- Epoch 298\n",
      "Norm: 3.51, NNZs: 8, Bias: 1.632638, T: 3537856, Avg. loss: 0.655295\n",
      "Total training time: 0.46 seconds.\n",
      "-- Epoch 299\n",
      "Norm: 3.51, NNZs: 8, Bias: 1.634961, T: 3549728, Avg. loss: 0.655387\n",
      "Total training time: 0.46 seconds.\n",
      "-- Epoch 300\n",
      "Norm: 3.50, NNZs: 8, Bias: 1.649030, T: 3561600, Avg. loss: 0.654989\n",
      "Total training time: 0.46 seconds.\n",
      "-- Epoch 301\n",
      "Norm: 3.51, NNZs: 8, Bias: 1.627496, T: 3573472, Avg. loss: 0.655297\n",
      "Total training time: 0.46 seconds.\n",
      "-- Epoch 302\n",
      "Norm: 3.51, NNZs: 8, Bias: 1.629905, T: 3585344, Avg. loss: 0.655056\n",
      "Total training time: 0.46 seconds.\n",
      "-- Epoch 303\n",
      "Norm: 3.51, NNZs: 8, Bias: 1.624749, T: 3597216, Avg. loss: 0.655082\n",
      "Total training time: 0.46 seconds.\n",
      "-- Epoch 304\n",
      "Norm: 3.51, NNZs: 8, Bias: 1.640520, T: 3609088, Avg. loss: 0.654904\n",
      "Total training time: 0.47 seconds.\n",
      "-- Epoch 305\n",
      "Norm: 3.53, NNZs: 8, Bias: 1.589821, T: 3620960, Avg. loss: 0.655332\n",
      "Total training time: 0.47 seconds.\n",
      "-- Epoch 306\n",
      "Norm: 3.52, NNZs: 8, Bias: 1.620171, T: 3632832, Avg. loss: 0.655303\n",
      "Total training time: 0.47 seconds.\n",
      "-- Epoch 307\n",
      "Norm: 3.53, NNZs: 8, Bias: 1.595564, T: 3644704, Avg. loss: 0.655120\n",
      "Total training time: 0.47 seconds.\n",
      "-- Epoch 308\n",
      "Norm: 3.50, NNZs: 8, Bias: 1.647142, T: 3656576, Avg. loss: 0.655284\n",
      "Total training time: 0.47 seconds.\n",
      "-- Epoch 309\n",
      "Norm: 3.52, NNZs: 8, Bias: 1.613259, T: 3668448, Avg. loss: 0.655402\n",
      "Total training time: 0.47 seconds.\n",
      "-- Epoch 310\n",
      "Norm: 3.51, NNZs: 8, Bias: 1.630791, T: 3680320, Avg. loss: 0.655290\n",
      "Total training time: 0.47 seconds.\n",
      "-- Epoch 311\n",
      "Norm: 3.51, NNZs: 8, Bias: 1.629817, T: 3692192, Avg. loss: 0.655106\n",
      "Total training time: 0.48 seconds.\n",
      "-- Epoch 312\n",
      "Norm: 3.53, NNZs: 8, Bias: 1.592959, T: 3704064, Avg. loss: 0.654916\n",
      "Total training time: 0.48 seconds.\n",
      "-- Epoch 313\n",
      "Norm: 3.52, NNZs: 8, Bias: 1.612317, T: 3715936, Avg. loss: 0.655166\n",
      "Total training time: 0.48 seconds.\n",
      "-- Epoch 314\n",
      "Norm: 3.52, NNZs: 8, Bias: 1.605781, T: 3727808, Avg. loss: 0.655273\n",
      "Total training time: 0.48 seconds.\n",
      "-- Epoch 315\n",
      "Norm: 3.51, NNZs: 8, Bias: 1.634834, T: 3739680, Avg. loss: 0.655113\n",
      "Total training time: 0.48 seconds.\n",
      "-- Epoch 316\n",
      "Norm: 3.51, NNZs: 8, Bias: 1.650760, T: 3751552, Avg. loss: 0.655093\n",
      "Total training time: 0.48 seconds.\n",
      "-- Epoch 317\n",
      "Norm: 3.52, NNZs: 8, Bias: 1.606543, T: 3763424, Avg. loss: 0.655332\n",
      "Total training time: 0.48 seconds.\n",
      "-- Epoch 318\n",
      "Norm: 3.50, NNZs: 8, Bias: 1.652669, T: 3775296, Avg. loss: 0.654718\n",
      "Total training time: 0.49 seconds.\n",
      "-- Epoch 319\n",
      "Norm: 3.52, NNZs: 8, Bias: 1.607283, T: 3787168, Avg. loss: 0.655319\n",
      "Total training time: 0.49 seconds.\n",
      "-- Epoch 320\n",
      "Norm: 3.52, NNZs: 8, Bias: 1.625935, T: 3799040, Avg. loss: 0.655254\n",
      "Total training time: 0.49 seconds.\n",
      "-- Epoch 321\n",
      "Norm: 3.52, NNZs: 8, Bias: 1.606630, T: 3810912, Avg. loss: 0.655235\n",
      "Total training time: 0.49 seconds.\n",
      "-- Epoch 322\n",
      "Norm: 3.50, NNZs: 8, Bias: 1.650902, T: 3822784, Avg. loss: 0.654894\n",
      "Total training time: 0.49 seconds.\n",
      "-- Epoch 323\n",
      "Norm: 3.51, NNZs: 8, Bias: 1.627034, T: 3834656, Avg. loss: 0.655295\n",
      "Total training time: 0.49 seconds.\n",
      "-- Epoch 324\n",
      "Norm: 3.54, NNZs: 8, Bias: 1.576502, T: 3846528, Avg. loss: 0.655046\n",
      "Total training time: 0.49 seconds.\n",
      "-- Epoch 325\n",
      "Norm: 3.51, NNZs: 8, Bias: 1.626451, T: 3858400, Avg. loss: 0.654782\n",
      "Total training time: 0.50 seconds.\n",
      "-- Epoch 326\n",
      "Norm: 3.51, NNZs: 8, Bias: 1.635661, T: 3870272, Avg. loss: 0.655251\n",
      "Total training time: 0.50 seconds.\n",
      "-- Epoch 327\n",
      "Norm: 3.52, NNZs: 8, Bias: 1.608397, T: 3882144, Avg. loss: 0.654934\n",
      "Total training time: 0.50 seconds.\n",
      "-- Epoch 328\n",
      "Norm: 3.53, NNZs: 8, Bias: 1.591891, T: 3894016, Avg. loss: 0.655287\n",
      "Total training time: 0.50 seconds.\n",
      "-- Epoch 329\n",
      "Norm: 3.51, NNZs: 8, Bias: 1.627755, T: 3905888, Avg. loss: 0.654867\n",
      "Total training time: 0.50 seconds.\n",
      "-- Epoch 330\n",
      "Norm: 3.51, NNZs: 8, Bias: 1.629563, T: 3917760, Avg. loss: 0.655187\n",
      "Total training time: 0.50 seconds.\n",
      "-- Epoch 331\n",
      "Norm: 3.53, NNZs: 8, Bias: 1.601824, T: 3929632, Avg. loss: 0.655206\n",
      "Total training time: 0.50 seconds.\n",
      "-- Epoch 332\n",
      "Norm: 3.52, NNZs: 8, Bias: 1.613123, T: 3941504, Avg. loss: 0.655212\n",
      "Total training time: 0.51 seconds.\n",
      "-- Epoch 333\n",
      "Norm: 3.53, NNZs: 8, Bias: 1.587682, T: 3953376, Avg. loss: 0.654590\n",
      "Total training time: 0.51 seconds.\n",
      "-- Epoch 334\n",
      "Norm: 3.51, NNZs: 8, Bias: 1.636063, T: 3965248, Avg. loss: 0.655184\n",
      "Total training time: 0.51 seconds.\n",
      "-- Epoch 335\n",
      "Norm: 3.52, NNZs: 8, Bias: 1.620012, T: 3977120, Avg. loss: 0.655063\n",
      "Total training time: 0.51 seconds.\n",
      "-- Epoch 336\n",
      "Norm: 3.51, NNZs: 8, Bias: 1.629685, T: 3988992, Avg. loss: 0.655231\n",
      "Total training time: 0.51 seconds.\n",
      "-- Epoch 337\n",
      "Norm: 3.53, NNZs: 8, Bias: 1.595826, T: 4000864, Avg. loss: 0.655198\n",
      "Total training time: 0.51 seconds.\n",
      "-- Epoch 338\n",
      "Norm: 3.51, NNZs: 8, Bias: 1.626074, T: 4012736, Avg. loss: 0.654989\n",
      "Total training time: 0.51 seconds.\n",
      "-- Epoch 339\n",
      "Norm: 3.51, NNZs: 8, Bias: 1.638543, T: 4024608, Avg. loss: 0.655209\n",
      "Total training time: 0.52 seconds.\n",
      "-- Epoch 340\n",
      "Norm: 3.51, NNZs: 8, Bias: 1.622345, T: 4036480, Avg. loss: 0.655276\n",
      "Total training time: 0.52 seconds.\n",
      "-- Epoch 341\n",
      "Norm: 3.52, NNZs: 8, Bias: 1.613507, T: 4048352, Avg. loss: 0.655160\n",
      "Total training time: 0.52 seconds.\n",
      "-- Epoch 342\n",
      "Norm: 3.53, NNZs: 8, Bias: 1.587616, T: 4060224, Avg. loss: 0.655059\n",
      "Total training time: 0.52 seconds.\n",
      "-- Epoch 343\n",
      "Norm: 3.50, NNZs: 8, Bias: 1.654011, T: 4072096, Avg. loss: 0.655099\n",
      "Total training time: 0.52 seconds.\n",
      "-- Epoch 344\n",
      "Norm: 3.51, NNZs: 8, Bias: 1.640456, T: 4083968, Avg. loss: 0.655200\n",
      "Total training time: 0.52 seconds.\n",
      "-- Epoch 345\n",
      "Norm: 3.52, NNZs: 8, Bias: 1.607453, T: 4095840, Avg. loss: 0.655041\n",
      "Total training time: 0.52 seconds.\n",
      "-- Epoch 346\n",
      "Norm: 3.52, NNZs: 8, Bias: 1.600206, T: 4107712, Avg. loss: 0.654904\n",
      "Total training time: 0.52 seconds.\n",
      "-- Epoch 347\n",
      "Norm: 3.52, NNZs: 8, Bias: 1.613793, T: 4119584, Avg. loss: 0.655225\n",
      "Total training time: 0.53 seconds.\n",
      "-- Epoch 348\n",
      "Norm: 3.51, NNZs: 8, Bias: 1.620855, T: 4131456, Avg. loss: 0.655106\n",
      "Total training time: 0.53 seconds.\n",
      "-- Epoch 349\n",
      "Norm: 3.52, NNZs: 8, Bias: 1.612367, T: 4143328, Avg. loss: 0.655236\n",
      "Total training time: 0.53 seconds.\n",
      "-- Epoch 350\n",
      "Norm: 3.53, NNZs: 8, Bias: 1.582209, T: 4155200, Avg. loss: 0.655031\n",
      "Total training time: 0.53 seconds.\n",
      "-- Epoch 351\n",
      "Norm: 3.53, NNZs: 8, Bias: 1.591668, T: 4167072, Avg. loss: 0.655117\n",
      "Total training time: 0.53 seconds.\n",
      "-- Epoch 352\n",
      "Norm: 3.51, NNZs: 8, Bias: 1.624822, T: 4178944, Avg. loss: 0.654933\n",
      "Total training time: 0.53 seconds.\n",
      "-- Epoch 353\n",
      "Norm: 3.53, NNZs: 8, Bias: 1.592053, T: 4190816, Avg. loss: 0.655142\n",
      "Total training time: 0.53 seconds.\n",
      "-- Epoch 354\n",
      "Norm: 3.50, NNZs: 8, Bias: 1.641595, T: 4202688, Avg. loss: 0.655045\n",
      "Total training time: 0.54 seconds.\n",
      "-- Epoch 355\n",
      "Norm: 3.51, NNZs: 8, Bias: 1.625234, T: 4214560, Avg. loss: 0.654628\n",
      "Total training time: 0.54 seconds.\n",
      "-- Epoch 356\n",
      "Norm: 3.52, NNZs: 8, Bias: 1.611227, T: 4226432, Avg. loss: 0.655199\n",
      "Total training time: 0.54 seconds.\n",
      "-- Epoch 357\n",
      "Norm: 3.51, NNZs: 8, Bias: 1.621457, T: 4238304, Avg. loss: 0.655244\n",
      "Total training time: 0.54 seconds.\n",
      "-- Epoch 358\n",
      "Norm: 3.51, NNZs: 8, Bias: 1.615707, T: 4250176, Avg. loss: 0.655135\n",
      "Total training time: 0.54 seconds.\n",
      "-- Epoch 359\n",
      "Norm: 3.53, NNZs: 8, Bias: 1.585913, T: 4262048, Avg. loss: 0.655057\n",
      "Total training time: 0.54 seconds.\n",
      "-- Epoch 360\n",
      "Norm: 3.51, NNZs: 8, Bias: 1.631646, T: 4273920, Avg. loss: 0.655160\n",
      "Total training time: 0.54 seconds.\n",
      "-- Epoch 361\n",
      "Norm: 3.51, NNZs: 8, Bias: 1.615258, T: 4285792, Avg. loss: 0.655160\n",
      "Total training time: 0.55 seconds.\n",
      "-- Epoch 362\n",
      "Norm: 3.52, NNZs: 8, Bias: 1.600315, T: 4297664, Avg. loss: 0.655057\n",
      "Total training time: 0.55 seconds.\n",
      "-- Epoch 363\n",
      "Norm: 3.52, NNZs: 8, Bias: 1.592086, T: 4309536, Avg. loss: 0.655104\n",
      "Total training time: 0.55 seconds.\n",
      "-- Epoch 364\n",
      "Norm: 3.50, NNZs: 8, Bias: 1.633286, T: 4321408, Avg. loss: 0.655118\n",
      "Total training time: 0.55 seconds.\n",
      "-- Epoch 365\n",
      "Norm: 3.51, NNZs: 8, Bias: 1.628564, T: 4333280, Avg. loss: 0.655247\n",
      "Total training time: 0.55 seconds.\n",
      "-- Epoch 366\n",
      "Norm: 3.51, NNZs: 8, Bias: 1.615112, T: 4345152, Avg. loss: 0.655259\n",
      "Total training time: 0.55 seconds.\n",
      "-- Epoch 367\n",
      "Norm: 3.50, NNZs: 8, Bias: 1.644181, T: 4357024, Avg. loss: 0.655199\n",
      "Total training time: 0.55 seconds.\n",
      "-- Epoch 368\n",
      "Norm: 3.51, NNZs: 8, Bias: 1.618866, T: 4368896, Avg. loss: 0.655207\n",
      "Total training time: 0.56 seconds.\n",
      "-- Epoch 369\n",
      "Norm: 3.51, NNZs: 8, Bias: 1.621658, T: 4380768, Avg. loss: 0.655037\n",
      "Total training time: 0.56 seconds.\n",
      "-- Epoch 370\n",
      "Norm: 3.51, NNZs: 8, Bias: 1.607012, T: 4392640, Avg. loss: 0.655234\n",
      "Total training time: 0.56 seconds.\n",
      "-- Epoch 371\n",
      "Norm: 3.52, NNZs: 8, Bias: 1.589626, T: 4404512, Avg. loss: 0.655212\n",
      "Total training time: 0.56 seconds.\n",
      "-- Epoch 372\n",
      "Norm: 3.50, NNZs: 8, Bias: 1.638807, T: 4416384, Avg. loss: 0.655125\n",
      "Total training time: 0.56 seconds.\n",
      "-- Epoch 373\n",
      "Norm: 3.51, NNZs: 8, Bias: 1.629417, T: 4428256, Avg. loss: 0.655219\n",
      "Total training time: 0.56 seconds.\n",
      "-- Epoch 374\n",
      "Norm: 3.50, NNZs: 8, Bias: 1.641488, T: 4440128, Avg. loss: 0.654971\n",
      "Total training time: 0.56 seconds.\n",
      "-- Epoch 375\n",
      "Norm: 3.52, NNZs: 8, Bias: 1.608378, T: 4452000, Avg. loss: 0.655096\n",
      "Total training time: 0.57 seconds.\n",
      "-- Epoch 376\n",
      "Norm: 3.50, NNZs: 8, Bias: 1.637488, T: 4463872, Avg. loss: 0.655101\n",
      "Total training time: 0.57 seconds.\n",
      "-- Epoch 377\n",
      "Norm: 3.51, NNZs: 8, Bias: 1.623789, T: 4475744, Avg. loss: 0.655064\n",
      "Total training time: 0.57 seconds.\n",
      "-- Epoch 378\n",
      "Norm: 3.52, NNZs: 8, Bias: 1.606852, T: 4487616, Avg. loss: 0.655169\n",
      "Total training time: 0.57 seconds.\n",
      "-- Epoch 379\n",
      "Norm: 3.51, NNZs: 8, Bias: 1.619596, T: 4499488, Avg. loss: 0.655066\n",
      "Total training time: 0.57 seconds.\n",
      "-- Epoch 380\n",
      "Norm: 3.52, NNZs: 8, Bias: 1.606046, T: 4511360, Avg. loss: 0.654937\n",
      "Total training time: 0.57 seconds.\n",
      "-- Epoch 381\n",
      "Norm: 3.50, NNZs: 8, Bias: 1.641556, T: 4523232, Avg. loss: 0.655096\n",
      "Total training time: 0.57 seconds.\n",
      "-- Epoch 382\n",
      "Norm: 3.50, NNZs: 8, Bias: 1.641344, T: 4535104, Avg. loss: 0.655084\n",
      "Total training time: 0.58 seconds.\n",
      "-- Epoch 383\n",
      "Norm: 3.52, NNZs: 8, Bias: 1.592798, T: 4546976, Avg. loss: 0.654987\n",
      "Total training time: 0.58 seconds.\n",
      "-- Epoch 384\n",
      "Norm: 3.50, NNZs: 8, Bias: 1.645541, T: 4558848, Avg. loss: 0.655044\n",
      "Total training time: 0.58 seconds.\n",
      "-- Epoch 385\n",
      "Norm: 3.50, NNZs: 8, Bias: 1.635204, T: 4570720, Avg. loss: 0.655087\n",
      "Total training time: 0.58 seconds.\n",
      "-- Epoch 386\n",
      "Norm: 3.50, NNZs: 8, Bias: 1.642072, T: 4582592, Avg. loss: 0.655142\n",
      "Total training time: 0.58 seconds.\n",
      "-- Epoch 387\n",
      "Norm: 3.52, NNZs: 8, Bias: 1.604966, T: 4594464, Avg. loss: 0.655177\n",
      "Total training time: 0.58 seconds.\n",
      "-- Epoch 388\n",
      "Norm: 3.51, NNZs: 8, Bias: 1.618543, T: 4606336, Avg. loss: 0.655102\n",
      "Total training time: 0.58 seconds.\n",
      "-- Epoch 389\n",
      "Norm: 3.52, NNZs: 8, Bias: 1.590317, T: 4618208, Avg. loss: 0.654980\n",
      "Total training time: 0.59 seconds.\n",
      "-- Epoch 390\n",
      "Norm: 3.51, NNZs: 8, Bias: 1.610785, T: 4630080, Avg. loss: 0.655107\n",
      "Total training time: 0.59 seconds.\n",
      "-- Epoch 391\n",
      "Norm: 3.50, NNZs: 8, Bias: 1.631916, T: 4641952, Avg. loss: 0.655213\n",
      "Total training time: 0.59 seconds.\n",
      "-- Epoch 392\n",
      "Norm: 3.53, NNZs: 8, Bias: 1.583304, T: 4653824, Avg. loss: 0.654701\n",
      "Total training time: 0.59 seconds.\n",
      "-- Epoch 393\n",
      "Norm: 3.51, NNZs: 8, Bias: 1.628719, T: 4665696, Avg. loss: 0.654953\n",
      "Total training time: 0.59 seconds.\n",
      "-- Epoch 394\n",
      "Norm: 3.52, NNZs: 8, Bias: 1.599572, T: 4677568, Avg. loss: 0.655000\n",
      "Total training time: 0.59 seconds.\n",
      "-- Epoch 395\n",
      "Norm: 3.51, NNZs: 8, Bias: 1.629745, T: 4689440, Avg. loss: 0.655065\n",
      "Total training time: 0.59 seconds.\n",
      "-- Epoch 396\n",
      "Norm: 3.51, NNZs: 8, Bias: 1.633877, T: 4701312, Avg. loss: 0.655078\n",
      "Total training time: 0.60 seconds.\n",
      "-- Epoch 397\n",
      "Norm: 3.51, NNZs: 8, Bias: 1.619771, T: 4713184, Avg. loss: 0.654976\n",
      "Total training time: 0.60 seconds.\n",
      "-- Epoch 398\n",
      "Norm: 3.51, NNZs: 8, Bias: 1.632309, T: 4725056, Avg. loss: 0.655164\n",
      "Total training time: 0.60 seconds.\n",
      "-- Epoch 399\n",
      "Norm: 3.50, NNZs: 8, Bias: 1.647730, T: 4736928, Avg. loss: 0.654894\n",
      "Total training time: 0.60 seconds.\n",
      "-- Epoch 400\n",
      "Norm: 3.52, NNZs: 8, Bias: 1.601792, T: 4748800, Avg. loss: 0.654904\n",
      "Total training time: 0.60 seconds.\n",
      "-- Epoch 401\n",
      "Norm: 3.52, NNZs: 8, Bias: 1.614403, T: 4760672, Avg. loss: 0.655044\n",
      "Total training time: 0.60 seconds.\n",
      "-- Epoch 402\n"
     ]
    },
    {
     "name": "stdout",
     "output_type": "stream",
     "text": [
      "Norm: 3.50, NNZs: 8, Bias: 1.647117, T: 4772544, Avg. loss: 0.655055\n",
      "Total training time: 0.60 seconds.\n",
      "-- Epoch 403\n",
      "Norm: 3.51, NNZs: 8, Bias: 1.619976, T: 4784416, Avg. loss: 0.655041\n",
      "Total training time: 0.61 seconds.\n",
      "-- Epoch 404\n",
      "Norm: 3.51, NNZs: 8, Bias: 1.625287, T: 4796288, Avg. loss: 0.654964\n",
      "Total training time: 0.61 seconds.\n",
      "-- Epoch 405\n",
      "Norm: 3.53, NNZs: 8, Bias: 1.580933, T: 4808160, Avg. loss: 0.655001\n",
      "Total training time: 0.61 seconds.\n",
      "-- Epoch 406\n",
      "Norm: 3.50, NNZs: 8, Bias: 1.641876, T: 4820032, Avg. loss: 0.654986\n",
      "Total training time: 0.61 seconds.\n",
      "-- Epoch 407\n",
      "Norm: 3.50, NNZs: 8, Bias: 1.643005, T: 4831904, Avg. loss: 0.655064\n",
      "Total training time: 0.61 seconds.\n",
      "-- Epoch 408\n",
      "Norm: 3.50, NNZs: 8, Bias: 1.635784, T: 4843776, Avg. loss: 0.655058\n",
      "Total training time: 0.61 seconds.\n",
      "-- Epoch 409\n",
      "Norm: 3.50, NNZs: 8, Bias: 1.639196, T: 4855648, Avg. loss: 0.654656\n",
      "Total training time: 0.61 seconds.\n",
      "-- Epoch 410\n",
      "Norm: 3.51, NNZs: 8, Bias: 1.625504, T: 4867520, Avg. loss: 0.655156\n",
      "Total training time: 0.62 seconds.\n",
      "-- Epoch 411\n",
      "Norm: 3.51, NNZs: 8, Bias: 1.614844, T: 4879392, Avg. loss: 0.655019\n",
      "Total training time: 0.62 seconds.\n",
      "-- Epoch 412\n",
      "Norm: 3.51, NNZs: 8, Bias: 1.631831, T: 4891264, Avg. loss: 0.655046\n",
      "Total training time: 0.62 seconds.\n",
      "-- Epoch 413\n",
      "Norm: 3.49, NNZs: 8, Bias: 1.673210, T: 4903136, Avg. loss: 0.654900\n",
      "Total training time: 0.62 seconds.\n",
      "-- Epoch 414\n",
      "Norm: 3.51, NNZs: 8, Bias: 1.631622, T: 4915008, Avg. loss: 0.655223\n",
      "Total training time: 0.62 seconds.\n",
      "-- Epoch 415\n",
      "Norm: 3.51, NNZs: 8, Bias: 1.620662, T: 4926880, Avg. loss: 0.655025\n",
      "Total training time: 0.63 seconds.\n",
      "-- Epoch 416\n",
      "Norm: 3.51, NNZs: 8, Bias: 1.616818, T: 4938752, Avg. loss: 0.655057\n",
      "Total training time: 0.63 seconds.\n",
      "-- Epoch 417\n",
      "Norm: 3.50, NNZs: 8, Bias: 1.634294, T: 4950624, Avg. loss: 0.654992\n",
      "Total training time: 0.63 seconds.\n",
      "-- Epoch 418\n",
      "Norm: 3.52, NNZs: 8, Bias: 1.596816, T: 4962496, Avg. loss: 0.655065\n",
      "Total training time: 0.63 seconds.\n",
      "-- Epoch 419\n",
      "Norm: 3.51, NNZs: 8, Bias: 1.613101, T: 4974368, Avg. loss: 0.655073\n",
      "Total training time: 0.63 seconds.\n",
      "-- Epoch 420\n",
      "Norm: 3.51, NNZs: 8, Bias: 1.628485, T: 4986240, Avg. loss: 0.655023\n",
      "Total training time: 0.63 seconds.\n",
      "-- Epoch 421\n",
      "Norm: 3.50, NNZs: 8, Bias: 1.638700, T: 4998112, Avg. loss: 0.654655\n",
      "Total training time: 0.63 seconds.\n",
      "-- Epoch 422\n",
      "Norm: 3.51, NNZs: 8, Bias: 1.621513, T: 5009984, Avg. loss: 0.655025\n",
      "Total training time: 0.64 seconds.\n",
      "-- Epoch 423\n",
      "Norm: 3.51, NNZs: 8, Bias: 1.613550, T: 5021856, Avg. loss: 0.654887\n",
      "Total training time: 0.64 seconds.\n",
      "-- Epoch 424\n",
      "Norm: 3.52, NNZs: 8, Bias: 1.602766, T: 5033728, Avg. loss: 0.654914\n",
      "Total training time: 0.64 seconds.\n",
      "-- Epoch 425\n",
      "Norm: 3.52, NNZs: 8, Bias: 1.604428, T: 5045600, Avg. loss: 0.655022\n",
      "Total training time: 0.64 seconds.\n",
      "-- Epoch 426\n",
      "Norm: 3.52, NNZs: 8, Bias: 1.595373, T: 5057472, Avg. loss: 0.654993\n",
      "Total training time: 0.64 seconds.\n",
      "-- Epoch 427\n",
      "Norm: 3.51, NNZs: 8, Bias: 1.621179, T: 5069344, Avg. loss: 0.655003\n",
      "Total training time: 0.64 seconds.\n",
      "-- Epoch 428\n",
      "Norm: 3.50, NNZs: 8, Bias: 1.650919, T: 5081216, Avg. loss: 0.655051\n",
      "Total training time: 0.64 seconds.\n",
      "-- Epoch 429\n",
      "Norm: 3.50, NNZs: 8, Bias: 1.630690, T: 5093088, Avg. loss: 0.655113\n",
      "Total training time: 0.65 seconds.\n",
      "-- Epoch 430\n",
      "Norm: 3.51, NNZs: 8, Bias: 1.623388, T: 5104960, Avg. loss: 0.655043\n",
      "Total training time: 0.65 seconds.\n",
      "-- Epoch 431\n",
      "Norm: 3.52, NNZs: 8, Bias: 1.608670, T: 5116832, Avg. loss: 0.655104\n",
      "Total training time: 0.65 seconds.\n",
      "-- Epoch 432\n",
      "Norm: 3.51, NNZs: 8, Bias: 1.612959, T: 5128704, Avg. loss: 0.655053\n",
      "Total training time: 0.65 seconds.\n",
      "-- Epoch 433\n",
      "Norm: 3.51, NNZs: 8, Bias: 1.614938, T: 5140576, Avg. loss: 0.654954\n",
      "Total training time: 0.65 seconds.\n",
      "Convergence after 433 epochs took 0.65 seconds\n"
     ]
    },
    {
     "data": {
      "text/plain": [
       "SGDClassifier(alpha=0.0001, average=False, class_weight=None,\n",
       "              early_stopping=False, epsilon=0.1, eta0=0.0, fit_intercept=True,\n",
       "              l1_ratio=0.15, learning_rate='optimal', loss='log', max_iter=1000,\n",
       "              n_iter_no_change=100, n_jobs=None, penalty='elasticnet',\n",
       "              power_t=0.5, random_state=None, shuffle=True, tol=1e-10,\n",
       "              validation_fraction=0.1, verbose=True, warm_start=False)"
      ]
     },
     "execution_count": 175,
     "metadata": {},
     "output_type": "execute_result"
    }
   ],
   "source": [
    "sgd.fit(X_train,y_train)"
   ]
  },
  {
   "cell_type": "code",
   "execution_count": 176,
   "metadata": {},
   "outputs": [
    {
     "data": {
      "text/plain": [
       "0.6037878787878788"
      ]
     },
     "execution_count": 176,
     "metadata": {},
     "output_type": "execute_result"
    }
   ],
   "source": [
    "sgd.score(X_test,y_test)"
   ]
  },
  {
   "cell_type": "code",
   "execution_count": 177,
   "metadata": {},
   "outputs": [
    {
     "data": {
      "text/plain": [
       "Text(0, 0.5, 'True Positive Rate')"
      ]
     },
     "execution_count": 177,
     "metadata": {},
     "output_type": "execute_result"
    },
    {
     "data": {
      "image/png": "[encoded data removed]",
      "text/plain": [
       "<Figure size 432x288 with 1 Axes>"
      ]
     },
     "metadata": {
      "needs_background": "light"
     },
     "output_type": "display_data"
    }
   ],
   "source": [
    "probs = sgd.predict_proba(X_test)[:,1]\n",
    "rf_fpr,rf_tpr,_ = roc_curve(y_test,probs)\n",
    "plt.plot(rf_fpr,rf_tpr)\n",
    "x = np.linspace(0,1,100)\n",
    "plt.plot(x,x,'k--')\n",
    "plt.xlabel('False Positive Rate')\n",
    "plt.ylabel('True Positive Rate')"
   ]
  },
  {
   "cell_type": "markdown",
   "metadata": {},
   "source": [
    "## Random Forest"
   ]
  },
  {
   "cell_type": "code",
   "execution_count": 42,
   "metadata": {},
   "outputs": [],
   "source": [
    "X = np.asarray(pca_fdf)\n",
    "t = np.asarray(targets)"
   ]
  },
  {
   "cell_type": "code",
   "execution_count": 55,
   "metadata": {},
   "outputs": [
    {
     "data": {
      "text/plain": [
       "RandomForestClassifier(bootstrap=True, class_weight=None, criterion='gini',\n",
       "                       max_depth=None, max_features='auto', max_leaf_nodes=None,\n",
       "                       min_impurity_decrease=0.0, min_impurity_split=None,\n",
       "                       min_samples_leaf=1, min_samples_split=2,\n",
       "                       min_weight_fraction_leaf=0.0, n_estimators=100,\n",
       "                       n_jobs=None, oob_score=False, random_state=None,\n",
       "                       verbose=0, warm_start=False)"
      ]
     },
     "execution_count": 55,
     "metadata": {},
     "output_type": "execute_result"
    }
   ],
   "source": [
    "X_train, X_test, y_train, y_test = train_test_split(X,t, test_size = 0.1, shuffle = False)\n",
    "rf =  RandomForestClassifier(n_estimators = 100)\n",
    "rf.fit(X_train,y_train)"
   ]
  },
  {
   "cell_type": "code",
   "execution_count": 56,
   "metadata": {},
   "outputs": [
    {
     "data": {
      "text/plain": [
       "0.5348484848484848"
      ]
     },
     "execution_count": 56,
     "metadata": {},
     "output_type": "execute_result"
    }
   ],
   "source": [
    "rf.score(X_test,y_test)"
   ]
  },
  {
   "cell_type": "code",
   "execution_count": 57,
   "metadata": {},
   "outputs": [],
   "source": [
    "from sklearn.metrics import roc_curve, roc_auc_score"
   ]
  },
  {
   "cell_type": "code",
   "execution_count": 58,
   "metadata": {},
   "outputs": [],
   "source": [
    "probs = rf.predict_proba(X_test)[:,1]"
   ]
  },
  {
   "cell_type": "code",
   "execution_count": 59,
   "metadata": {},
   "outputs": [],
   "source": [
    "rf_fpr,rf_tpr,_ = roc_curve(y_test,probs)"
   ]
  },
  {
   "cell_type": "code",
   "execution_count": 60,
   "metadata": {},
   "outputs": [
    {
     "data": {
      "text/plain": [
       "Text(0, 0.5, 'True Positive Rate')"
      ]
     },
     "execution_count": 60,
     "metadata": {},
     "output_type": "execute_result"
    },
    {
     "data": {
      "image/png": "[encoded data removed]",
      "text/plain": [
       "<Figure size 432x288 with 1 Axes>"
      ]
     },
     "metadata": {
      "needs_background": "light"
     },
     "output_type": "display_data"
    }
   ],
   "source": [
    "plt.plot(rf_fpr,rf_tpr)\n",
    "x = np.linspace(0,1,100)\n",
    "plt.plot(x,x,'k--')\n",
    "plt.xlabel('False Positive Rate')\n",
    "plt.ylabel('True Positive Rate')"
   ]
  },
  {
   "cell_type": "code",
   "execution_count": 61,
   "metadata": {},
   "outputs": [
    {
     "data": {
      "text/plain": [
       "0.5946944444444444"
      ]
     },
     "execution_count": 61,
     "metadata": {},
     "output_type": "execute_result"
    }
   ],
   "source": [
    "roc_auc_score(y_test,probs)"
   ]
  },
  {
   "cell_type": "raw",
   "metadata": {
    "scrolled": true
   },
   "source": [
    "loo = LeaveOneOut()\n",
    "preds = [];\n",
    "for train_idx,test_idx in tqdm(loo.split(X)):\n",
    "    X_train,y_train = X[train_idx],t[train_idx]\n",
    "    X_test,y_test = X[test_idx],t[test_idx]\n",
    "    rf = RandomForestClassifier(n_estimators = 100)\n",
    "    rf.fit(X_train,y_train)\n",
    "    preds.append(rf.predict(X_test)[0])"
   ]
  },
  {
   "cell_type": "raw",
   "metadata": {},
   "source": [
    "accuracy = np.mean((preds - t) == 0)\n",
    "print('LOO Accuracy: %.2f percent'%(accuracy*100))"
   ]
  },
  {
   "cell_type": "raw",
   "metadata": {},
   "source": [
    "feature_importances = pd.DataFrame(rf.feature_importances_,\n",
    "                                   index = allfeature_names,\n",
    "                                    columns=['importance']).sort_values('importance', ascending=False)"
   ]
  },
  {
   "cell_type": "raw",
   "metadata": {},
   "source": [
    "feature_importances.plot(kind = 'bar', figsize = (15,10), color = 'k', fontsize = 25)"
   ]
  },
  {
   "cell_type": "markdown",
   "metadata": {},
   "source": [
    "## Unsupervised Learning"
   ]
  },
  {
   "cell_type": "markdown",
   "metadata": {},
   "source": [
    "## Gaussian Mixture Model"
   ]
  },
  {
   "cell_type": "code",
   "execution_count": 71,
   "metadata": {},
   "outputs": [],
   "source": [
    "from sklearn.mixture import BayesianGaussianMixture"
   ]
  },
  {
   "cell_type": "code",
   "execution_count": 715,
   "metadata": {},
   "outputs": [
    {
     "data": {
      "image/png": "[encoded data removed]",
      "text/plain": [
       "<Figure size 432x288 with 12 Axes>"
      ]
     },
     "metadata": {
      "needs_background": "light"
     },
     "output_type": "display_data"
    }
   ],
   "source": [
    "pca_fdf.hist(histtype = 'step');"
   ]
  },
  {
   "cell_type": "code",
   "execution_count": 716,
   "metadata": {},
   "outputs": [],
   "source": [
    "X = np.asarray(pca_fdf)"
   ]
  },
  {
   "cell_type": "code",
   "execution_count": 717,
   "metadata": {},
   "outputs": [],
   "source": [
    "gmm = BayesianGaussianMixture(n_components = 2, covariance_type = 'full', max_iter = 1000)"
   ]
  },
  {
   "cell_type": "code",
   "execution_count": 718,
   "metadata": {},
   "outputs": [
    {
     "data": {
      "text/plain": [
       "BayesianGaussianMixture(covariance_prior=None, covariance_type='full',\n",
       "                        degrees_of_freedom_prior=None, init_params='kmeans',\n",
       "                        max_iter=1000, mean_precision_prior=None,\n",
       "                        mean_prior=None, n_components=2, n_init=1,\n",
       "                        random_state=None, reg_covar=1e-06, tol=0.001,\n",
       "                        verbose=0, verbose_interval=10, warm_start=False,\n",
       "                        weight_concentration_prior=None,\n",
       "                        weight_concentration_prior_type='dirichlet_process')"
      ]
     },
     "execution_count": 718,
     "metadata": {},
     "output_type": "execute_result"
    }
   ],
   "source": [
    "gmm.fit(X)"
   ]
  },
  {
   "cell_type": "code",
   "execution_count": 387,
   "metadata": {
    "scrolled": false
   },
   "outputs": [
    {
     "data": {
      "image/png": "[encoded data removed]",
      "text/plain": [
       "<Figure size 432x288 with 1 Axes>"
      ]
     },
     "metadata": {
      "needs_background": "light"
     },
     "output_type": "display_data"
    },
    {
     "data": {
      "image/png": "[encoded data removed]",
      "text/plain": [
       "<Figure size 432x288 with 1 Axes>"
      ]
     },
     "metadata": {
      "needs_background": "light"
     },
     "output_type": "display_data"
    },
    {
     "data": {
      "image/png": "[encoded data removed]",
      "text/plain": [
       "<Figure size 432x288 with 1 Axes>"
      ]
     },
     "metadata": {
      "needs_background": "light"
     },
     "output_type": "display_data"
    },
    {
     "data": {
      "image/png": "[encoded data removed]",
      "text/plain": [
       "<Figure size 432x288 with 1 Axes>"
      ]
     },
     "metadata": {
      "needs_background": "light"
     },
     "output_type": "display_data"
    },
    {
     "data": {
      "image/png": "[encoded data removed]",
      "text/plain": [
       "<Figure size 432x288 with 1 Axes>"
      ]
     },
     "metadata": {
      "needs_background": "light"
     },
     "output_type": "display_data"
    },
    {
     "data": {
      "image/png": "[encoded data removed]",
      "text/plain": [
       "<Figure size 432x288 with 1 Axes>"
      ]
     },
     "metadata": {
      "needs_background": "light"
     },
     "output_type": "display_data"
    }
   ],
   "source": [
    "sample,classes = gmm.sample(10000)\n",
    "\n",
    "for i in range(6):\n",
    "    plt.figure()\n",
    "    plt.hist(sample[:,i][classes == 0], histtype = 'step')\n",
    "    plt.hist(sample[:,i][classes == 1], histtype = 'step')\n",
    "    plt.title(pca_fdf.columns[i])"
   ]
  },
  {
   "cell_type": "markdown",
   "metadata": {},
   "source": [
    "## Neural Network"
   ]
  },
  {
   "cell_type": "code",
   "execution_count": 473,
   "metadata": {},
   "outputs": [],
   "source": [
    "import astroNN.nn.layers as annlayers\n",
    "import astroNN.nn.losses as annlosses\n",
    "import numpy as np\n",
    "from keras.models import *\n",
    "from keras.layers import *\n",
    "from keras.optimizers import *\n",
    "from keras.callbacks import ModelCheckpoint, LearningRateScheduler\n",
    "from keras.preprocessing.image import ImageDataGenerator, array_to_img, img_to_array, load_img\n",
    "from keras.regularizers import l2\n",
    "from sklearn.model_selection import train_test_split\n",
    "from sklearn.preprocessing import normalize,scale,MinMaxScaler,StandardScaler\n",
    "import multiprocessing"
   ]
  },
  {
   "cell_type": "code",
   "execution_count": 478,
   "metadata": {},
   "outputs": [],
   "source": [
    "X = np.asarray(pca_fdf)\n",
    "t = np.asarray(targets)\n",
    "sc = StandardScaler()\n",
    "X_scaled = sc.fit_transform(X)\n",
    "\n",
    "t_cat = tf.compat.v1.keras.utils.to_categorical(t)\n",
    "\n",
    "X_train,X_test,y_train,y_test = train_test_split(X_scaled, t_cat, test_size = 0.2, shuffle = False)"
   ]
  },
  {
   "cell_type": "code",
   "execution_count": 491,
   "metadata": {},
   "outputs": [
    {
     "name": "stdout",
     "output_type": "stream",
     "text": [
      "_________________________________________________________________\n",
      "Layer (type)                 Output Shape              Param #   \n",
      "=================================================================\n",
      "input_28 (InputLayer)        (None, 10)                0         \n",
      "_________________________________________________________________\n",
      "dense_81 (Dense)             (None, 10)                110       \n",
      "_________________________________________________________________\n",
      "dense_82 (Dense)             (None, 10)                110       \n",
      "_________________________________________________________________\n",
      "dense_83 (Dense)             (None, 2)                 22        \n",
      "=================================================================\n",
      "Total params: 242\n",
      "Trainable params: 242\n",
      "Non-trainable params: 0\n",
      "_________________________________________________________________\n",
      "None\n"
     ]
    }
   ],
   "source": [
    "reg = 1.7e-1\n",
    "\n",
    "def nn():\n",
    "    x = Input(shape=(X_train[0].shape[0],))\n",
    "    y = Dense(10,activation='relu', kernel_regularizer = l2(reg))(x)\n",
    "    #y = annlayers.MCDropout(0.1)(y)\n",
    "    y = Dense(10,activation='relu', kernel_regularizer = l2(reg))(y)\n",
    "    out = Dense(2,activation='linear')(y)\n",
    "    \n",
    "    model = Model(inputs = x, outputs = out)\n",
    "    model.compile(optimizer = Adamax(), loss = 'binary_crossentropy', \\\n",
    "                  metrics = ['accuracy'])\n",
    "    return model\n",
    "\n",
    "history = np.asarray([]);\n",
    "vhistory = np.asarray([]);\n",
    "model = nn()\n",
    "#model.load_weights('bayesnet.h5')\n",
    "print(model.summary())"
   ]
  },
  {
   "cell_type": "code",
   "execution_count": 498,
   "metadata": {},
   "outputs": [
    {
     "name": "stderr",
     "output_type": "stream",
     "text": [
      "\n",
      "\n",
      "\n",
      "\n",
      "\n",
      "\n",
      "\n",
      "\n",
      "\n",
      "\n",
      "\n",
      "\n",
      "\n",
      "\n",
      "\n",
      "\n",
      "\n",
      "\n",
      "\n",
      "\n",
      "  0%|          | 0/20 [00:00<?, ?it/s]\u001b[A\u001b[A\u001b[A\u001b[A\u001b[A\u001b[A\u001b[A\u001b[A\u001b[A\u001b[A\u001b[A\u001b[A\u001b[A\u001b[A\u001b[A\u001b[A\u001b[A\u001b[A\u001b[A\u001b[A"
     ]
    },
    {
     "name": "stdout",
     "output_type": "stream",
     "text": [
      "Training meta-batch 0\n",
      "Train on 2640 samples, validate on 660 samples\n",
      "Epoch 1/10\n",
      "2640/2640 [==============================] - 0s 26us/step - loss: 0.6989 - acc: 0.5744 - val_loss: 0.6899 - val_acc: 0.6992\n",
      "Epoch 2/10\n",
      "2640/2640 [==============================] - 0s 26us/step - loss: 0.6987 - acc: 0.5754 - val_loss: 0.6884 - val_acc: 0.6939\n",
      "Epoch 3/10\n",
      "2640/2640 [==============================] - 0s 19us/step - loss: 0.6983 - acc: 0.5765 - val_loss: 0.6883 - val_acc: 0.7114\n",
      "Epoch 4/10\n",
      "2640/2640 [==============================] - 0s 18us/step - loss: 0.6981 - acc: 0.5788 - val_loss: 0.6874 - val_acc: 0.7462\n",
      "Epoch 5/10\n",
      "2640/2640 [==============================] - 0s 17us/step - loss: 0.6978 - acc: 0.5729 - val_loss: 0.6861 - val_acc: 0.7091\n",
      "Epoch 6/10\n",
      "2640/2640 [==============================] - 0s 16us/step - loss: 0.6971 - acc: 0.5795 - val_loss: 0.6858 - val_acc: 0.7583\n",
      "Epoch 7/10\n",
      "2640/2640 [==============================] - 0s 18us/step - loss: 0.6966 - acc: 0.5710 - val_loss: 0.6857 - val_acc: 0.7341\n",
      "Epoch 8/10\n",
      "2640/2640 [==============================] - 0s 19us/step - loss: 0.6962 - acc: 0.5703 - val_loss: 0.6857 - val_acc: 0.7455\n",
      "Epoch 9/10\n",
      "2640/2640 [==============================] - 0s 18us/step - loss: 0.6957 - acc: 0.5722 - val_loss: 0.6832 - val_acc: 0.7659\n",
      "Epoch 10/10\n",
      "2640/2640 [==============================] - 0s 19us/step - loss: 0.6954 - acc: 0.5720 - val_loss: 0.6841 - val_acc: 0.7636\n"
     ]
    },
    {
     "name": "stderr",
     "output_type": "stream",
     "text": [
      "\n",
      "\n",
      "\n",
      "\n",
      "\n",
      "\n",
      "\n",
      "\n",
      "\n",
      "\n",
      "\n",
      "\n",
      "\n",
      "\n",
      "\n",
      "\n",
      "\n",
      "\n",
      "\n",
      "\n",
      "  5%|▌         | 1/20 [00:00<00:10,  1.90it/s]\u001b[A\u001b[A\u001b[A\u001b[A\u001b[A\u001b[A\u001b[A\u001b[A\u001b[A\u001b[A\u001b[A\u001b[A\u001b[A\u001b[A\u001b[A\u001b[A\u001b[A\u001b[A\u001b[A\u001b[A"
     ]
    },
    {
     "name": "stdout",
     "output_type": "stream",
     "text": [
      "Training meta-batch 1\n",
      "Train on 2640 samples, validate on 660 samples\n",
      "Epoch 1/10\n",
      "2640/2640 [==============================] - 0s 21us/step - loss: 0.6950 - acc: 0.5699 - val_loss: 0.6821 - val_acc: 0.7765\n",
      "Epoch 2/10\n",
      "2640/2640 [==============================] - 0s 20us/step - loss: 0.6945 - acc: 0.5691 - val_loss: 0.6827 - val_acc: 0.7614\n",
      "Epoch 3/10\n",
      "2640/2640 [==============================] - 0s 19us/step - loss: 0.6941 - acc: 0.5686 - val_loss: 0.6811 - val_acc: 0.7720\n",
      "Epoch 4/10\n",
      "2640/2640 [==============================] - 0s 19us/step - loss: 0.6936 - acc: 0.5680 - val_loss: 0.6815 - val_acc: 0.7705\n",
      "Epoch 5/10\n",
      "2640/2640 [==============================] - 0s 18us/step - loss: 0.6931 - acc: 0.5657 - val_loss: 0.6806 - val_acc: 0.7667\n",
      "Epoch 6/10\n",
      "2640/2640 [==============================] - 0s 19us/step - loss: 0.6927 - acc: 0.5669 - val_loss: 0.6784 - val_acc: 0.7803\n",
      "Epoch 7/10\n",
      "2640/2640 [==============================] - 0s 19us/step - loss: 0.6927 - acc: 0.5659 - val_loss: 0.6769 - val_acc: 0.7621\n",
      "Epoch 8/10\n",
      "2640/2640 [==============================] - 0s 20us/step - loss: 0.6921 - acc: 0.5716 - val_loss: 0.6780 - val_acc: 0.7826\n",
      "Epoch 9/10\n",
      "2640/2640 [==============================] - 0s 21us/step - loss: 0.6922 - acc: 0.5763 - val_loss: 0.6841 - val_acc: 0.6621\n",
      "Epoch 10/10\n",
      "2640/2640 [==============================] - 0s 20us/step - loss: 0.6916 - acc: 0.5695 - val_loss: 0.6786 - val_acc: 0.7720\n"
     ]
    },
    {
     "name": "stderr",
     "output_type": "stream",
     "text": [
      "\n",
      "\n",
      "\n",
      "\n",
      "\n",
      "\n",
      "\n",
      "\n",
      "\n",
      "\n",
      "\n",
      "\n",
      "\n",
      "\n",
      "\n",
      "\n",
      "\n",
      "\n",
      "\n",
      "\n",
      " 10%|█         | 2/20 [00:01<00:09,  1.90it/s]\u001b[A\u001b[A\u001b[A\u001b[A\u001b[A\u001b[A\u001b[A\u001b[A\u001b[A\u001b[A\u001b[A\u001b[A\u001b[A\u001b[A\u001b[A\u001b[A\u001b[A\u001b[A\u001b[A\u001b[A"
     ]
    },
    {
     "name": "stdout",
     "output_type": "stream",
     "text": [
      "Training meta-batch 2\n",
      "Train on 2640 samples, validate on 660 samples\n",
      "Epoch 1/10\n",
      "2640/2640 [==============================] - 0s 21us/step - loss: 0.6908 - acc: 0.5676 - val_loss: 0.6762 - val_acc: 0.7848\n",
      "Epoch 2/10\n",
      "2640/2640 [==============================] - 0s 19us/step - loss: 0.6902 - acc: 0.5672 - val_loss: 0.6758 - val_acc: 0.7841\n",
      "Epoch 3/10\n",
      "2640/2640 [==============================] - 0s 17us/step - loss: 0.6897 - acc: 0.5689 - val_loss: 0.6767 - val_acc: 0.7788\n",
      "Epoch 4/10\n",
      "2640/2640 [==============================] - 0s 18us/step - loss: 0.6894 - acc: 0.5665 - val_loss: 0.6746 - val_acc: 0.7705\n",
      "Epoch 5/10\n",
      "2640/2640 [==============================] - 0s 19us/step - loss: 0.6893 - acc: 0.5720 - val_loss: 0.6775 - val_acc: 0.7727\n",
      "Epoch 6/10\n",
      "2640/2640 [==============================] - 0s 18us/step - loss: 0.6888 - acc: 0.5710 - val_loss: 0.6735 - val_acc: 0.7682\n",
      "Epoch 7/10\n",
      "2640/2640 [==============================] - 0s 18us/step - loss: 0.6889 - acc: 0.5678 - val_loss: 0.6731 - val_acc: 0.7583\n",
      "Epoch 8/10\n",
      "2640/2640 [==============================] - 0s 18us/step - loss: 0.6881 - acc: 0.5722 - val_loss: 0.6751 - val_acc: 0.7705\n",
      "Epoch 9/10\n",
      "2640/2640 [==============================] - 0s 16us/step - loss: 0.6884 - acc: 0.5706 - val_loss: 0.6765 - val_acc: 0.7682\n",
      "Epoch 10/10\n",
      "2640/2640 [==============================] - 0s 17us/step - loss: 0.6877 - acc: 0.5638 - val_loss: 0.6730 - val_acc: 0.7780\n"
     ]
    },
    {
     "name": "stderr",
     "output_type": "stream",
     "text": [
      "\n",
      "\n",
      "\n",
      "\n",
      "\n",
      "\n",
      "\n",
      "\n",
      "\n",
      "\n",
      "\n",
      "\n",
      "\n",
      "\n",
      "\n",
      "\n",
      "\n",
      "\n",
      "\n",
      "\n",
      " 15%|█▌        | 3/20 [00:01<00:08,  1.94it/s]\u001b[A\u001b[A\u001b[A\u001b[A\u001b[A\u001b[A\u001b[A\u001b[A\u001b[A\u001b[A\u001b[A\u001b[A\u001b[A\u001b[A\u001b[A\u001b[A\u001b[A\u001b[A\u001b[A\u001b[A"
     ]
    },
    {
     "name": "stdout",
     "output_type": "stream",
     "text": [
      "Training meta-batch 3\n",
      "Train on 2640 samples, validate on 660 samples\n",
      "Epoch 1/10\n",
      "2640/2640 [==============================] - 0s 19us/step - loss: 0.6868 - acc: 0.5712 - val_loss: 0.6721 - val_acc: 0.7871\n",
      "Epoch 2/10\n",
      "2640/2640 [==============================] - 0s 16us/step - loss: 0.6869 - acc: 0.5667 - val_loss: 0.6691 - val_acc: 0.7568\n",
      "Epoch 3/10\n",
      "2640/2640 [==============================] - 0s 16us/step - loss: 0.6864 - acc: 0.5729 - val_loss: 0.6730 - val_acc: 0.7841\n",
      "Epoch 4/10\n",
      "2640/2640 [==============================] - 0s 18us/step - loss: 0.6863 - acc: 0.5706 - val_loss: 0.6696 - val_acc: 0.7727\n",
      "Epoch 5/10\n",
      "2640/2640 [==============================] - 0s 17us/step - loss: 0.6857 - acc: 0.5712 - val_loss: 0.6720 - val_acc: 0.7841\n",
      "Epoch 6/10\n",
      "2640/2640 [==============================] - 0s 17us/step - loss: 0.6853 - acc: 0.5659 - val_loss: 0.6710 - val_acc: 0.7826\n",
      "Epoch 7/10\n",
      "2640/2640 [==============================] - 0s 17us/step - loss: 0.6852 - acc: 0.5686 - val_loss: 0.6698 - val_acc: 0.7848\n",
      "Epoch 8/10\n",
      "2640/2640 [==============================] - 0s 18us/step - loss: 0.6851 - acc: 0.5693 - val_loss: 0.6709 - val_acc: 0.7765\n",
      "Epoch 9/10\n",
      "2640/2640 [==============================] - 0s 17us/step - loss: 0.6850 - acc: 0.5765 - val_loss: 0.6715 - val_acc: 0.7811\n",
      "Epoch 10/10\n",
      "2640/2640 [==============================] - 0s 17us/step - loss: 0.6851 - acc: 0.5705 - val_loss: 0.6702 - val_acc: 0.7856\n"
     ]
    },
    {
     "name": "stderr",
     "output_type": "stream",
     "text": [
      "\n",
      "\n",
      "\n",
      "\n",
      "\n",
      "\n",
      "\n",
      "\n",
      "\n",
      "\n",
      "\n",
      "\n",
      "\n",
      "\n",
      "\n",
      "\n",
      "\n",
      "\n",
      "\n",
      "\n",
      " 20%|██        | 4/20 [00:01<00:07,  2.01it/s]\u001b[A\u001b[A\u001b[A\u001b[A\u001b[A\u001b[A\u001b[A\u001b[A\u001b[A\u001b[A\u001b[A\u001b[A\u001b[A\u001b[A\u001b[A\u001b[A\u001b[A\u001b[A\u001b[A\u001b[A"
     ]
    },
    {
     "name": "stdout",
     "output_type": "stream",
     "text": [
      "Training meta-batch 4\n",
      "Train on 2640 samples, validate on 660 samples\n",
      "Epoch 1/10\n",
      "2640/2640 [==============================] - 0s 17us/step - loss: 0.6841 - acc: 0.5699 - val_loss: 0.6697 - val_acc: 0.7788\n",
      "Epoch 2/10\n",
      "2640/2640 [==============================] - 0s 17us/step - loss: 0.6839 - acc: 0.5714 - val_loss: 0.6662 - val_acc: 0.7591\n",
      "Epoch 3/10\n",
      "2640/2640 [==============================] - 0s 18us/step - loss: 0.6835 - acc: 0.5739 - val_loss: 0.6691 - val_acc: 0.7902\n",
      "Epoch 4/10\n",
      "2640/2640 [==============================] - 0s 19us/step - loss: 0.6833 - acc: 0.5687 - val_loss: 0.6673 - val_acc: 0.7856\n",
      "Epoch 5/10\n",
      "2640/2640 [==============================] - 0s 20us/step - loss: 0.6831 - acc: 0.5720 - val_loss: 0.6699 - val_acc: 0.7773\n",
      "Epoch 6/10\n",
      "2640/2640 [==============================] - 0s 19us/step - loss: 0.6828 - acc: 0.5737 - val_loss: 0.6677 - val_acc: 0.7894\n",
      "Epoch 7/10\n",
      "2640/2640 [==============================] - 0s 19us/step - loss: 0.6826 - acc: 0.5642 - val_loss: 0.6656 - val_acc: 0.7742\n",
      "Epoch 8/10\n",
      "2640/2640 [==============================] - 0s 19us/step - loss: 0.6823 - acc: 0.5752 - val_loss: 0.6666 - val_acc: 0.7886\n",
      "Epoch 9/10\n",
      "2640/2640 [==============================] - 0s 18us/step - loss: 0.6819 - acc: 0.5703 - val_loss: 0.6638 - val_acc: 0.7879\n",
      "Epoch 10/10\n",
      "2640/2640 [==============================] - 0s 19us/step - loss: 0.6819 - acc: 0.5725 - val_loss: 0.6653 - val_acc: 0.7864\n"
     ]
    },
    {
     "name": "stderr",
     "output_type": "stream",
     "text": [
      "\n",
      "\n",
      "\n",
      "\n",
      "\n",
      "\n",
      "\n",
      "\n",
      "\n",
      "\n",
      "\n",
      "\n",
      "\n",
      "\n",
      "\n",
      "\n",
      "\n",
      "\n",
      "\n",
      "\n",
      " 25%|██▌       | 5/20 [00:02<00:07,  2.01it/s]\u001b[A\u001b[A\u001b[A\u001b[A\u001b[A\u001b[A\u001b[A\u001b[A\u001b[A\u001b[A\u001b[A\u001b[A\u001b[A\u001b[A\u001b[A\u001b[A\u001b[A\u001b[A\u001b[A\u001b[A"
     ]
    },
    {
     "name": "stdout",
     "output_type": "stream",
     "text": [
      "Training meta-batch 5\n",
      "Train on 2640 samples, validate on 660 samples\n",
      "Epoch 1/10\n",
      "2640/2640 [==============================] - 0s 19us/step - loss: 0.6819 - acc: 0.5686 - val_loss: 0.6664 - val_acc: 0.7886\n",
      "Epoch 2/10\n",
      "2640/2640 [==============================] - 0s 19us/step - loss: 0.6815 - acc: 0.5746 - val_loss: 0.6662 - val_acc: 0.7758\n",
      "Epoch 3/10\n",
      "2640/2640 [==============================] - 0s 17us/step - loss: 0.6813 - acc: 0.5686 - val_loss: 0.6639 - val_acc: 0.7591\n",
      "Epoch 4/10\n",
      "2640/2640 [==============================] - 0s 19us/step - loss: 0.6816 - acc: 0.5710 - val_loss: 0.6627 - val_acc: 0.7727\n",
      "Epoch 5/10\n",
      "2640/2640 [==============================] - 0s 17us/step - loss: 0.6817 - acc: 0.5765 - val_loss: 0.6632 - val_acc: 0.7553\n",
      "Epoch 6/10\n",
      "2640/2640 [==============================] - 0s 17us/step - loss: 0.6806 - acc: 0.5678 - val_loss: 0.6652 - val_acc: 0.7902\n",
      "Epoch 7/10\n",
      "2640/2640 [==============================] - 0s 17us/step - loss: 0.6806 - acc: 0.5687 - val_loss: 0.6640 - val_acc: 0.7826\n",
      "Epoch 8/10\n",
      "2640/2640 [==============================] - 0s 16us/step - loss: 0.6802 - acc: 0.5705 - val_loss: 0.6637 - val_acc: 0.7871\n",
      "Epoch 9/10\n",
      "2640/2640 [==============================] - 0s 17us/step - loss: 0.6803 - acc: 0.5705 - val_loss: 0.6599 - val_acc: 0.7538\n",
      "Epoch 10/10\n",
      "2640/2640 [==============================] - 0s 17us/step - loss: 0.6815 - acc: 0.5680 - val_loss: 0.6617 - val_acc: 0.7818\n"
     ]
    },
    {
     "name": "stderr",
     "output_type": "stream",
     "text": [
      "\n",
      "\n",
      "\n",
      "\n",
      "\n",
      "\n",
      "\n",
      "\n",
      "\n",
      "\n",
      "\n",
      "\n",
      "\n",
      "\n",
      "\n",
      "\n",
      "\n",
      "\n",
      "\n",
      "\n",
      " 30%|███       | 6/20 [00:02<00:06,  2.04it/s]\u001b[A\u001b[A\u001b[A\u001b[A\u001b[A\u001b[A\u001b[A\u001b[A\u001b[A\u001b[A\u001b[A\u001b[A\u001b[A\u001b[A\u001b[A\u001b[A\u001b[A\u001b[A\u001b[A\u001b[A"
     ]
    },
    {
     "name": "stdout",
     "output_type": "stream",
     "text": [
      "Training meta-batch 6\n",
      "Train on 2640 samples, validate on 660 samples\n",
      "Epoch 1/10\n",
      "2640/2640 [==============================] - 0s 16us/step - loss: 0.6798 - acc: 0.5765 - val_loss: 0.6605 - val_acc: 0.7841\n",
      "Epoch 2/10\n",
      "2640/2640 [==============================] - 0s 17us/step - loss: 0.6795 - acc: 0.5708 - val_loss: 0.6619 - val_acc: 0.7848\n",
      "Epoch 3/10\n",
      "2640/2640 [==============================] - 0s 17us/step - loss: 0.6795 - acc: 0.5674 - val_loss: 0.6633 - val_acc: 0.7826\n",
      "Epoch 4/10\n",
      "2640/2640 [==============================] - 0s 17us/step - loss: 0.6795 - acc: 0.5737 - val_loss: 0.6618 - val_acc: 0.7856\n",
      "Epoch 5/10\n",
      "2640/2640 [==============================] - 0s 16us/step - loss: 0.6789 - acc: 0.5646 - val_loss: 0.6626 - val_acc: 0.7917\n",
      "Epoch 6/10\n",
      "2640/2640 [==============================] - 0s 17us/step - loss: 0.6789 - acc: 0.5650 - val_loss: 0.6606 - val_acc: 0.7833\n",
      "Epoch 7/10\n",
      "2640/2640 [==============================] - 0s 17us/step - loss: 0.6789 - acc: 0.5771 - val_loss: 0.6624 - val_acc: 0.7909\n",
      "Epoch 8/10\n",
      "2640/2640 [==============================] - 0s 17us/step - loss: 0.6790 - acc: 0.5761 - val_loss: 0.6624 - val_acc: 0.7902\n",
      "Epoch 9/10\n",
      "2640/2640 [==============================] - 0s 17us/step - loss: 0.6790 - acc: 0.5667 - val_loss: 0.6607 - val_acc: 0.7667\n",
      "Epoch 10/10\n",
      "2640/2640 [==============================] - 0s 17us/step - loss: 0.6791 - acc: 0.5816 - val_loss: 0.6602 - val_acc: 0.7871\n"
     ]
    },
    {
     "name": "stderr",
     "output_type": "stream",
     "text": [
      "\n",
      "\n",
      "\n",
      "\n",
      "\n",
      "\n",
      "\n",
      "\n",
      "\n",
      "\n",
      "\n",
      "\n",
      "\n",
      "\n",
      "\n",
      "\n",
      "\n",
      "\n",
      "\n",
      "\n",
      " 35%|███▌      | 7/20 [00:03<00:06,  2.08it/s]\u001b[A\u001b[A\u001b[A\u001b[A\u001b[A\u001b[A\u001b[A\u001b[A\u001b[A\u001b[A\u001b[A\u001b[A\u001b[A\u001b[A\u001b[A\u001b[A\u001b[A\u001b[A\u001b[A\u001b[A"
     ]
    },
    {
     "name": "stdout",
     "output_type": "stream",
     "text": [
      "Training meta-batch 7\n",
      "Train on 2640 samples, validate on 660 samples\n",
      "Epoch 1/10\n",
      "2640/2640 [==============================] - 0s 18us/step - loss: 0.6789 - acc: 0.5684 - val_loss: 0.6631 - val_acc: 0.7758\n",
      "Epoch 2/10\n",
      "2640/2640 [==============================] - 0s 17us/step - loss: 0.6779 - acc: 0.5680 - val_loss: 0.6582 - val_acc: 0.7538\n",
      "Epoch 3/10\n",
      "2640/2640 [==============================] - 0s 16us/step - loss: 0.6787 - acc: 0.5856 - val_loss: 0.6609 - val_acc: 0.7894\n",
      "Epoch 4/10\n",
      "2640/2640 [==============================] - 0s 17us/step - loss: 0.6788 - acc: 0.5682 - val_loss: 0.6586 - val_acc: 0.7826\n",
      "Epoch 5/10\n",
      "2640/2640 [==============================] - 0s 17us/step - loss: 0.6778 - acc: 0.5720 - val_loss: 0.6602 - val_acc: 0.7864\n",
      "Epoch 6/10\n",
      "2640/2640 [==============================] - 0s 16us/step - loss: 0.6779 - acc: 0.5714 - val_loss: 0.6578 - val_acc: 0.7674\n",
      "Epoch 7/10\n",
      "2640/2640 [==============================] - 0s 17us/step - loss: 0.6780 - acc: 0.5710 - val_loss: 0.6583 - val_acc: 0.7818\n",
      "Epoch 8/10\n",
      "2640/2640 [==============================] - 0s 17us/step - loss: 0.6779 - acc: 0.5725 - val_loss: 0.6576 - val_acc: 0.7311\n",
      "Epoch 9/10\n",
      "2640/2640 [==============================] - 0s 17us/step - loss: 0.6781 - acc: 0.5729 - val_loss: 0.6593 - val_acc: 0.7864\n",
      "Epoch 10/10\n",
      "2640/2640 [==============================] - 0s 16us/step - loss: 0.6776 - acc: 0.5773 - val_loss: 0.6597 - val_acc: 0.7841\n"
     ]
    },
    {
     "name": "stderr",
     "output_type": "stream",
     "text": [
      "\n",
      "\n",
      "\n",
      "\n",
      "\n",
      "\n",
      "\n",
      "\n",
      "\n",
      "\n",
      "\n",
      "\n",
      "\n",
      "\n",
      "\n",
      "\n",
      "\n",
      "\n",
      "\n",
      "\n",
      " 40%|████      | 8/20 [00:03<00:05,  2.12it/s]\u001b[A\u001b[A\u001b[A\u001b[A\u001b[A\u001b[A\u001b[A\u001b[A\u001b[A\u001b[A\u001b[A\u001b[A\u001b[A\u001b[A\u001b[A\u001b[A\u001b[A\u001b[A\u001b[A\u001b[A"
     ]
    },
    {
     "name": "stdout",
     "output_type": "stream",
     "text": [
      "Training meta-batch 8\n",
      "Train on 2640 samples, validate on 660 samples\n",
      "Epoch 1/10\n",
      "2640/2640 [==============================] - 0s 17us/step - loss: 0.6771 - acc: 0.5750 - val_loss: 0.6618 - val_acc: 0.7795\n",
      "Epoch 2/10\n",
      "2640/2640 [==============================] - 0s 17us/step - loss: 0.6769 - acc: 0.5687 - val_loss: 0.6569 - val_acc: 0.7545\n",
      "Epoch 3/10\n",
      "2640/2640 [==============================] - 0s 17us/step - loss: 0.6774 - acc: 0.5797 - val_loss: 0.6583 - val_acc: 0.7864\n",
      "Epoch 4/10\n",
      "2640/2640 [==============================] - 0s 16us/step - loss: 0.6772 - acc: 0.5682 - val_loss: 0.6645 - val_acc: 0.7682\n",
      "Epoch 5/10\n",
      "2640/2640 [==============================] - 0s 17us/step - loss: 0.6769 - acc: 0.5669 - val_loss: 0.6572 - val_acc: 0.7795\n",
      "Epoch 6/10\n",
      "2640/2640 [==============================] - 0s 17us/step - loss: 0.6771 - acc: 0.5792 - val_loss: 0.6657 - val_acc: 0.7462\n",
      "Epoch 7/10\n",
      "2640/2640 [==============================] - 0s 17us/step - loss: 0.6771 - acc: 0.5718 - val_loss: 0.6604 - val_acc: 0.7886\n",
      "Epoch 8/10\n",
      "2640/2640 [==============================] - 0s 18us/step - loss: 0.6770 - acc: 0.5767 - val_loss: 0.6612 - val_acc: 0.7811\n",
      "Epoch 9/10\n",
      "2640/2640 [==============================] - 0s 17us/step - loss: 0.6774 - acc: 0.5718 - val_loss: 0.6669 - val_acc: 0.7326\n",
      "Epoch 10/10\n",
      "2640/2640 [==============================] - 0s 17us/step - loss: 0.6771 - acc: 0.5714 - val_loss: 0.6576 - val_acc: 0.7848\n"
     ]
    },
    {
     "name": "stderr",
     "output_type": "stream",
     "text": [
      "\n",
      "\n",
      "\n",
      "\n",
      "\n",
      "\n",
      "\n",
      "\n",
      "\n",
      "\n",
      "\n",
      "\n",
      "\n",
      "\n",
      "\n",
      "\n",
      "\n",
      "\n",
      "\n",
      "\n",
      " 45%|████▌     | 9/20 [00:04<00:05,  2.14it/s]\u001b[A\u001b[A\u001b[A\u001b[A\u001b[A\u001b[A\u001b[A\u001b[A\u001b[A\u001b[A\u001b[A\u001b[A\u001b[A\u001b[A\u001b[A\u001b[A\u001b[A\u001b[A\u001b[A\u001b[A"
     ]
    },
    {
     "name": "stdout",
     "output_type": "stream",
     "text": [
      "Training meta-batch 9\n",
      "Train on 2640 samples, validate on 660 samples\n",
      "Epoch 1/10\n",
      "2640/2640 [==============================] - 0s 18us/step - loss: 0.6765 - acc: 0.5678 - val_loss: 0.6596 - val_acc: 0.7826\n",
      "Epoch 2/10\n",
      "2640/2640 [==============================] - 0s 16us/step - loss: 0.6758 - acc: 0.5706 - val_loss: 0.6547 - val_acc: 0.7712\n",
      "Epoch 3/10\n",
      "2640/2640 [==============================] - 0s 17us/step - loss: 0.6758 - acc: 0.5718 - val_loss: 0.6600 - val_acc: 0.7788\n",
      "Epoch 4/10\n",
      "2640/2640 [==============================] - 0s 17us/step - loss: 0.6756 - acc: 0.5735 - val_loss: 0.6589 - val_acc: 0.7803\n",
      "Epoch 5/10\n",
      "2640/2640 [==============================] - 0s 17us/step - loss: 0.6757 - acc: 0.5695 - val_loss: 0.6571 - val_acc: 0.7826\n",
      "Epoch 6/10\n",
      "2640/2640 [==============================] - 0s 17us/step - loss: 0.6757 - acc: 0.5701 - val_loss: 0.6531 - val_acc: 0.6652\n",
      "Epoch 7/10\n",
      "2640/2640 [==============================] - 0s 17us/step - loss: 0.6756 - acc: 0.5744 - val_loss: 0.6572 - val_acc: 0.7795\n",
      "Epoch 8/10\n",
      "2640/2640 [==============================] - 0s 17us/step - loss: 0.6753 - acc: 0.5665 - val_loss: 0.6549 - val_acc: 0.7765\n",
      "Epoch 9/10\n",
      "2640/2640 [==============================] - 0s 17us/step - loss: 0.6752 - acc: 0.5731 - val_loss: 0.6554 - val_acc: 0.7879\n",
      "Epoch 10/10\n",
      "2640/2640 [==============================] - 0s 16us/step - loss: 0.6752 - acc: 0.5661 - val_loss: 0.6560 - val_acc: 0.7803\n"
     ]
    },
    {
     "name": "stderr",
     "output_type": "stream",
     "text": [
      "\n",
      "\n",
      "\n",
      "\n",
      "\n",
      "\n",
      "\n",
      "\n",
      "\n",
      "\n",
      "\n",
      "\n",
      "\n",
      "\n",
      "\n",
      "\n",
      "\n",
      "\n",
      "\n",
      "\n",
      " 50%|█████     | 10/20 [00:04<00:04,  2.15it/s]\u001b[A\u001b[A\u001b[A\u001b[A\u001b[A\u001b[A\u001b[A\u001b[A\u001b[A\u001b[A\u001b[A\u001b[A\u001b[A\u001b[A\u001b[A\u001b[A\u001b[A\u001b[A\u001b[A\u001b[A"
     ]
    },
    {
     "name": "stdout",
     "output_type": "stream",
     "text": [
      "Training meta-batch 10\n",
      "Train on 2640 samples, validate on 660 samples\n",
      "Epoch 1/10\n",
      "2640/2640 [==============================] - 0s 17us/step - loss: 0.6751 - acc: 0.5722 - val_loss: 0.6551 - val_acc: 0.7856\n",
      "Epoch 2/10\n",
      "2640/2640 [==============================] - 0s 17us/step - loss: 0.6755 - acc: 0.5718 - val_loss: 0.6551 - val_acc: 0.7795\n",
      "Epoch 3/10\n",
      "2640/2640 [==============================] - 0s 18us/step - loss: 0.6748 - acc: 0.5737 - val_loss: 0.6567 - val_acc: 0.7780\n",
      "Epoch 4/10\n",
      "2640/2640 [==============================] - 0s 17us/step - loss: 0.6751 - acc: 0.5741 - val_loss: 0.6531 - val_acc: 0.7591\n",
      "Epoch 5/10\n",
      "2640/2640 [==============================] - 0s 16us/step - loss: 0.6748 - acc: 0.5716 - val_loss: 0.6573 - val_acc: 0.7780\n",
      "Epoch 6/10\n",
      "2640/2640 [==============================] - 0s 17us/step - loss: 0.6748 - acc: 0.5750 - val_loss: 0.6602 - val_acc: 0.7765\n",
      "Epoch 7/10\n",
      "2640/2640 [==============================] - 0s 18us/step - loss: 0.6746 - acc: 0.5672 - val_loss: 0.6535 - val_acc: 0.7682\n",
      "Epoch 8/10\n",
      "2640/2640 [==============================] - 0s 17us/step - loss: 0.6746 - acc: 0.5741 - val_loss: 0.6564 - val_acc: 0.7871\n",
      "Epoch 9/10\n",
      "2640/2640 [==============================] - 0s 17us/step - loss: 0.6745 - acc: 0.5718 - val_loss: 0.6511 - val_acc: 0.7333\n",
      "Epoch 10/10\n",
      "2640/2640 [==============================] - 0s 17us/step - loss: 0.6746 - acc: 0.5674 - val_loss: 0.6550 - val_acc: 0.7879\n"
     ]
    },
    {
     "name": "stderr",
     "output_type": "stream",
     "text": [
      "\n",
      "\n",
      "\n",
      "\n",
      "\n",
      "\n",
      "\n",
      "\n",
      "\n",
      "\n",
      "\n",
      "\n",
      "\n",
      "\n",
      "\n",
      "\n",
      "\n",
      "\n",
      "\n",
      "\n",
      " 55%|█████▌    | 11/20 [00:05<00:04,  2.15it/s]\u001b[A\u001b[A\u001b[A\u001b[A\u001b[A\u001b[A\u001b[A\u001b[A\u001b[A\u001b[A\u001b[A\u001b[A\u001b[A\u001b[A\u001b[A\u001b[A\u001b[A\u001b[A\u001b[A\u001b[A"
     ]
    },
    {
     "name": "stdout",
     "output_type": "stream",
     "text": [
      "Training meta-batch 11\n",
      "Train on 2640 samples, validate on 660 samples\n",
      "Epoch 1/10\n",
      "2640/2640 [==============================] - 0s 18us/step - loss: 0.6740 - acc: 0.5773 - val_loss: 0.6571 - val_acc: 0.7795\n",
      "Epoch 2/10\n",
      "2640/2640 [==============================] - 0s 17us/step - loss: 0.6741 - acc: 0.5731 - val_loss: 0.6514 - val_acc: 0.7614\n",
      "Epoch 3/10\n",
      "2640/2640 [==============================] - 0s 16us/step - loss: 0.6736 - acc: 0.5680 - val_loss: 0.6541 - val_acc: 0.7818\n",
      "Epoch 4/10\n",
      "2640/2640 [==============================] - 0s 19us/step - loss: 0.6740 - acc: 0.5684 - val_loss: 0.6550 - val_acc: 0.7886\n",
      "Epoch 5/10\n",
      "2640/2640 [==============================] - 0s 17us/step - loss: 0.6737 - acc: 0.5710 - val_loss: 0.6527 - val_acc: 0.7864\n",
      "Epoch 6/10\n",
      "2640/2640 [==============================] - 0s 17us/step - loss: 0.6734 - acc: 0.5727 - val_loss: 0.6528 - val_acc: 0.7826\n",
      "Epoch 7/10\n",
      "2640/2640 [==============================] - 0s 17us/step - loss: 0.6739 - acc: 0.5680 - val_loss: 0.6532 - val_acc: 0.7864\n",
      "Epoch 8/10\n",
      "2640/2640 [==============================] - 0s 16us/step - loss: 0.6730 - acc: 0.5714 - val_loss: 0.6529 - val_acc: 0.7886\n",
      "Epoch 9/10\n",
      "2640/2640 [==============================] - 0s 17us/step - loss: 0.6743 - acc: 0.5691 - val_loss: 0.6545 - val_acc: 0.7818\n",
      "Epoch 10/10\n",
      "2640/2640 [==============================] - 0s 17us/step - loss: 0.6737 - acc: 0.5723 - val_loss: 0.6516 - val_acc: 0.7803\n"
     ]
    },
    {
     "name": "stderr",
     "output_type": "stream",
     "text": [
      "\n",
      "\n",
      "\n",
      "\n",
      "\n",
      "\n",
      "\n",
      "\n",
      "\n",
      "\n",
      "\n",
      "\n",
      "\n",
      "\n",
      "\n",
      "\n",
      "\n",
      "\n",
      "\n",
      "\n",
      " 60%|██████    | 12/20 [00:05<00:03,  2.15it/s]\u001b[A\u001b[A\u001b[A\u001b[A\u001b[A\u001b[A\u001b[A\u001b[A\u001b[A\u001b[A\u001b[A\u001b[A\u001b[A\u001b[A\u001b[A\u001b[A\u001b[A\u001b[A\u001b[A\u001b[A"
     ]
    },
    {
     "name": "stdout",
     "output_type": "stream",
     "text": [
      "Training meta-batch 12\n",
      "Train on 2640 samples, validate on 660 samples\n",
      "Epoch 1/10\n",
      "2640/2640 [==============================] - 0s 17us/step - loss: 0.6732 - acc: 0.5701 - val_loss: 0.6530 - val_acc: 0.7864\n",
      "Epoch 2/10\n",
      "2640/2640 [==============================] - 0s 16us/step - loss: 0.6731 - acc: 0.5705 - val_loss: 0.6587 - val_acc: 0.7712\n",
      "Epoch 3/10\n",
      "2640/2640 [==============================] - 0s 17us/step - loss: 0.6736 - acc: 0.5725 - val_loss: 0.6608 - val_acc: 0.7667\n",
      "Epoch 4/10\n",
      "2640/2640 [==============================] - 0s 17us/step - loss: 0.6743 - acc: 0.5691 - val_loss: 0.6540 - val_acc: 0.7788\n",
      "Epoch 5/10\n",
      "2640/2640 [==============================] - 0s 18us/step - loss: 0.6727 - acc: 0.5703 - val_loss: 0.6496 - val_acc: 0.7402\n",
      "Epoch 6/10\n",
      "2640/2640 [==============================] - 0s 16us/step - loss: 0.6727 - acc: 0.5795 - val_loss: 0.6532 - val_acc: 0.7833\n",
      "Epoch 7/10\n",
      "2640/2640 [==============================] - 0s 17us/step - loss: 0.6726 - acc: 0.5710 - val_loss: 0.6561 - val_acc: 0.7788\n",
      "Epoch 8/10\n",
      "2640/2640 [==============================] - 0s 17us/step - loss: 0.6728 - acc: 0.5697 - val_loss: 0.6541 - val_acc: 0.7773\n",
      "Epoch 9/10\n",
      "2640/2640 [==============================] - 0s 17us/step - loss: 0.6724 - acc: 0.5723 - val_loss: 0.6483 - val_acc: 0.7614\n",
      "Epoch 10/10\n",
      "2640/2640 [==============================] - 0s 17us/step - loss: 0.6726 - acc: 0.5786 - val_loss: 0.6528 - val_acc: 0.7902\n"
     ]
    },
    {
     "name": "stderr",
     "output_type": "stream",
     "text": [
      "\n",
      "\n",
      "\n",
      "\n",
      "\n",
      "\n",
      "\n",
      "\n",
      "\n",
      "\n",
      "\n",
      "\n",
      "\n",
      "\n",
      "\n",
      "\n",
      "\n",
      "\n",
      "\n",
      "\n",
      " 65%|██████▌   | 13/20 [00:06<00:03,  2.16it/s]\u001b[A\u001b[A\u001b[A\u001b[A\u001b[A\u001b[A\u001b[A\u001b[A\u001b[A\u001b[A\u001b[A\u001b[A\u001b[A\u001b[A\u001b[A\u001b[A\u001b[A\u001b[A\u001b[A\u001b[A"
     ]
    },
    {
     "name": "stdout",
     "output_type": "stream",
     "text": [
      "Training meta-batch 13\n",
      "Train on 2640 samples, validate on 660 samples\n",
      "Epoch 1/10\n",
      "2640/2640 [==============================] - 0s 17us/step - loss: 0.6723 - acc: 0.5750 - val_loss: 0.6483 - val_acc: 0.7220\n",
      "Epoch 2/10\n",
      "2640/2640 [==============================] - 0s 17us/step - loss: 0.6728 - acc: 0.5701 - val_loss: 0.6498 - val_acc: 0.7742\n",
      "Epoch 3/10\n",
      "2640/2640 [==============================] - 0s 17us/step - loss: 0.6715 - acc: 0.5763 - val_loss: 0.6555 - val_acc: 0.7780\n",
      "Epoch 4/10\n",
      "2640/2640 [==============================] - 0s 16us/step - loss: 0.6729 - acc: 0.5748 - val_loss: 0.6557 - val_acc: 0.7788\n",
      "Epoch 5/10\n",
      "2640/2640 [==============================] - 0s 17us/step - loss: 0.6718 - acc: 0.5716 - val_loss: 0.6496 - val_acc: 0.7788\n",
      "Epoch 6/10\n",
      "2640/2640 [==============================] - 0s 18us/step - loss: 0.6719 - acc: 0.5759 - val_loss: 0.6531 - val_acc: 0.7780\n",
      "Epoch 7/10\n",
      "2640/2640 [==============================] - 0s 16us/step - loss: 0.6719 - acc: 0.5759 - val_loss: 0.6550 - val_acc: 0.7795\n",
      "Epoch 8/10\n",
      "2640/2640 [==============================] - 0s 17us/step - loss: 0.6719 - acc: 0.5716 - val_loss: 0.6522 - val_acc: 0.7788\n",
      "Epoch 9/10\n",
      "2640/2640 [==============================] - 0s 17us/step - loss: 0.6715 - acc: 0.5676 - val_loss: 0.6506 - val_acc: 0.7818\n",
      "Epoch 10/10\n",
      "2640/2640 [==============================] - 0s 21us/step - loss: 0.6720 - acc: 0.5712 - val_loss: 0.6545 - val_acc: 0.7795\n"
     ]
    },
    {
     "name": "stderr",
     "output_type": "stream",
     "text": [
      "\n",
      "\n",
      "\n",
      "\n",
      "\n",
      "\n",
      "\n",
      "\n",
      "\n",
      "\n",
      "\n",
      "\n",
      "\n",
      "\n",
      "\n",
      "\n",
      "\n",
      "\n",
      "\n",
      "\n",
      " 70%|███████   | 14/20 [00:06<00:02,  2.16it/s]\u001b[A\u001b[A\u001b[A\u001b[A\u001b[A\u001b[A\u001b[A\u001b[A\u001b[A\u001b[A\u001b[A\u001b[A\u001b[A\u001b[A\u001b[A\u001b[A\u001b[A\u001b[A\u001b[A\u001b[A"
     ]
    },
    {
     "name": "stdout",
     "output_type": "stream",
     "text": [
      "Training meta-batch 14\n",
      "Train on 2640 samples, validate on 660 samples\n",
      "Epoch 1/10\n",
      "2640/2640 [==============================] - 0s 17us/step - loss: 0.6716 - acc: 0.5722 - val_loss: 0.6495 - val_acc: 0.7674\n",
      "Epoch 2/10\n",
      "2640/2640 [==============================] - 0s 16us/step - loss: 0.6716 - acc: 0.5695 - val_loss: 0.6522 - val_acc: 0.7795\n",
      "Epoch 3/10\n",
      "2640/2640 [==============================] - 0s 17us/step - loss: 0.6719 - acc: 0.5723 - val_loss: 0.6528 - val_acc: 0.7803\n",
      "Epoch 4/10\n",
      "2640/2640 [==============================] - 0s 17us/step - loss: 0.6713 - acc: 0.5746 - val_loss: 0.6531 - val_acc: 0.7773\n",
      "Epoch 5/10\n",
      "2640/2640 [==============================] - 0s 17us/step - loss: 0.6715 - acc: 0.5697 - val_loss: 0.6500 - val_acc: 0.7811\n",
      "Epoch 6/10\n",
      "2640/2640 [==============================] - 0s 17us/step - loss: 0.6712 - acc: 0.5759 - val_loss: 0.6532 - val_acc: 0.7788\n",
      "Epoch 7/10\n",
      "2640/2640 [==============================] - 0s 16us/step - loss: 0.6707 - acc: 0.5691 - val_loss: 0.6503 - val_acc: 0.7811\n",
      "Epoch 8/10\n",
      "2640/2640 [==============================] - 0s 17us/step - loss: 0.6712 - acc: 0.5691 - val_loss: 0.6524 - val_acc: 0.7788\n",
      "Epoch 9/10\n",
      "2640/2640 [==============================] - 0s 17us/step - loss: 0.6709 - acc: 0.5714 - val_loss: 0.6519 - val_acc: 0.7811\n",
      "Epoch 10/10\n",
      "2640/2640 [==============================] - 0s 17us/step - loss: 0.6710 - acc: 0.5710 - val_loss: 0.6505 - val_acc: 0.7803\n"
     ]
    },
    {
     "name": "stderr",
     "output_type": "stream",
     "text": [
      "\n",
      "\n",
      "\n",
      "\n",
      "\n",
      "\n",
      "\n",
      "\n",
      "\n",
      "\n",
      "\n",
      "\n",
      "\n",
      "\n",
      "\n",
      "\n",
      "\n",
      "\n",
      "\n",
      "\n",
      " 75%|███████▌  | 15/20 [00:07<00:02,  2.17it/s]\u001b[A\u001b[A\u001b[A\u001b[A\u001b[A\u001b[A\u001b[A\u001b[A\u001b[A\u001b[A\u001b[A\u001b[A\u001b[A\u001b[A\u001b[A\u001b[A\u001b[A\u001b[A\u001b[A\u001b[A"
     ]
    },
    {
     "name": "stdout",
     "output_type": "stream",
     "text": [
      "Training meta-batch 15\n",
      "Train on 2640 samples, validate on 660 samples\n",
      "Epoch 1/10\n",
      "2640/2640 [==============================] - 0s 18us/step - loss: 0.6722 - acc: 0.5718 - val_loss: 0.6527 - val_acc: 0.7795\n",
      "Epoch 2/10\n",
      "2640/2640 [==============================] - 0s 18us/step - loss: 0.6710 - acc: 0.5741 - val_loss: 0.6481 - val_acc: 0.7750\n",
      "Epoch 3/10\n",
      "2640/2640 [==============================] - 0s 17us/step - loss: 0.6712 - acc: 0.5659 - val_loss: 0.6537 - val_acc: 0.7803\n",
      "Epoch 4/10\n",
      "2640/2640 [==============================] - 0s 23us/step - loss: 0.6720 - acc: 0.5706 - val_loss: 0.6479 - val_acc: 0.7720\n",
      "Epoch 5/10\n",
      "2640/2640 [==============================] - 0s 24us/step - loss: 0.6708 - acc: 0.5735 - val_loss: 0.6499 - val_acc: 0.7879\n",
      "Epoch 6/10\n",
      "2640/2640 [==============================] - 0s 20us/step - loss: 0.6714 - acc: 0.5750 - val_loss: 0.6490 - val_acc: 0.7712\n",
      "Epoch 7/10\n",
      "2640/2640 [==============================] - 0s 22us/step - loss: 0.6710 - acc: 0.5792 - val_loss: 0.6601 - val_acc: 0.7424\n",
      "Epoch 8/10\n",
      "2640/2640 [==============================] - 0s 22us/step - loss: 0.6713 - acc: 0.5720 - val_loss: 0.6534 - val_acc: 0.7818\n",
      "Epoch 9/10\n",
      "2640/2640 [==============================] - 0s 20us/step - loss: 0.6708 - acc: 0.5731 - val_loss: 0.6517 - val_acc: 0.7894\n",
      "Epoch 10/10\n",
      "2640/2640 [==============================] - 0s 20us/step - loss: 0.6702 - acc: 0.5720 - val_loss: 0.6464 - val_acc: 0.7409\n"
     ]
    },
    {
     "name": "stderr",
     "output_type": "stream",
     "text": [
      "\n",
      "\n",
      "\n",
      "\n",
      "\n",
      "\n",
      "\n",
      "\n",
      "\n",
      "\n",
      "\n",
      "\n",
      "\n",
      "\n",
      "\n",
      "\n",
      "\n",
      "\n",
      "\n",
      "\n",
      " 80%|████████  | 16/20 [00:07<00:01,  2.06it/s]\u001b[A\u001b[A\u001b[A\u001b[A\u001b[A\u001b[A\u001b[A\u001b[A\u001b[A\u001b[A\u001b[A\u001b[A\u001b[A\u001b[A\u001b[A\u001b[A\u001b[A\u001b[A\u001b[A\u001b[A"
     ]
    },
    {
     "name": "stdout",
     "output_type": "stream",
     "text": [
      "Training meta-batch 16\n",
      "Train on 2640 samples, validate on 660 samples\n",
      "Epoch 1/10\n",
      "2640/2640 [==============================] - 0s 23us/step - loss: 0.6720 - acc: 0.5727 - val_loss: 0.6497 - val_acc: 0.7879\n",
      "Epoch 2/10\n",
      "2640/2640 [==============================] - 0s 18us/step - loss: 0.6705 - acc: 0.5761 - val_loss: 0.6515 - val_acc: 0.7788\n",
      "Epoch 3/10\n",
      "2640/2640 [==============================] - 0s 16us/step - loss: 0.6704 - acc: 0.5710 - val_loss: 0.6491 - val_acc: 0.7689\n",
      "Epoch 4/10\n",
      "2640/2640 [==============================] - 0s 17us/step - loss: 0.6701 - acc: 0.5735 - val_loss: 0.6538 - val_acc: 0.7780\n",
      "Epoch 5/10\n",
      "2640/2640 [==============================] - 0s 17us/step - loss: 0.6709 - acc: 0.5735 - val_loss: 0.6588 - val_acc: 0.7523\n",
      "Epoch 6/10\n",
      "2640/2640 [==============================] - 0s 17us/step - loss: 0.6716 - acc: 0.5746 - val_loss: 0.6521 - val_acc: 0.7879\n",
      "Epoch 7/10\n",
      "2640/2640 [==============================] - 0s 17us/step - loss: 0.6706 - acc: 0.5731 - val_loss: 0.6453 - val_acc: 0.6788\n",
      "Epoch 8/10\n",
      "2640/2640 [==============================] - 0s 17us/step - loss: 0.6703 - acc: 0.5727 - val_loss: 0.6519 - val_acc: 0.7803\n",
      "Epoch 9/10\n",
      "2640/2640 [==============================] - 0s 17us/step - loss: 0.6707 - acc: 0.5701 - val_loss: 0.6468 - val_acc: 0.7659\n",
      "Epoch 10/10\n",
      "2640/2640 [==============================] - 0s 18us/step - loss: 0.6701 - acc: 0.5723 - val_loss: 0.6540 - val_acc: 0.7795\n"
     ]
    },
    {
     "name": "stderr",
     "output_type": "stream",
     "text": [
      "\n",
      "\n",
      "\n",
      "\n",
      "\n",
      "\n",
      "\n",
      "\n",
      "\n",
      "\n",
      "\n",
      "\n",
      "\n",
      "\n",
      "\n",
      "\n",
      "\n",
      "\n",
      "\n",
      "\n",
      " 85%|████████▌ | 17/20 [00:08<00:01,  2.06it/s]\u001b[A\u001b[A\u001b[A\u001b[A\u001b[A\u001b[A\u001b[A\u001b[A\u001b[A\u001b[A\u001b[A\u001b[A\u001b[A\u001b[A\u001b[A\u001b[A\u001b[A\u001b[A\u001b[A\u001b[A"
     ]
    },
    {
     "name": "stdout",
     "output_type": "stream",
     "text": [
      "Training meta-batch 17\n",
      "Train on 2640 samples, validate on 660 samples\n",
      "Epoch 1/10\n",
      "2640/2640 [==============================] - 0s 18us/step - loss: 0.6698 - acc: 0.5735 - val_loss: 0.6513 - val_acc: 0.7788\n",
      "Epoch 2/10\n",
      "2640/2640 [==============================] - 0s 17us/step - loss: 0.6708 - acc: 0.5670 - val_loss: 0.6505 - val_acc: 0.7795\n",
      "Epoch 3/10\n",
      "2640/2640 [==============================] - 0s 18us/step - loss: 0.6700 - acc: 0.5655 - val_loss: 0.6475 - val_acc: 0.7682\n",
      "Epoch 4/10\n",
      "2640/2640 [==============================] - 0s 17us/step - loss: 0.6699 - acc: 0.5708 - val_loss: 0.6485 - val_acc: 0.7818\n",
      "Epoch 5/10\n",
      "2640/2640 [==============================] - 0s 18us/step - loss: 0.6696 - acc: 0.5714 - val_loss: 0.6489 - val_acc: 0.7803\n",
      "Epoch 6/10\n",
      "2640/2640 [==============================] - 0s 16us/step - loss: 0.6695 - acc: 0.5699 - val_loss: 0.6528 - val_acc: 0.7833\n",
      "Epoch 7/10\n",
      "2640/2640 [==============================] - 0s 18us/step - loss: 0.6700 - acc: 0.5669 - val_loss: 0.6490 - val_acc: 0.7758\n",
      "Epoch 8/10\n",
      "2640/2640 [==============================] - 0s 17us/step - loss: 0.6710 - acc: 0.5756 - val_loss: 0.6524 - val_acc: 0.7811\n",
      "Epoch 9/10\n",
      "2640/2640 [==============================] - 0s 18us/step - loss: 0.6698 - acc: 0.5703 - val_loss: 0.6470 - val_acc: 0.7780\n",
      "Epoch 10/10\n",
      "2640/2640 [==============================] - 0s 17us/step - loss: 0.6696 - acc: 0.5727 - val_loss: 0.6486 - val_acc: 0.7788\n"
     ]
    },
    {
     "name": "stderr",
     "output_type": "stream",
     "text": [
      "\n",
      "\n",
      "\n",
      "\n",
      "\n",
      "\n",
      "\n",
      "\n",
      "\n",
      "\n",
      "\n",
      "\n",
      "\n",
      "\n",
      "\n",
      "\n",
      "\n",
      "\n",
      "\n",
      "\n",
      " 90%|█████████ | 18/20 [00:08<00:00,  2.09it/s]\u001b[A\u001b[A\u001b[A\u001b[A\u001b[A\u001b[A\u001b[A\u001b[A\u001b[A\u001b[A\u001b[A\u001b[A\u001b[A\u001b[A\u001b[A\u001b[A\u001b[A\u001b[A\u001b[A\u001b[A"
     ]
    },
    {
     "name": "stdout",
     "output_type": "stream",
     "text": [
      "Training meta-batch 18\n",
      "Train on 2640 samples, validate on 660 samples\n",
      "Epoch 1/10\n",
      "2640/2640 [==============================] - 0s 18us/step - loss: 0.6698 - acc: 0.5676 - val_loss: 0.6466 - val_acc: 0.7477\n",
      "Epoch 2/10\n",
      "2640/2640 [==============================] - 0s 17us/step - loss: 0.6697 - acc: 0.5689 - val_loss: 0.6457 - val_acc: 0.7644\n",
      "Epoch 3/10\n",
      "2640/2640 [==============================] - 0s 17us/step - loss: 0.6695 - acc: 0.5699 - val_loss: 0.6506 - val_acc: 0.7788\n",
      "Epoch 4/10\n",
      "2640/2640 [==============================] - 0s 21us/step - loss: 0.6692 - acc: 0.5714 - val_loss: 0.6534 - val_acc: 0.7773\n",
      "Epoch 5/10\n",
      "2640/2640 [==============================] - 0s 19us/step - loss: 0.6711 - acc: 0.5633 - val_loss: 0.6544 - val_acc: 0.7735\n",
      "Epoch 6/10\n",
      "2640/2640 [==============================] - 0s 18us/step - loss: 0.6704 - acc: 0.5695 - val_loss: 0.6501 - val_acc: 0.7788\n",
      "Epoch 7/10\n",
      "2640/2640 [==============================] - 0s 18us/step - loss: 0.6692 - acc: 0.5731 - val_loss: 0.6492 - val_acc: 0.7788\n",
      "Epoch 8/10\n",
      "2640/2640 [==============================] - 0s 17us/step - loss: 0.6697 - acc: 0.5708 - val_loss: 0.6477 - val_acc: 0.7659\n",
      "Epoch 9/10\n",
      "2640/2640 [==============================] - 0s 17us/step - loss: 0.6693 - acc: 0.5775 - val_loss: 0.6492 - val_acc: 0.7780\n",
      "Epoch 10/10\n",
      "2640/2640 [==============================] - 0s 16us/step - loss: 0.6694 - acc: 0.5699 - val_loss: 0.6486 - val_acc: 0.7803\n"
     ]
    },
    {
     "name": "stderr",
     "output_type": "stream",
     "text": [
      "\n",
      "\n",
      "\n",
      "\n",
      "\n",
      "\n",
      "\n",
      "\n",
      "\n",
      "\n",
      "\n",
      "\n",
      "\n",
      "\n",
      "\n",
      "\n",
      "\n",
      "\n",
      "\n",
      "\n",
      " 95%|█████████▌| 19/20 [00:09<00:00,  2.09it/s]\u001b[A\u001b[A\u001b[A\u001b[A\u001b[A\u001b[A\u001b[A\u001b[A\u001b[A\u001b[A\u001b[A\u001b[A\u001b[A\u001b[A\u001b[A\u001b[A\u001b[A\u001b[A\u001b[A\u001b[A"
     ]
    },
    {
     "name": "stdout",
     "output_type": "stream",
     "text": [
      "Training meta-batch 19\n",
      "Train on 2640 samples, validate on 660 samples\n",
      "Epoch 1/10\n",
      "2640/2640 [==============================] - 0s 17us/step - loss: 0.6692 - acc: 0.5723 - val_loss: 0.6518 - val_acc: 0.7795\n",
      "Epoch 2/10\n",
      "2640/2640 [==============================] - 0s 17us/step - loss: 0.6693 - acc: 0.5741 - val_loss: 0.6502 - val_acc: 0.7818\n",
      "Epoch 3/10\n",
      "2640/2640 [==============================] - 0s 17us/step - loss: 0.6695 - acc: 0.5706 - val_loss: 0.6498 - val_acc: 0.7788\n",
      "Epoch 4/10\n",
      "2640/2640 [==============================] - 0s 16us/step - loss: 0.6690 - acc: 0.5699 - val_loss: 0.6450 - val_acc: 0.7508\n",
      "Epoch 5/10\n",
      "2640/2640 [==============================] - 0s 17us/step - loss: 0.6699 - acc: 0.5729 - val_loss: 0.6555 - val_acc: 0.7652\n",
      "Epoch 6/10\n",
      "2640/2640 [==============================] - 0s 19us/step - loss: 0.6694 - acc: 0.5720 - val_loss: 0.6522 - val_acc: 0.7674\n",
      "Epoch 7/10\n",
      "2640/2640 [==============================] - 0s 17us/step - loss: 0.6700 - acc: 0.5780 - val_loss: 0.6534 - val_acc: 0.7780\n",
      "Epoch 8/10\n",
      "2640/2640 [==============================] - 0s 18us/step - loss: 0.6710 - acc: 0.5600 - val_loss: 0.6513 - val_acc: 0.7818\n",
      "Epoch 9/10\n",
      "2640/2640 [==============================] - 0s 16us/step - loss: 0.6693 - acc: 0.5699 - val_loss: 0.6512 - val_acc: 0.7788\n",
      "Epoch 10/10\n",
      "2640/2640 [==============================] - 0s 17us/step - loss: 0.6691 - acc: 0.5720 - val_loss: 0.6445 - val_acc: 0.6977\n"
     ]
    },
    {
     "name": "stderr",
     "output_type": "stream",
     "text": [
      "\n",
      "\n",
      "\n",
      "\n",
      "\n",
      "\n",
      "\n",
      "\n",
      "\n",
      "\n",
      "\n",
      "\n",
      "\n",
      "\n",
      "\n",
      "\n",
      "\n",
      "\n",
      "\n",
      "\n",
      "100%|██████████| 20/20 [00:09<00:00,  2.11it/s]\u001b[A\u001b[A\u001b[A\u001b[A\u001b[A\u001b[A\u001b[A\u001b[A\u001b[A\u001b[A\u001b[A\u001b[A\u001b[A\u001b[A\u001b[A\u001b[A\u001b[A\u001b[A\u001b[A\u001b[A"
     ]
    }
   ],
   "source": [
    "for i in tqdm(range(20)): \n",
    "    print('Training meta-batch %i'%i)\n",
    "    \n",
    "    n_epochs = 10\n",
    "    \n",
    "    batch = 64\n",
    "    \n",
    "    h = model.fit(X_train,y_train, epochs = n_epochs, verbose = 1, batch_size = batch, validation_data = (X_test,y_test))\n",
    "    history = np.append(history, h.history['acc'])\n",
    "    vhistory = np.append(vhistory, h.history['val_acc'])"
   ]
  },
  {
   "cell_type": "code",
   "execution_count": 499,
   "metadata": {},
   "outputs": [
    {
     "data": {
      "text/plain": [
       "[<matplotlib.lines.Line2D at 0x1c5a728550>]"
      ]
     },
     "execution_count": 499,
     "metadata": {},
     "output_type": "execute_result"
    },
    {
     "data": {
      "image/png": "[encoded data removed]",
      "text/plain": [
       "<Figure size 432x288 with 1 Axes>"
      ]
     },
     "metadata": {
      "needs_background": "light"
     },
     "output_type": "display_data"
    }
   ],
   "source": [
    "plt.plot(history)\n",
    "plt.plot(vhistory)"
   ]
  },
  {
   "cell_type": "code",
   "execution_count": 500,
   "metadata": {},
   "outputs": [],
   "source": [
    "preds = model.predict(X_test)"
   ]
  },
  {
   "cell_type": "code",
   "execution_count": 501,
   "metadata": {},
   "outputs": [],
   "source": [
    "preds_proba = model.predict(X_test)[:,1]"
   ]
  },
  {
   "cell_type": "code",
   "execution_count": 502,
   "metadata": {},
   "outputs": [],
   "source": [
    "fpr,tpr,_ = roc_curve(y_test[:,1], preds_proba)"
   ]
  },
  {
   "cell_type": "code",
   "execution_count": 503,
   "metadata": {},
   "outputs": [
    {
     "data": {
      "image/png": "[encoded data removed]",
      "text/plain": [
       "<Figure size 432x288 with 1 Axes>"
      ]
     },
     "metadata": {
      "needs_background": "light"
     },
     "output_type": "display_data"
    }
   ],
   "source": [
    "plt.plot(fpr,tpr)\n",
    "plt.xlabel('False Positive Rate')\n",
    "plt.ylabel('True Positive Rate')\n",
    "x = np.linspace(0,1,100)\n",
    "plt.plot(x,x,'k--')\n",
    "plt.text(0.5,0.1,'AUC = %.2f'%roc_auc_score(y_test[:,1],preds_proba), fontsize = 22);"
   ]
  },
  {
   "cell_type": "code",
   "execution_count": 428,
   "metadata": {},
   "outputs": [],
   "source": [
    "thresholds = np.linspace(0,1,100)\n",
    "scores = [];\n",
    "for threshold in thresholds:\n",
    "    bin_preds = preds_proba > threshold\n",
    "    scores.append(np.mean(bin_preds == y_test[:,1]))"
   ]
  },
  {
   "cell_type": "code",
   "execution_count": 429,
   "metadata": {},
   "outputs": [
    {
     "data": {
      "image/png": "[encoded data removed]",
      "text/plain": [
       "<Figure size 432x288 with 1 Axes>"
      ]
     },
     "metadata": {
      "needs_background": "light"
     },
     "output_type": "display_data"
    }
   ],
   "source": [
    "plt.plot(thresholds, scores)\n",
    "plt.ylabel('Accuracy')\n",
    "plt.xlabel('Decision Threshold');\n"
   ]
  },
  {
   "cell_type": "markdown",
   "metadata": {},
   "source": [
    "## Support Vector Machine"
   ]
  },
  {
   "cell_type": "code",
   "execution_count": 310,
   "metadata": {},
   "outputs": [],
   "source": [
    "X = np.asarray(pca_fdf[['eda_minimum','temp_minimum']])\n",
    "t = np.asarray(targets)\n",
    "\n",
    "sc = preprocessing.StandardScaler()\n",
    "X_scaled = sc.fit_transform(X)\n"
   ]
  },
  {
   "cell_type": "code",
   "execution_count": 311,
   "metadata": {},
   "outputs": [],
   "source": [
    "X_train, X_test, y_train, y_test = train_test_split(X_scaled,t)"
   ]
  },
  {
   "cell_type": "markdown",
   "metadata": {},
   "source": [
    "#### Hyperparameter Tuning"
   ]
  },
  {
   "cell_type": "code",
   "execution_count": 314,
   "metadata": {},
   "outputs": [
    {
     "name": "stderr",
     "output_type": "stream",
     "text": [
      "/Users/vedantchandra/anaconda3/lib/python3.7/site-packages/ipykernel_launcher.py:5: FutureWarning: arrays to stack must be passed as a \"sequence\" type such as list or tuple. Support for non-sequence iterables such as generators is deprecated as of NumPy 1.16 and will raise an error in the future.\n",
      "  \"\"\"\n"
     ]
    }
   ],
   "source": [
    "Cs = [.001,.01,.1,1, 100,1000];\n",
    "gs = [100,10,1, 0.1, 0.001];\n",
    "scores = [];\n",
    "\n",
    "hyperparams = np.vstack((product(np.array(Cs),np.array(gs))))"
   ]
  },
  {
   "cell_type": "code",
   "execution_count": 315,
   "metadata": {
    "scrolled": true
   },
   "outputs": [
    {
     "name": "stderr",
     "output_type": "stream",
     "text": [
      "  3%|▎         | 1/30 [00:00<00:05,  5.79it/s]"
     ]
    },
    {
     "name": "stdout",
     "output_type": "stream",
     "text": [
      "C = 0, gamma = 100.000000\n",
      "Score = 0.498\n",
      "C = 0, gamma = 10.000000\n"
     ]
    },
    {
     "name": "stderr",
     "output_type": "stream",
     "text": [
      " 10%|█         | 3/30 [00:00<00:04,  6.21it/s]"
     ]
    },
    {
     "name": "stdout",
     "output_type": "stream",
     "text": [
      "Score = 0.498\n",
      "C = 0, gamma = 1.000000\n",
      "Score = 0.498\n",
      "C = 0, gamma = 0.100000\n"
     ]
    },
    {
     "name": "stderr",
     "output_type": "stream",
     "text": [
      " 17%|█▋        | 5/30 [00:00<00:03,  6.45it/s]"
     ]
    },
    {
     "name": "stdout",
     "output_type": "stream",
     "text": [
      "Score = 0.498\n",
      "C = 0, gamma = 0.001000\n",
      "Score = 0.498\n",
      "C = 0, gamma = 100.000000\n"
     ]
    },
    {
     "name": "stderr",
     "output_type": "stream",
     "text": [
      " 23%|██▎       | 7/30 [00:01<00:03,  6.43it/s]"
     ]
    },
    {
     "name": "stdout",
     "output_type": "stream",
     "text": [
      "Score = 0.498\n",
      "C = 0, gamma = 10.000000\n",
      "Score = 0.613\n",
      "C = 0, gamma = 1.000000\n"
     ]
    },
    {
     "name": "stderr",
     "output_type": "stream",
     "text": [
      " 30%|███       | 9/30 [00:01<00:03,  6.44it/s]"
     ]
    },
    {
     "name": "stdout",
     "output_type": "stream",
     "text": [
      "Score = 0.648\n",
      "C = 0, gamma = 0.100000\n",
      "Score = 0.636\n",
      "C = 0, gamma = 0.001000\n"
     ]
    },
    {
     "name": "stderr",
     "output_type": "stream",
     "text": [
      " 37%|███▋      | 11/30 [00:01<00:02,  6.45it/s]"
     ]
    },
    {
     "name": "stdout",
     "output_type": "stream",
     "text": [
      "Score = 0.498\n",
      "C = 0, gamma = 100.000000\n",
      "Score = 0.661\n",
      "C = 0, gamma = 10.000000\n"
     ]
    },
    {
     "name": "stderr",
     "output_type": "stream",
     "text": [
      " 43%|████▎     | 13/30 [00:01<00:02,  6.67it/s]"
     ]
    },
    {
     "name": "stdout",
     "output_type": "stream",
     "text": [
      "Score = 0.676\n",
      "C = 0, gamma = 1.000000\n",
      "Score = 0.670\n",
      "C = 0, gamma = 0.100000\n"
     ]
    },
    {
     "name": "stderr",
     "output_type": "stream",
     "text": [
      " 50%|█████     | 15/30 [00:02<00:02,  6.66it/s]"
     ]
    },
    {
     "name": "stdout",
     "output_type": "stream",
     "text": [
      "Score = 0.641\n",
      "C = 0, gamma = 0.001000\n",
      "Score = 0.498\n",
      "C = 1, gamma = 100.000000\n"
     ]
    },
    {
     "name": "stderr",
     "output_type": "stream",
     "text": [
      " 57%|█████▋    | 17/30 [00:02<00:01,  6.92it/s]"
     ]
    },
    {
     "name": "stdout",
     "output_type": "stream",
     "text": [
      "Score = 0.750\n",
      "C = 1, gamma = 10.000000\n",
      "Score = 0.716\n",
      "C = 1, gamma = 1.000000\n"
     ]
    },
    {
     "name": "stderr",
     "output_type": "stream",
     "text": [
      " 63%|██████▎   | 19/30 [00:02<00:01,  7.06it/s]"
     ]
    },
    {
     "name": "stdout",
     "output_type": "stream",
     "text": [
      "Score = 0.692\n",
      "C = 1, gamma = 0.100000\n",
      "Score = 0.658\n",
      "C = 1, gamma = 0.001000\n"
     ]
    },
    {
     "name": "stderr",
     "output_type": "stream",
     "text": [
      "\r",
      " 67%|██████▋   | 20/30 [00:03<00:01,  6.93it/s]"
     ]
    },
    {
     "name": "stdout",
     "output_type": "stream",
     "text": [
      "Score = 0.628\n",
      "C = 100, gamma = 100.000000\n"
     ]
    },
    {
     "name": "stderr",
     "output_type": "stream",
     "text": [
      "\r",
      " 70%|███████   | 21/30 [00:03<00:02,  4.17it/s]"
     ]
    },
    {
     "name": "stdout",
     "output_type": "stream",
     "text": [
      "Score = 0.714\n",
      "C = 100, gamma = 10.000000\n"
     ]
    },
    {
     "name": "stderr",
     "output_type": "stream",
     "text": [
      "\r",
      " 73%|███████▎  | 22/30 [00:03<00:02,  3.84it/s]"
     ]
    },
    {
     "name": "stdout",
     "output_type": "stream",
     "text": [
      "Score = 0.748\n",
      "C = 100, gamma = 1.000000\n"
     ]
    },
    {
     "name": "stderr",
     "output_type": "stream",
     "text": [
      "\r",
      " 77%|███████▋  | 23/30 [00:04<00:01,  3.95it/s]"
     ]
    },
    {
     "name": "stdout",
     "output_type": "stream",
     "text": [
      "Score = 0.697\n",
      "C = 100, gamma = 0.100000\n"
     ]
    },
    {
     "name": "stderr",
     "output_type": "stream",
     "text": [
      " 83%|████████▎ | 25/30 [00:04<00:01,  4.72it/s]"
     ]
    },
    {
     "name": "stdout",
     "output_type": "stream",
     "text": [
      "Score = 0.673\n",
      "C = 100, gamma = 0.001000\n",
      "Score = 0.634\n",
      "C = 1000, gamma = 100.000000\n"
     ]
    },
    {
     "name": "stderr",
     "output_type": "stream",
     "text": [
      "\r",
      " 87%|████████▋ | 26/30 [00:07<00:03,  1.01it/s]"
     ]
    },
    {
     "name": "stdout",
     "output_type": "stream",
     "text": [
      "Score = 0.712\n",
      "C = 1000, gamma = 10.000000\n"
     ]
    },
    {
     "name": "stderr",
     "output_type": "stream",
     "text": [
      "\r",
      " 90%|█████████ | 27/30 [00:08<00:03,  1.13s/it]"
     ]
    },
    {
     "name": "stdout",
     "output_type": "stream",
     "text": [
      "Score = 0.747\n",
      "C = 1000, gamma = 1.000000\n"
     ]
    },
    {
     "name": "stderr",
     "output_type": "stream",
     "text": [
      "\r",
      " 93%|█████████▎| 28/30 [00:09<00:01,  1.02it/s]"
     ]
    },
    {
     "name": "stdout",
     "output_type": "stream",
     "text": [
      "Score = 0.688\n",
      "C = 1000, gamma = 0.100000\n"
     ]
    },
    {
     "name": "stderr",
     "output_type": "stream",
     "text": [
      "100%|██████████| 30/30 [00:09<00:00,  1.60it/s]"
     ]
    },
    {
     "name": "stdout",
     "output_type": "stream",
     "text": [
      "Score = 0.691\n",
      "C = 1000, gamma = 0.001000\n",
      "Score = 0.632\n"
     ]
    },
    {
     "name": "stderr",
     "output_type": "stream",
     "text": [
      "\n"
     ]
    }
   ],
   "source": [
    "for hp in tqdm(hyperparams):\n",
    "    C = hp[0]\n",
    "    g = hp[1]\n",
    "    print('C = %i, gamma = %.6f'%(C,g))\n",
    "    svc = SVC(gamma = g, C = C, kernel = 'rbf')\n",
    "    svc.fit(X_train,y_train)\n",
    "    score = svc.score(X_test,y_test)\n",
    "    scores.append(score)\n",
    "    print('Score = %.3f'%score)"
   ]
  },
  {
   "cell_type": "raw",
   "metadata": {
    "scrolled": true
   },
   "source": [
    "loo = LeaveOneOut()\n",
    "preds = [];\n",
    "for train_idx,test_idx in tqdm(loo.split(X)):\n",
    "    X_train,y_train = X_scaled[train_idx],t[train_idx]\n",
    "    X_test,y_test = X_scaled[test_idx],t[test_idx]\n",
    "    svc = SVC(gamma = 0.01, C = 800,tol = 0.01, kernel = 'rbf')\n",
    "    svc.fit(X_train,y_train)\n",
    "    preds.append(svc.predict(X_test)[0])"
   ]
  },
  {
   "cell_type": "code",
   "execution_count": 24,
   "metadata": {},
   "outputs": [
    {
     "data": {
      "text/plain": [
       "0.6946274708565636"
      ]
     },
     "execution_count": 24,
     "metadata": {},
     "output_type": "execute_result"
    }
   ],
   "source": [
    "svc = SVC(gamma = 0.1, C = 10000, tol = 0.01, kernel = 'rbf')\n",
    "svc.fit(X_train,y_train)\n",
    "svc.score(X_test,y_test)"
   ]
  }
 ],
 "metadata": {
  "kernelspec": {
   "display_name": "Python 3",
   "language": "python",
   "name": "python3"
  },
  "language_info": {
   "codemirror_mode": {
    "name": "ipython",
    "version": 3
   },
   "file_extension": ".py",
   "mimetype": "text/x-python",
   "name": "python",
   "nbconvert_exporter": "python",
   "pygments_lexer": "ipython3",
   "version": "3.7.3"
  }
 },
 "nbformat": 4,
 "nbformat_minor": 2
}
