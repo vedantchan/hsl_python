{
 "cells": [
  {
   "cell_type": "code",
   "execution_count": 118,
   "metadata": {},
   "outputs": [
    {
     "name": "stdout",
     "output_type": "stream",
     "text": [
      "/Users/apara/Desktop/Space_vestib_prelimdata/ak1/VANTAN\n"
     ]
    }
   ],
   "source": [
    "#Step 1: Import Relevant Bits of File\n",
    "\n",
    "import os\n",
    "import numpy as np\n",
    "\n",
    "#change this to make universal\n",
    "print(os.getcwd())\n",
    "my_directory = '/Users/apara/Desktop/Space_vestib_prelimdata' \n",
    "folder = 'ak1' #change this based on person\n",
    "\n",
    "def import_vantan(rootdir, foldername):\n",
    "\n",
    "    directory = rootdir + '/' + foldername + '/VANTAN' \n",
    "\n",
    "    os.chdir(directory)\n",
    "\n",
    "    for r, d, files in os.walk(directory):\n",
    "        for filename in files:\n",
    "            if \"VAN\" in filename:\n",
    "                #Naming Convention Loop\n",
    "                if 'si' in filename and 'up' in filename:\n",
    "                    f = open(filename, \"r+\")\n",
    "                    content = f.readlines()[4:]\n",
    "                    f.close()\n",
    "                    si_up_VAN = []\n",
    "                    for l in content:\n",
    "                        vantan_list = list(l.split())    \n",
    "                        si_up_VAN.append(float(vantan_list[5]))\n",
    "                elif 'si' in filename and 'p' in filename:\n",
    "                    f = open(filename, \"r+\")\n",
    "                    content = f.readlines()[4:]\n",
    "                    f.close()\n",
    "                    si_p_VAN = []\n",
    "                    for l in content:\n",
    "                        vantan_list = list(l.split())    \n",
    "                        si_p_VAN.append(float(vantan_list[5]))\n",
    "                elif 'st' in filename and 'up' in filename: \n",
    "                    f = open(filename, \"r+\")\n",
    "                    content = f.readlines()[4:]\n",
    "                    f.close()\n",
    "                    st_up_VAN = []\n",
    "                    for l in content:\n",
    "                        vantan_list = list(l.split())    \n",
    "                        st_up_VAN.append(float(vantan_list[5]))\n",
    "                elif 'st' in filename and 'p' in filename: \n",
    "                    f = open(filename, \"r+\")\n",
    "                    content = f.readlines()[4:]\n",
    "                    f.close()\n",
    "                    st_p_VAN = []\n",
    "                    for l in content:\n",
    "                        vantan_list = list(l.split())    \n",
    "                        st_p_VAN.append(float(vantan_list[5]))\n",
    "            elif \"TAN\" in filename: \n",
    "                if 'si' in filename and 'up' in filename:\n",
    "                    f = open(filename, \"r+\")\n",
    "                    content = f.readlines()[4:]\n",
    "                    f.close()\n",
    "                    si_up_TAN = []\n",
    "                    for l in content:\n",
    "                        vantan_list = list(l.split())    \n",
    "                        si_up_TAN.append(float(vantan_list[6]))\n",
    "                elif 'si' in filename and 'p' in filename:\n",
    "                    f = open(filename, \"r+\")\n",
    "                    content = f.readlines()[4:]\n",
    "                    f.close()\n",
    "                    si_p_TAN = []\n",
    "                    for l in content:\n",
    "                        vantan_list = list(l.split())    \n",
    "                        si_p_TAN.append(float(vantan_list[6]))\n",
    "                elif 'st' in filename and 'up' in filename: \n",
    "                    f = open(filename, \"r+\")\n",
    "                    content = f.readlines()[4:]\n",
    "                    f.close()\n",
    "                    st_up_TAN = []\n",
    "                    for l in content:\n",
    "                        vantan_list = list(l.split())    \n",
    "                        st_up_TAN.append(float(vantan_list[6]))\n",
    "                elif 'st' in filename and 'p' in filename: \n",
    "                    f = open(filename, \"r+\")\n",
    "                    content = f.readlines()[4:]\n",
    "                    f.close()\n",
    "                    st_p_TAN = []\n",
    "                    for l in content:\n",
    "                        vantan_list = list(l.split())    \n",
    "                        st_p_TAN.append(float(vantan_list[6]))\n",
    "    vantan_array = np.array([si_up_VAN, si_p_VAN, st_up_VAN, st_p_VAN, si_up_TAN, si_p_TAN, st_up_TAN, st_p_TAN])\n",
    "    return vantan_array\n",
    "\n",
    "vantan_array = import_vantan(my_directory, folder)\n"
   ]
  },
  {
   "cell_type": "code",
   "execution_count": 116,
   "metadata": {},
   "outputs": [
    {
     "name": "stdout",
     "output_type": "stream",
     "text": [
      "[-3.1 -2.   2.7 -1.7 -3.6 -4.  -1.5 -0.6 -0.7 -3.3 -4.8  2.1 -2.  -5.2\n",
      " -8.3 -4.6 -6.1 -6.1]\n",
      "[-5.7  0.5  0.2  0.2 -1.1  1.5  2.7 -6.6 -5.3 -0.5 -0.6 -3.3  1.7 -9.9\n",
      "  0.1 -6.1 -5.5 -7.5]\n",
      "[-3.8 -0.3 -1.9 -6.5 -0.1 -3.8 -0.6  0.2 -4.1 -2.4 -1.2 -2.7 -0.9 -2.\n",
      " -0.7 -0.4 -2.8 -3.9]\n",
      "[-8.2 -6.4 -4.9 -1.9  1.9 -9.7  1.7  3.4 -5.  -1.3  2.3  0.4  1.5 -5.1\n",
      "  1.4 -1.9  1.7 -2.3]\n",
      "[ 1.1 -0.5 -1.2 -0.7 -0.4  0.  -0.2 -0.2 -1.1  0.1 -0.7 -0.6 -0.3 -1.2\n",
      "  0.3 -1.6 -0.2 -0.6]\n",
      "[ 0.4 -0.2 -1.2  0.3  0.7  1.2 -0.5 -1.  -0.7  0.7 -0.5  0.1  0.9 -0.8\n",
      " -0.2  2.3 -0.9  0.3]\n",
      "[-0.1 -0.6  0.   0.3 -1.2 -0.9 -1.3 -2.8 -1.3  0.5 -0.2 -0.5  1.4 -2.1\n",
      "  1.   0.8  1.   0.2]\n",
      "[-1.4 -1.6  1.1  0.3 -0.7 -0.2 -0.1 -0.3  1.4 -1.1  0.5 -0.1 -0.5  0.1\n",
      " -0.1  1.7  0.3  0.8]\n",
      "[-3.1, -2.0, 2.7, -1.7, -3.6, -4.0, -1.5, -0.6, -0.7, -3.3, -4.8, 2.1, -2.0, -5.2, -8.3, -4.6, -6.1, -6.1]\n"
     ]
    }
   ],
   "source": [
    "#Step 3: Meaningful analysis: mean, mean of abs. value, more pos vs more neg, std, \n",
    "#Step 4: export to csv or graph a bunch of these?? \n",
    "\n",
    "for row in vantan_array:\n",
    "    print(row)\n",
    "\n"
   ]
  },
  {
   "cell_type": "code",
   "execution_count": null,
   "metadata": {},
   "outputs": [],
   "source": []
  },
  {
   "cell_type": "code",
   "execution_count": null,
   "metadata": {},
   "outputs": [],
   "source": []
  }
 ],
 "metadata": {
  "kernelspec": {
   "display_name": "Python 3",
   "language": "python",
   "name": "python3"
  },
  "language_info": {
   "codemirror_mode": {
    "name": "ipython",
    "version": 3
   },
   "file_extension": ".py",
   "mimetype": "text/x-python",
   "name": "python",
   "nbconvert_exporter": "python",
   "pygments_lexer": "ipython3",
   "version": "3.7.0"
  }
 },
 "nbformat": 4,
 "nbformat_minor": 2
}
