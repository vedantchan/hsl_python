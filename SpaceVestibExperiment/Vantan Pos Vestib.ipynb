{
 "cells": [
  {
   "cell_type": "code",
   "execution_count": 5,
   "metadata": {},
   "outputs": [
    {
     "name": "stdout",
     "output_type": "stream",
     "text": [
      "/Users/syt/Documents/GitHub/hsl_python/SpaceVestibExperiment/ak1/VANTAN\n"
     ]
    }
   ],
   "source": [
    "#Step 1: Import Relevant Bits of File\n",
    "\n",
    "import os\n",
    "import numpy as np\n",
    "\n",
    "#change this to make universal\n",
    "print(os.getcwd())\n",
    "my_directory = '/Users/syt/Documents/GitHub/hsl_python/SpaceVestibExperiment' \n",
    "folder = 'Ma1' #change this based on person\n",
    "\n"
   ]
  },
  {
   "cell_type": "code",
   "execution_count": 6,
   "metadata": {},
   "outputs": [],
   "source": [
    "def import_vantan(rootdir, foldername):\n",
    "\n",
    "    directory = rootdir + '/' + foldername + '/VANTAN' \n",
    "\n",
    "    os.chdir(directory)\n",
    "\n",
    "    for r, d, files in os.walk(directory):\n",
    "        for filename in files:\n",
    "            if \"VAN\" in filename:\n",
    "                #Naming Convention Loop\n",
    "                if 'si' in filename and 'up' in filename:\n",
    "                    f = open(filename, \"r+\")\n",
    "                    content = f.readlines()[4:]\n",
    "                    f.close()\n",
    "                    si_up_VAN = []\n",
    "                    for l in content:\n",
    "                        vantan_list = list(l.split())    \n",
    "                        si_up_VAN.append(float(vantan_list[5]))\n",
    "                elif 'si' in filename and 'p' in filename:\n",
    "                    f = open(filename, \"r+\")\n",
    "                    content = f.readlines()[4:]\n",
    "                    f.close()\n",
    "                    si_p_VAN = []\n",
    "                    for l in content:\n",
    "                        vantan_list = list(l.split())    \n",
    "                        si_p_VAN.append(float(vantan_list[5]))\n",
    "                elif 'st' in filename and 'up' in filename: \n",
    "                    f = open(filename, \"r+\")\n",
    "                    content = f.readlines()[4:]\n",
    "                    f.close()\n",
    "                    st_up_VAN = []\n",
    "                    for l in content:\n",
    "                        vantan_list = list(l.split())    \n",
    "                        st_up_VAN.append(float(vantan_list[5]))\n",
    "                elif 'st' in filename and 'p' in filename: \n",
    "                    f = open(filename, \"r+\")\n",
    "                    content = f.readlines()[4:]\n",
    "                    f.close()\n",
    "                    st_p_VAN = []\n",
    "                    for l in content:\n",
    "                        vantan_list = list(l.split())    \n",
    "                        st_p_VAN.append(float(vantan_list[5]))\n",
    "            elif \"TAN\" in filename: \n",
    "                if 'si' in filename and 'up' in filename:\n",
    "                    f = open(filename, \"r+\")\n",
    "                    content = f.readlines()[4:]\n",
    "                    f.close()\n",
    "                    si_up_TAN = []\n",
    "                    for l in content:\n",
    "                        vantan_list = list(l.split())    \n",
    "                        si_up_TAN.append(float(vantan_list[6]))\n",
    "                elif 'si' in filename and 'p' in filename:\n",
    "                    f = open(filename, \"r+\")\n",
    "                    content = f.readlines()[4:]\n",
    "                    f.close()\n",
    "                    si_p_TAN = []\n",
    "                    for l in content:\n",
    "                        vantan_list = list(l.split())    \n",
    "                        si_p_TAN.append(float(vantan_list[6]))\n",
    "                elif 'st' in filename and 'up' in filename: \n",
    "                    f = open(filename, \"r+\")\n",
    "                    content = f.readlines()[4:]\n",
    "                    f.close()\n",
    "                    st_up_TAN = []\n",
    "                    for l in content:\n",
    "                        vantan_list = list(l.split())    \n",
    "                        st_up_TAN.append(float(vantan_list[6]))\n",
    "                elif 'st' in filename and 'p' in filename: \n",
    "                    f = open(filename, \"r+\")\n",
    "                    content = f.readlines()[4:]\n",
    "                    f.close()\n",
    "                    st_p_TAN = []\n",
    "                    for l in content:\n",
    "                        vantan_list = list(l.split())    \n",
    "                        st_p_TAN.append(float(vantan_list[6]))\n",
    "    vantan_array = np.array([si_up_VAN, si_p_VAN, st_up_VAN, st_p_VAN, si_up_TAN, si_p_TAN, st_up_TAN, st_p_TAN])\n",
    "    return vantan_array\n",
    "\n",
    "vantan_array = import_vantan(my_directory, folder)\n"
   ]
  },
  {
   "cell_type": "code",
   "execution_count": 7,
   "metadata": {},
   "outputs": [
    {
     "name": "stdout",
     "output_type": "stream",
     "text": [
      "[ 1.7  1.3  1.6  0.9  0.6  3.4  1.1  1.9  0.2 -1.6  2.4 -2.1  3.3 -0.4\n",
      " -0.1 -1.9  2.3 -0.5]\n",
      "[ 0.9  4.6  0.4  0.6  0.  -1.7  2.6  0.8 -1.7  2.9 -0.8  0.3  0.3  2.6\n",
      "  0.8  3.8  3.2  3.8]\n",
      "[ 2.5  9.9  4.8  4.1  1.5 15.5 19.6  6.2  4.2 -8.7  2.1  4.2  2.5  6.3\n",
      "  4.9  0.3  4.4  0.5]\n",
      "[ 2.2  3.   6.4 10.4  6.1  4.1  6.9  4.4  6.  10.5  4.   5.6  4.4 10.2\n",
      "  7.3  6.3  4.6  8.9]\n",
      "[-0.1 -1.1 -2.  -0.8  1.5 -0.9 -0.3 -0.4  0.  -1.3 -0.7 -0.4  0.2  0.7\n",
      " -0.3  0.7  1.5  0. ]\n",
      "[-0.4 -2.3 -0.2 -1.  -0.3  0.6 -1.5 -0.4  0.  -0.6  0.2 -0.5 -0.6 -0.2\n",
      "  0.7 -0.5 -0.5 -0.4]\n",
      "[ 1.5  0.3  0.2 -0.4  0.2 -0.7 -0.3 -0.2 -1.2  0.   0.7  0.9 -0.2  0.2\n",
      " -0.2  0.5  1.1 -0.1]\n",
      "[-0.4  0.3  0.9  0.   0.2 -0.4 -0.4 -1.9  0.  -0.8  0.   0.1 -0.8 -0.9\n",
      "  0.6  0.4 -1.3  1. ]\n"
     ]
    }
   ],
   "source": [
    "#Step 3: Meaningful analysis: mean, mean of abs. value, more pos vs more neg, std, \n",
    "#Step 4: export to csv or graph a bunch of these?? \n",
    "\n",
    "for row in vantan_array:\n",
    "    print(row)\n",
    "\n"
   ]
  },
  {
   "cell_type": "code",
   "execution_count": 29,
   "metadata": {},
   "outputs": [
    {
     "name": "stdout",
     "output_type": "stream",
     "text": [
      "([1.5166666666666666, 0.25, 5.677777777777778, 0.5055555555555546, 0.7166666666666667, -0.11111111111111105, 0.49444444444444446, 0.08333333333333337], [2.5902777777777777, 3.388888888888889, 34.1520987654321, 5.894722222222222, 0.783858024691358, 0.4490432098765432, 0.4020061728395061, 0.5387654320987655], [6, 11, 16, 18, -6, -11, 1, -1])\n"
     ]
    }
   ],
   "source": [
    "def vantan_analysis_feats(vt_arr):\n",
    "    \n",
    "    means_abs = []\n",
    "    std = [];\n",
    "    pos_neg_diff = [];# (# of positive nums) - (#of negative nums)\n",
    "    \n",
    "    #mean_abs\n",
    "    for run in vt_arr:\n",
    "        means_abs.append(np.mean(abs(run)))\n",
    "    #change the p runs to be (mean of p runs) - (mean of up runs)\n",
    "    for i in [1,3,5,7]:\n",
    "        means_abs[i] = (means_abs[i]-means_abs[i-1])\n",
    "    \n",
    "    #standard deviation\n",
    "    for run in vt_arr:\n",
    "        std.append(np.var(run))\n",
    "        \n",
    "    #positive/negative difference\n",
    "    for run in vt_arr:  \n",
    "        pos = [];\n",
    "        neg = [];\n",
    "        for ind in run:\n",
    "            if ind > 0:\n",
    "                pos.append(ind)\n",
    "            elif ind < 0:\n",
    "                neg.append(ind)\n",
    "        pos_neg_diff.append(len(pos)-len(neg))\n",
    "    return means_abs, std, pos_neg_diff\n",
    "\n",
    "print(vantan_analysis_feats(vantan_array))"
   ]
  },
  {
   "cell_type": "code",
   "execution_count": null,
   "metadata": {},
   "outputs": [],
   "source": [
    "def stats_for_vantan(feat_arr)\n"
   ]
  },
  {
   "cell_type": "code",
   "execution_count": 18,
   "metadata": {},
   "outputs": [
    {
     "name": "stdout",
     "output_type": "stream",
     "text": [
      "2.1189138534559038\n",
      "4.489795918367347\n"
     ]
    }
   ],
   "source": [
    "arr = np.array([1,2,5,7,2,4,6,7,7,8,4,6,3,4])\n",
    "print(np.std(arr))\n",
    "print(np.var(arr))\n",
    "\n",
    "\n"
   ]
  },
  {
   "cell_type": "code",
   "execution_count": null,
   "metadata": {},
   "outputs": [],
   "source": []
  }
 ],
 "metadata": {
  "kernelspec": {
   "display_name": "Python 3",
   "language": "python",
   "name": "python3"
  },
  "language_info": {
   "codemirror_mode": {
    "name": "ipython",
    "version": 3
   },
   "file_extension": ".py",
   "mimetype": "text/x-python",
   "name": "python",
   "nbconvert_exporter": "python",
   "pygments_lexer": "ipython3",
   "version": "3.7.4"
  }
 },
 "nbformat": 4,
 "nbformat_minor": 2
}
