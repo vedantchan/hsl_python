{
 "cells": [
  {
   "cell_type": "code",
   "execution_count": 13,
   "metadata": {},
   "outputs": [
    {
     "name": "stdout",
     "output_type": "stream",
     "text": [
      "/Users/apara/Documents/GitHub/hsl_python/SpaceVestibExperiment/St1/VANTAN\n"
     ]
    }
   ],
   "source": [
    "#Step 1: Import Relevant Bits of File\n",
    "\n",
    "import os\n",
    "import numpy as np\n",
    "import pandas as pd\n",
    "import matplotlib.pyplot as plt\n",
    "\n",
    "\n",
    "#change this to make universal\n",
    "print(os.getcwd())\n",
    "my_directory = '/Users/Apara/Documents/GitHub/hsl_python/SpaceVestibExperiment' \n",
    "folder = 'Aw1' #change this based on person\n",
    "\n"
   ]
  },
  {
   "cell_type": "code",
   "execution_count": 14,
   "metadata": {},
   "outputs": [],
   "source": [
    "def import_vantan(rootdir, foldername):\n",
    "\n",
    "    directory = rootdir + '/' + foldername + '/VANTAN' \n",
    "\n",
    "    os.chdir(directory)\n",
    "\n",
    "    for r, d, files in os.walk(directory):\n",
    "        for filename in files:\n",
    "            if \"VAN\" in filename:\n",
    "                #Naming Convention Loop\n",
    "                if 'si' in filename and 'up' in filename:\n",
    "                    f = open(filename, \"r+\")\n",
    "                    content = f.readlines()[4:]\n",
    "                    f.close()\n",
    "                    si_up_VAN = []\n",
    "                    for l in content:\n",
    "                        vantan_list = list(l.split())    \n",
    "                        si_up_VAN.append(float(vantan_list[5]))\n",
    "                elif 'si' in filename and 'p' in filename:\n",
    "                    f = open(filename, \"r+\")\n",
    "                    content = f.readlines()[4:]\n",
    "                    f.close()\n",
    "                    si_p_VAN = []\n",
    "                    for l in content:\n",
    "                        vantan_list = list(l.split())    \n",
    "                        si_p_VAN.append(float(vantan_list[5]))\n",
    "                elif 'st' in filename and 'up' in filename: \n",
    "                    f = open(filename, \"r+\")\n",
    "                    content = f.readlines()[4:]\n",
    "                    f.close()\n",
    "                    st_up_VAN = []\n",
    "                    for l in content:\n",
    "                        vantan_list = list(l.split())    \n",
    "                        st_up_VAN.append(float(vantan_list[5]))\n",
    "                elif 'st' in filename and 'p' in filename: \n",
    "                    f = open(filename, \"r+\")\n",
    "                    content = f.readlines()[4:]\n",
    "                    f.close()\n",
    "                    st_p_VAN = []\n",
    "                    for l in content:\n",
    "                        vantan_list = list(l.split())    \n",
    "                        st_p_VAN.append(float(vantan_list[5]))\n",
    "            elif \"TAN\" in filename: \n",
    "                if 'si' in filename and 'up' in filename:\n",
    "                    f = open(filename, \"r+\")\n",
    "                    content = f.readlines()[4:]\n",
    "                    f.close()\n",
    "                    si_up_TAN = []\n",
    "                    for l in content:\n",
    "                        vantan_list = list(l.split())    \n",
    "                        si_up_TAN.append(float(vantan_list[6]))\n",
    "                elif 'si' in filename and 'p' in filename:\n",
    "                    f = open(filename, \"r+\")\n",
    "                    content = f.readlines()[4:]\n",
    "                    f.close()\n",
    "                    si_p_TAN = []\n",
    "                    for l in content:\n",
    "                        vantan_list = list(l.split())    \n",
    "                        si_p_TAN.append(float(vantan_list[6]))\n",
    "                elif 'st' in filename and 'up' in filename: \n",
    "                    f = open(filename, \"r+\")\n",
    "                    content = f.readlines()[4:]\n",
    "                    f.close()\n",
    "                    st_up_TAN = []\n",
    "                    for l in content:\n",
    "                        vantan_list = list(l.split())    \n",
    "                        st_up_TAN.append(float(vantan_list[6]))\n",
    "                elif 'st' in filename and 'p' in filename: \n",
    "                    f = open(filename, \"r+\")\n",
    "                    content = f.readlines()[4:]\n",
    "                    f.close()\n",
    "                    st_p_TAN = []\n",
    "                    for l in content:\n",
    "                        vantan_list = list(l.split())    \n",
    "                        st_p_TAN.append(float(vantan_list[6]))\n",
    "    vantan_array = np.array([si_up_VAN, si_p_VAN, st_up_VAN, st_p_VAN, si_up_TAN, si_p_TAN, st_up_TAN, st_p_TAN])\n",
    "    return vantan_array\n",
    "\n",
    "vantan_array = import_vantan(my_directory, folder)\n"
   ]
  },
  {
   "cell_type": "code",
   "execution_count": 21,
   "metadata": {
    "scrolled": true
   },
   "outputs": [
    {
     "name": "stdout",
     "output_type": "stream",
     "text": [
      "([28.849999999999998, 14.5, 32.47777777777778, 23.766666666666666, 0.6222222222222222, 1.7277777777777779, 0.7388888888888889, 1.261111111111111], [19.663481380467704, 13.416035181826262, 6.332768005957894, 7.84743411709982, 0.6516834799384524, 0.8173466556826152, 0.31996334666626514, 0.4668319813010159])\n"
     ]
    }
   ],
   "source": [
    "def vantan_analysis_feats(vt_arr):\n",
    "    \n",
    "    means_abs = []\n",
    "    std = [];\n",
    "    pos_neg_diff = [];# (# of positive nums) - (#of negative nums)\n",
    "    \n",
    "    #mean_abs\n",
    "    for run in vt_arr:\n",
    "        means_abs.append(np.mean(abs(run)))\n",
    "    #change the p runs to be (mean of p runs) - (mean of up runs)\n",
    "    #for i in [1,3,5,7]:\n",
    "        #means_abs[i] = (means_abs[i]-means_abs[i-1])\n",
    "    \n",
    "    #standard deviation\n",
    "    for run in vt_arr:\n",
    "        std.append(np.std(run))\n",
    "        \n",
    "    #positive/negative difference\n",
    "    for run in vt_arr:  \n",
    "        pos = [];\n",
    "        neg = [];\n",
    "        for ind in run:\n",
    "            if ind > 0:\n",
    "                pos.append(ind)\n",
    "            elif ind < 0:\n",
    "                neg.append(ind)\n",
    "        pos_neg_diff.append(len(pos)-len(neg))\n",
    "    return means_abs, std\n",
    "\n",
    "stats = (vantan_analysis_feats(vantan_array))\n",
    "print(stats)"
   ]
  },
  {
   "cell_type": "code",
   "execution_count": 22,
   "metadata": {},
   "outputs": [],
   "source": [
    "df_VAN = pd.DataFrame({\"Position\":[\"Sitting\", \"Standing\"], \n",
    "                   \"mean_up\":[stats[0][0], stats[0][1]],\n",
    "                    \"mean_p\": [stats[0][2], stats[0][3]],\n",
    "                   \"sd_up\":[stats[1][0],stats[1][1]],\n",
    "                    \"sd_p\":[stats[1][2],stats[1][3]]})\n",
    "\n",
    "df_TAN = pd.DataFrame({\"Position\":[\"Sitting\", \"Standing\"], \n",
    "                   \"mean_up\":[stats[0][4], stats[0][5]],\n",
    "                    \"mean_p\": [stats[0][6], stats[0][7]],\n",
    "                   \"sd_up\":[stats[1][4],stats[1][5]],\n",
    "                    \"sd_p\":[stats[1][6],stats[1][7]]})\n"
   ]
  },
  {
   "cell_type": "code",
   "execution_count": 23,
   "metadata": {},
   "outputs": [
    {
     "data": {
      "image/png": "[encoded data removed]",
      "text/plain": [
       "<Figure size 432x288 with 2 Axes>"
      ]
     },
     "metadata": {
      "needs_background": "light"
     },
     "output_type": "display_data"
    }
   ],
   "source": [
    "plt.subplot(1,2,1)\n",
    "plt.errorbar(np.arange(len(df_VAN['Position'])), df_VAN['mean_up'], yerr=df_VAN['sd_up'], ls='None', marker='o')\n",
    "plt.errorbar(np.arange(len(df_VAN['Position'])), df_VAN['mean_p'], yerr=df_VAN['sd_p'], ls='None', marker='x')\n",
    "ax = plt.gca()\n",
    "ax.xaxis.set_ticks(np.arange(len(df_VAN['Position'])))\n",
    "ax.xaxis.set_ticklabels(df_VAN['Position'], )\n",
    "plt.xlabel(\"Position\")\n",
    "plt.ylabel(\"Mean\")\n",
    "plt.title('VAN')\n",
    "plt.legend(['Unperturbed', 'Perturbed'], loc = 'lower center')\n",
    "\n",
    "plt.subplot(1,2,2)\n",
    "plt.errorbar(np.arange(len(df_TAN['Position'])), df_TAN['mean_up'], yerr=df_TAN['sd_up'], ls='None', marker='o')\n",
    "plt.errorbar(np.arange(len(df_TAN['Position'])), df_TAN['mean_p'], yerr=df_TAN['sd_p'], ls='None', marker='x')\n",
    "ax = plt.gca()\n",
    "ax.xaxis.set_ticks(np.arange(len(df_TAN['Position'])))\n",
    "ax.xaxis.set_ticklabels(df_TAN['Position'], )\n",
    "plt.xlabel(\"Position\")\n",
    "plt.ylabel(\"Mean\")\n",
    "plt.tight_layout()\n",
    "plt.title('TAN')\n",
    "plt.legend(['Unperturbed', 'Perturbed'], loc = 'lower center')\n",
    "plt.show()\n"
   ]
  },
  {
   "cell_type": "code",
   "execution_count": null,
   "metadata": {},
   "outputs": [],
   "source": []
  }
 ],
 "metadata": {
  "kernelspec": {
   "display_name": "Python 3",
   "language": "python",
   "name": "python3"
  },
  "language_info": {
   "codemirror_mode": {
    "name": "ipython",
    "version": 3
   },
   "file_extension": ".py",
   "mimetype": "text/x-python",
   "name": "python",
   "nbconvert_exporter": "python",
   "pygments_lexer": "ipython3",
   "version": "3.7.0"
  }
 },
 "nbformat": 4,
 "nbformat_minor": 2
}
