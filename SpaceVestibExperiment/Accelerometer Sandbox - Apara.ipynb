{
 "cells": [
  {
   "cell_type": "code",
   "execution_count": null,
   "metadata": {},
   "outputs": [],
   "source": []
  },
  {
   "cell_type": "code",
   "execution_count": 29,
   "metadata": {},
   "outputs": [
    {
     "name": "stdout",
     "output_type": "stream",
     "text": [
      "/Users/apara/Documents/GitHub/hsl_python/SpaceVestibExperiment/Ma1/Acc\n"
     ]
    }
   ],
   "source": [
    "#FUNCTION TO IMPORT ACCELEROMETER DATA\n",
    "import csv\n",
    "import os\n",
    "import numpy as np\n",
    "import scipy.stats as stats\n",
    "import random\n",
    "import math\n",
    "import matplotlib.pyplot as plt\n",
    "import plotly.graph_objects as go\n",
    "import scipy.signal as sig\n",
    "\n",
    "\n",
    "\n",
    "print(os.getcwd())\n",
    "my_directory = '/Users/apara/Documents/GitHub/hsl_python/SpaceVestibExperiment' \n",
    "folder = 'Ma1' #change this based on person\n",
    "\n",
    "def import_accel(rootdir, foldername):\n",
    "\n",
    "    directory = rootdir + '/' + foldername + '/Acc' \n",
    "\n",
    "    os.chdir(directory)\n",
    "\n",
    "    for r, d, files in os.walk(directory):\n",
    "        for filename in files:\n",
    "            if 'si' in filename and 'up' in filename:\n",
    "                si_up = np.loadtxt(filename, delimiter = ',', skiprows=1, usecols = (1,2,3,4,5,6))\n",
    "            elif 'si' in filename and 'p' in filename:\n",
    "                si_p = np.loadtxt(filename, delimiter = ',', skiprows=1, usecols = (1,2,3,4,5,6))\n",
    "            elif 'st' in filename and 'up' in filename: \n",
    "                st_up = np.loadtxt(filename, delimiter = ',', skiprows=1, usecols = (1,2,3,4,5,6))\n",
    "            elif 'st' in filename and 'p' in filename: \n",
    "                st_p = np.loadtxt(filename, delimiter = ',', skiprows=1, usecols = (1,2,3,4,5,6))    \n",
    "    return si_up.transpose(), si_p.transpose(), st_up.transpose(), st_p.transpose()\n",
    "\n",
    "ak_accel = import_accel(my_directory, folder) #ak_accel[0] = 6x400 matrix (only up1,sit)\n"
   ]
  },
  {
   "cell_type": "code",
   "execution_count": 10,
   "metadata": {},
   "outputs": [],
   "source": [
    "#These are all Vedant's stats functions from the shimmer file\n",
    "def scaled_correlation_time(signal1, signal2):\n",
    "    signal1 = (signal1 - np.mean(signal1))/np.std(signal1)\n",
    "    signal2 = (signal2 - np.mean(signal2))/np.std(signal2)\n",
    "    acorr = np.correlate(signal1, signal2, mode='full')\n",
    "    acorr = acorr[(acorr.size // 2 ):] / np.max(acorr)\n",
    "#     plt.plot(acorr)\n",
    "    tau = np.argmax([acorr < 1/np.exp(1)])\n",
    "    return tau / len(acorr)\n",
    "\n",
    "def signal_statistics(signal):\n",
    "    mean = np.mean(signal)\n",
    "    std = np.std(signal)\n",
    "    skewness = stats.skew(signal)\n",
    "    kurtosis = stats.kurtosis(signal)\n",
    "    maximum = np.max(signal)\n",
    "    minimum = np.min(signal)\n",
    "    iqr = stats.iqr(signal)\n",
    "    variation = stats.variation(signal)\n",
    "    entropy = stats.entropy(np.abs(signal))\n",
    "    corrtime = scaled_correlation_time(signal,signal)        \n",
    "    return np.asarray([mean, std, skewness, kurtosis, maximum, minimum, variation, entropy])\n",
    "\n",
    "def spectrum_statistics(signal):\n",
    "    fs,pxx = sig.periodogram(signal, fs = 50, nfft = 1000, scaling = 'density', detrend = 'constant')\n",
    "#   plt.plot(fs,pxx)\n",
    "    #plt.xlim(0,0.1)\n",
    "    peak = fs[np.argmax(pxx)]\n",
    "    peakmag = np.max(pxx)\n",
    "    integral = np.trapz(pxx,fs)\n",
    "    energy = np.dot(pxx,pxx)\n",
    "    shannon = np.sum(pxx*np.log(1/pxx))\n",
    "    return [peak, peakmag, integral, energy, shannon]\n"
   ]
  },
  {
   "cell_type": "code",
   "execution_count": 11,
   "metadata": {},
   "outputs": [],
   "source": [
    "#outputs a 4*6*8 array -- all the signal stats (all 4 phases, all 6 directions) per person\n",
    "\n",
    "def create_array(person):\n",
    "    signal_list = []\n",
    "    for run in range(4):\n",
    "        for measure in range(6):\n",
    "            new_list_measure = [signal_statistics(ak_accel[run][measure])]\n",
    "            signal_list.append(new_list_measure)\n",
    "\n",
    "    signal_arr = np.asarray(signal_list)\n",
    "    signal_arr = signal_arr.reshape(4,6,8)\n",
    "\n",
    "    return signal_arr\n"
   ]
  },
  {
   "cell_type": "code",
   "execution_count": 12,
   "metadata": {},
   "outputs": [
    {
     "data": {
      "image/png": "[encoded data removed]",
      "text/plain": [
       "<Figure size 432x288 with 1 Axes>"
      ]
     },
     "metadata": {
      "needs_background": "light"
     },
     "output_type": "display_data"
    }
   ],
   "source": [
    "i = 3 #input number from 0-3; representing UP-SI, P-SI, UP-ST, P-ST\n",
    "j = 3 #input number from 0-5; representing x,y,z linear and x,y,z rotational\n",
    "\n",
    "plt.plot(ak_accel[i][j])\n",
    "plt.show()\n"
   ]
  },
  {
   "cell_type": "code",
   "execution_count": 30,
   "metadata": {},
   "outputs": [
    {
     "ename": "NameError",
     "evalue": "name 'signal' is not defined",
     "output_type": "error",
     "traceback": [
      "\u001b[0;31m---------------------------------------------------------------------------\u001b[0m",
      "\u001b[0;31mNameError\u001b[0m                                 Traceback (most recent call last)",
      "\u001b[0;32m<ipython-input-30-6edda07e783e>\u001b[0m in \u001b[0;36m<module>\u001b[0;34m\u001b[0m\n\u001b[1;32m      2\u001b[0m \u001b[0mn\u001b[0m\u001b[0;34m,\u001b[0m \u001b[0mWn\u001b[0m \u001b[0;34m=\u001b[0m \u001b[0msig\u001b[0m\u001b[0;34m.\u001b[0m\u001b[0mbuttord\u001b[0m\u001b[0;34m(\u001b[0m\u001b[0;36m8\u001b[0m\u001b[0;34m/\u001b[0m\u001b[0;36m500\u001b[0m\u001b[0;34m,\u001b[0m \u001b[0;36m32\u001b[0m\u001b[0;34m/\u001b[0m\u001b[0;36m500\u001b[0m\u001b[0;34m,\u001b[0m \u001b[0;36m3\u001b[0m\u001b[0;34m,\u001b[0m \u001b[0;36m60\u001b[0m\u001b[0;34m)\u001b[0m\u001b[0;34m\u001b[0m\u001b[0m\n\u001b[1;32m      3\u001b[0m \u001b[0mb\u001b[0m\u001b[0;34m,\u001b[0m\u001b[0ma\u001b[0m \u001b[0;34m=\u001b[0m \u001b[0msig\u001b[0m\u001b[0;34m.\u001b[0m\u001b[0mbutter\u001b[0m\u001b[0;34m(\u001b[0m\u001b[0mn\u001b[0m\u001b[0;34m,\u001b[0m\u001b[0mWn\u001b[0m\u001b[0;34m)\u001b[0m\u001b[0;34m\u001b[0m\u001b[0m\n\u001b[0;32m----> 4\u001b[0;31m \u001b[0mnew_sig\u001b[0m \u001b[0;34m=\u001b[0m \u001b[0msig\u001b[0m\u001b[0;34m.\u001b[0m\u001b[0mlfilter\u001b[0m\u001b[0;34m(\u001b[0m\u001b[0mb\u001b[0m\u001b[0;34m,\u001b[0m\u001b[0ma\u001b[0m\u001b[0;34m,\u001b[0m\u001b[0msignal\u001b[0m\u001b[0;34m)\u001b[0m\u001b[0;34m\u001b[0m\u001b[0m\n\u001b[0m",
      "\u001b[0;31mNameError\u001b[0m: name 'signal' is not defined"
     ]
    }
   ],
   "source": [
    "#butterworth filter!!\n",
    "n, Wn = sig.buttord(8/500, 32/500, 3, 60)\n",
    "b,a = sig.butter(n,Wn)\n",
    "new_sig = sig.lfilter(b,a,signal)\n"
   ]
  },
  {
   "cell_type": "code",
   "execution_count": 21,
   "metadata": {},
   "outputs": [],
   "source": [
    "def accel_stats(subj_arr):\n",
    "    min_length = min(len(subj_arr[0][0]),len(subj_arr[1][0]),len(subj_arr[2][0]),len(subj_arr[3][0]),len(subj_arr[0][2]),len(subj_arr[1][2]),len(subj_arr[2][2]),len(subj_arr[3][2]))\n",
    "    \n",
    "    # t-test:\n",
    "    # unperturbed versus perturbed:\n",
    "    upvp_si_AP = stats.ttest_ind(subj_arr[0][0][0:min_length],subj_arr[1][0][0:min_length])\n",
    "    upvp_st_AP = stats.ttest_ind(subj_arr[2][0][0:min_length],subj_arr[3][0][0:min_length])\n",
    "    upvp_si_ML = stats.ttest_ind(subj_arr[0][2][0:min_length],subj_arr[1][2][0:min_length])\n",
    "    upvp_st_ML = stats.ttest_ind(subj_arr[2][2][0:min_length],subj_arr[3][2][0:min_length])\n",
    "    \n",
    "    #standing versus sitting\n",
    "    sivst_up_AP = stats.ttest_ind(subj_arr[0][0][0:min_length],subj_arr[2][0][0:min_length])\n",
    "    sivst_p_AP = stats.ttest_ind(subj_arr[1][0][0:min_length],subj_arr[3][0][0:min_length]) \n",
    "    sivst_up_ML = stats.ttest_ind(subj_arr[0][2][0:min_length],subj_arr[2][2][0:min_length])\n",
    "    sivst_p_ML = stats.ttest_ind(subj_arr[1][2][0:min_length],subj_arr[3][2][0:min_length])\n",
    "    \n",
    "    #extremes comparison\n",
    "    siup_v_stp_AP = stats.ttest_ind(subj_arr[0][0][0:min_length],subj_arr[3][0][0:min_length])\n",
    "    siup_v_stp_ML = stats.ttest_ind(subj_arr[0][2][0:min_length],subj_arr[3][2][0:min_length])\n",
    "    \n",
    "    #ttestarrVAN = np.array([upvp_si_VAN,upvp_st_VAN,sivst_up_VAN,sivst_p_VAN,siup_v_stp_VAN])\n",
    "    #ttestarrTAN = np.array([upvp_si_TAN,upvp_st_TAN,sivst_up_TAN,sivst_p_TAN,siup_v_stp_TAN])\n",
    "    #ttestarr = np.array([ttestarrVAN,ttestarrTAN])\n",
    "    ttestarr = np.array([upvp_si_AP,upvp_si_ML,upvp_st_AP,upvp_st_ML,sivst_up_AP,sivst_up_ML,sivst_p_AP,sivst_p_ML,siup_v_stp_AP,siup_v_stp_ML])\n",
    "    \n",
    "    # Mann-Whitney U test:\n",
    "    # unperturbed versus perturbed:\n",
    "    upvp_si_AP = stats.mannwhitneyu(subj_arr[0][0][0:min_length],subj_arr[1][0][0:min_length])\n",
    "    upvp_st_AP = stats.mannwhitneyu(subj_arr[2][0][0:min_length],subj_arr[3][0][0:min_length])\n",
    "    upvp_si_ML = stats.mannwhitneyu(subj_arr[0][2][0:min_length],subj_arr[1][2][0:min_length])\n",
    "    upvp_st_ML = stats.mannwhitneyu(subj_arr[2][2][0:min_length],subj_arr[3][2][0:min_length])\n",
    "    \n",
    "    #standing versus sitting\n",
    "    sivst_up_AP = stats.mannwhitneyu(subj_arr[0][0][0:min_length],subj_arr[2][0][0:min_length])\n",
    "    sivst_p_AP = stats.mannwhitneyu(subj_arr[1][0][0:min_length],subj_arr[3][0][0:min_length]) \n",
    "    sivst_up_ML = stats.mannwhitneyu(subj_arr[0][2][0:min_length],subj_arr[2][2][0:min_length])\n",
    "    sivst_p_ML = stats.mannwhitneyu(subj_arr[1][2][0:min_length],subj_arr[3][2][0:min_length])\n",
    "\n",
    "    \n",
    "    #extremes comparison\n",
    "    siup_v_stp_AP = stats.mannwhitneyu(subj_arr[0][0][0:min_length],subj_arr[3][0][0:min_length])\n",
    "    siup_v_stp_ML = stats.mannwhitneyu(subj_arr[0][2][0:min_length],subj_arr[3][2][0:min_length])\n",
    "\n",
    "    \n",
    "    #mannwhitneyarrVAN = np.array([upvp_si_VANmw,upvp_st_VANmw,sivst_up_VANmw,sivst_p_VANmw,siup_v_stp_VANmw])\n",
    "    #mannwhitneyarrTAN = np.array([upvp_si_TANmw,upvp_st_TANmw,sivst_up_TANmw,sivst_p_TANmw,siup_v_stp_TANmw])\n",
    "    #mannwhitneyarr = np.array([mannwhitneyarrVAN,mannwhitneyarrTAN])\n",
    "    mannwhitneyarr = np.array([upvp_si_AP,upvp_si_ML,upvp_st_AP,upvp_st_ML,sivst_up_AP,sivst_up_ML,sivst_p_AP,sivst_p_ML,siup_v_stp_AP,siup_v_stp_ML])\n",
    "    \n",
    "    # Kruskal Wallis test:\n",
    "    # unperturbed versus perturbed:\n",
    "    upvp_si_AP = stats.kruskal(subj_arr[0][0][0:min_length],subj_arr[1][0][0:min_length])\n",
    "    upvp_st_AP = stats.kruskal(subj_arr[2][0][0:min_length],subj_arr[3][0][0:min_length])\n",
    "    upvp_si_ML = stats.kruskal(subj_arr[0][2][0:min_length],subj_arr[1][2][0:min_length])\n",
    "    upvp_st_ML = stats.kruskal(subj_arr[2][2][0:min_length],subj_arr[3][2][0:min_length])\n",
    "\n",
    "    \n",
    "    #standing versus sitting\n",
    "    sivst_up_AP = stats.kruskal(subj_arr[0][0][0:min_length],subj_arr[2][0][0:min_length])\n",
    "    sivst_p_AP = stats.kruskal(subj_arr[1][0][0:min_length],subj_arr[3][0][0:min_length]) \n",
    "    sivst_up_ML = stats.kruskal(subj_arr[0][2][0:min_length],subj_arr[2][2][0:min_length])\n",
    "    sivst_p_ML = stats.kruskal(subj_arr[1][2][0:min_length],subj_arr[3][2][0:min_length])\n",
    "    \n",
    "    #extremes comparison\n",
    "    siup_v_stp_AP = stats.kruskal(subj_arr[0][0][0:min_length],subj_arr[3][0][0:min_length])\n",
    "    siup_v_stp_ML = stats.kruskal(subj_arr[0][2][0:min_length],subj_arr[3][2][0:min_length])\n",
    "\n",
    "    \n",
    "    #kruskalwallisarrVAN = np.array([upvp_si_VANk,upvp_st_VANk,sivst_up_VANk,sivst_p_VANk,siup_v_stp_VANk])\n",
    "    #kruskalwallisarrTAN = np.array([upvp_si_TANk,upvp_st_TANk,sivst_up_TANk,sivst_p_TANk,siup_v_stp_TANk])\n",
    "    #kruskalwallisarr = np.array([kruskalwallisarrVAN,kruskalwallisarrTAN])\n",
    "    kruskalwallisarr = np.array([upvp_si_AP,upvp_si_ML,upvp_st_AP,upvp_st_ML,sivst_up_AP,sivst_up_ML,sivst_p_AP,sivst_p_ML,siup_v_stp_AP,siup_v_stp_ML])\n",
    "   \n",
    "\n",
    "    #Wilcoxon signed-rank test \n",
    "    # unperturbed versus perturbed:\n",
    "    upvp_si_AP = stats.wilcoxon(subj_arr[0][0][0:min_length],subj_arr[1][0][0:min_length])\n",
    "    upvp_st_AP = stats.wilcoxon(subj_arr[2][0][0:min_length],subj_arr[3][0][0:min_length])\n",
    "    upvp_si_ML = stats.wilcoxon(subj_arr[0][2][0:min_length],subj_arr[1][2][0:min_length])\n",
    "    upvp_st_ML = stats.wilcoxon(subj_arr[2][2][0:min_length],subj_arr[3][2][0:min_length])\n",
    "\n",
    "    \n",
    "    #standing versus sitting\n",
    "    sivst_up_AP = stats.wilcoxon(subj_arr[0][0][0:min_length],subj_arr[2][0][0:min_length])\n",
    "    sivst_p_AP = stats.wilcoxon(subj_arr[1][0][0:min_length],subj_arr[3][0][0:min_length]) \n",
    "    sivst_up_ML = stats.wilcoxon(subj_arr[0][2][0:min_length],subj_arr[2][2][0:min_length])\n",
    "    sivst_p_ML = stats.wilcoxon(subj_arr[1][2][0:min_length],subj_arr[3][2][0:min_length])\n",
    "    \n",
    "    #extremes comparison\n",
    "    siup_v_stp_AP = stats.wilcoxon(subj_arr[0][0][0:min_length],subj_arr[3][0][0:min_length])\n",
    "    siup_v_stp_ML = stats.wilcoxon(subj_arr[0][2][0:min_length],subj_arr[3][2][0:min_length])\n",
    "\n",
    "    \n",
    "    #wilcoxonarrVAN = np.array([upvp_si_VANw,upvp_st_VANw,sivst_up_VANw,sivst_p_VANw,siup_v_stp_VANw])\n",
    "    #wilcoxonarrTAN = np.array([upvp_si_TANw,upvp_st_TANw,sivst_up_TANw,sivst_p_TANw,siup_v_stp_TANw])\n",
    "    #wilcoxonarr = np.array([wilcoxonarrVAN,wilcoxonarrTAN])\n",
    "    wilcoxonarr = np.array([upvp_si_AP,upvp_si_ML,upvp_st_AP,upvp_st_ML,sivst_up_AP,sivst_up_ML,sivst_p_AP,sivst_p_ML,siup_v_stp_AP,siup_v_stp_ML])\n",
    "    \n",
    "    return ttestarr, mannwhitneyarr, kruskalwallisarr, wilcoxonarr\n",
    "\n",
    "s1_statisticsarr = accel_stats(ak_accel)"
   ]
  },
  {
   "cell_type": "code",
   "execution_count": 27,
   "metadata": {},
   "outputs": [
    {
     "data": {
      "application/vnd.plotly.v1+json": {
       "config": {
        "plotlyServerURL": "https://plot.ly"
       },
       "data": [
        {
         "cells": {
          "align": "left",
          "values": [
           [
            "UP vs. P: SI (VAN)",
            "UP vs. P: SI (TAN)",
            "UP vs. P: ST (VAN)",
            "UP vs. P: ST (TAN)",
            "SI vs. ST: UP (VAN)",
            "SI vs. ST: UP (TAN)",
            "SI vs. ST: P (VAN)",
            "SI vs. ST: P (TAN)",
            "UP SI vs. P ST (VAN)",
            "UP SI vs. P ST (TAN)"
           ],
           [
            7.34e-55,
            0,
            2.32e-10,
            1.36e-104,
            3.59e-78,
            0,
            1.2e-35,
            1.06e-104,
            1.32e-22,
            0
           ],
           [
            1.08e-47,
            2.95e-124,
            5.04e-10,
            4.16e-81,
            7.3e-81,
            3.16e-124,
            1.47e-34,
            8.15e-84,
            6.55e-25,
            3.17e-124
           ],
           [
            2.15e-47,
            5.88e-124,
            1.01e-09,
            8.29e-81,
            1.46e-80,
            6.3e-124,
            2.93e-34,
            1.62e-83,
            1.31e-24,
            6.32e-124
           ],
           [
            1.58e-34,
            4.71e-63,
            1.57e-10,
            1.32e-58,
            4.2e-50,
            4.81e-63,
            3.01e-33,
            1.33e-51,
            1.73e-20,
            4.82e-63
           ]
          ]
         },
         "columnorder": [
          1,
          2,
          3,
          4,
          5
         ],
         "columnwidth": [
          400,
          500
         ],
         "header": {
          "align": "left",
          "values": [
           "Comparison",
           "T-test",
           "Mann-Whitney U",
           "Kruskal Wallis",
           "Wilcoxon"
          ]
         },
         "type": "table"
        }
       ],
       "layout": {
        "template": {
         "data": {
          "bar": [
           {
            "error_x": {
             "color": "#2a3f5f"
            },
            "error_y": {
             "color": "#2a3f5f"
            },
            "marker": {
             "line": {
              "color": "#E5ECF6",
              "width": 0.5
             }
            },
            "type": "bar"
           }
          ],
          "barpolar": [
           {
            "marker": {
             "line": {
              "color": "#E5ECF6",
              "width": 0.5
             }
            },
            "type": "barpolar"
           }
          ],
          "carpet": [
           {
            "aaxis": {
             "endlinecolor": "#2a3f5f",
             "gridcolor": "white",
             "linecolor": "white",
             "minorgridcolor": "white",
             "startlinecolor": "#2a3f5f"
            },
            "baxis": {
             "endlinecolor": "#2a3f5f",
             "gridcolor": "white",
             "linecolor": "white",
             "minorgridcolor": "white",
             "startlinecolor": "#2a3f5f"
            },
            "type": "carpet"
           }
          ],
          "choropleth": [
           {
            "colorbar": {
             "outlinewidth": 0,
             "ticks": ""
            },
            "type": "choropleth"
           }
          ],
          "contour": [
           {
            "colorbar": {
             "outlinewidth": 0,
             "ticks": ""
            },
            "colorscale": [
             [
              0,
              "#0d0887"
             ],
             [
              0.1111111111111111,
              "#46039f"
             ],
             [
              0.2222222222222222,
              "#7201a8"
             ],
             [
              0.3333333333333333,
              "#9c179e"
             ],
             [
              0.4444444444444444,
              "#bd3786"
             ],
             [
              0.5555555555555556,
              "#d8576b"
             ],
             [
              0.6666666666666666,
              "#ed7953"
             ],
             [
              0.7777777777777778,
              "#fb9f3a"
             ],
             [
              0.8888888888888888,
              "#fdca26"
             ],
             [
              1,
              "#f0f921"
             ]
            ],
            "type": "contour"
           }
          ],
          "contourcarpet": [
           {
            "colorbar": {
             "outlinewidth": 0,
             "ticks": ""
            },
            "type": "contourcarpet"
           }
          ],
          "heatmap": [
           {
            "colorbar": {
             "outlinewidth": 0,
             "ticks": ""
            },
            "colorscale": [
             [
              0,
              "#0d0887"
             ],
             [
              0.1111111111111111,
              "#46039f"
             ],
             [
              0.2222222222222222,
              "#7201a8"
             ],
             [
              0.3333333333333333,
              "#9c179e"
             ],
             [
              0.4444444444444444,
              "#bd3786"
             ],
             [
              0.5555555555555556,
              "#d8576b"
             ],
             [
              0.6666666666666666,
              "#ed7953"
             ],
             [
              0.7777777777777778,
              "#fb9f3a"
             ],
             [
              0.8888888888888888,
              "#fdca26"
             ],
             [
              1,
              "#f0f921"
             ]
            ],
            "type": "heatmap"
           }
          ],
          "heatmapgl": [
           {
            "colorbar": {
             "outlinewidth": 0,
             "ticks": ""
            },
            "colorscale": [
             [
              0,
              "#0d0887"
             ],
             [
              0.1111111111111111,
              "#46039f"
             ],
             [
              0.2222222222222222,
              "#7201a8"
             ],
             [
              0.3333333333333333,
              "#9c179e"
             ],
             [
              0.4444444444444444,
              "#bd3786"
             ],
             [
              0.5555555555555556,
              "#d8576b"
             ],
             [
              0.6666666666666666,
              "#ed7953"
             ],
             [
              0.7777777777777778,
              "#fb9f3a"
             ],
             [
              0.8888888888888888,
              "#fdca26"
             ],
             [
              1,
              "#f0f921"
             ]
            ],
            "type": "heatmapgl"
           }
          ],
          "histogram": [
           {
            "marker": {
             "colorbar": {
              "outlinewidth": 0,
              "ticks": ""
             }
            },
            "type": "histogram"
           }
          ],
          "histogram2d": [
           {
            "colorbar": {
             "outlinewidth": 0,
             "ticks": ""
            },
            "colorscale": [
             [
              0,
              "#0d0887"
             ],
             [
              0.1111111111111111,
              "#46039f"
             ],
             [
              0.2222222222222222,
              "#7201a8"
             ],
             [
              0.3333333333333333,
              "#9c179e"
             ],
             [
              0.4444444444444444,
              "#bd3786"
             ],
             [
              0.5555555555555556,
              "#d8576b"
             ],
             [
              0.6666666666666666,
              "#ed7953"
             ],
             [
              0.7777777777777778,
              "#fb9f3a"
             ],
             [
              0.8888888888888888,
              "#fdca26"
             ],
             [
              1,
              "#f0f921"
             ]
            ],
            "type": "histogram2d"
           }
          ],
          "histogram2dcontour": [
           {
            "colorbar": {
             "outlinewidth": 0,
             "ticks": ""
            },
            "colorscale": [
             [
              0,
              "#0d0887"
             ],
             [
              0.1111111111111111,
              "#46039f"
             ],
             [
              0.2222222222222222,
              "#7201a8"
             ],
             [
              0.3333333333333333,
              "#9c179e"
             ],
             [
              0.4444444444444444,
              "#bd3786"
             ],
             [
              0.5555555555555556,
              "#d8576b"
             ],
             [
              0.6666666666666666,
              "#ed7953"
             ],
             [
              0.7777777777777778,
              "#fb9f3a"
             ],
             [
              0.8888888888888888,
              "#fdca26"
             ],
             [
              1,
              "#f0f921"
             ]
            ],
            "type": "histogram2dcontour"
           }
          ],
          "mesh3d": [
           {
            "colorbar": {
             "outlinewidth": 0,
             "ticks": ""
            },
            "type": "mesh3d"
           }
          ],
          "parcoords": [
           {
            "line": {
             "colorbar": {
              "outlinewidth": 0,
              "ticks": ""
             }
            },
            "type": "parcoords"
           }
          ],
          "pie": [
           {
            "automargin": true,
            "type": "pie"
           }
          ],
          "scatter": [
           {
            "marker": {
             "colorbar": {
              "outlinewidth": 0,
              "ticks": ""
             }
            },
            "type": "scatter"
           }
          ],
          "scatter3d": [
           {
            "line": {
             "colorbar": {
              "outlinewidth": 0,
              "ticks": ""
             }
            },
            "marker": {
             "colorbar": {
              "outlinewidth": 0,
              "ticks": ""
             }
            },
            "type": "scatter3d"
           }
          ],
          "scattercarpet": [
           {
            "marker": {
             "colorbar": {
              "outlinewidth": 0,
              "ticks": ""
             }
            },
            "type": "scattercarpet"
           }
          ],
          "scattergeo": [
           {
            "marker": {
             "colorbar": {
              "outlinewidth": 0,
              "ticks": ""
             }
            },
            "type": "scattergeo"
           }
          ],
          "scattergl": [
           {
            "marker": {
             "colorbar": {
              "outlinewidth": 0,
              "ticks": ""
             }
            },
            "type": "scattergl"
           }
          ],
          "scattermapbox": [
           {
            "marker": {
             "colorbar": {
              "outlinewidth": 0,
              "ticks": ""
             }
            },
            "type": "scattermapbox"
           }
          ],
          "scatterpolar": [
           {
            "marker": {
             "colorbar": {
              "outlinewidth": 0,
              "ticks": ""
             }
            },
            "type": "scatterpolar"
           }
          ],
          "scatterpolargl": [
           {
            "marker": {
             "colorbar": {
              "outlinewidth": 0,
              "ticks": ""
             }
            },
            "type": "scatterpolargl"
           }
          ],
          "scatterternary": [
           {
            "marker": {
             "colorbar": {
              "outlinewidth": 0,
              "ticks": ""
             }
            },
            "type": "scatterternary"
           }
          ],
          "surface": [
           {
            "colorbar": {
             "outlinewidth": 0,
             "ticks": ""
            },
            "colorscale": [
             [
              0,
              "#0d0887"
             ],
             [
              0.1111111111111111,
              "#46039f"
             ],
             [
              0.2222222222222222,
              "#7201a8"
             ],
             [
              0.3333333333333333,
              "#9c179e"
             ],
             [
              0.4444444444444444,
              "#bd3786"
             ],
             [
              0.5555555555555556,
              "#d8576b"
             ],
             [
              0.6666666666666666,
              "#ed7953"
             ],
             [
              0.7777777777777778,
              "#fb9f3a"
             ],
             [
              0.8888888888888888,
              "#fdca26"
             ],
             [
              1,
              "#f0f921"
             ]
            ],
            "type": "surface"
           }
          ],
          "table": [
           {
            "cells": {
             "fill": {
              "color": "#EBF0F8"
             },
             "line": {
              "color": "white"
             }
            },
            "header": {
             "fill": {
              "color": "#C8D4E3"
             },
             "line": {
              "color": "white"
             }
            },
            "type": "table"
           }
          ]
         },
         "layout": {
          "annotationdefaults": {
           "arrowcolor": "#2a3f5f",
           "arrowhead": 0,
           "arrowwidth": 1
          },
          "coloraxis": {
           "colorbar": {
            "outlinewidth": 0,
            "ticks": ""
           }
          },
          "colorscale": {
           "diverging": [
            [
             0,
             "#8e0152"
            ],
            [
             0.1,
             "#c51b7d"
            ],
            [
             0.2,
             "#de77ae"
            ],
            [
             0.3,
             "#f1b6da"
            ],
            [
             0.4,
             "#fde0ef"
            ],
            [
             0.5,
             "#f7f7f7"
            ],
            [
             0.6,
             "#e6f5d0"
            ],
            [
             0.7,
             "#b8e186"
            ],
            [
             0.8,
             "#7fbc41"
            ],
            [
             0.9,
             "#4d9221"
            ],
            [
             1,
             "#276419"
            ]
           ],
           "sequential": [
            [
             0,
             "#0d0887"
            ],
            [
             0.1111111111111111,
             "#46039f"
            ],
            [
             0.2222222222222222,
             "#7201a8"
            ],
            [
             0.3333333333333333,
             "#9c179e"
            ],
            [
             0.4444444444444444,
             "#bd3786"
            ],
            [
             0.5555555555555556,
             "#d8576b"
            ],
            [
             0.6666666666666666,
             "#ed7953"
            ],
            [
             0.7777777777777778,
             "#fb9f3a"
            ],
            [
             0.8888888888888888,
             "#fdca26"
            ],
            [
             1,
             "#f0f921"
            ]
           ],
           "sequentialminus": [
            [
             0,
             "#0d0887"
            ],
            [
             0.1111111111111111,
             "#46039f"
            ],
            [
             0.2222222222222222,
             "#7201a8"
            ],
            [
             0.3333333333333333,
             "#9c179e"
            ],
            [
             0.4444444444444444,
             "#bd3786"
            ],
            [
             0.5555555555555556,
             "#d8576b"
            ],
            [
             0.6666666666666666,
             "#ed7953"
            ],
            [
             0.7777777777777778,
             "#fb9f3a"
            ],
            [
             0.8888888888888888,
             "#fdca26"
            ],
            [
             1,
             "#f0f921"
            ]
           ]
          },
          "colorway": [
           "#636efa",
           "#EF553B",
           "#00cc96",
           "#ab63fa",
           "#FFA15A",
           "#19d3f3",
           "#FF6692",
           "#B6E880",
           "#FF97FF",
           "#FECB52"
          ],
          "font": {
           "color": "#2a3f5f"
          },
          "geo": {
           "bgcolor": "white",
           "lakecolor": "white",
           "landcolor": "#E5ECF6",
           "showlakes": true,
           "showland": true,
           "subunitcolor": "white"
          },
          "hoverlabel": {
           "align": "left"
          },
          "hovermode": "closest",
          "mapbox": {
           "style": "light"
          },
          "paper_bgcolor": "white",
          "plot_bgcolor": "#E5ECF6",
          "polar": {
           "angularaxis": {
            "gridcolor": "white",
            "linecolor": "white",
            "ticks": ""
           },
           "bgcolor": "#E5ECF6",
           "radialaxis": {
            "gridcolor": "white",
            "linecolor": "white",
            "ticks": ""
           }
          },
          "scene": {
           "xaxis": {
            "backgroundcolor": "#E5ECF6",
            "gridcolor": "white",
            "gridwidth": 2,
            "linecolor": "white",
            "showbackground": true,
            "ticks": "",
            "zerolinecolor": "white"
           },
           "yaxis": {
            "backgroundcolor": "#E5ECF6",
            "gridcolor": "white",
            "gridwidth": 2,
            "linecolor": "white",
            "showbackground": true,
            "ticks": "",
            "zerolinecolor": "white"
           },
           "zaxis": {
            "backgroundcolor": "#E5ECF6",
            "gridcolor": "white",
            "gridwidth": 2,
            "linecolor": "white",
            "showbackground": true,
            "ticks": "",
            "zerolinecolor": "white"
           }
          },
          "shapedefaults": {
           "line": {
            "color": "#2a3f5f"
           }
          },
          "ternary": {
           "aaxis": {
            "gridcolor": "white",
            "linecolor": "white",
            "ticks": ""
           },
           "baxis": {
            "gridcolor": "white",
            "linecolor": "white",
            "ticks": ""
           },
           "bgcolor": "#E5ECF6",
           "caxis": {
            "gridcolor": "white",
            "linecolor": "white",
            "ticks": ""
           }
          },
          "title": {
           "x": 0.05
          },
          "xaxis": {
           "automargin": true,
           "gridcolor": "white",
           "linecolor": "white",
           "ticks": "",
           "title": {
            "standoff": 15
           },
           "zerolinecolor": "white",
           "zerolinewidth": 2
          },
          "yaxis": {
           "automargin": true,
           "gridcolor": "white",
           "linecolor": "white",
           "ticks": "",
           "title": {
            "standoff": 15
           },
           "zerolinecolor": "white",
           "zerolinewidth": 2
          }
         }
        },
        "width": 1000
       }
      },
      "text/html": [
       "<div>\n",
       "        \n",
       "        \n",
       "            <div id=\"79097700-7791-491f-9688-a5547a220a77\" class=\"plotly-graph-div\" style=\"height:525px; width:1000px;\"></div>\n",
       "            <script type=\"text/javascript\">\n",
       "                require([\"plotly\"], function(Plotly) {\n",
       "                    window.PLOTLYENV=window.PLOTLYENV || {};\n",
       "                    \n",
       "                if (document.getElementById(\"79097700-7791-491f-9688-a5547a220a77\")) {\n",
       "                    Plotly.newPlot(\n",
       "                        '79097700-7791-491f-9688-a5547a220a77',\n",
       "                        [{\"cells\": {\"align\": \"left\", \"values\": [[\"UP vs. P: SI (VAN)\", \"UP vs. P: SI (TAN)\", \"UP vs. P: ST (VAN)\", \"UP vs. P: ST (TAN)\", \"SI vs. ST: UP (VAN)\", \"SI vs. ST: UP (TAN)\", \"SI vs. ST: P (VAN)\", \"SI vs. ST: P (TAN)\", \"UP SI vs. P ST (VAN)\", \"UP SI vs. P ST (TAN)\"], [7.34e-55, 0.0, 2.32e-10, 1.36e-104, 3.59e-78, 0.0, 1.2e-35, 1.06e-104, 1.32e-22, 0.0], [1.08e-47, 2.95e-124, 5.04e-10, 4.16e-81, 7.3e-81, 3.16e-124, 1.47e-34, 8.15e-84, 6.55e-25, 3.17e-124], [2.15e-47, 5.88e-124, 1.01e-09, 8.29e-81, 1.46e-80, 6.3e-124, 2.93e-34, 1.62e-83, 1.31e-24, 6.32e-124], [1.58e-34, 4.71e-63, 1.57e-10, 1.32e-58, 4.2e-50, 4.81e-63, 3.01e-33, 1.33e-51, 1.73e-20, 4.82e-63]]}, \"columnorder\": [1, 2, 3, 4, 5], \"columnwidth\": [400, 500], \"header\": {\"align\": \"left\", \"values\": [\"Comparison\", \"T-test\", \"Mann-Whitney U\", \"Kruskal Wallis\", \"Wilcoxon\"]}, \"type\": \"table\"}],\n",
       "                        {\"template\": {\"data\": {\"bar\": [{\"error_x\": {\"color\": \"#2a3f5f\"}, \"error_y\": {\"color\": \"#2a3f5f\"}, \"marker\": {\"line\": {\"color\": \"#E5ECF6\", \"width\": 0.5}}, \"type\": \"bar\"}], \"barpolar\": [{\"marker\": {\"line\": {\"color\": \"#E5ECF6\", \"width\": 0.5}}, \"type\": \"barpolar\"}], \"carpet\": [{\"aaxis\": {\"endlinecolor\": \"#2a3f5f\", \"gridcolor\": \"white\", \"linecolor\": \"white\", \"minorgridcolor\": \"white\", \"startlinecolor\": \"#2a3f5f\"}, \"baxis\": {\"endlinecolor\": \"#2a3f5f\", \"gridcolor\": \"white\", \"linecolor\": \"white\", \"minorgridcolor\": \"white\", \"startlinecolor\": \"#2a3f5f\"}, \"type\": \"carpet\"}], \"choropleth\": [{\"colorbar\": {\"outlinewidth\": 0, \"ticks\": \"\"}, \"type\": \"choropleth\"}], \"contour\": [{\"colorbar\": {\"outlinewidth\": 0, \"ticks\": \"\"}, \"colorscale\": [[0.0, \"#0d0887\"], [0.1111111111111111, \"#46039f\"], [0.2222222222222222, \"#7201a8\"], [0.3333333333333333, \"#9c179e\"], [0.4444444444444444, \"#bd3786\"], [0.5555555555555556, \"#d8576b\"], [0.6666666666666666, \"#ed7953\"], [0.7777777777777778, \"#fb9f3a\"], [0.8888888888888888, \"#fdca26\"], [1.0, \"#f0f921\"]], \"type\": \"contour\"}], \"contourcarpet\": [{\"colorbar\": {\"outlinewidth\": 0, \"ticks\": \"\"}, \"type\": \"contourcarpet\"}], \"heatmap\": [{\"colorbar\": {\"outlinewidth\": 0, \"ticks\": \"\"}, \"colorscale\": [[0.0, \"#0d0887\"], [0.1111111111111111, \"#46039f\"], [0.2222222222222222, \"#7201a8\"], [0.3333333333333333, \"#9c179e\"], [0.4444444444444444, \"#bd3786\"], [0.5555555555555556, \"#d8576b\"], [0.6666666666666666, \"#ed7953\"], [0.7777777777777778, \"#fb9f3a\"], [0.8888888888888888, \"#fdca26\"], [1.0, \"#f0f921\"]], \"type\": \"heatmap\"}], \"heatmapgl\": [{\"colorbar\": {\"outlinewidth\": 0, \"ticks\": \"\"}, \"colorscale\": [[0.0, \"#0d0887\"], [0.1111111111111111, \"#46039f\"], [0.2222222222222222, \"#7201a8\"], [0.3333333333333333, \"#9c179e\"], [0.4444444444444444, \"#bd3786\"], [0.5555555555555556, \"#d8576b\"], [0.6666666666666666, \"#ed7953\"], [0.7777777777777778, \"#fb9f3a\"], [0.8888888888888888, \"#fdca26\"], [1.0, \"#f0f921\"]], \"type\": \"heatmapgl\"}], \"histogram\": [{\"marker\": {\"colorbar\": {\"outlinewidth\": 0, \"ticks\": \"\"}}, \"type\": \"histogram\"}], \"histogram2d\": [{\"colorbar\": {\"outlinewidth\": 0, \"ticks\": \"\"}, \"colorscale\": [[0.0, \"#0d0887\"], [0.1111111111111111, \"#46039f\"], [0.2222222222222222, \"#7201a8\"], [0.3333333333333333, \"#9c179e\"], [0.4444444444444444, \"#bd3786\"], [0.5555555555555556, \"#d8576b\"], [0.6666666666666666, \"#ed7953\"], [0.7777777777777778, \"#fb9f3a\"], [0.8888888888888888, \"#fdca26\"], [1.0, \"#f0f921\"]], \"type\": \"histogram2d\"}], \"histogram2dcontour\": [{\"colorbar\": {\"outlinewidth\": 0, \"ticks\": \"\"}, \"colorscale\": [[0.0, \"#0d0887\"], [0.1111111111111111, \"#46039f\"], [0.2222222222222222, \"#7201a8\"], [0.3333333333333333, \"#9c179e\"], [0.4444444444444444, \"#bd3786\"], [0.5555555555555556, \"#d8576b\"], [0.6666666666666666, \"#ed7953\"], [0.7777777777777778, \"#fb9f3a\"], [0.8888888888888888, \"#fdca26\"], [1.0, \"#f0f921\"]], \"type\": \"histogram2dcontour\"}], \"mesh3d\": [{\"colorbar\": {\"outlinewidth\": 0, \"ticks\": \"\"}, \"type\": \"mesh3d\"}], \"parcoords\": [{\"line\": {\"colorbar\": {\"outlinewidth\": 0, \"ticks\": \"\"}}, \"type\": \"parcoords\"}], \"pie\": [{\"automargin\": true, \"type\": \"pie\"}], \"scatter\": [{\"marker\": {\"colorbar\": {\"outlinewidth\": 0, \"ticks\": \"\"}}, \"type\": \"scatter\"}], \"scatter3d\": [{\"line\": {\"colorbar\": {\"outlinewidth\": 0, \"ticks\": \"\"}}, \"marker\": {\"colorbar\": {\"outlinewidth\": 0, \"ticks\": \"\"}}, \"type\": \"scatter3d\"}], \"scattercarpet\": [{\"marker\": {\"colorbar\": {\"outlinewidth\": 0, \"ticks\": \"\"}}, \"type\": \"scattercarpet\"}], \"scattergeo\": [{\"marker\": {\"colorbar\": {\"outlinewidth\": 0, \"ticks\": \"\"}}, \"type\": \"scattergeo\"}], \"scattergl\": [{\"marker\": {\"colorbar\": {\"outlinewidth\": 0, \"ticks\": \"\"}}, \"type\": \"scattergl\"}], \"scattermapbox\": [{\"marker\": {\"colorbar\": {\"outlinewidth\": 0, \"ticks\": \"\"}}, \"type\": \"scattermapbox\"}], \"scatterpolar\": [{\"marker\": {\"colorbar\": {\"outlinewidth\": 0, \"ticks\": \"\"}}, \"type\": \"scatterpolar\"}], \"scatterpolargl\": [{\"marker\": {\"colorbar\": {\"outlinewidth\": 0, \"ticks\": \"\"}}, \"type\": \"scatterpolargl\"}], \"scatterternary\": [{\"marker\": {\"colorbar\": {\"outlinewidth\": 0, \"ticks\": \"\"}}, \"type\": \"scatterternary\"}], \"surface\": [{\"colorbar\": {\"outlinewidth\": 0, \"ticks\": \"\"}, \"colorscale\": [[0.0, \"#0d0887\"], [0.1111111111111111, \"#46039f\"], [0.2222222222222222, \"#7201a8\"], [0.3333333333333333, \"#9c179e\"], [0.4444444444444444, \"#bd3786\"], [0.5555555555555556, \"#d8576b\"], [0.6666666666666666, \"#ed7953\"], [0.7777777777777778, \"#fb9f3a\"], [0.8888888888888888, \"#fdca26\"], [1.0, \"#f0f921\"]], \"type\": \"surface\"}], \"table\": [{\"cells\": {\"fill\": {\"color\": \"#EBF0F8\"}, \"line\": {\"color\": \"white\"}}, \"header\": {\"fill\": {\"color\": \"#C8D4E3\"}, \"line\": {\"color\": \"white\"}}, \"type\": \"table\"}]}, \"layout\": {\"annotationdefaults\": {\"arrowcolor\": \"#2a3f5f\", \"arrowhead\": 0, \"arrowwidth\": 1}, \"coloraxis\": {\"colorbar\": {\"outlinewidth\": 0, \"ticks\": \"\"}}, \"colorscale\": {\"diverging\": [[0, \"#8e0152\"], [0.1, \"#c51b7d\"], [0.2, \"#de77ae\"], [0.3, \"#f1b6da\"], [0.4, \"#fde0ef\"], [0.5, \"#f7f7f7\"], [0.6, \"#e6f5d0\"], [0.7, \"#b8e186\"], [0.8, \"#7fbc41\"], [0.9, \"#4d9221\"], [1, \"#276419\"]], \"sequential\": [[0.0, \"#0d0887\"], [0.1111111111111111, \"#46039f\"], [0.2222222222222222, \"#7201a8\"], [0.3333333333333333, \"#9c179e\"], [0.4444444444444444, \"#bd3786\"], [0.5555555555555556, \"#d8576b\"], [0.6666666666666666, \"#ed7953\"], [0.7777777777777778, \"#fb9f3a\"], [0.8888888888888888, \"#fdca26\"], [1.0, \"#f0f921\"]], \"sequentialminus\": [[0.0, \"#0d0887\"], [0.1111111111111111, \"#46039f\"], [0.2222222222222222, \"#7201a8\"], [0.3333333333333333, \"#9c179e\"], [0.4444444444444444, \"#bd3786\"], [0.5555555555555556, \"#d8576b\"], [0.6666666666666666, \"#ed7953\"], [0.7777777777777778, \"#fb9f3a\"], [0.8888888888888888, \"#fdca26\"], [1.0, \"#f0f921\"]]}, \"colorway\": [\"#636efa\", \"#EF553B\", \"#00cc96\", \"#ab63fa\", \"#FFA15A\", \"#19d3f3\", \"#FF6692\", \"#B6E880\", \"#FF97FF\", \"#FECB52\"], \"font\": {\"color\": \"#2a3f5f\"}, \"geo\": {\"bgcolor\": \"white\", \"lakecolor\": \"white\", \"landcolor\": \"#E5ECF6\", \"showlakes\": true, \"showland\": true, \"subunitcolor\": \"white\"}, \"hoverlabel\": {\"align\": \"left\"}, \"hovermode\": \"closest\", \"mapbox\": {\"style\": \"light\"}, \"paper_bgcolor\": \"white\", \"plot_bgcolor\": \"#E5ECF6\", \"polar\": {\"angularaxis\": {\"gridcolor\": \"white\", \"linecolor\": \"white\", \"ticks\": \"\"}, \"bgcolor\": \"#E5ECF6\", \"radialaxis\": {\"gridcolor\": \"white\", \"linecolor\": \"white\", \"ticks\": \"\"}}, \"scene\": {\"xaxis\": {\"backgroundcolor\": \"#E5ECF6\", \"gridcolor\": \"white\", \"gridwidth\": 2, \"linecolor\": \"white\", \"showbackground\": true, \"ticks\": \"\", \"zerolinecolor\": \"white\"}, \"yaxis\": {\"backgroundcolor\": \"#E5ECF6\", \"gridcolor\": \"white\", \"gridwidth\": 2, \"linecolor\": \"white\", \"showbackground\": true, \"ticks\": \"\", \"zerolinecolor\": \"white\"}, \"zaxis\": {\"backgroundcolor\": \"#E5ECF6\", \"gridcolor\": \"white\", \"gridwidth\": 2, \"linecolor\": \"white\", \"showbackground\": true, \"ticks\": \"\", \"zerolinecolor\": \"white\"}}, \"shapedefaults\": {\"line\": {\"color\": \"#2a3f5f\"}}, \"ternary\": {\"aaxis\": {\"gridcolor\": \"white\", \"linecolor\": \"white\", \"ticks\": \"\"}, \"baxis\": {\"gridcolor\": \"white\", \"linecolor\": \"white\", \"ticks\": \"\"}, \"bgcolor\": \"#E5ECF6\", \"caxis\": {\"gridcolor\": \"white\", \"linecolor\": \"white\", \"ticks\": \"\"}}, \"title\": {\"x\": 0.05}, \"xaxis\": {\"automargin\": true, \"gridcolor\": \"white\", \"linecolor\": \"white\", \"ticks\": \"\", \"title\": {\"standoff\": 15}, \"zerolinecolor\": \"white\", \"zerolinewidth\": 2}, \"yaxis\": {\"automargin\": true, \"gridcolor\": \"white\", \"linecolor\": \"white\", \"ticks\": \"\", \"title\": {\"standoff\": 15}, \"zerolinecolor\": \"white\", \"zerolinewidth\": 2}}}, \"width\": 1000},\n",
       "                        {\"responsive\": true}\n",
       "                    ).then(function(){\n",
       "                            \n",
       "var gd = document.getElementById('79097700-7791-491f-9688-a5547a220a77');\n",
       "var x = new MutationObserver(function (mutations, observer) {{\n",
       "        var display = window.getComputedStyle(gd).display;\n",
       "        if (!display || display === 'none') {{\n",
       "            console.log([gd, 'removed!']);\n",
       "            Plotly.purge(gd);\n",
       "            observer.disconnect();\n",
       "        }}\n",
       "}});\n",
       "\n",
       "// Listen for the removal of the full notebook cells\n",
       "var notebookContainer = gd.closest('#notebook-container');\n",
       "if (notebookContainer) {{\n",
       "    x.observe(notebookContainer, {childList: true});\n",
       "}}\n",
       "\n",
       "// Listen for the clearing of the current output cell\n",
       "var outputEl = gd.closest('.output');\n",
       "if (outputEl) {{\n",
       "    x.observe(outputEl, {childList: true});\n",
       "}}\n",
       "\n",
       "                        })\n",
       "                };\n",
       "                });\n",
       "            </script>\n",
       "        </div>"
      ]
     },
     "metadata": {},
     "output_type": "display_data"
    }
   ],
   "source": [
    "for i in range(len(s1_statisticsarr)):\n",
    "    for j in range(len(s1_statisticsarr[i])):\n",
    "        for k in range(2):\n",
    "            s1_statisticsarr[i][j][k] = \"%.2e\"%(s1_statisticsarr[i][j][k])\n",
    "fig = go.Figure(data=[go.Table(\n",
    "    columnorder = [1,2,3,4,5],\n",
    "    columnwidth = [400,500],\n",
    "    header=dict(values=['Comparison', 'T-test', 'Mann-Whitney U', 'Kruskal Wallis', 'Wilcoxon'],\n",
    "                align='left'),\n",
    "    cells=dict(values=[['UP vs. P: SI (VAN)', 'UP vs. P: SI (TAN)','UP vs. P: ST (VAN)', 'UP vs. P: ST (TAN)', 'SI vs. ST: UP (VAN)','SI vs. ST: UP (TAN)', 'SI vs. ST: P (VAN)','SI vs. ST: P (TAN)', 'UP SI vs. P ST (VAN)', 'UP SI vs. P ST (TAN)'], # 1st column\n",
    "                        [s1_statisticsarr[0][0][1], s1_statisticsarr[0][1][1], s1_statisticsarr[0][2][1], s1_statisticsarr[0][3][1], s1_statisticsarr[0][4][1], s1_statisticsarr[0][5][1], s1_statisticsarr[0][6][1], s1_statisticsarr[0][7][1], s1_statisticsarr[0][8][1], s1_statisticsarr[0][9][1]],\n",
    "                        [s1_statisticsarr[1][0][1], s1_statisticsarr[1][1][1], s1_statisticsarr[1][2][1], s1_statisticsarr[1][3][1], s1_statisticsarr[1][4][1], s1_statisticsarr[1][5][1], s1_statisticsarr[1][6][1], s1_statisticsarr[1][7][1], s1_statisticsarr[1][8][1], s1_statisticsarr[1][9][1]],\n",
    "                        [s1_statisticsarr[2][0][1], s1_statisticsarr[2][1][1], s1_statisticsarr[2][2][1], s1_statisticsarr[2][3][1], s1_statisticsarr[2][4][1], s1_statisticsarr[2][5][1], s1_statisticsarr[2][6][1], s1_statisticsarr[2][7][1], s1_statisticsarr[2][8][1], s1_statisticsarr[2][9][1]],\n",
    "                        [s1_statisticsarr[3][0][1], s1_statisticsarr[3][1][1], s1_statisticsarr[3][2][1], s1_statisticsarr[3][3][1], s1_statisticsarr[3][4][1], s1_statisticsarr[3][5][1], s1_statisticsarr[3][6][1], s1_statisticsarr[3][7][1], s1_statisticsarr[3][8][1], s1_statisticsarr[3][9][1]]], \n",
    "                align='left'))])\n",
    "\n",
    "fig.layout.width=1000\n",
    "headerColor = 'grey'\n",
    "rowEvenColor = 'lightgrey'\n",
    "rowOddColor = 'white'\n",
    "\n",
    "fig.show()\n"
   ]
  },
  {
   "cell_type": "code",
   "execution_count": null,
   "metadata": {},
   "outputs": [],
   "source": []
  }
 ],
 "metadata": {
  "kernelspec": {
   "display_name": "Python 3",
   "language": "python",
   "name": "python3"
  },
  "language_info": {
   "codemirror_mode": {
    "name": "ipython",
    "version": 3
   },
   "file_extension": ".py",
   "mimetype": "text/x-python",
   "name": "python",
   "nbconvert_exporter": "python",
   "pygments_lexer": "ipython3",
   "version": "3.7.0"
  }
 },
 "nbformat": 4,
 "nbformat_minor": 2
}
