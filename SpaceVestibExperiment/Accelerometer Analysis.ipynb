{
 "cells": [
  {
   "cell_type": "code",
   "execution_count": 9,
   "metadata": {},
   "outputs": [
    {
     "name": "stdout",
     "output_type": "stream",
     "text": [
      "/Users/apara/Documents/GitHub/hsl_python/SpaceVestibExperiment/ak1/Acc\n"
     ]
    }
   ],
   "source": [
    "#FUNCTION TO IMPORT ACCELEROMETER DATA\n",
    "import csv\n",
    "import os\n",
    "import numpy as np\n",
    "import scipy.stats as stats\n",
    "import random\n",
    "import math\n",
    "import matplotlib.pyplot as plt\n",
    "\n",
    "\n",
    "print(os.getcwd())\n",
    "my_directory = '/Users/apara/Documents/GitHub/hsl_python/SpaceVestibExperiment' \n",
    "folder = 'ak1' #change this based on person\n",
    "\n",
    "def import_accel(rootdir, foldername):\n",
    "\n",
    "    directory = rootdir + '/' + foldername + '/Acc' \n",
    "\n",
    "    os.chdir(directory)\n",
    "\n",
    "    for r, d, files in os.walk(directory):\n",
    "        for filename in files:\n",
    "            if 'si' in filename and 'up' in filename:\n",
    "                si_up = np.loadtxt(filename, delimiter = ',', skiprows=1, usecols = (1,2,3,4,5,6))\n",
    "            elif 'si' in filename and 'p' in filename:\n",
    "                si_p = np.loadtxt(filename, delimiter = ',', skiprows=1, usecols = (1,2,3,4,5,6))\n",
    "            elif 'st' in filename and 'up' in filename: \n",
    "                st_up = np.loadtxt(filename, delimiter = ',', skiprows=1, usecols = (1,2,3,4,5,6))\n",
    "            elif 'st' in filename and 'p' in filename: \n",
    "                st_p = np.loadtxt(filename, delimiter = ',', skiprows=1, usecols = (1,2,3,4,5,6))    \n",
    "    return si_up.transpose(), si_p.transpose(), st_up.transpose(), st_p.transpose()\n",
    "\n",
    "ak_accel = import_accel(my_directory, folder) #ak_accel[0] = 6x400 matrix (only up1,sit)"
   ]
  },
  {
   "cell_type": "code",
   "execution_count": 44,
   "metadata": {},
   "outputs": [
    {
     "name": "stdout",
     "output_type": "stream",
     "text": [
      "SpearmanrResult(correlation=-0.10040516796821018, pvalue=0.044493058016725893)\n"
     ]
    }
   ],
   "source": [
    "#t1 and t2 are of the form: ak_accel[0][0] first number is UPsit/Psit/UPstand/Pstand, second is type of acceleration\n",
    "#so first numbers should be different, second should be the same\n",
    "def spearman(t1, t2):\n",
    "    minlength = min(len(t1), len(t2))\n",
    "    trial1 = t1[0:minlength]\n",
    "    trial2 = t2[0:minlength]\n",
    "    spearman = stats.spearmanr(trial1, trial2)\n",
    "    return spearman\n",
    "\n",
    "print(spearman(ak_accel[1][0], ak_accel[0][0]))\n"
   ]
  },
  {
   "cell_type": "code",
   "execution_count": 11,
   "metadata": {},
   "outputs": [],
   "source": [
    "#These are all Vedant's stats functions from the shimmer file\n",
    "def scaled_correlation_time(signal1, signal2):\n",
    "    signal1 = (signal1 - np.mean(signal1))/np.std(signal1)\n",
    "    signal2 = (signal2 - np.mean(signal2))/np.std(signal2)\n",
    "    acorr = np.correlate(signal1, signal2, mode='full')\n",
    "    acorr = acorr[(acorr.size // 2 ):] / np.max(acorr)\n",
    "#     plt.plot(acorr)\n",
    "    tau = np.argmax([acorr < 1/np.exp(1)])\n",
    "    return tau / len(acorr)\n",
    "\n",
    "def signal_statistics(signal):\n",
    "    mean = np.mean(signal)\n",
    "    std = np.std(signal)\n",
    "    skewness = stats.skew(signal)\n",
    "    kurtosis = stats.kurtosis(signal)\n",
    "    maximum = np.max(signal)\n",
    "    minimum = np.min(signal)\n",
    "    iqr = stats.iqr(signal)\n",
    "    variation = stats.variation(signal)\n",
    "    entropy = stats.entropy(np.abs(signal))\n",
    "    corrtime = scaled_correlation_time(signal,signal)        \n",
    "    return np.asarray([mean, std, skewness, kurtosis, maximum, minimum, variation, entropy])\n",
    "\n",
    "def spectrum_statistics(signal):\n",
    "    fs,pxx = sig.periodogram(signal, fs = 50, nfft = 1000, scaling = 'density', detrend = 'constant')\n",
    "#   plt.plot(fs,pxx)\n",
    "    #plt.xlim(0,0.1)\n",
    "    peak = fs[np.argmax(pxx)]\n",
    "    peakmag = np.max(pxx)\n",
    "    integral = np.trapz(pxx,fs)\n",
    "    energy = np.dot(pxx,pxx)\n",
    "    shannon = np.sum(pxx*np.log(1/pxx))\n",
    "    return [peak, peakmag, integral, energy, shannon]\n"
   ]
  },
  {
   "cell_type": "code",
   "execution_count": 12,
   "metadata": {},
   "outputs": [],
   "source": [
    "#outputs a 4*6*8 array -- all the signal stats (all 4 phases, all 6 directions) per person\n",
    "\n",
    "def create_array(person):\n",
    "    signal_list = []\n",
    "    for run in range(4):\n",
    "        for measure in range(6):\n",
    "            new_list_measure = [signal_statistics(ak_accel[run][measure])]\n",
    "            signal_list.append(new_list_measure)\n",
    "\n",
    "    signal_arr = np.asarray(signal_list)\n",
    "    signal_arr = signal_arr.reshape(4,6,8)\n",
    "\n",
    "    return signal_arr"
   ]
  },
  {
   "cell_type": "code",
   "execution_count": 14,
   "metadata": {},
   "outputs": [
    {
     "name": "stdout",
     "output_type": "stream",
     "text": [
      "UP\n",
      "STAND\n"
     ]
    }
   ],
   "source": [
    "#Determine how good parametrical measures are via kurtossis and skew\n",
    "\n",
    "i = random.randint(0, 3)\n",
    "j = random.randint(0, 5)\n",
    "\n",
    "if i%2 == 0:\n",
    "    print(\"UP\")\n",
    "else:\n",
    "    print('P')\n",
    "if i <2:\n",
    "    print('SIT')\n",
    "else: \n",
    "    print('STAND')\n",
    "\n",
    "\n",
    "\n"
   ]
  },
  {
   "cell_type": "code",
   "execution_count": 15,
   "metadata": {},
   "outputs": [
    {
     "data": {
      "image/png": "[encoded data removed]",
      "text/plain": [
       "<Figure size 432x288 with 1 Axes>"
      ]
     },
     "metadata": {
      "needs_background": "light"
     },
     "output_type": "display_data"
    }
   ],
   "source": [
    "i = 3 #input number from 0-3; representing UP-SI, P-SI, UP-ST, P-ST\n",
    "j = 3 #input number from 0-5; representing x,y,z linear and x,y,z rotational\n",
    "\n",
    "plt.plot(ak_accel[i][j])\n",
    "plt.show()"
   ]
  },
  {
   "cell_type": "code",
   "execution_count": 26,
   "metadata": {},
   "outputs": [
    {
     "name": "stdout",
     "output_type": "stream",
     "text": [
      "([0.0661958687141869, 0.9588728496474633, 0.29532600672605214], 1.0055031004798687, [0.06583357990899821, 0.953624955696157, 0.293709692774801], 0.41754923977792724, array([-6.5e-04,  5.0e-05]), array([0.029    , 0.018    , 0.0341321]), [0.0026751658294476227, 0.0029991758560394765, 0.00485667771045273], [0.1323646958319859, 1.9177433540717483, 0.5906320445773939], 1.8370377511039235, [0.990216677881144, 0.09010359473806155, 0.9087337631620023])\n"
     ]
    }
   ],
   "source": [
    "#Canonical Posture Analysis\n",
    "#This will include:\n",
    "    # 2D sway area\n",
    "    # RMS acceleration (sqrt x,y,z) DONE\n",
    "    # normalized path length DONE\n",
    "    # sway range DONE\n",
    "\n",
    "#AP = z; ML = x; DV = y\n",
    "\n",
    "#ONLY for linear acceleration\n",
    "def canonical_posture(subj, trialnum):\n",
    "    dataset = subj[trialnum] \n",
    "    \n",
    "    #rms\n",
    "    rms_list = []\n",
    "    for measure in range(3):\n",
    "        sq_sum = 0\n",
    "        for i in dataset[measure]:\n",
    "            sq_sum += i**2\n",
    "        rms_list.append(np.sqrt(sq_sum/len(dataset[measure])))\n",
    "    rms_ML = rms_list[0]\n",
    "    rms_AP = rms_list[2]\n",
    "    rms_DV = rms_list[1]\n",
    "    \n",
    "    total_rms = np.sqrt(rms_ML**2 + rms_AP**2 + rms_DV**2)\n",
    "    rmsr_ML = rms_list[0]/total_rms\n",
    "    rmsr_AP = rms_list[2]/total_rms\n",
    "    rmsr_DV = rms_list[1]/total_rms\n",
    "    rmsr_list = [rmsr_ML, rmsr_DV, rmsr_AP]\n",
    "    \n",
    "    \n",
    "    #2d sway\n",
    "    AP = dataset[2] * 9.8\n",
    "    ML = dataset[0] * 9.8\n",
    "    m = 72\n",
    "    theta = 5*math.pi / 180\n",
    "    window = len(AP)//72\n",
    "    AP_max = []\n",
    "    ML_max = []\n",
    "    r_max = []\n",
    "    count_ind = 0\n",
    "    while count_ind <= len(AP)-window:\n",
    "        max_val_AP = max(AP[count_ind],AP[count_ind+window])\n",
    "        AP_max.append(max_val_AP)\n",
    "\n",
    "        max_val_ML = max(ML[count_ind],AP[count_ind+window])\n",
    "        ML_max.append(max_val_ML)\n",
    "\n",
    "        r_max.append(np.sqrt(max_val_ML**2 + max_val_AP**2))\n",
    "\n",
    "        count_ind = count_ind+window\n",
    "\n",
    "    sway_area = 0\n",
    "    for i in range(len(r_max)-1):\n",
    "        sway_area += r_max[i] * r_max[i+1] * math.sin(theta)/2\n",
    "    sway_area = sway_area/72\n",
    "    \n",
    "    \n",
    "    #normalized path length in AP and ML direction    \n",
    "    #npl\n",
    "    sum_of_elementsx = [];\n",
    "    sum_of_elementsz = [];\n",
    "\n",
    "    for point in range(len(subj)-2):\n",
    "        sum_of_elementsx.append(subj[trialnum][0][point+1] - subj[trialnum][0][point])\n",
    "    for point2 in range(len(subj)-2):\n",
    "        sum_of_elementsz.append(subj[trialnum][2][point2+1] - subj[trialnum][2][point2])\n",
    "    \n",
    "    #need to check the time division\n",
    "    nplML = (1/20)*sum(sum_of_elementsx)\n",
    "    nplAP = (1/20)*sum(sum_of_elementsz)\n",
    "    \n",
    "    npl = np.array([nplAP,nplML])\n",
    "    \n",
    "    #range\n",
    "    maxML = max(subj[trialnum][0])\n",
    "    minML = min(subj[trialnum][0])\n",
    "    rangeML = abs(maxML - minML)\n",
    "    \n",
    "    maxAP = max(subj[trialnum][2])\n",
    "    minAP = min(subj[trialnum][2])\n",
    "    rangeAP = abs(maxAP - minAP)\n",
    "    \n",
    "    resultant_range = math.sqrt(rangeML**2 + rangeAP**2)\n",
    "    \n",
    "    swayrange = np.array([rangeAP,rangeML,resultant_range])\n",
    "    \n",
    "    #STD\n",
    "    std_list = []\n",
    "    for i in range(3):\n",
    "        std_list.append(np.std(dataset[i]))\n",
    "        \n",
    "    #RMS Error\n",
    "    rms_error_list = []\n",
    "    for i in range(3):\n",
    "        sum_list = []\n",
    "        for j in range(len(dataset[i])):\n",
    "            sum_list.append((dataset[i][j]-rms_list[i])**2)\n",
    "        rms_error_list.append(math.sqrt(sum(sum_list)/len(sum_list)))\n",
    "    \n",
    "    rms_total_error = 0    \n",
    "    for i in range(3):\n",
    "        rms_total_error += ((rms_list[i] * (rms_list[0]**2 + rms_list[1]**2 + rms_list[2]**2)**-0.5)*rms_error_list[i])**2\n",
    "    rms_total_error = math.sqrt(rms_total_error)\n",
    "    \n",
    "    rmsr_error_list = []\n",
    "    for i in range(3):\n",
    "        numerator = 0\n",
    "        for x in range(3):\n",
    "            if x != i: \n",
    "                numerator += rms_list[x] **2\n",
    "        denominator = (rms_list[0]**2 + rms_list[1]**2 + rms_list[2]**2)**1.5\n",
    "        rmsr_error_list.append(numerator/denominator)\n",
    "    \n",
    "    return rms_list, total_rms, rmsr_list, sway_area, npl, swayrange, std_list, rms_error_list, rms_total_error, rmsr_error_list\n",
    "\n",
    "\n",
    "print(canonical_posture(ak_accel,0))"
   ]
  },
  {
   "cell_type": "code",
   "execution_count": null,
   "metadata": {},
   "outputs": [],
   "source": []
  },
  {
   "cell_type": "code",
   "execution_count": 126,
   "metadata": {},
   "outputs": [],
   "source": [
    "#Specialized Posture Analysis\n",
    "#This will include:\n",
    "    #entropy\n",
    "    #DFA\n",
    "    #frequency analysis"
   ]
  },
  {
   "cell_type": "code",
   "execution_count": null,
   "metadata": {},
   "outputs": [],
   "source": []
  }
 ],
 "metadata": {
  "kernelspec": {
   "display_name": "Python 3",
   "language": "python",
   "name": "python3"
  },
  "language_info": {
   "codemirror_mode": {
    "name": "ipython",
    "version": 3
   },
   "file_extension": ".py",
   "mimetype": "text/x-python",
   "name": "python",
   "nbconvert_exporter": "python",
   "pygments_lexer": "ipython3",
   "version": "3.7.0"
  }
 },
 "nbformat": 4,
 "nbformat_minor": 2
}
