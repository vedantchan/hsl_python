{
 "cells": [
  {
   "cell_type": "markdown",
   "metadata": {},
   "source": [
    "## Import Dependencies and Dataframe"
   ]
  },
  {
   "cell_type": "code",
   "execution_count": 1,
   "metadata": {},
   "outputs": [],
   "source": [
    "import pickle as p\n",
    "import pandas as pd\n",
    "import numpy as np\n",
    "import matplotlib.pyplot as plt\n",
    "import scipy.stats as stats\n",
    "from tqdm import tqdm\n",
    "from dfa import dfa\n",
    "import scipy.signal as sig\n",
    "from sklearn.linear_model import LogisticRegression\n",
    "from scipy.interpolate import interp1d\n",
    "from scipy.integrate import romb\n",
    "plt.rcParams.update({'font.size': 22})"
   ]
  },
  {
   "cell_type": "code",
   "execution_count": 2,
   "metadata": {},
   "outputs": [],
   "source": [
    "df = p.load(open('df.p','rb'))\n",
    "\n",
    "all_subjects = np.concatenate((np.arange(11,25),np.arange(26,45)))"
   ]
  },
  {
   "cell_type": "markdown",
   "metadata": {},
   "source": [
    "## Book-Keeping Functions with Examples"
   ]
  },
  {
   "cell_type": "code",
   "execution_count": 3,
   "metadata": {},
   "outputs": [],
   "source": [
    "# Book-keeping Functions\n",
    "n_splits = 1\n",
    "\n",
    "def num_to_epoch(epoch_number):\n",
    "    if epoch_number == 0:\n",
    "        return 'UP1'\n",
    "    elif epoch_number == 1:\n",
    "        return 'UP2'\n",
    "    elif epoch_number == 2:\n",
    "        return 'P1'\n",
    "    elif epoch_number == 3:\n",
    "        return 'P2'\n",
    "    elif epoch_number == 4:\n",
    "        return 'REC'\n",
    "    else:\n",
    "        raise Exception('Invalid Epoch Number')\n",
    "\n",
    "def num_to_subject(subject_number):\n",
    "    return 'Subject'+str(subject_number)\n",
    "\n",
    "def get_signal(measure, epoch, subjno):\n",
    "    if isinstance(epoch,str):\n",
    "        return np.ravel(df.loc[measure, epoch][num_to_subject(subjno)])\n",
    "    elif isinstance(epoch, int):\n",
    "        return np.ravel(df.loc[measure, num_to_epoch(epoch)][num_to_subject(subjno)])\n",
    "\n",
    "def get_split_signal(measure, epoch, subjno, splitno):\n",
    "    if isinstance(epoch,str):\n",
    "        return np.array_split(np.ravel(df.loc[measure, epoch][num_to_subject(subjno)]), n_splits)[splitno]\n",
    "    elif isinstance(epoch, int):\n",
    "        return np.array_split(np.ravel(df.loc[measure, num_to_epoch(epoch)][num_to_subject(subjno)]),n_splits)[splitno]\n",
    "    \n",
    "def full_signal(measure, subjno):\n",
    "    return np.concatenate((\n",
    "        np.ravel(df.loc[measure, num_to_epoch(0)][num_to_subject(subjno)]),\n",
    "        np.ravel(df.loc[measure, num_to_epoch(1)][num_to_subject(subjno)]),\n",
    "        np.ravel(df.loc[measure, num_to_epoch(2)][num_to_subject(subjno)]),\n",
    "        np.ravel(df.loc[measure, num_to_epoch(3)][num_to_subject(subjno)]),\n",
    "        np.ravel(df.loc[measure, num_to_epoch(4)][num_to_subject(subjno)]),\n",
    "    ))\n",
    "\n",
    "def is_perturbed(epoch):\n",
    "    if epoch == 0 or epoch == 1 or epoch == 4:\n",
    "        return 0\n",
    "    elif epoch == 2 or epoch == 3:\n",
    "        return 1\n",
    "    \n",
    "def scaled_correlation_time(signal1, signal2):\n",
    "    signal1 = (signal1 - np.mean(signal1))/np.std(signal1)\n",
    "    signal2 = (signal2 - np.mean(signal2))/np.std(signal2)\n",
    "    acorr = np.correlate(signal1, signal2, mode='full')\n",
    "    acorr = acorr[(acorr.size // 2 ):] / np.max(acorr)\n",
    "#     plt.plot(acorr)\n",
    "    tau = np.argmax([acorr < 1/np.exp(1)])\n",
    "    return tau / len(acorr)\n",
    "\n",
    "def correlation_integral(signal1, signal2):\n",
    "    signal1 = (signal1 - np.mean(signal1))/np.std(signal1)\n",
    "    signal2 = (signal2 - np.mean(signal2))/np.std(signal2)\n",
    "    acorr = np.correlate(signal1, signal2, mode='full')\n",
    "    acorr = acorr[(acorr.size // 2 ):] / np.max(acorr)\n",
    "#     plt.plot(acorr)\n",
    "    integral = np.trapz(acorr)\n",
    "    return integral\n",
    "\n",
    "def plot_full_experiment(measure, subjno):\n",
    "    s1 = np.ravel(df.loc[measure, num_to_epoch(0)][num_to_subject(subjno)])\n",
    "    s2 = np.ravel(df.loc[measure, num_to_epoch(1)][num_to_subject(subjno)])\n",
    "    s3 = np.ravel(df.loc[measure, num_to_epoch(2)][num_to_subject(subjno)])\n",
    "    s4 = np.ravel(df.loc[measure, num_to_epoch(3)][num_to_subject(subjno)])\n",
    "    s5 = np.ravel(df.loc[measure, num_to_epoch(4)][num_to_subject(subjno)])\n",
    "    fullsignal = np.concatenate((s1,s2,s3,s4,s5))\n",
    "    plt.plot(fullsignal,'k',label = measure)\n",
    "    plt.axvline(x = len(s1), color = 'k', linestyle = '--')\n",
    "    plt.axvline(x = len(s1)+len(s2), color = 'k', linestyle = '--')\n",
    "    plt.axvline(x = len(s1)+len(s2)+len(s3), color = 'k', linestyle = '--')\n",
    "    plt.axvline(x = len(s1)+len(s2)+len(s3)+len(s4), color = 'k', linestyle = '--')\n",
    "    plt.legend()"
   ]
  },
  {
   "cell_type": "code",
   "execution_count": 4,
   "metadata": {},
   "outputs": [
    {
     "data": {
      "image/png": "[encoded data removed]",
      "text/plain": [
       "<Figure size 432x288 with 1 Axes>"
      ]
     },
     "metadata": {
      "needs_background": "light"
     },
     "output_type": "display_data"
    }
   ],
   "source": [
    "plot_full_experiment('EDA',26)"
   ]
  },
  {
   "cell_type": "code",
   "execution_count": 5,
   "metadata": {},
   "outputs": [
    {
     "data": {
      "text/plain": [
       "[<matplotlib.lines.Line2D at 0x130715898>]"
      ]
     },
     "execution_count": 5,
     "metadata": {},
     "output_type": "execute_result"
    },
    {
     "data": {
      "image/png": "[encoded data removed]",
      "text/plain": [
       "<Figure size 432x288 with 1 Axes>"
      ]
     },
     "metadata": {
      "needs_background": "light"
     },
     "output_type": "display_data"
    }
   ],
   "source": [
    "plt.plot(get_signal('TEMP',1,41), 'k') ## Gets the signal for any epoch, with epochs numbered 0-4"
   ]
  },
  {
   "cell_type": "markdown",
   "metadata": {},
   "source": [
    "## Feature Sandbox"
   ]
  },
  {
   "cell_type": "markdown",
   "metadata": {},
   "source": [
    "### Duplicate the following entire section for each function you want to write:"
   ]
  },
  {
   "cell_type": "markdown",
   "metadata": {},
   "source": [
    "#### Feature 1: HR Frequency Mode"
   ]
  },
  {
   "cell_type": "code",
   "execution_count": 6,
   "metadata": {},
   "outputs": [
    {
     "data": {
      "text/plain": [
       "0.004"
      ]
     },
     "execution_count": 6,
     "metadata": {},
     "output_type": "execute_result"
    }
   ],
   "source": [
    "# Get sample signal \n",
    "\n",
    "signal = get_signal('HR', 3, 12)\n",
    "\n",
    "# Define analysis function\n",
    "\n",
    "def mode_frequency(signal):\n",
    "    fs,pxx = sig.welch(signal, nfft = 1000, scaling = 'spectrum', detrend = 'constant')\n",
    "    return fs[np.argmax(pxx)]\n",
    "\n",
    "# Test function\n",
    "\n",
    "mode_frequency(signal)"
   ]
  },
  {
   "cell_type": "code",
   "execution_count": 7,
   "metadata": {},
   "outputs": [
    {
     "data": {
      "text/plain": [
       "[<matplotlib.lines.Line2D at 0x130b1c4a8>]"
      ]
     },
     "execution_count": 7,
     "metadata": {},
     "output_type": "execute_result"
    },
    {
     "data": {
      "image/png": "[encoded data removed]",
      "text/plain": [
       "<Figure size 432x288 with 1 Axes>"
      ]
     },
     "metadata": {
      "needs_background": "light"
     },
     "output_type": "display_data"
    }
   ],
   "source": [
    "plt.plot(signal)"
   ]
  },
  {
   "cell_type": "code",
   "execution_count": 13,
   "metadata": {},
   "outputs": [
    {
     "name": "stderr",
     "output_type": "stream",
     "text": [
      "100%|██████████| 33/33 [00:00<00:00, 401.96it/s]\n"
     ]
    }
   ],
   "source": [
    "# Compute feature for entire dataset\n",
    "\n",
    "allfeatures = [];\n",
    "\n",
    "targets = [];\n",
    "n_splits = 1\n",
    "\n",
    "for subjno in tqdm(all_subjects):\n",
    "    for epoch in range(4):\n",
    "        for splitno in range(n_splits):\n",
    "            \n",
    "            hr_signal = get_split_signal('HR',epoch,subjno,splitno) ## CHANGE THIS TO WHICHEVER SIGNAL YOU WANT\n",
    "            \n",
    "\n",
    "            allfeature = mode_frequency(hr_signal) ## CHANGE THIS LINE HERE WITH YOUR OWN FUNCTION\n",
    "            \n",
    "            allfeatures.append(allfeature)\n",
    "            targets.append(is_perturbed(epoch))\n",
    "\n",
    "allfeature_names = ['my_feature'] ## You can leave this the way it is for simplicity. \n",
    "fdf = pd.DataFrame(allfeatures, columns = allfeature_names)"
   ]
  },
  {
   "cell_type": "code",
   "execution_count": 14,
   "metadata": {},
   "outputs": [
    {
     "name": "stdout",
     "output_type": "stream",
     "text": [
      "ANOVA P-value = 0.415\n"
     ]
    },
    {
     "data": {
      "image/png": "[encoded data removed]",
      "text/plain": [
       "<Figure size 432x288 with 1 Axes>"
      ]
     },
     "metadata": {
      "needs_background": "light"
     },
     "output_type": "display_data"
    }
   ],
   "source": [
    "# Evaluate feature\n",
    "\n",
    "targets = np.asarray(targets)\n",
    "up = np.asarray(fdf['my_feature'][targets == 0])\n",
    "p = np.asarray(fdf['my_feature'][targets == 1])\n",
    "\n",
    "plt.hist(up,histtype = 'step')\n",
    "plt.hist(p, histtype = 'step')\n",
    "\n",
    "pval = stats.f_oneway(up,p)[1]\n",
    "if pval < 0.1:\n",
    "    print('\\033[31m', 'ANOVA P-value = %.3f'%pval, '\\033[0m', sep='') # Significant P-values will be colorful :)\n",
    "else:\n",
    "     print('ANOVA P-value = %.3f'%pval)"
   ]
  },
  {
   "cell_type": "markdown",
   "metadata": {},
   "source": [
    "#### Feature 2: EDA Median"
   ]
  },
  {
   "cell_type": "code",
   "execution_count": 8,
   "metadata": {},
   "outputs": [
    {
     "data": {
      "text/plain": [
       "0.18955999999999998"
      ]
     },
     "execution_count": 8,
     "metadata": {},
     "output_type": "execute_result"
    }
   ],
   "source": [
    "# Get sample signal \n",
    "\n",
    "signal = get_signal('EDA', 0, 13)\n",
    "\n",
    "# Define analysis function\n",
    "\n",
    "def median(signal):\n",
    "    median = np.median(signal)\n",
    "    return median\n",
    "\n",
    "# Test function\n",
    "\n",
    "median(signal)"
   ]
  },
  {
   "cell_type": "code",
   "execution_count": 9,
   "metadata": {},
   "outputs": [
    {
     "name": "stderr",
     "output_type": "stream",
     "text": [
      "100%|██████████| 33/33 [00:00<00:00, 639.21it/s]\n"
     ]
    }
   ],
   "source": [
    "# Compute feature for entire dataset\n",
    "\n",
    "allfeatures = [];\n",
    "\n",
    "targets = [];\n",
    "\n",
    "for subjno in tqdm(all_subjects):\n",
    "    for epoch in range(4):\n",
    "        for splitno in range(n_splits):\n",
    "            \n",
    "            eda_signal = get_split_signal('EDA',epoch,subjno,splitno) ## CHANGE THIS TO WHICHEVER SIGNAL YOU WANT\n",
    "            \n",
    "\n",
    "            allfeature = median(eda_signal) ## CHANGE THIS LINE HERE WITH YOUR OWN FUNCTION\n",
    "            \n",
    "            allfeatures.append(allfeature)\n",
    "            targets.append(is_perturbed(epoch))\n",
    "\n",
    "allfeature_names = ['my_feature'] ## You can leave this the way it is for simplicity. \n",
    "fdf = pd.DataFrame(allfeatures, columns = allfeature_names)"
   ]
  },
  {
   "cell_type": "code",
   "execution_count": 10,
   "metadata": {},
   "outputs": [
    {
     "name": "stdout",
     "output_type": "stream",
     "text": [
      "\u001b[31mANOVA P-value = 0.046\u001b[0m\n"
     ]
    },
    {
     "data": {
      "image/png": "[encoded data removed]",
      "text/plain": [
       "<Figure size 432x288 with 1 Axes>"
      ]
     },
     "metadata": {
      "needs_background": "light"
     },
     "output_type": "display_data"
    }
   ],
   "source": [
    "# Evaluate feature\n",
    "\n",
    "targets = np.asarray(targets)\n",
    "up = np.asarray(fdf['my_feature'][targets == 0])\n",
    "p = np.asarray(fdf['my_feature'][targets == 1])\n",
    "\n",
    "plt.hist(up,histtype = 'step')\n",
    "plt.hist(p, histtype = 'step')\n",
    "\n",
    "pval = stats.f_oneway(up,p)[1]\n",
    "if pval < 0.1:\n",
    "    print('\\033[31m', 'ANOVA P-value = %.3f'%pval, '\\033[0m', sep='') # Significant P-values will be colorful :)\n",
    "else:\n",
    "     print('ANOVA P-value = %.3f'%pval)"
   ]
  },
  {
   "cell_type": "markdown",
   "metadata": {},
   "source": [
    "#### Feature 3: First Difference Mean"
   ]
  },
  {
   "cell_type": "code",
   "execution_count": 16,
   "metadata": {},
   "outputs": [
    {
     "data": {
      "text/plain": [
       "0.0014827585449218748"
      ]
     },
     "execution_count": 16,
     "metadata": {},
     "output_type": "execute_result"
    }
   ],
   "source": [
    "# Get sample signal \n",
    "\n",
    "signal = get_signal('EDA', 3, 13)\n",
    "\n",
    "# Define analysis function\n",
    "\n",
    "def first_diff_mean(signal):\n",
    "    fdm = abs(np.diff(signal, n=1))\n",
    "    return np.mean(fdm)\n",
    "\n",
    "# Test function\n",
    "\n",
    "first_diff_mean(signal)"
   ]
  },
  {
   "cell_type": "code",
   "execution_count": 23,
   "metadata": {},
   "outputs": [
    {
     "name": "stderr",
     "output_type": "stream",
     "text": [
      "100%|██████████| 33/33 [00:00<00:00, 43.64it/s]\n"
     ]
    }
   ],
   "source": [
    "# Compute feature for entire dataset\n",
    "\n",
    "allfeatures = [];\n",
    "\n",
    "targets = [];\n",
    "n_splits = 20\n",
    "for subjno in tqdm(all_subjects):\n",
    "    for epoch in range(4):\n",
    "        for splitno in range(n_splits):\n",
    "            \n",
    "            eda_signal = get_split_signal('EDA',epoch,subjno,splitno) ## CHANGE THIS TO WHICHEVER SIGNAL YOU WANT\n",
    "            \n",
    "\n",
    "            allfeature = first_diff_mean(eda_signal) ## CHANGE THIS LINE HERE WITH YOUR OWN FUNCTION\n",
    "            \n",
    "            allfeatures.append(allfeature)\n",
    "            targets.append(is_perturbed(epoch))\n",
    "\n",
    "allfeature_names = ['my_feature'] ## You can leave this the way it is for simplicity. \n",
    "fdf = pd.DataFrame(allfeatures, columns = allfeature_names)"
   ]
  },
  {
   "cell_type": "code",
   "execution_count": 24,
   "metadata": {},
   "outputs": [
    {
     "name": "stdout",
     "output_type": "stream",
     "text": [
      "\u001b[31mANOVA P-value = 0.000\u001b[0m\n"
     ]
    },
    {
     "data": {
      "image/png": "[encoded data removed]",
      "text/plain": [
       "<Figure size 432x288 with 1 Axes>"
      ]
     },
     "metadata": {
      "needs_background": "light"
     },
     "output_type": "display_data"
    }
   ],
   "source": [
    "# Evaluate feature\n",
    "\n",
    "targets = np.asarray(targets)\n",
    "up = np.asarray(fdf['my_feature'][targets == 0])\n",
    "p = np.asarray(fdf['my_feature'][targets == 1])\n",
    "\n",
    "plt.hist(up,histtype = 'step')\n",
    "plt.hist(p, histtype = 'step')\n",
    "\n",
    "pval = stats.f_oneway(up,p)[1]\n",
    "if pval < 0.1:\n",
    "    print('\\033[31m', 'ANOVA P-value = %.3f'%pval, '\\033[0m', sep='') # Significant P-values will be colorful :)\n",
    "else:\n",
    "     print('ANOVA P-value = %.3f'%pval)"
   ]
  },
  {
   "cell_type": "markdown",
   "metadata": {},
   "source": [
    "### Feature 4: First Difference Std"
   ]
  },
  {
   "cell_type": "code",
   "execution_count": 25,
   "metadata": {},
   "outputs": [
    {
     "data": {
      "text/plain": [
       "0.01039225587025276"
      ]
     },
     "execution_count": 25,
     "metadata": {},
     "output_type": "execute_result"
    }
   ],
   "source": [
    "# Get sample signal \n",
    "\n",
    "signal = get_signal('EDA', 3, 13)\n",
    "\n",
    "# Define analysis function\n",
    "\n",
    "def first_diff_std(signal):\n",
    "    fdm = abs(np.diff(signal, n=1))\n",
    "    return np.std(fdm)\n",
    "\n",
    "# Test function\n",
    "\n",
    "first_diff_std(signal)"
   ]
  },
  {
   "cell_type": "code",
   "execution_count": 26,
   "metadata": {},
   "outputs": [
    {
     "name": "stderr",
     "output_type": "stream",
     "text": [
      "100%|██████████| 33/33 [00:00<00:00, 42.47it/s]\n"
     ]
    }
   ],
   "source": [
    "# Compute feature for entire dataset\n",
    "\n",
    "allfeatures = [];\n",
    "\n",
    "targets = [];\n",
    "\n",
    "for subjno in tqdm(all_subjects):\n",
    "    for epoch in range(4):\n",
    "        for splitno in range(n_splits):\n",
    "            \n",
    "            eda_signal = get_split_signal('EDA',epoch,subjno,splitno) ## CHANGE THIS TO WHICHEVER SIGNAL YOU WANT\n",
    "            \n",
    "\n",
    "            allfeature = first_diff_std(eda_signal) ## CHANGE THIS LINE HERE WITH YOUR OWN FUNCTION\n",
    "            \n",
    "            allfeatures.append(allfeature)\n",
    "            targets.append(is_perturbed(epoch))\n",
    "\n",
    "allfeature_names = ['my_feature'] ## You can leave this the way it is for simplicity. \n",
    "fdf = pd.DataFrame(allfeatures, columns = allfeature_names)"
   ]
  },
  {
   "cell_type": "code",
   "execution_count": 27,
   "metadata": {
    "scrolled": true
   },
   "outputs": [
    {
     "name": "stdout",
     "output_type": "stream",
     "text": [
      "\u001b[31mANOVA P-value = 0.000\u001b[0m\n"
     ]
    },
    {
     "data": {
      "image/png": "[encoded data removed]",
      "text/plain": [
       "<Figure size 432x288 with 1 Axes>"
      ]
     },
     "metadata": {
      "needs_background": "light"
     },
     "output_type": "display_data"
    }
   ],
   "source": [
    "# Evaluate feature\n",
    "\n",
    "targets = np.asarray(targets)\n",
    "up = np.asarray(fdf['my_feature'][targets == 0])\n",
    "p = np.asarray(fdf['my_feature'][targets == 1])\n",
    "\n",
    "plt.hist(up,histtype = 'step')\n",
    "plt.hist(p, histtype = 'step')\n",
    "\n",
    "pval = stats.f_oneway(up,p)[1]\n",
    "if pval < 0.1:\n",
    "    print('\\033[31m', 'ANOVA P-value = %.3f'%pval, '\\033[0m', sep='') # Significant P-values will be colorful :)\n",
    "else:\n",
    "     print('ANOVA P-value = %.3f'%pval)"
   ]
  },
  {
   "cell_type": "markdown",
   "metadata": {},
   "source": [
    "#### Feature 5: Second Difference Mean"
   ]
  },
  {
   "cell_type": "code",
   "execution_count": 28,
   "metadata": {},
   "outputs": [
    {
     "data": {
      "text/plain": [
       "0.0023686827005249666"
      ]
     },
     "execution_count": 28,
     "metadata": {},
     "output_type": "execute_result"
    }
   ],
   "source": [
    "# Get sample signal \n",
    "\n",
    "signal = get_signal('EDA', 3, 13)\n",
    "\n",
    "# Define analysis function\n",
    "\n",
    "def sec_diff_mean(signal):\n",
    "    fdm = abs(np.diff(signal, n=2))\n",
    "    return np.mean(fdm)\n",
    "\n",
    "# Test function\n",
    "\n",
    "sec_diff_mean(signal)"
   ]
  },
  {
   "cell_type": "code",
   "execution_count": 29,
   "metadata": {},
   "outputs": [
    {
     "name": "stderr",
     "output_type": "stream",
     "text": [
      "100%|██████████| 33/33 [00:00<00:00, 44.43it/s]\n"
     ]
    }
   ],
   "source": [
    "# Compute feature for entire dataset\n",
    "\n",
    "allfeatures = [];\n",
    "\n",
    "targets = [];\n",
    "\n",
    "for subjno in tqdm(all_subjects):\n",
    "    for epoch in range(4):\n",
    "        for splitno in range(n_splits):\n",
    "            \n",
    "            eda_signal = get_split_signal('EDA',epoch,subjno,splitno) ## CHANGE THIS TO WHICHEVER SIGNAL YOU WANT\n",
    "            \n",
    "\n",
    "            allfeature = sec_diff_mean(eda_signal) ## CHANGE THIS LINE HERE WITH YOUR OWN FUNCTION\n",
    "            \n",
    "            allfeatures.append(allfeature)\n",
    "            targets.append(is_perturbed(epoch))\n",
    "\n",
    "allfeature_names = ['my_feature'] ## You can leave this the way it is for simplicity. \n",
    "fdf = pd.DataFrame(allfeatures, columns = allfeature_names)"
   ]
  },
  {
   "cell_type": "code",
   "execution_count": 30,
   "metadata": {},
   "outputs": [
    {
     "name": "stdout",
     "output_type": "stream",
     "text": [
      "\u001b[31mANOVA P-value = 0.001\u001b[0m\n"
     ]
    },
    {
     "data": {
      "image/png": "[encoded data removed]",
      "text/plain": [
       "<Figure size 432x288 with 1 Axes>"
      ]
     },
     "metadata": {
      "needs_background": "light"
     },
     "output_type": "display_data"
    }
   ],
   "source": [
    "# Evaluate feature\n",
    "\n",
    "targets = np.asarray(targets)\n",
    "up = np.asarray(fdf['my_feature'][targets == 0])\n",
    "p = np.asarray(fdf['my_feature'][targets == 1])\n",
    "\n",
    "plt.hist(up,histtype = 'step')\n",
    "plt.hist(p, histtype = 'step')\n",
    "\n",
    "pval = stats.f_oneway(up,p)[1]\n",
    "if pval < 0.1:\n",
    "    print('\\033[31m', 'ANOVA P-value = %.3f'%pval, '\\033[0m', sep='') # Significant P-values will be colorful :)\n",
    "else:\n",
    "     print('ANOVA P-value = %.3f'%pval)"
   ]
  },
  {
   "cell_type": "markdown",
   "metadata": {},
   "source": [
    "### Feature 6: Second Difference Std"
   ]
  },
  {
   "cell_type": "code",
   "execution_count": 21,
   "metadata": {},
   "outputs": [
    {
     "data": {
      "text/plain": [
       "0.016341185224222045"
      ]
     },
     "execution_count": 21,
     "metadata": {},
     "output_type": "execute_result"
    }
   ],
   "source": [
    "# Get sample signal \n",
    "\n",
    "signal = get_signal('EDA', 3, 13)\n",
    "\n",
    "# Define analysis function\n",
    "\n",
    "def sec_diff_std(signal):\n",
    "    fdm = abs(np.diff(signal, n=2))\n",
    "    return np.std(fdm)\n",
    "\n",
    "# Test function\n",
    "\n",
    "sec_diff_std(signal)"
   ]
  },
  {
   "cell_type": "code",
   "execution_count": 22,
   "metadata": {},
   "outputs": [
    {
     "name": "stderr",
     "output_type": "stream",
     "text": [
      "100%|██████████| 33/33 [00:00<00:00, 700.22it/s]\n"
     ]
    }
   ],
   "source": [
    "# Compute feature for entire dataset\n",
    "\n",
    "allfeatures = [];\n",
    "\n",
    "targets = [];\n",
    "\n",
    "for subjno in tqdm(all_subjects):\n",
    "    for epoch in range(4):\n",
    "        for splitno in range(n_splits):\n",
    "            \n",
    "            eda_signal = get_split_signal('EDA',epoch,subjno,splitno) ## CHANGE THIS TO WHICHEVER SIGNAL YOU WANT\n",
    "            \n",
    "\n",
    "            allfeature = sec_diff_std(eda_signal) ## CHANGE THIS LINE HERE WITH YOUR OWN FUNCTION\n",
    "            \n",
    "            allfeatures.append(allfeature)\n",
    "            targets.append(is_perturbed(epoch))\n",
    "\n",
    "allfeature_names = ['my_feature'] ## You can leave this the way it is for simplicity. \n",
    "fdf = pd.DataFrame(allfeatures, columns = allfeature_names)"
   ]
  },
  {
   "cell_type": "code",
   "execution_count": 23,
   "metadata": {
    "scrolled": true
   },
   "outputs": [
    {
     "name": "stdout",
     "output_type": "stream",
     "text": [
      "ANOVA P-value = 0.513\n"
     ]
    },
    {
     "data": {
      "image/png": "[encoded data removed]",
      "text/plain": [
       "<Figure size 432x288 with 1 Axes>"
      ]
     },
     "metadata": {
      "needs_background": "light"
     },
     "output_type": "display_data"
    }
   ],
   "source": [
    "# Evaluate feature\n",
    "\n",
    "targets = np.asarray(targets)\n",
    "up = np.asarray(fdf['my_feature'][targets == 0])\n",
    "p = np.asarray(fdf['my_feature'][targets == 1])\n",
    "\n",
    "plt.hist(up,histtype = 'step')\n",
    "plt.hist(p, histtype = 'step')\n",
    "\n",
    "pval = stats.f_oneway(up,p)[1]\n",
    "if pval < 0.1:\n",
    "    print('\\033[31m', 'ANOVA P-value = %.3f'%pval, '\\033[0m', sep='') # Significant P-values will be colorful :)\n",
    "else:\n",
    "     print('ANOVA P-value = %.3f'%pval)"
   ]
  },
  {
   "cell_type": "markdown",
   "metadata": {},
   "source": [
    "### Features 7-13: Orienting Responses"
   ]
  },
  {
   "cell_type": "code",
   "execution_count": 31,
   "metadata": {},
   "outputs": [
    {
     "data": {
      "text/plain": [
       "[922,\n",
       " 165.9137309999996,\n",
       " 691,\n",
       " 525.0862690000004,\n",
       " 282.84621449999963,\n",
       " 0.5703640380021715,\n",
       " 525.3052789999995]"
      ]
     },
     "execution_count": 31,
     "metadata": {},
     "output_type": "execute_result"
    }
   ],
   "source": [
    "# Get sample signal \n",
    "\n",
    "signal = get_signal('EDA', 3, 13)\n",
    "\n",
    "# Define analysis function\n",
    "\n",
    "def orienting_responses(signal):\n",
    "    #onsets\n",
    "    inds_on = sig.argrelextrema(signal, np.less)[0]\n",
    "    num_onsets = len(inds_on)\n",
    "    onsets = []\n",
    "    for i in inds_on:\n",
    "        onsets.append(signal[i])\n",
    "    sum_onsets = sum(onsets)\n",
    "    \n",
    "    #peaks\n",
    "    inds_peak = sig.argrelextrema(signal, np.greater)[0]\n",
    "    \n",
    "    #finding relevant peaks\n",
    "    peak_list = []\n",
    "    for i in range(len(inds_on)-1):\n",
    "        all_peaks_list = np.logical_and(inds_peak > inds_on[i], inds_peak < inds_on[i+1])\n",
    "        peak_list.append(max(all_peaks_list))\n",
    "    \n",
    "    rel_inds_peak = np.asarray(peak_list)\n",
    "    \n",
    "    sum_peaks = sum(rel_inds_peak)\n",
    "    sum_diff = sum_peaks-sum_onsets\n",
    "            \n",
    "    orienting_duration = []\n",
    "    for i in range(len(rel_inds_peak)):\n",
    "        orienting_duration.append(rel_inds_peak[i]-onsets[i])\n",
    "    mean_od = np.mean(orienting_duration)\n",
    "    sum_od = sum(orienting_duration)\n",
    "    \n",
    "    areas = []\n",
    "    for i in range(len(inds_on)-1):\n",
    "        areas.append(0.5*orienting_duration[i]*rel_inds_peak[i])\n",
    "    \n",
    "    sum_areas = sum(areas)\n",
    "    \n",
    "    \n",
    "    return [num_onsets, sum_onsets, sum_peaks, sum_diff, sum_areas, mean_od, sum_od]\n",
    "\n",
    "# Test function\n",
    "\n",
    "orienting_responses(signal)"
   ]
  },
  {
   "cell_type": "code",
   "execution_count": 32,
   "metadata": {},
   "outputs": [
    {
     "name": "stderr",
     "output_type": "stream",
     "text": [
      "100%|██████████| 33/33 [00:16<00:00,  2.04it/s]\n"
     ]
    }
   ],
   "source": [
    "# Compute feature for entire dataset\n",
    "\n",
    "allfeatures = [];\n",
    "\n",
    "targets = [];\n",
    "\n",
    "for subjno in tqdm(all_subjects):\n",
    "    for epoch in range(4):\n",
    "        for splitno in range(n_splits):\n",
    "            \n",
    "            eda_signal = get_split_signal('EDA',epoch,subjno,splitno) ## CHANGE THIS TO WHICHEVER SIGNAL YOU WANT\n",
    "            \n",
    "\n",
    "            allfeature = orienting_responses(eda_signal)[0] ## CHANGE THIS LINE HERE WITH YOUR OWN FUNCTION\n",
    "            \n",
    "            allfeatures.append(allfeature)\n",
    "            targets.append(is_perturbed(epoch))\n",
    "\n",
    "allfeature_names = ['my_feature'] ## You can leave this the way it is for simplicity. \n",
    "fdf = pd.DataFrame(allfeatures, columns = allfeature_names)"
   ]
  },
  {
   "cell_type": "code",
   "execution_count": 27,
   "metadata": {},
   "outputs": [
    {
     "name": "stdout",
     "output_type": "stream",
     "text": [
      "ANOVA P-value = 0.238\n"
     ]
    },
    {
     "data": {
      "image/png": "[encoded data removed]",
      "text/plain": [
       "<Figure size 432x288 with 1 Axes>"
      ]
     },
     "metadata": {
      "needs_background": "light"
     },
     "output_type": "display_data"
    }
   ],
   "source": [
    "# Evaluate feature\n",
    "\n",
    "targets = np.asarray(targets)\n",
    "up = np.asarray(fdf['my_feature'][targets == 0])\n",
    "p = np.asarray(fdf['my_feature'][targets == 1])\n",
    "\n",
    "plt.hist(up,histtype = 'step')\n",
    "plt.hist(p, histtype = 'step')\n",
    "\n",
    "pval = stats.f_oneway(up,p)[1]\n",
    "if pval < 0.1:\n",
    "    print('\\033[31m', 'ANOVA P-value = %.3f'%pval, '\\033[0m', sep='') # Significant P-values will be colorful :)\n",
    "else:\n",
    "     print('ANOVA P-value = %.3f'%pval)"
   ]
  },
  {
   "cell_type": "markdown",
   "metadata": {},
   "source": [
    "#### Sum Onsets"
   ]
  },
  {
   "cell_type": "code",
   "execution_count": 28,
   "metadata": {},
   "outputs": [
    {
     "name": "stderr",
     "output_type": "stream",
     "text": [
      " 73%|███████▎  | 24/33 [03:09<00:59,  6.56s/it]"
     ]
    },
    {
     "ename": "KeyboardInterrupt",
     "evalue": "",
     "output_type": "error",
     "traceback": [
      "\u001b[0;31m---------------------------------------------------------------------------\u001b[0m",
      "\u001b[0;31mKeyboardInterrupt\u001b[0m                         Traceback (most recent call last)",
      "\u001b[0;32m<ipython-input-28-ba6c68d0c652>\u001b[0m in \u001b[0;36m<module>\u001b[0;34m\u001b[0m\n\u001b[1;32m     12\u001b[0m \u001b[0;34m\u001b[0m\u001b[0m\n\u001b[1;32m     13\u001b[0m \u001b[0;34m\u001b[0m\u001b[0m\n\u001b[0;32m---> 14\u001b[0;31m             \u001b[0mallfeature\u001b[0m \u001b[0;34m=\u001b[0m \u001b[0morienting_responses\u001b[0m\u001b[0;34m(\u001b[0m\u001b[0meda_signal\u001b[0m\u001b[0;34m)\u001b[0m\u001b[0;34m[\u001b[0m\u001b[0;36m1\u001b[0m\u001b[0;34m]\u001b[0m \u001b[0;31m## CHANGE THIS LINE HERE WITH YOUR OWN FUNCTION\u001b[0m\u001b[0;34m\u001b[0m\u001b[0;34m\u001b[0m\u001b[0m\n\u001b[0m\u001b[1;32m     15\u001b[0m \u001b[0;34m\u001b[0m\u001b[0m\n\u001b[1;32m     16\u001b[0m             \u001b[0mallfeatures\u001b[0m\u001b[0;34m.\u001b[0m\u001b[0mappend\u001b[0m\u001b[0;34m(\u001b[0m\u001b[0mallfeature\u001b[0m\u001b[0;34m)\u001b[0m\u001b[0;34m\u001b[0m\u001b[0;34m\u001b[0m\u001b[0m\n",
      "\u001b[0;32m<ipython-input-24-5c4fd666c214>\u001b[0m in \u001b[0;36morienting_responses\u001b[0;34m(signal)\u001b[0m\n\u001b[1;32m     21\u001b[0m     \u001b[0;32mfor\u001b[0m \u001b[0mi\u001b[0m \u001b[0;32min\u001b[0m \u001b[0mrange\u001b[0m\u001b[0;34m(\u001b[0m\u001b[0mlen\u001b[0m\u001b[0;34m(\u001b[0m\u001b[0minds_on\u001b[0m\u001b[0;34m)\u001b[0m\u001b[0;34m-\u001b[0m\u001b[0;36m1\u001b[0m\u001b[0;34m)\u001b[0m\u001b[0;34m:\u001b[0m\u001b[0;34m\u001b[0m\u001b[0;34m\u001b[0m\u001b[0m\n\u001b[1;32m     22\u001b[0m         \u001b[0mall_peaks_list\u001b[0m \u001b[0;34m=\u001b[0m \u001b[0mnp\u001b[0m\u001b[0;34m.\u001b[0m\u001b[0mlogical_and\u001b[0m\u001b[0;34m(\u001b[0m\u001b[0minds_peak\u001b[0m \u001b[0;34m>\u001b[0m \u001b[0minds_on\u001b[0m\u001b[0;34m[\u001b[0m\u001b[0mi\u001b[0m\u001b[0;34m]\u001b[0m\u001b[0;34m,\u001b[0m \u001b[0minds_peak\u001b[0m \u001b[0;34m<\u001b[0m \u001b[0minds_on\u001b[0m\u001b[0;34m[\u001b[0m\u001b[0mi\u001b[0m\u001b[0;34m+\u001b[0m\u001b[0;36m1\u001b[0m\u001b[0;34m]\u001b[0m\u001b[0;34m)\u001b[0m\u001b[0;34m\u001b[0m\u001b[0;34m\u001b[0m\u001b[0m\n\u001b[0;32m---> 23\u001b[0;31m         \u001b[0mpeak_list\u001b[0m\u001b[0;34m.\u001b[0m\u001b[0mappend\u001b[0m\u001b[0;34m(\u001b[0m\u001b[0mmax\u001b[0m\u001b[0;34m(\u001b[0m\u001b[0mall_peaks_list\u001b[0m\u001b[0;34m)\u001b[0m\u001b[0;34m)\u001b[0m\u001b[0;34m\u001b[0m\u001b[0;34m\u001b[0m\u001b[0m\n\u001b[0m\u001b[1;32m     24\u001b[0m \u001b[0;34m\u001b[0m\u001b[0m\n\u001b[1;32m     25\u001b[0m     \u001b[0mrel_inds_peak\u001b[0m \u001b[0;34m=\u001b[0m \u001b[0mnp\u001b[0m\u001b[0;34m.\u001b[0m\u001b[0masarray\u001b[0m\u001b[0;34m(\u001b[0m\u001b[0mpeak_list\u001b[0m\u001b[0;34m)\u001b[0m\u001b[0;34m\u001b[0m\u001b[0;34m\u001b[0m\u001b[0m\n",
      "\u001b[0;31mKeyboardInterrupt\u001b[0m: "
     ]
    }
   ],
   "source": [
    "# Compute feature for entire dataset\n",
    "\n",
    "allfeatures = [];\n",
    "\n",
    "targets = [];\n",
    "\n",
    "for subjno in tqdm(all_subjects):\n",
    "    for epoch in range(4):\n",
    "        for splitno in range(n_splits):\n",
    "            \n",
    "            eda_signal = get_split_signal('EDA',epoch,subjno,splitno) ## CHANGE THIS TO WHICHEVER SIGNAL YOU WANT\n",
    "            \n",
    "\n",
    "            allfeature = orienting_responses(eda_signal)[1] ## CHANGE THIS LINE HERE WITH YOUR OWN FUNCTION\n",
    "            \n",
    "            allfeatures.append(allfeature)\n",
    "            targets.append(is_perturbed(epoch))\n",
    "\n",
    "allfeature_names = ['my_feature'] ## You can leave this the way it is for simplicity. \n",
    "fdf = pd.DataFrame(allfeatures, columns = allfeature_names)"
   ]
  },
  {
   "cell_type": "code",
   "execution_count": 107,
   "metadata": {},
   "outputs": [
    {
     "name": "stdout",
     "output_type": "stream",
     "text": [
      "ANOVA P-value = 0.169\n"
     ]
    },
    {
     "data": {
      "image/png": "[encoded data removed]",
      "text/plain": [
       "<Figure size 432x288 with 1 Axes>"
      ]
     },
     "metadata": {
      "needs_background": "light"
     },
     "output_type": "display_data"
    }
   ],
   "source": [
    "# Evaluate feature\n",
    "\n",
    "targets = np.asarray(targets)\n",
    "up = np.asarray(fdf['my_feature'][targets == 0])\n",
    "p = np.asarray(fdf['my_feature'][targets == 1])\n",
    "\n",
    "plt.hist(up,histtype = 'step')\n",
    "plt.hist(p, histtype = 'step')\n",
    "\n",
    "pval = stats.f_oneway(up,p)[1]\n",
    "if pval < 0.1:\n",
    "    print('\\033[31m', 'ANOVA P-value = %.3f'%pval, '\\033[0m', sep='') # Significant P-values will be colorful :)\n",
    "else:\n",
    "     print('ANOVA P-value = %.3f'%pval)"
   ]
  },
  {
   "cell_type": "markdown",
   "metadata": {},
   "source": [
    "#### Sum Peaks"
   ]
  },
  {
   "cell_type": "code",
   "execution_count": 108,
   "metadata": {},
   "outputs": [
    {
     "name": "stderr",
     "output_type": "stream",
     "text": [
      "100%|██████████| 33/33 [05:07<00:00,  9.00s/it]\n"
     ]
    }
   ],
   "source": [
    "# Compute feature for entire dataset\n",
    "\n",
    "allfeatures = [];\n",
    "\n",
    "targets = [];\n",
    "\n",
    "for subjno in tqdm(all_subjects):\n",
    "    for epoch in range(4):\n",
    "        for splitno in range(n_splits):\n",
    "            \n",
    "            eda_signal = get_split_signal('EDA',epoch,subjno,splitno) ## CHANGE THIS TO WHICHEVER SIGNAL YOU WANT\n",
    "            \n",
    "\n",
    "            allfeature = orienting_responses(eda_signal)[2] ## CHANGE THIS LINE HERE WITH YOUR OWN FUNCTION\n",
    "            \n",
    "            allfeatures.append(allfeature)\n",
    "            targets.append(is_perturbed(epoch))\n",
    "\n",
    "allfeature_names = ['my_feature'] ## You can leave this the way it is for simplicity. \n",
    "fdf = pd.DataFrame(allfeatures, columns = allfeature_names)"
   ]
  },
  {
   "cell_type": "code",
   "execution_count": 109,
   "metadata": {},
   "outputs": [
    {
     "name": "stdout",
     "output_type": "stream",
     "text": [
      "ANOVA P-value = 0.390\n"
     ]
    },
    {
     "data": {
      "image/png": "[encoded data removed]",
      "text/plain": [
       "<Figure size 432x288 with 1 Axes>"
      ]
     },
     "metadata": {
      "needs_background": "light"
     },
     "output_type": "display_data"
    }
   ],
   "source": [
    "# Evaluate feature\n",
    "\n",
    "targets = np.asarray(targets)\n",
    "up = np.asarray(fdf['my_feature'][targets == 0])\n",
    "p = np.asarray(fdf['my_feature'][targets == 1])\n",
    "\n",
    "plt.hist(up,histtype = 'step')\n",
    "plt.hist(p, histtype = 'step')\n",
    "\n",
    "pval = stats.f_oneway(up,p)[1]\n",
    "if pval < 0.1:\n",
    "    print('\\033[31m', 'ANOVA P-value = %.3f'%pval, '\\033[0m', sep='') # Significant P-values will be colorful :)\n",
    "else:\n",
    "     print('ANOVA P-value = %.3f'%pval)"
   ]
  },
  {
   "cell_type": "markdown",
   "metadata": {},
   "source": [
    "#### Difference Between Sum of Peaks and Onsets"
   ]
  },
  {
   "cell_type": "code",
   "execution_count": 110,
   "metadata": {},
   "outputs": [
    {
     "name": "stderr",
     "output_type": "stream",
     "text": [
      "100%|██████████| 33/33 [05:31<00:00,  9.12s/it]\n"
     ]
    }
   ],
   "source": [
    "# Compute feature for entire dataset\n",
    "\n",
    "allfeatures = [];\n",
    "\n",
    "targets = [];\n",
    "\n",
    "for subjno in tqdm(all_subjects):\n",
    "    for epoch in range(4):\n",
    "        for splitno in range(n_splits):\n",
    "            \n",
    "            eda_signal = get_split_signal('EDA',epoch,subjno,splitno) ## CHANGE THIS TO WHICHEVER SIGNAL YOU WANT\n",
    "            \n",
    "\n",
    "            allfeature = orienting_responses(eda_signal)[3] ## CHANGE THIS LINE HERE WITH YOUR OWN FUNCTION\n",
    "            \n",
    "            allfeatures.append(allfeature)\n",
    "            targets.append(is_perturbed(epoch))\n",
    "\n",
    "allfeature_names = ['my_feature'] ## You can leave this the way it is for simplicity. \n",
    "fdf = pd.DataFrame(allfeatures, columns = allfeature_names)"
   ]
  },
  {
   "cell_type": "code",
   "execution_count": 111,
   "metadata": {},
   "outputs": [
    {
     "name": "stdout",
     "output_type": "stream",
     "text": [
      "ANOVA P-value = 0.118\n"
     ]
    },
    {
     "data": {
      "image/png": "[encoded data removed]",
      "text/plain": [
       "<Figure size 432x288 with 1 Axes>"
      ]
     },
     "metadata": {
      "needs_background": "light"
     },
     "output_type": "display_data"
    }
   ],
   "source": [
    "# Evaluate feature\n",
    "\n",
    "targets = np.asarray(targets)\n",
    "up = np.asarray(fdf['my_feature'][targets == 0])\n",
    "p = np.asarray(fdf['my_feature'][targets == 1])\n",
    "\n",
    "plt.hist(up,histtype = 'step')\n",
    "plt.hist(p, histtype = 'step')\n",
    "\n",
    "pval = stats.f_oneway(up,p)[1]\n",
    "if pval < 0.1:\n",
    "    print('\\033[31m', 'ANOVA P-value = %.3f'%pval, '\\033[0m', sep='') # Significant P-values will be colorful :)\n",
    "else:\n",
    "     print('ANOVA P-value = %.3f'%pval)"
   ]
  },
  {
   "cell_type": "markdown",
   "metadata": {},
   "source": [
    "#### Sum of Areas"
   ]
  },
  {
   "cell_type": "code",
   "execution_count": 12,
   "metadata": {},
   "outputs": [
    {
     "name": "stderr",
     "output_type": "stream",
     "text": [
      "100%|██████████| 33/33 [06:37<00:00, 17.68s/it]\n"
     ]
    }
   ],
   "source": [
    "# Compute feature for entire dataset\n",
    "\n",
    "allfeatures = [];\n",
    "\n",
    "targets = [];\n",
    "\n",
    "for subjno in tqdm(all_subjects):\n",
    "    for epoch in range(4):\n",
    "        for splitno in range(n_splits):\n",
    "            \n",
    "            eda_signal = get_split_signal('EDA',epoch,subjno,splitno) ## CHANGE THIS TO WHICHEVER SIGNAL YOU WANT\n",
    "            \n",
    "\n",
    "            allfeature = orienting_responses(eda_signal)[4] ## CHANGE THIS LINE HERE WITH YOUR OWN FUNCTION\n",
    "            \n",
    "            allfeatures.append(allfeature)\n",
    "            targets.append(is_perturbed(epoch))\n",
    "\n",
    "allfeature_names = ['my_feature'] ## You can leave this the way it is for simplicity. \n",
    "fdf = pd.DataFrame(allfeatures, columns = allfeature_names)"
   ]
  },
  {
   "cell_type": "code",
   "execution_count": 13,
   "metadata": {},
   "outputs": [
    {
     "name": "stdout",
     "output_type": "stream",
     "text": [
      "ANOVA P-value = 0.117\n"
     ]
    },
    {
     "data": {
      "image/png": "[encoded data removed]",
      "text/plain": [
       "<Figure size 432x288 with 1 Axes>"
      ]
     },
     "metadata": {
      "needs_background": "light"
     },
     "output_type": "display_data"
    }
   ],
   "source": [
    "# Evaluate feature\n",
    "\n",
    "targets = np.asarray(targets)\n",
    "up = np.asarray(fdf['my_feature'][targets == 0])\n",
    "p = np.asarray(fdf['my_feature'][targets == 1])\n",
    "\n",
    "plt.hist(up,histtype = 'step')\n",
    "plt.hist(p, histtype = 'step')\n",
    "\n",
    "pval = stats.f_oneway(up,p)[1]\n",
    "if pval < 0.1:\n",
    "    print('\\033[31m', 'ANOVA P-value = %.3f'%pval, '\\033[0m', sep='') # Significant P-values will be colorful :)\n",
    "else:\n",
    "     print('ANOVA P-value = %.3f'%pval)"
   ]
  },
  {
   "cell_type": "markdown",
   "metadata": {},
   "source": [
    "#### Mean Orienting Response Duration"
   ]
  },
  {
   "cell_type": "code",
   "execution_count": 14,
   "metadata": {},
   "outputs": [
    {
     "name": "stderr",
     "output_type": "stream",
     "text": [
      "100%|██████████| 33/33 [09:50<00:00, 12.11s/it]\n"
     ]
    }
   ],
   "source": [
    "# Compute feature for entire dataset\n",
    "\n",
    "allfeatures = [];\n",
    "\n",
    "targets = [];\n",
    "\n",
    "for subjno in tqdm(all_subjects):\n",
    "    for epoch in range(4):\n",
    "        for splitno in range(n_splits):\n",
    "            \n",
    "            eda_signal = get_split_signal('EDA',epoch,subjno,splitno) ## CHANGE THIS TO WHICHEVER SIGNAL YOU WANT\n",
    "            \n",
    "\n",
    "            allfeature = orienting_responses(eda_signal)[5] ## CHANGE THIS LINE HERE WITH YOUR OWN FUNCTION\n",
    "            \n",
    "            allfeatures.append(allfeature)\n",
    "            targets.append(is_perturbed(epoch))\n",
    "\n",
    "allfeature_names = ['my_feature'] ## You can leave this the way it is for simplicity. \n",
    "fdf = pd.DataFrame(allfeatures, columns = allfeature_names)"
   ]
  },
  {
   "cell_type": "code",
   "execution_count": 16,
   "metadata": {},
   "outputs": [
    {
     "name": "stdout",
     "output_type": "stream",
     "text": [
      "\u001b[31mANOVA P-value = 0.059\u001b[0m\n"
     ]
    },
    {
     "data": {
      "image/png": "[encoded data removed]",
      "text/plain": [
       "<Figure size 432x288 with 1 Axes>"
      ]
     },
     "metadata": {
      "needs_background": "light"
     },
     "output_type": "display_data"
    }
   ],
   "source": [
    "# Evaluate feature\n",
    "\n",
    "targets = np.asarray(targets)\n",
    "up = np.asarray(fdf['my_feature'][targets == 0])\n",
    "p = np.asarray(fdf['my_feature'][targets == 1])\n",
    "\n",
    "plt.hist(up,histtype = 'step')\n",
    "plt.hist(p, histtype = 'step')\n",
    "\n",
    "pval = stats.f_oneway(up,p)[1]\n",
    "if pval < 0.1:\n",
    "    print('\\033[31m', 'ANOVA P-value = %.3f'%pval, '\\033[0m', sep='') # Significant P-values will be colorful :)\n",
    "else:\n",
    "     print('ANOVA P-value = %.3f'%pval)"
   ]
  },
  {
   "cell_type": "markdown",
   "metadata": {},
   "source": [
    "#### Sum of Durations"
   ]
  },
  {
   "cell_type": "code",
   "execution_count": 19,
   "metadata": {},
   "outputs": [
    {
     "name": "stderr",
     "output_type": "stream",
     "text": [
      "100%|██████████| 33/33 [06:10<00:00, 10.87s/it]\n"
     ]
    }
   ],
   "source": [
    "# Compute feature for entire dataset\n",
    "\n",
    "allfeatures = [];\n",
    "\n",
    "targets = [];\n",
    "\n",
    "for subjno in tqdm(all_subjects):\n",
    "    for epoch in range(4):\n",
    "        for splitno in range(n_splits):\n",
    "            \n",
    "            eda_signal = get_split_signal('EDA',epoch,subjno,splitno) ## CHANGE THIS TO WHICHEVER SIGNAL YOU WANT\n",
    "            \n",
    "\n",
    "            allfeature = orienting_responses(eda_signal)[6] ## CHANGE THIS LINE HERE WITH YOUR OWN FUNCTION\n",
    "            \n",
    "            allfeatures.append(allfeature)\n",
    "            targets.append(is_perturbed(epoch))\n",
    "\n",
    "allfeature_names = ['my_feature'] ## You can leave this the way it is for simplicity. \n",
    "fdf = pd.DataFrame(allfeatures, columns = allfeature_names)"
   ]
  },
  {
   "cell_type": "code",
   "execution_count": 20,
   "metadata": {},
   "outputs": [
    {
     "name": "stdout",
     "output_type": "stream",
     "text": [
      "ANOVA P-value = 0.118\n"
     ]
    },
    {
     "data": {
      "image/png": "[encoded data removed]",
      "text/plain": [
       "<Figure size 432x288 with 1 Axes>"
      ]
     },
     "metadata": {
      "needs_background": "light"
     },
     "output_type": "display_data"
    }
   ],
   "source": [
    "# Evaluate feature\n",
    "\n",
    "targets = np.asarray(targets)\n",
    "up = np.asarray(fdf['my_feature'][targets == 0])\n",
    "p = np.asarray(fdf['my_feature'][targets == 1])\n",
    "\n",
    "plt.hist(up,histtype = 'step')\n",
    "plt.hist(p, histtype = 'step')\n",
    "\n",
    "pval = stats.f_oneway(up,p)[1]\n",
    "if pval < 0.1:\n",
    "    print('\\033[31m', 'ANOVA P-value = %.3f'%pval, '\\033[0m', sep='') # Significant P-values will be colorful :)\n",
    "else:\n",
    "     print('ANOVA P-value = %.3f'%pval)"
   ]
  },
  {
   "cell_type": "markdown",
   "metadata": {},
   "source": [
    "### Figuring out Peaks Function"
   ]
  },
  {
   "cell_type": "code",
   "execution_count": 33,
   "metadata": {},
   "outputs": [
    {
     "name": "stdout",
     "output_type": "stream",
     "text": [
      "32\n",
      "[31, 172.34610000000004, 207.8343999999999, 35.48829999999987, 130.31477067, 1.1447838709677418, 35.488299999999995, 6.131943548387096]\n"
     ]
    },
    {
     "data": {
      "image/png": "[encoded data removed]",
      "text/plain": [
       "<Figure size 432x288 with 1 Axes>"
      ]
     },
     "metadata": {
      "needs_background": "light"
     },
     "output_type": "display_data"
    }
   ],
   "source": [
    "signal = get_signal('EDA', 3, 14)\n",
    "def filter_signal(signal):\n",
    "    #want a 5th order butterworth filter \n",
    "    #digital filter\n",
    "    #fs = 32 hz\n",
    "    n, Wn = sig.buttord(8/500, 32/500, 3, 60)\n",
    "    b,a = sig.butter(n,Wn)\n",
    "    new_sig = sig.lfilter(b,a,signal)\n",
    "    #get filtered data --> find max and min value between 2 peaks -- make those peaks and onsets? \n",
    "    return new_sig\n",
    "\n",
    "def orienting_features(signal):\n",
    "    #get_peaks\n",
    "    filtered_sig = filter_signal(signal)\n",
    "    bounds = sig.argrelextrema(filtered_sig, np.greater)[0]\n",
    "    max_list = []\n",
    "    min_list = []\n",
    "    for i in range(len(bounds)-1):\n",
    "        b1 = bounds[i]\n",
    "        b2 = bounds[i+1]\n",
    "        max_list.append(max(signal[b1:b2]))\n",
    "        min_list.append(min(signal[b1:b2]))\n",
    "    \n",
    "    num_onsets = len(min_list)\n",
    "    sum_onsets = sum(min_list)\n",
    "    sum_peaks = sum(max_list)\n",
    "    sum_diff = sum_peaks-sum_onsets\n",
    "            \n",
    "    orienting_duration = []\n",
    "    for i in range(len(max_list)):\n",
    "        orienting_duration.append(max_list[i]-min_list[i])\n",
    "    mean_od = np.mean(orienting_duration)\n",
    "    sum_od = sum(orienting_duration)\n",
    "    \n",
    "    areas = []\n",
    "    for i in range(len(min_list)):\n",
    "        areas.append(0.5*orienting_duration[i]*max_list[i])\n",
    "    \n",
    "    sum_areas = sum(areas)\n",
    "    \n",
    "    mean_amplitude = []\n",
    "    for i in range(len(max_list)):\n",
    "        mean_amplitude.append((max_list[i]+min_list[i])/2)\n",
    "    \n",
    "    mean_amp = np.mean(mean_amplitude)\n",
    "    \n",
    "    print(len(bounds))\n",
    "    for i in range(len(bounds)-1):\n",
    "        b = bounds[i]\n",
    "        #plt.plot(b, max_list[i],'o')\n",
    "    \n",
    "    return [num_onsets, sum_onsets, sum_peaks, sum_diff, sum_areas, mean_od, sum_od, mean_amp]\n",
    "\n",
    "\n",
    "butter = filter_signal(signal)\n",
    "plt.plot(signal, label = 'sig')\n",
    "plt.plot(butter, label = 'butter')\n",
    "plt.legend()\n",
    "of = orienting_features(signal)\n",
    "print(of)"
   ]
  },
  {
   "cell_type": "code",
   "execution_count": 34,
   "metadata": {},
   "outputs": [],
   "source": [
    "#using findpeaks\n",
    "ii = np.random.randint(0,len(all_subjects))\n",
    "jj = np.random.randint(0,4)\n"
   ]
  },
  {
   "cell_type": "code",
   "execution_count": 76,
   "metadata": {},
   "outputs": [
    {
     "data": {
      "text/plain": [
       "Text(0, 0.5, 'EDA Signal')"
      ]
     },
     "execution_count": 76,
     "metadata": {},
     "output_type": "execute_result"
    },
    {
     "data": {
      "image/png": "[encoded data removed]",
      "text/plain": [
       "<Figure size 432x288 with 1 Axes>"
      ]
     },
     "metadata": {
      "needs_background": "light"
     },
     "output_type": "display_data"
    }
   ],
   "source": [
    "from scipy.signal import medfilt\n",
    "signal = get_signal('EDA',jj,all_subjects[ii])\n",
    "def find_peaks(signal):\n",
    "    #normalize function\n",
    "    norm_signal = medfilt((signal-np.mean(signal))/np.std(signal), 31)\n",
    "    #find peaks\n",
    "    peaks, _ = sig.find_peaks(norm_signal, distance = len(signal)/12, prominence = 0.25)\n",
    "    if len(peaks) == 0:\n",
    "        peaks, _ = sig.find_peaks(norm_signal, distance = len(signal)/14, prominence = 0.1)\n",
    "    min_0 = np.argmin(signal[0:peaks[0]])\n",
    "    min_peaks = [min_0]\n",
    "    for i in range(1,len(peaks)):\n",
    "        min_i = np.argmin(signal[peaks[i-1]:peaks[i]])\n",
    "        min_peaks.append((peaks[i-1]+min_i))\n",
    "    return peaks, min_peaks\n",
    "\n",
    "peaks, onsets = find_peaks(signal)\n",
    "\n",
    "plt.plot(signal)\n",
    "plt.plot(peaks, signal[peaks], 'rx', markersize = 10)\n",
    "plt.plot(onsets, signal[onsets], 'kx', markersize = 10)\n",
    "\n",
    "def orienting_features(signal):\n",
    "    peaks, onsets = find_peaks(signal)\n",
    "    num_onsets = len(onsets)\n",
    "    sum_peaks = sum(signal[peaks])\n",
    "    sum_onsets = sum(signal[onsets])\n",
    "    sum_difference = sum_peaks - sum_onsets\n",
    "    \n",
    "    orienting_duration = []\n",
    "    for i in range(len(peaks)):\n",
    "        orienting_duration.append(peaks[i]-onsets[i])\n",
    "    mean_od = np.mean(orienting_duration)\n",
    "    sum_od = sum(orienting_duration)\n",
    "    \n",
    "    areas = []\n",
    "    for i in range(len(peaks)):\n",
    "        areas.append(0.5*orienting_duration[i]*peaks[i])\n",
    "    \n",
    "    sum_areas = sum(areas)\n",
    "    \n",
    "    mean_amplitude = []\n",
    "    for i in range(len(peaks)):\n",
    "        mean_amplitude.append((peaks[i]+onsets[i])/2)\n",
    "    \n",
    "    mean_amp = np.mean(mean_amplitude)\n",
    "    total_amp = sum(mean_amplitude)\n",
    "    return [num_onsets, sum_onsets, sum_peaks, sum_difference, sum_areas, sum_od, mean_od, mean_amp, total_amp]\n",
    "\n",
    "plt.xlabel('Samples')\n",
    "plt.ylabel('EDA Signal')"
   ]
  },
  {
   "cell_type": "markdown",
   "metadata": {},
   "source": [
    "# Re-running Orienting Responses with filtered signal"
   ]
  },
  {
   "cell_type": "markdown",
   "metadata": {},
   "source": [
    "#### Number of Peaks"
   ]
  },
  {
   "cell_type": "code",
   "execution_count": 48,
   "metadata": {},
   "outputs": [],
   "source": [
    "n_splits = 1"
   ]
  },
  {
   "cell_type": "code",
   "execution_count": 53,
   "metadata": {},
   "outputs": [
    {
     "name": "stderr",
     "output_type": "stream",
     "text": [
      "100%|██████████| 33/33 [00:01<00:00, 22.19it/s]\n"
     ]
    }
   ],
   "source": [
    "# Compute feature for entire dataset\n",
    "\n",
    "allfeatures = [];\n",
    "\n",
    "targets = [];\n",
    "\n",
    "for subjno in tqdm(all_subjects):\n",
    "    for epoch in range(4):\n",
    "        for splitno in range(n_splits):\n",
    "            \n",
    "            eda_signal = get_split_signal('EDA',epoch,subjno,splitno) ## CHANGE THIS TO WHICHEVER SIGNAL YOU WANT\n",
    "            \n",
    "\n",
    "            allfeature = orienting_features(eda_signal)[0] ## CHANGE THIS LINE HERE WITH YOUR OWN FUNCTION\n",
    "            \n",
    "            allfeatures.append(allfeature)\n",
    "            targets.append(is_perturbed(epoch))\n",
    "\n",
    "allfeature_names = ['my_feature'] ## You can leave this the way it is for simplicity. \n",
    "fdf = pd.DataFrame(allfeatures, columns = allfeature_names)"
   ]
  },
  {
   "cell_type": "code",
   "execution_count": 54,
   "metadata": {},
   "outputs": [
    {
     "name": "stdout",
     "output_type": "stream",
     "text": [
      "\u001b[31mANOVA P-value = 0.041\u001b[0m\n"
     ]
    },
    {
     "data": {
      "image/png": "[encoded data removed]",
      "text/plain": [
       "<Figure size 432x288 with 1 Axes>"
      ]
     },
     "metadata": {
      "needs_background": "light"
     },
     "output_type": "display_data"
    }
   ],
   "source": [
    "# Evaluate feature\n",
    "\n",
    "targets = np.asarray(targets)\n",
    "up = np.asarray(fdf['my_feature'][targets == 0])\n",
    "p = np.asarray(fdf['my_feature'][targets == 1])\n",
    "\n",
    "plt.hist(up,histtype = 'step')\n",
    "plt.hist(p, histtype = 'step')\n",
    "\n",
    "pval = stats.f_oneway(up,p)[1]\n",
    "if pval < 0.1:\n",
    "    print('\\033[31m', 'ANOVA P-value = %.3f'%pval, '\\033[0m', sep='') # Significant P-values will be colorful :)\n",
    "else:\n",
    "     print('ANOVA P-value = %.3f'%pval)"
   ]
  },
  {
   "cell_type": "markdown",
   "metadata": {},
   "source": [
    "#### Sum of Onsets"
   ]
  },
  {
   "cell_type": "code",
   "execution_count": 55,
   "metadata": {},
   "outputs": [
    {
     "name": "stderr",
     "output_type": "stream",
     "text": [
      "100%|██████████| 33/33 [00:01<00:00, 22.27it/s]\n"
     ]
    }
   ],
   "source": [
    "# Compute feature for entire dataset\n",
    "\n",
    "allfeatures = [];\n",
    "\n",
    "targets = [];\n",
    "\n",
    "for subjno in tqdm(all_subjects):\n",
    "    for epoch in range(4):\n",
    "        for splitno in range(n_splits):\n",
    "            \n",
    "            eda_signal = get_split_signal('EDA',epoch,subjno,splitno) ## CHANGE THIS TO WHICHEVER SIGNAL YOU WANT\n",
    "            \n",
    "\n",
    "            allfeature = orienting_features(eda_signal)[1] ## CHANGE THIS LINE HERE WITH YOUR OWN FUNCTION\n",
    "            \n",
    "            allfeatures.append(allfeature)\n",
    "            targets.append(is_perturbed(epoch))\n",
    "\n",
    "allfeature_names = ['my_feature'] ## You can leave this the way it is for simplicity. \n",
    "fdf = pd.DataFrame(allfeatures, columns = allfeature_names)"
   ]
  },
  {
   "cell_type": "code",
   "execution_count": 56,
   "metadata": {},
   "outputs": [
    {
     "name": "stdout",
     "output_type": "stream",
     "text": [
      "\u001b[31mANOVA P-value = 0.011\u001b[0m\n"
     ]
    },
    {
     "data": {
      "image/png": "[encoded data removed]",
      "text/plain": [
       "<Figure size 432x288 with 1 Axes>"
      ]
     },
     "metadata": {
      "needs_background": "light"
     },
     "output_type": "display_data"
    }
   ],
   "source": [
    "# Evaluate feature\n",
    "\n",
    "targets = np.asarray(targets)\n",
    "up = np.asarray(fdf['my_feature'][targets == 0])\n",
    "p = np.asarray(fdf['my_feature'][targets == 1])\n",
    "\n",
    "plt.hist(up,histtype = 'step')\n",
    "plt.hist(p, histtype = 'step')\n",
    "\n",
    "pval = stats.f_oneway(up,p)[1]\n",
    "if pval < 0.1:\n",
    "    print('\\033[31m', 'ANOVA P-value = %.3f'%pval, '\\033[0m', sep='') # Significant P-values will be colorful :)\n",
    "else:\n",
    "     print('ANOVA P-value = %.3f'%pval)"
   ]
  },
  {
   "cell_type": "markdown",
   "metadata": {},
   "source": [
    "#### Sum of Peaks"
   ]
  },
  {
   "cell_type": "code",
   "execution_count": 57,
   "metadata": {},
   "outputs": [
    {
     "name": "stderr",
     "output_type": "stream",
     "text": [
      "100%|██████████| 33/33 [00:01<00:00, 22.36it/s]\n"
     ]
    }
   ],
   "source": [
    "# Compute feature for entire dataset\n",
    "\n",
    "allfeatures = [];\n",
    "\n",
    "targets = [];\n",
    "\n",
    "for subjno in tqdm(all_subjects):\n",
    "    for epoch in range(4):\n",
    "        for splitno in range(n_splits):\n",
    "            \n",
    "            eda_signal = get_split_signal('EDA',epoch,subjno,splitno) ## CHANGE THIS TO WHICHEVER SIGNAL YOU WANT\n",
    "            \n",
    "\n",
    "            allfeature = orienting_features(eda_signal)[2] ## CHANGE THIS LINE HERE WITH YOUR OWN FUNCTION\n",
    "            \n",
    "            allfeatures.append(allfeature)\n",
    "            targets.append(is_perturbed(epoch))\n",
    "\n",
    "allfeature_names = ['my_feature'] ## You can leave this the way it is for simplicity. \n",
    "fdf = pd.DataFrame(allfeatures, columns = allfeature_names)"
   ]
  },
  {
   "cell_type": "code",
   "execution_count": 58,
   "metadata": {},
   "outputs": [
    {
     "name": "stdout",
     "output_type": "stream",
     "text": [
      "\u001b[31mANOVA P-value = 0.045\u001b[0m\n"
     ]
    },
    {
     "data": {
      "image/png": "[encoded data removed]",
      "text/plain": [
       "<Figure size 432x288 with 1 Axes>"
      ]
     },
     "metadata": {
      "needs_background": "light"
     },
     "output_type": "display_data"
    }
   ],
   "source": [
    "# Evaluate feature\n",
    "\n",
    "targets = np.asarray(targets)\n",
    "up = np.asarray(fdf['my_feature'][targets == 0])\n",
    "p = np.asarray(fdf['my_feature'][targets == 1])\n",
    "\n",
    "plt.hist(up,histtype = 'step')\n",
    "plt.hist(p, histtype = 'step')\n",
    "\n",
    "pval = stats.f_oneway(up,p)[1]\n",
    "if pval < 0.1:\n",
    "    print('\\033[31m', 'ANOVA P-value = %.3f'%pval, '\\033[0m', sep='') # Significant P-values will be colorful :)\n",
    "else:\n",
    "     print('ANOVA P-value = %.3f'%pval)"
   ]
  },
  {
   "cell_type": "markdown",
   "metadata": {},
   "source": [
    "#### Sum Difference"
   ]
  },
  {
   "cell_type": "code",
   "execution_count": 59,
   "metadata": {},
   "outputs": [
    {
     "name": "stderr",
     "output_type": "stream",
     "text": [
      "100%|██████████| 33/33 [00:01<00:00, 22.39it/s]\n"
     ]
    }
   ],
   "source": [
    "# Compute feature for entire dataset\n",
    "\n",
    "allfeatures = [];\n",
    "\n",
    "targets = [];\n",
    "\n",
    "for subjno in tqdm(all_subjects):\n",
    "    for epoch in range(4):\n",
    "        for splitno in range(n_splits):\n",
    "            \n",
    "            eda_signal = get_split_signal('EDA',epoch,subjno,splitno) ## CHANGE THIS TO WHICHEVER SIGNAL YOU WANT\n",
    "            \n",
    "\n",
    "            allfeature = orienting_features(eda_signal)[3] ## CHANGE THIS LINE HERE WITH YOUR OWN FUNCTION\n",
    "            \n",
    "            allfeatures.append(allfeature)\n",
    "            targets.append(is_perturbed(epoch))\n",
    "\n",
    "allfeature_names = ['my_feature'] ## You can leave this the way it is for simplicity. \n",
    "fdf = pd.DataFrame(allfeatures, columns = allfeature_names)"
   ]
  },
  {
   "cell_type": "code",
   "execution_count": 60,
   "metadata": {},
   "outputs": [
    {
     "name": "stdout",
     "output_type": "stream",
     "text": [
      "ANOVA P-value = 0.360\n"
     ]
    },
    {
     "data": {
      "image/png": "[encoded data removed]",
      "text/plain": [
       "<Figure size 432x288 with 1 Axes>"
      ]
     },
     "metadata": {
      "needs_background": "light"
     },
     "output_type": "display_data"
    }
   ],
   "source": [
    "# Evaluate feature\n",
    "\n",
    "targets = np.asarray(targets)\n",
    "up = np.asarray(fdf['my_feature'][targets == 0])\n",
    "p = np.asarray(fdf['my_feature'][targets == 1])\n",
    "\n",
    "plt.hist(up,histtype = 'step')\n",
    "plt.hist(p, histtype = 'step')\n",
    "\n",
    "pval = stats.f_oneway(up,p)[1]\n",
    "if pval < 0.1:\n",
    "    print('\\033[31m', 'ANOVA P-value = %.3f'%pval, '\\033[0m', sep='') # Significant P-values will be colorful :)\n",
    "else:\n",
    "     print('ANOVA P-value = %.3f'%pval)"
   ]
  },
  {
   "cell_type": "markdown",
   "metadata": {},
   "source": [
    "#### Sum Areas"
   ]
  },
  {
   "cell_type": "code",
   "execution_count": 61,
   "metadata": {},
   "outputs": [
    {
     "name": "stderr",
     "output_type": "stream",
     "text": [
      "100%|██████████| 33/33 [00:01<00:00, 22.22it/s]\n"
     ]
    }
   ],
   "source": [
    "# Compute feature for entire dataset\n",
    "\n",
    "allfeatures = [];\n",
    "\n",
    "targets = [];\n",
    "\n",
    "for subjno in tqdm(all_subjects):\n",
    "    for epoch in range(4):\n",
    "        for splitno in range(n_splits):\n",
    "            \n",
    "            eda_signal = get_split_signal('EDA',epoch,subjno,splitno) ## CHANGE THIS TO WHICHEVER SIGNAL YOU WANT\n",
    "            \n",
    "\n",
    "            allfeature = orienting_features(eda_signal)[4] ## CHANGE THIS LINE HERE WITH YOUR OWN FUNCTION\n",
    "            \n",
    "            allfeatures.append(allfeature)\n",
    "            targets.append(is_perturbed(epoch))\n",
    "\n",
    "allfeature_names = ['my_feature'] ## You can leave this the way it is for simplicity. \n",
    "fdf = pd.DataFrame(allfeatures, columns = allfeature_names)"
   ]
  },
  {
   "cell_type": "code",
   "execution_count": 62,
   "metadata": {},
   "outputs": [
    {
     "name": "stdout",
     "output_type": "stream",
     "text": [
      "ANOVA P-value = 0.331\n"
     ]
    },
    {
     "data": {
      "image/png": "[encoded data removed]",
      "text/plain": [
       "<Figure size 432x288 with 1 Axes>"
      ]
     },
     "metadata": {
      "needs_background": "light"
     },
     "output_type": "display_data"
    }
   ],
   "source": [
    "# Evaluate feature\n",
    "\n",
    "targets = np.asarray(targets)\n",
    "up = np.asarray(fdf['my_feature'][targets == 0])\n",
    "p = np.asarray(fdf['my_feature'][targets == 1])\n",
    "\n",
    "plt.hist(up,histtype = 'step')\n",
    "plt.hist(p, histtype = 'step')\n",
    "\n",
    "pval = stats.f_oneway(up,p)[1]\n",
    "if pval < 0.1:\n",
    "    print('\\033[31m', 'ANOVA P-value = %.3f'%pval, '\\033[0m', sep='') # Significant P-values will be colorful :)\n",
    "else:\n",
    "     print('ANOVA P-value = %.3f'%pval)"
   ]
  },
  {
   "cell_type": "markdown",
   "metadata": {},
   "source": [
    "#### Sum Orienting Duration"
   ]
  },
  {
   "cell_type": "code",
   "execution_count": 63,
   "metadata": {},
   "outputs": [
    {
     "name": "stderr",
     "output_type": "stream",
     "text": [
      "100%|██████████| 33/33 [00:01<00:00, 22.30it/s]\n"
     ]
    }
   ],
   "source": [
    "# Compute feature for entire dataset\n",
    "\n",
    "allfeatures = [];\n",
    "\n",
    "targets = [];\n",
    "\n",
    "for subjno in tqdm(all_subjects):\n",
    "    for epoch in range(4):\n",
    "        for splitno in range(n_splits):\n",
    "            \n",
    "            eda_signal = get_split_signal('EDA',epoch,subjno,splitno) ## CHANGE THIS TO WHICHEVER SIGNAL YOU WANT\n",
    "            \n",
    "\n",
    "            allfeature = orienting_features(eda_signal)[5] ## CHANGE THIS LINE HERE WITH YOUR OWN FUNCTION\n",
    "            \n",
    "            allfeatures.append(allfeature)\n",
    "            targets.append(is_perturbed(epoch))\n",
    "\n",
    "allfeature_names = ['my_feature'] ## You can leave this the way it is for simplicity. \n",
    "fdf = pd.DataFrame(allfeatures, columns = allfeature_names)"
   ]
  },
  {
   "cell_type": "code",
   "execution_count": 64,
   "metadata": {},
   "outputs": [
    {
     "name": "stdout",
     "output_type": "stream",
     "text": [
      "ANOVA P-value = 0.594\n"
     ]
    },
    {
     "data": {
      "image/png": "[encoded data removed]",
      "text/plain": [
       "<Figure size 432x288 with 1 Axes>"
      ]
     },
     "metadata": {
      "needs_background": "light"
     },
     "output_type": "display_data"
    }
   ],
   "source": [
    "# Evaluate feature\n",
    "\n",
    "targets = np.asarray(targets)\n",
    "up = np.asarray(fdf['my_feature'][targets == 0])\n",
    "p = np.asarray(fdf['my_feature'][targets == 1])\n",
    "\n",
    "plt.hist(up,histtype = 'step')\n",
    "plt.hist(p, histtype = 'step')\n",
    "\n",
    "pval = stats.f_oneway(up,p)[1]\n",
    "if pval < 0.1:\n",
    "    print('\\033[31m', 'ANOVA P-value = %.3f'%pval, '\\033[0m', sep='') # Significant P-values will be colorful :)\n",
    "else:\n",
    "     print('ANOVA P-value = %.3f'%pval)"
   ]
  },
  {
   "cell_type": "markdown",
   "metadata": {},
   "source": [
    "#### Mean Orienting Duration"
   ]
  },
  {
   "cell_type": "code",
   "execution_count": 65,
   "metadata": {},
   "outputs": [
    {
     "name": "stderr",
     "output_type": "stream",
     "text": [
      "100%|██████████| 33/33 [00:01<00:00, 22.29it/s]\n"
     ]
    }
   ],
   "source": [
    "# Compute feature for entire dataset\n",
    "\n",
    "allfeatures = [];\n",
    "\n",
    "targets = [];\n",
    "\n",
    "for subjno in tqdm(all_subjects):\n",
    "    for epoch in range(4):\n",
    "        for splitno in range(n_splits):\n",
    "            \n",
    "            eda_signal = get_split_signal('EDA',epoch,subjno,splitno) ## CHANGE THIS TO WHICHEVER SIGNAL YOU WANT\n",
    "            \n",
    "\n",
    "            allfeature = orienting_features(eda_signal)[6] ## CHANGE THIS LINE HERE WITH YOUR OWN FUNCTION\n",
    "            \n",
    "            allfeatures.append(allfeature)\n",
    "            targets.append(is_perturbed(epoch))\n",
    "\n",
    "allfeature_names = ['my_feature'] ## You can leave this the way it is for simplicity. \n",
    "fdf = pd.DataFrame(allfeatures, columns = allfeature_names)"
   ]
  },
  {
   "cell_type": "code",
   "execution_count": 66,
   "metadata": {},
   "outputs": [
    {
     "name": "stdout",
     "output_type": "stream",
     "text": [
      "ANOVA P-value = 0.127\n"
     ]
    },
    {
     "data": {
      "image/png": "[encoded data removed]",
      "text/plain": [
       "<Figure size 432x288 with 1 Axes>"
      ]
     },
     "metadata": {
      "needs_background": "light"
     },
     "output_type": "display_data"
    }
   ],
   "source": [
    "# Evaluate feature\n",
    "\n",
    "targets = np.asarray(targets)\n",
    "up = np.asarray(fdf['my_feature'][targets == 0])\n",
    "p = np.asarray(fdf['my_feature'][targets == 1])\n",
    "\n",
    "plt.hist(up,histtype = 'step')\n",
    "plt.hist(p, histtype = 'step')\n",
    "\n",
    "pval = stats.f_oneway(up,p)[1]\n",
    "if pval < 0.1:\n",
    "    print('\\033[31m', 'ANOVA P-value = %.3f'%pval, '\\033[0m', sep='') # Significant P-values will be colorful :)\n",
    "else:\n",
    "     print('ANOVA P-value = %.3f'%pval)"
   ]
  },
  {
   "cell_type": "markdown",
   "metadata": {},
   "source": [
    "#### Mean Amplitude"
   ]
  },
  {
   "cell_type": "code",
   "execution_count": 67,
   "metadata": {},
   "outputs": [
    {
     "name": "stderr",
     "output_type": "stream",
     "text": [
      "100%|██████████| 33/33 [00:01<00:00, 21.84it/s]\n"
     ]
    }
   ],
   "source": [
    "# Compute feature for entire dataset\n",
    "\n",
    "allfeatures = [];\n",
    "\n",
    "targets = [];\n",
    "\n",
    "for subjno in tqdm(all_subjects):\n",
    "    for epoch in range(4):\n",
    "        for splitno in range(n_splits):\n",
    "            \n",
    "            eda_signal = get_split_signal('EDA',epoch,subjno,splitno) ## CHANGE THIS TO WHICHEVER SIGNAL YOU WANT\n",
    "            \n",
    "\n",
    "            allfeature = orienting_features(eda_signal)[7] ## CHANGE THIS LINE HERE WITH YOUR OWN FUNCTION\n",
    "            \n",
    "            allfeatures.append(allfeature)\n",
    "            targets.append(is_perturbed(epoch))\n",
    "\n",
    "allfeature_names = ['my_feature'] ## You can leave this the way it is for simplicity. \n",
    "fdf = pd.DataFrame(allfeatures, columns = allfeature_names)"
   ]
  },
  {
   "cell_type": "code",
   "execution_count": 68,
   "metadata": {},
   "outputs": [
    {
     "name": "stdout",
     "output_type": "stream",
     "text": [
      "\u001b[31mANOVA P-value = 0.027\u001b[0m\n"
     ]
    },
    {
     "data": {
      "image/png": "[encoded data removed]",
      "text/plain": [
       "<Figure size 432x288 with 1 Axes>"
      ]
     },
     "metadata": {
      "needs_background": "light"
     },
     "output_type": "display_data"
    }
   ],
   "source": [
    "# Evaluate feature\n",
    "\n",
    "targets = np.asarray(targets)\n",
    "up = np.asarray(fdf['my_feature'][targets == 0])\n",
    "p = np.asarray(fdf['my_feature'][targets == 1])\n",
    "\n",
    "plt.hist(up,histtype = 'step')\n",
    "plt.hist(p, histtype = 'step')\n",
    "\n",
    "pval = stats.f_oneway(up,p)[1]\n",
    "if pval < 0.1:\n",
    "    print('\\033[31m', 'ANOVA P-value = %.3f'%pval, '\\033[0m', sep='') # Significant P-values will be colorful :)\n",
    "else:\n",
    "     print('ANOVA P-value = %.3f'%pval)"
   ]
  },
  {
   "cell_type": "markdown",
   "metadata": {},
   "source": [
    "#### Sum Amplitude"
   ]
  },
  {
   "cell_type": "code",
   "execution_count": 69,
   "metadata": {},
   "outputs": [
    {
     "name": "stderr",
     "output_type": "stream",
     "text": [
      "100%|██████████| 33/33 [00:01<00:00, 21.67it/s]\n"
     ]
    }
   ],
   "source": [
    "# Compute feature for entire dataset\n",
    "\n",
    "allfeatures = [];\n",
    "\n",
    "targets = [];\n",
    "\n",
    "for subjno in tqdm(all_subjects):\n",
    "    for epoch in range(4):\n",
    "        for splitno in range(n_splits):\n",
    "            \n",
    "            eda_signal = get_split_signal('EDA',epoch,subjno,splitno) ## CHANGE THIS TO WHICHEVER SIGNAL YOU WANT\n",
    "            \n",
    "\n",
    "            allfeature = orienting_features(eda_signal)[8] ## CHANGE THIS LINE HERE WITH YOUR OWN FUNCTION\n",
    "            \n",
    "            allfeatures.append(allfeature)\n",
    "            targets.append(is_perturbed(epoch))\n",
    "\n",
    "allfeature_names = ['my_feature'] ## You can leave this the way it is for simplicity. \n",
    "fdf = pd.DataFrame(allfeatures, columns = allfeature_names)"
   ]
  },
  {
   "cell_type": "code",
   "execution_count": 70,
   "metadata": {},
   "outputs": [
    {
     "name": "stdout",
     "output_type": "stream",
     "text": [
      "\u001b[31mANOVA P-value = 0.006\u001b[0m\n"
     ]
    },
    {
     "data": {
      "image/png": "[encoded data removed]",
      "text/plain": [
       "<Figure size 432x288 with 1 Axes>"
      ]
     },
     "metadata": {
      "needs_background": "light"
     },
     "output_type": "display_data"
    }
   ],
   "source": [
    "# Evaluate feature\n",
    "\n",
    "targets = np.asarray(targets)\n",
    "up = np.asarray(fdf['my_feature'][targets == 0])\n",
    "p = np.asarray(fdf['my_feature'][targets == 1])\n",
    "\n",
    "plt.hist(up,histtype = 'step')\n",
    "plt.hist(p, histtype = 'step')\n",
    "\n",
    "pval = stats.f_oneway(up,p)[1]\n",
    "if pval < 0.1:\n",
    "    print('\\033[31m', 'ANOVA P-value = %.3f'%pval, '\\033[0m', sep='') # Significant P-values will be colorful :)\n",
    "else:\n",
    "     print('ANOVA P-value = %.3f'%pval)"
   ]
  },
  {
   "cell_type": "markdown",
   "metadata": {},
   "source": [
    "# Adapting Vedant's Frequency Code"
   ]
  },
  {
   "cell_type": "code",
   "execution_count": 325,
   "metadata": {},
   "outputs": [
    {
     "data": {
      "image/png": "[encoded data removed]",
      "text/plain": [
       "<Figure size 432x288 with 1 Axes>"
      ]
     },
     "metadata": {
      "needs_background": "light"
     },
     "output_type": "display_data"
    }
   ],
   "source": [
    "#Get sample signal\n",
    "\n",
    "signal = get_signal('EDA', 4, 33)\n",
    "\n",
    "#Define analysis function\n",
    "def EDA_passbands(signal):\n",
    "    fs,pxx = sig.periodogram(signal, nfft = 1000, scaling = 'density', detrend = 'linear')\n",
    "    # plt.figure()\n",
    "    # plt.plot(fs,pxx)\n",
    "    # plt.xlim(0,0.05)\n",
    "    # plt.xlabel('Frequency (Hz.)')\n",
    "    # plt.ylabel('Spectral Density')\n",
    "\n",
    "    vlfband = (fs > 0.001)*(fs < 0.045)\n",
    "    lfband = (fs > 0.045)*(fs < 0.15)\n",
    "    hfband = (fs > 0.15) * (fs < 0.25)\n",
    "\n",
    "    # plt.figure(figsize = (13,7))\n",
    "    # plt.plot(fs,pxx,'k')\n",
    "    # #plt.xlim(0,0.05)\n",
    "    # plt.xlabel('Frequency (Hz.)')\n",
    "    # plt.ylabel('Spectral Density')\n",
    "    # plt.plot(fs,vlfband*np.max(pxx),label = 'VLF')\n",
    "    # plt.plot(fs,lfband*np.max(pxx),label = 'LF')\n",
    "    # plt.plot(fs,hfband*np.max(pxx),label = 'HF')\n",
    "    # plt.title('IBI Frequency Passbands')\n",
    "    # plt.legend()\n",
    "\n",
    "    vlf_integral = np.trapz(pxx[vlfband],fs[vlfband])\n",
    "    lf_integral = np.trapz(pxx[lfband],fs[lfband])\n",
    "    hf_integral = np.trapz(pxx[hfband],fs[hfband])\n",
    "\n",
    "    return [vlf_integral,lf_integral,hf_integral]\n",
    "    \n",
    "\n",
    "#test function\n",
    "\n",
    "eda_passbands(signal)"
   ]
  },
  {
   "cell_type": "code",
   "execution_count": 326,
   "metadata": {},
   "outputs": [
    {
     "name": "stderr",
     "output_type": "stream",
     "text": [
      "100%|██████████| 33/33 [00:01<00:00, 22.63it/s]\n"
     ]
    }
   ],
   "source": [
    "allfeatures = [];\n",
    "targets = [];\n",
    "n_splits = 10\n",
    "\n",
    "for subjno in tqdm(all_subjects):\n",
    "    for epoch in range(4):\n",
    "        for splitno in range(n_splits):\n",
    "            eda_signal = get_split_signal('EDA',epoch,subjno,splitno)\n",
    "            \n",
    "\n",
    "            allfeature = EDA_passbands(eda_signal)\n",
    "            allfeatures.append(allfeature)\n",
    "            targets.append(is_perturbed(epoch))\n",
    "\n",
    "allfeature_names = ['vlf','hf','lf']\n",
    "fdf = pd.DataFrame(allfeatures, columns = allfeature_names)\n",
    "targets = np.asarray(targets)"
   ]
  },
  {
   "cell_type": "code",
   "execution_count": 327,
   "metadata": {},
   "outputs": [
    {
     "data": {
      "text/plain": [
       "F_onewayResult(statistic=31.99018653631225, pvalue=1.898042938164128e-08)"
      ]
     },
     "execution_count": 327,
     "metadata": {},
     "output_type": "execute_result"
    },
    {
     "data": {
      "image/png": "[encoded data removed]",
      "text/plain": [
       "<Figure size 432x288 with 1 Axes>"
      ]
     },
     "metadata": {
      "needs_background": "light"
     },
     "output_type": "display_data"
    }
   ],
   "source": [
    "fdf['lf/hf'] = fdf['lf'] / (fdf['hf'])\n",
    "up = np.asarray(fdf['lf/hf'][targets == 0])\n",
    "p = np.asarray(fdf['lf/hf'][targets == 1])\n",
    "plt.hist(up, histtype = 'step');\n",
    "plt.hist(p, histtype = 'step');\n",
    "nonan = (~np.isnan(p)) * (~np.isnan(up))\n",
    "stats.f_oneway(up[nonan],p[nonan])"
   ]
  },
  {
   "cell_type": "code",
   "execution_count": null,
   "metadata": {},
   "outputs": [],
   "source": []
  }
 ],
 "metadata": {
  "kernelspec": {
   "display_name": "Python 3",
   "language": "python",
   "name": "python3"
  },
  "language_info": {
   "codemirror_mode": {
    "name": "ipython",
    "version": 3
   },
   "file_extension": ".py",
   "mimetype": "text/x-python",
   "name": "python",
   "nbconvert_exporter": "python",
   "pygments_lexer": "ipython3",
   "version": "3.7.3"
  }
 },
 "nbformat": 4,
 "nbformat_minor": 2
}
