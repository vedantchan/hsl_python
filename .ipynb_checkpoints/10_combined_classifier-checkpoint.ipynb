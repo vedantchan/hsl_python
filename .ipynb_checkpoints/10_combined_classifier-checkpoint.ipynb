{
 "cells": [
  {
   "cell_type": "code",
   "execution_count": 87,
   "metadata": {},
   "outputs": [],
   "source": [
    "import pickle as p\n",
    "import pandas as pd\n",
    "import numpy as np\n",
    "import matplotlib.pyplot as plt\n",
    "import scipy.stats as stats\n",
    "from tqdm import tqdm\n",
    "from dfa import dfa\n",
    "import scipy.signal as sig\n",
    "from sklearn.linear_model import LogisticRegression\n",
    "from scipy.interpolate import interp1d\n",
    "from scipy.integrate import romb\n",
    "plt.rcParams.update({'font.size': 22})\n",
    "from hsl_functions import *\n",
    "import glob\n",
    "from scipy.signal import medfilt,butter\n",
    "import corner\n",
    "import scipy"
   ]
  },
  {
   "cell_type": "code",
   "execution_count": 88,
   "metadata": {},
   "outputs": [],
   "source": [
    "# Book-keeping Functions\n",
    "n_splits = 10\n",
    "\n",
    "def num_to_epoch(epoch_number):\n",
    "    if epoch_number == 0:\n",
    "        return 'UP1'\n",
    "    elif epoch_number == 1:\n",
    "        return 'UP2'\n",
    "    elif epoch_number == 2:\n",
    "        return 'P1'\n",
    "    elif epoch_number == 3:\n",
    "        return 'P2'\n",
    "    elif epoch_number == 4:\n",
    "        return 'REC'\n",
    "    else:\n",
    "        raise Exception('Invalid Epoch Number')\n",
    "\n",
    "def num_to_subject(subject_number):\n",
    "    return 'Subject'+str(subject_number)\n",
    "\n",
    "def get_signal(measure, epoch, subjno):\n",
    "    if isinstance(epoch,str):\n",
    "        return np.ravel(df.loc[measure, epoch][num_to_subject(subjno)])\n",
    "    elif isinstance(epoch, int):\n",
    "        return np.ravel(df.loc[measure, num_to_epoch(epoch)][num_to_subject(subjno)])\n",
    "\n",
    "def get_split_signal(measure, epoch, subjno, splitno):\n",
    "    if isinstance(epoch,str):\n",
    "        return np.array_split(np.ravel(df.loc[measure, epoch][num_to_subject(subjno)]), n_splits)[splitno]\n",
    "    elif isinstance(epoch, int):\n",
    "        return np.array_split(np.ravel(df.loc[measure, num_to_epoch(epoch)][num_to_subject(subjno)]),n_splits)[splitno]\n",
    "    \n",
    "def full_signal(measure, subjno):\n",
    "    return np.concatenate((\n",
    "        np.ravel(df.loc[measure, num_to_epoch(0)][num_to_subject(subjno)]),\n",
    "        np.ravel(df.loc[measure, num_to_epoch(1)][num_to_subject(subjno)]),\n",
    "        np.ravel(df.loc[measure, num_to_epoch(2)][num_to_subject(subjno)]),\n",
    "        np.ravel(df.loc[measure, num_to_epoch(3)][num_to_subject(subjno)]),\n",
    "        np.ravel(df.loc[measure, num_to_epoch(4)][num_to_subject(subjno)]),\n",
    "    ))\n",
    "\n",
    "def is_perturbed(epoch):\n",
    "    if epoch == 0 or epoch == 1 or epoch == 4:\n",
    "        return 0\n",
    "    elif epoch == 2 or epoch == 3:\n",
    "        return 1\n",
    "    \n",
    "def scaled_correlation_time(signal1, signal2):\n",
    "    signal1 = (signal1 - np.mean(signal1))/np.std(signal1)\n",
    "    signal2 = (signal2 - np.mean(signal2))/np.std(signal2)\n",
    "    acorr = np.correlate(signal1, signal2, mode='full')\n",
    "    acorr = acorr[(acorr.size // 2 ):] / np.max(acorr)\n",
    "#     plt.plot(acorr)\n",
    "    tau = np.argmax([acorr < 1/np.exp(1)])\n",
    "    return tau / len(acorr)\n",
    "\n",
    "def correlation_integral(signal1, signal2):\n",
    "    signal1 = (signal1 - np.mean(signal1))/np.std(signal1)\n",
    "    signal2 = (signal2 - np.mean(signal2))/np.std(signal2)\n",
    "    acorr = np.correlate(signal1, signal2, mode='full')\n",
    "    acorr = acorr[(acorr.size // 2 ):] / np.max(acorr)\n",
    "#     plt.plot(acorr)\n",
    "    integral = np.trapz(acorr)\n",
    "    return integral\n",
    "\n",
    "def plot_full_experiment(measure, subjno):\n",
    "    s1 = np.ravel(df.loc[measure, num_to_epoch(0)][num_to_subject(subjno)])\n",
    "    s2 = np.ravel(df.loc[measure, num_to_epoch(1)][num_to_subject(subjno)])\n",
    "    s3 = np.ravel(df.loc[measure, num_to_epoch(2)][num_to_subject(subjno)])\n",
    "    s4 = np.ravel(df.loc[measure, num_to_epoch(3)][num_to_subject(subjno)])\n",
    "    s5 = np.ravel(df.loc[measure, num_to_epoch(4)][num_to_subject(subjno)])\n",
    "    fullsignal = np.concatenate((s1,s2,s3,s4,s5))\n",
    "    plt.plot(fullsignal,'k',label = measure)\n",
    "    plt.axvline(x = len(s1), color = 'k', linestyle = '--')\n",
    "    plt.axvline(x = len(s1)+len(s2), color = 'k', linestyle = '--')\n",
    "    plt.axvline(x = len(s1)+len(s2)+len(s3), color = 'k', linestyle = '--')\n",
    "    plt.axvline(x = len(s1)+len(s2)+len(s3)+len(s4), color = 'k', linestyle = '--')\n",
    "    plt.legend()"
   ]
  },
  {
   "cell_type": "code",
   "execution_count": 89,
   "metadata": {},
   "outputs": [],
   "source": [
    "df = p.load(open('df.p','rb'))\n",
    "\n",
    "all_subjects = np.concatenate((np.arange(11,25),np.arange(26,45)))"
   ]
  },
  {
   "cell_type": "markdown",
   "metadata": {},
   "source": [
    "## IBI Functions"
   ]
  },
  {
   "cell_type": "code",
   "execution_count": 90,
   "metadata": {},
   "outputs": [],
   "source": [
    "def ibi_iqr(signal):\n",
    "    return scipy.stats.iqr(signal)\n",
    "\n",
    "def ibi_std(signal):\n",
    "    return np.std(signal)\n",
    "\n",
    "def rmssd(signal):\n",
    "    return np.sqrt(np.mean(np.square(np.diff(signal))))\n",
    "\n",
    "def ibi_passbands(signal):\n",
    "    fs,pxx = scipy.signal.periodogram(signal, nfft = 1000, scaling = 'density', detrend = 'constant')\n",
    "\n",
    "    vlfband = (fs > 0.0033)*(fs < 0.04)\n",
    "    lfband = (fs > 0.04)*(fs < 0.15)\n",
    "    hfband = (fs > 0.15) * (fs < 0.4)\n",
    "\n",
    "    vlf_integral = np.trapz(pxx[vlfband],fs[vlfband]) #unsure what this does\n",
    "    lf_integral = np.trapz(pxx[lfband],fs[lfband])\n",
    "    hf_integral = np.trapz(pxx[hfband],fs[hfband])\n",
    "\n",
    "    return [vlf_integral,lf_integral,hf_integral]\n",
    "\n",
    "def ibi_lfhf(signal):\n",
    "    return ibi_passbands(signal)[1]/ibi_passbands(signal)[2]"
   ]
  },
  {
   "cell_type": "code",
   "execution_count": 91,
   "metadata": {},
   "outputs": [],
   "source": [
    "def ibi_features(signal):\n",
    "    functions = [ibi_iqr, ibi_std, rmssd, ibi_lfhf]\n",
    "    measure_names = ['ibi_iqr', 'ibi_std', 'ibi_rmssd', 'ibi_lf/hf']\n",
    "    features = np.asarray([func(signal) for func in functions]).reshape(-1,1)\n",
    "    fdf = pd.DataFrame(columns = measure_names, data = features.T)\n",
    "    return fdf"
   ]
  },
  {
   "cell_type": "code",
   "execution_count": 92,
   "metadata": {},
   "outputs": [],
   "source": [
    "signal = get_signal('IBI', 2, 23)"
   ]
  },
  {
   "cell_type": "code",
   "execution_count": 93,
   "metadata": {},
   "outputs": [],
   "source": [
    "feat = ibi_features(signal)"
   ]
  },
  {
   "cell_type": "markdown",
   "metadata": {},
   "source": [
    "## EDA Functions"
   ]
  },
  {
   "cell_type": "code",
   "execution_count": 94,
   "metadata": {},
   "outputs": [],
   "source": [
    "def eda_median(signal):\n",
    "    return np.median(signal)\n",
    "\n",
    "def mean_firstdiff(signal):\n",
    "    return np.mean(np.abs(np.diff(signal, n=1)))\n",
    "\n",
    "def std_firstdiff(signal):\n",
    "    return np.std(np.abs(np.diff(signal, n=1)))\n",
    "\n",
    "def mean_seconddiff(signal):\n",
    "    return np.mean(np.abs(np.diff(signal, n=2)))\n",
    "\n",
    "def std_seconddiff(signal):\n",
    "    return np.std(np.abs(np.diff(signal, n=2)))\n",
    "\n",
    "def find_peaks(signal):\n",
    "    #normalize function\n",
    "    norm_signal = medfilt((signal-np.mean(signal))/np.std(signal), 31)\n",
    "    #find peaks\n",
    "    peaks, _ = sig.find_peaks(norm_signal, distance = len(signal)/12, prominence = 0.25)\n",
    "    if len(peaks) == 0:\n",
    "        peaks, _ = sig.find_peaks(norm_signal, distance = len(signal)/14, prominence = 0.1)\n",
    "    if len(peaks) == 0:\n",
    "        peaks, _ = sig.find_peaks(norm_signal, distance = len(signal)/14)\n",
    "    min_0 = np.argmin(signal[0:peaks[0]])\n",
    "    min_peaks = [min_0]\n",
    "    for i in range(1,len(peaks)):\n",
    "        min_i = np.argmin(signal[peaks[i-1]:peaks[i]])\n",
    "        min_peaks.append((peaks[i-1]+min_i))\n",
    "    return peaks, min_peaks\n",
    "\n",
    "def orienting_features(signal):\n",
    "    peaks, onsets = find_peaks(signal)\n",
    "    num_onsets = len(onsets)\n",
    "    sum_peaks = sum(signal[peaks])\n",
    "    sum_onsets = sum(signal[onsets])\n",
    "    sum_difference = sum_peaks - sum_onsets\n",
    "    \n",
    "    orienting_duration = []\n",
    "    for i in range(len(peaks)):\n",
    "        orienting_duration.append(peaks[i]-onsets[i])\n",
    "    mean_od = np.mean(orienting_duration)\n",
    "    sum_od = sum(orienting_duration)\n",
    "    \n",
    "    areas = []\n",
    "    for i in range(len(peaks)):\n",
    "        areas.append(0.5*orienting_duration[i]*peaks[i])\n",
    "    \n",
    "    sum_areas = sum(areas)\n",
    "    \n",
    "    mean_amplitude = []\n",
    "    for i in range(len(peaks)):\n",
    "        mean_amplitude.append((peaks[i]+onsets[i])/2)\n",
    "    \n",
    "    mean_amp = np.mean(mean_amplitude)\n",
    "    total_amp = sum(mean_amplitude)\n",
    "    return [num_onsets, sum_onsets, sum_peaks, sum_difference, sum_areas, sum_od, mean_od, mean_amp, total_amp]\n",
    "\n",
    "def EDA_passbands(signal):\n",
    "    fs,pxx = scipy.signal.periodogram(signal, nfft = 1000, scaling = 'density', detrend = 'linear')\n",
    "    # plt.figure()\n",
    "    # plt.plot(fs,pxx)\n",
    "    # plt.xlim(0,0.05)\n",
    "    # plt.xlabel('Frequency (Hz.)')\n",
    "    # plt.ylabel('Spectral Density')\n",
    "\n",
    "    vlfband = (fs > 0.001)*(fs < 0.045)\n",
    "    lfband = (fs > 0.045)*(fs < 0.15)\n",
    "    hfband = (fs > 0.15) * (fs < 0.25)\n",
    "\n",
    "    # plt.figure(figsize = (13,7))\n",
    "    # plt.plot(fs,pxx,'k')\n",
    "    # #plt.xlim(0,0.05)\n",
    "    # plt.xlabel('Frequency (Hz.)')\n",
    "    # plt.ylabel('Spectral Density')\n",
    "    # plt.plot(fs,vlfband*np.max(pxx),label = 'VLF')\n",
    "    # plt.plot(fs,lfband*np.max(pxx),label = 'LF')\n",
    "    # plt.plot(fs,hfband*np.max(pxx),label = 'HF')\n",
    "    # plt.title('IBI Frequency Passbands')\n",
    "    # plt.legend()\n",
    "\n",
    "    vlf_integral = np.trapz(pxx[vlfband],fs[vlfband])\n",
    "    lf_integral = np.trapz(pxx[lfband],fs[lfband])\n",
    "    hf_integral = np.trapz(pxx[hfband],fs[hfband])\n",
    "\n",
    "    return [vlf_integral,lf_integral,hf_integral]\n",
    "\n",
    "def eda_lfhf(signal):\n",
    "    return EDA_passbands(signal)[1]/EDA_passbands(signal)[2]\n",
    "\n",
    "def eda_features(signal):\n",
    "    functions = [eda_median, mean_firstdiff, std_firstdiff, mean_seconddiff, std_seconddiff, eda_lfhf]\n",
    "    measure_names = ['eda_median', 'eda_mean1diff', 'eda_std1diff', 'eda_mean2diff', 'eda_std2diff', 'eda_lf/hf']\n",
    "    features = np.asarray([func(signal) for func in functions]).reshape(-1,1)\n",
    "    fdf = pd.DataFrame(columns = measure_names, data = features.T)\n",
    "    \n",
    "    orient_features = np.asarray(orienting_features(signal)).reshape(-1,1)\n",
    "    orient_featurenames = ['eda_num_onsets', 'eda_sum_onsets', 'eda_sum_peaks', 'eda_sum_difference',\\\n",
    "                           'eda_sum_areas', 'eda_sum_od', 'eda_mean_od', 'eda_mean_amp', 'eda_total_amp']\n",
    "    ofdf = pd.DataFrame(columns = orient_featurenames, data = orient_features.T)\n",
    "    \n",
    "    return fdf.join(ofdf)"
   ]
  },
  {
   "cell_type": "markdown",
   "metadata": {},
   "source": [
    "## Shimmer Functions"
   ]
  },
  {
   "cell_type": "code",
   "execution_count": 95,
   "metadata": {},
   "outputs": [],
   "source": [
    "shimfiles = glob.glob('shimmerData/*/*')\n",
    "\n",
    "def get_shimmer(subjno, part, epochno):\n",
    "    epoch = num_to_epoch(epochno)\n",
    "    if epoch == 'REC':\n",
    "        epoch = 'Rec'\n",
    "    elif epoch == 'P1':\n",
    "        epoch = '_P1'\n",
    "    elif epoch == 'P2':\n",
    "        epoch = '_P2'\n",
    "    \n",
    "    for file in shimfiles:\n",
    "        if str(subjno) in file and part in file and epoch in file:\n",
    "            data = pd.read_csv(file, header = None)\n",
    "    try:\n",
    "        vectors = np.asarray(data[[1,2,3]])\n",
    "    except:\n",
    "        print('mising shimmer data. skipping...')\n",
    "        return np.repeat(np.nan, 1000)\n",
    "    mean = np.mean(vectors, axis = 0)\n",
    "    std = np.std(vectors, axis = 0)\n",
    "    \n",
    "    vectors = (vectors - mean[np.newaxis,:])\n",
    "\n",
    "    #plt.plot(vectors)\n",
    "    \n",
    "    z_vector = np.linalg.norm(vectors, axis = 1)\n",
    "\n",
    "    return z_vector\n",
    "\n",
    "def get_split_shimmer(subjno, part, epochno, splitno):\n",
    "\n",
    "    z_vector = get_shimmer(subjno,part,epochno)\n",
    "\n",
    "    return np.array_split(z_vector,n_splits)[splitno]\n",
    "\n",
    "def signal_statistics(signal):\n",
    "    mean = np.mean(signal)\n",
    "    std = np.std(signal)\n",
    "    skewness = stats.skew(signal)\n",
    "    kurtosis = stats.kurtosis(signal)\n",
    "    maximum = np.max(signal)\n",
    "    minimum = np.min(signal)\n",
    "    iqr = stats.iqr(signal)\n",
    "    variation = stats.variation(signal)\n",
    "    entropy = stats.entropy(np.abs(signal))\n",
    "    dfa_exp = dfa(signal)\n",
    "    return np.asarray([mean, std, skewness, kurtosis, maximum, minimum, iqr, variation, entropy, dfa_exp])\n",
    "\n",
    "def spectrum_statistics(signal):\n",
    "    \n",
    "    fs,pxx = scipy.signal.periodogram(signal, fs = 50, nfft = 1000, scaling = 'density', detrend = 'constant')\n",
    "    \n",
    "#     plt.plot(fs,pxx)\n",
    "    #plt.xlim(0,0.1)\n",
    "\n",
    "    peak = fs[np.argmax(pxx)]\n",
    "    peakmag = np.max(pxx)\n",
    "    integral = np.trapz(pxx,fs)\n",
    "    energy = np.dot(pxx,pxx)\n",
    "    shannon = np.sum(pxx*np.log(1/pxx))\n",
    "\n",
    "    # Add wavelet analysis\n",
    "\n",
    "    return [peak, peakmag, integral, energy, shannon]\n",
    "\n",
    "def bodyshimmer_features(signal):\n",
    "    shim_stats = signal_statistics(signal).reshape(-1,1)\n",
    "    stat_names = ['bodyshim_mean', 'bodyshim_std', 'bodyshim_skewness', 'bodyshim_kurtosis', \\\n",
    "'bodyshim_maximum', 'bodyshim_minimum', 'bodyshim_iqr', 'bodyshim_variation', 'bodyshim_entropy', 'bodyshim_dfa']\n",
    "    fdf = pd.DataFrame(columns = stat_names, data = shim_stats.T)\n",
    "    \n",
    "    spec_stats = np.asarray(spectrum_statistics(signal)).reshape(-1,1)\n",
    "    specstat_names = ['bodyshim_peakfreq','bodyshim_peakpower','bodyshim_powerint','bodyshim_specenergy',\\\n",
    "                   'bodyshim_shannon']\n",
    "    spec_fdf = pd.DataFrame(columns = specstat_names, data = spec_stats.T)\n",
    "    \n",
    "    return fdf.join(spec_fdf)\n",
    "\n",
    "def headshimmer_features(signal):\n",
    "    shim_stats = signal_statistics(signal).reshape(-1,1)\n",
    "    stat_names = ['headshim_mean', 'headshim_std', 'headshim_skewness', 'headshim_kurtosis', \\\n",
    "'headshim_maximum', 'headshim_minimum', 'headshim_iqr', 'headshim_variation', 'headshim_entropy', 'headshim_dfa']\n",
    "    fdf = pd.DataFrame(columns = stat_names, data = shim_stats.T)\n",
    "    \n",
    "    spec_stats = np.asarray(spectrum_statistics(signal)).reshape(-1,1)\n",
    "    specstat_names = ['headshim_peakfreq','headshim_peakpower','headshim_powerint','headshim_specenergy',\\\n",
    "                   'headshim_shannon']\n",
    "    spec_fdf = pd.DataFrame(columns = specstat_names, data = spec_stats.T)\n",
    "    \n",
    "    return fdf.join(spec_fdf)"
   ]
  },
  {
   "cell_type": "markdown",
   "metadata": {},
   "source": [
    "## Compute Features"
   ]
  },
  {
   "cell_type": "code",
   "execution_count": 96,
   "metadata": {},
   "outputs": [
    {
     "name": "stderr",
     "output_type": "stream",
     "text": [
      " 18%|█▊        | 6/33 [00:03<00:13,  1.96it/s]"
     ]
    },
    {
     "name": "stdout",
     "output_type": "stream",
     "text": [
      "mising shimmer data. skipping...\n",
      "mising shimmer data. skipping...\n",
      "mising shimmer data. skipping...\n",
      "mising shimmer data. skipping...\n"
     ]
    },
    {
     "name": "stderr",
     "output_type": "stream",
     "text": [
      " 33%|███▎      | 11/33 [00:04<00:07,  2.92it/s]"
     ]
    },
    {
     "name": "stdout",
     "output_type": "stream",
     "text": [
      "mising shimmer data. skipping...\n",
      "mising shimmer data. skipping...\n",
      "mising shimmer data. skipping...\n",
      "mising shimmer data. skipping...\n",
      "mising shimmer data. skipping...\n",
      "mising shimmer data. skipping...\n",
      "mising shimmer data. skipping...\n",
      "mising shimmer data. skipping...\n"
     ]
    },
    {
     "name": "stderr",
     "output_type": "stream",
     "text": [
      " 82%|████████▏ | 27/33 [00:12<00:03,  1.91it/s]"
     ]
    },
    {
     "name": "stdout",
     "output_type": "stream",
     "text": [
      "mising shimmer data. skipping...\n",
      "mising shimmer data. skipping...\n",
      "mising shimmer data. skipping...\n",
      "mising shimmer data. skipping...\n"
     ]
    },
    {
     "name": "stderr",
     "output_type": "stream",
     "text": [
      "100%|██████████| 33/33 [00:14<00:00,  2.03it/s]\n"
     ]
    }
   ],
   "source": [
    "n_splits = 1\n",
    "\n",
    "fdf = pd.DataFrame()\n",
    "targets = [];\n",
    "\n",
    "for subjno in tqdm(all_subjects):\n",
    "    for epoch in range(4):\n",
    "        for splitno in range(n_splits):\n",
    "            \n",
    "            ibi_signal = get_split_signal('IBI', epoch, subjno, splitno)\n",
    "            ibi_df = ibi_features(ibi_signal)\n",
    "            \n",
    "            eda_signal = get_split_signal('EDA', epoch, subjno, splitno)\n",
    "            eda_df = eda_features(eda_signal)\n",
    "            \n",
    "            head_shimmer = get_split_shimmer(subjno, 'head', epoch, splitno)\n",
    "            head_df = headshimmer_features(head_shimmer)\n",
    "            \n",
    "            fdf = pd.concat([fdf, ibi_df.join(eda_df).join(head_df)])\n",
    "            targets.append(is_perturbed(epoch))"
   ]
  },
  {
   "cell_type": "code",
   "execution_count": 106,
   "metadata": {},
   "outputs": [],
   "source": [
    "notnan = np.sum(np.isnan(fdf),1).values == 0\n",
    "fdf_clean = fdf[notnan]\n",
    "targets_clean = np.asarray(targets)[notnan]"
   ]
  },
  {
   "cell_type": "markdown",
   "metadata": {},
   "source": [
    "## Logistic Regression"
   ]
  },
  {
   "cell_type": "code",
   "execution_count": 109,
   "metadata": {},
   "outputs": [],
   "source": [
    "from sklearn import preprocessing\n",
    "from sklearn import linear_model\n",
    "from sklearn.feature_selection import mutual_info_classif\n",
    "from sklearn.metrics import roc_curve, auc"
   ]
  },
  {
   "cell_type": "code",
   "execution_count": 110,
   "metadata": {},
   "outputs": [],
   "source": [
    "X = np.asarray(fdf_clean)\n",
    "t = np.asarray(targets_clean)\n",
    "\n",
    "sc = preprocessing.MinMaxScaler()\n",
    "X_scaled = sc.fit_transform(X)"
   ]
  },
  {
   "cell_type": "code",
   "execution_count": 111,
   "metadata": {},
   "outputs": [],
   "source": [
    "scores = mutual_info_classif(X_scaled,t)"
   ]
  },
  {
   "cell_type": "code",
   "execution_count": 112,
   "metadata": {},
   "outputs": [
    {
     "data": {
      "text/plain": [
       "Text(0.5, 1.0, 'Mutual Information Feature Selection')"
      ]
     },
     "execution_count": 112,
     "metadata": {},
     "output_type": "execute_result"
    },
    {
     "data": {
      "image/png": "[encoded data removed]",
      "text/plain": [
       "<Figure size 1080x360 with 1 Axes>"
      ]
     },
     "metadata": {
      "needs_background": "light"
     },
     "output_type": "display_data"
    }
   ],
   "source": [
    "plt.figure(figsize=(15,5))\n",
    "sortidx = np.argsort(-scores)\n",
    "plt.bar(fdf.columns[sortidx],height=scores[sortidx],)\n",
    "plt.xticks(rotation=45, ha='right',fontsize=15);\n",
    "plt.title('Mutual Information Feature Selection')"
   ]
  },
  {
   "cell_type": "code",
   "execution_count": 114,
   "metadata": {},
   "outputs": [
    {
     "name": "stdout",
     "output_type": "stream",
     "text": [
      "0.8400713436385255\n"
     ]
    },
    {
     "data": {
      "text/plain": [
       "Text(0, 0.5, 'True Positive Rate')"
      ]
     },
     "execution_count": 114,
     "metadata": {},
     "output_type": "execute_result"
    },
    {
     "data": {
      "image/png": "[encoded data removed]",
      "text/plain": [
       "<Figure size 432x288 with 1 Axes>"
      ]
     },
     "metadata": {
      "needs_background": "light"
     },
     "output_type": "display_data"
    }
   ],
   "source": [
    "clf = linear_model.LogisticRegression(solver = 'newton-cg', max_iter = 1000000, tol = 0.000001)\n",
    "\n",
    "clf.fit(X_scaled,t)\n",
    "\n",
    "lr_fpr,lr_tpr,_ = roc_curve(t,clf.predict_proba(X_scaled)[:,1])\n",
    "print(auc(lr_fpr,lr_tpr))\n",
    "\n",
    "plt.plot(lr_fpr,lr_tpr)\n",
    "x = np.linspace(0,1,100)\n",
    "plt.plot(x,x,'k--')\n",
    "plt.xlabel('False Positive Rate')\n",
    "plt.ylabel('True Positive Rate')"
   ]
  }
 ],
 "metadata": {
  "kernelspec": {
   "display_name": "Python 3",
   "language": "python",
   "name": "python3"
  },
  "language_info": {
   "codemirror_mode": {
    "name": "ipython",
    "version": 3
   },
   "file_extension": ".py",
   "mimetype": "text/x-python",
   "name": "python",
   "nbconvert_exporter": "python",
   "pygments_lexer": "ipython3",
   "version": "3.7.3"
  }
 },
 "nbformat": 4,
 "nbformat_minor": 2
}
